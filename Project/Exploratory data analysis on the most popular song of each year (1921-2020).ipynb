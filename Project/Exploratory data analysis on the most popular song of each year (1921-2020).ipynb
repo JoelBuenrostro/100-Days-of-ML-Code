{
 "cells": [
  {
   "cell_type": "code",
   "execution_count": 21,
   "metadata": {},
   "outputs": [
    {
     "data": {
      "text/html": [
       "        <script type=\"text/javascript\">\n",
       "        window.PlotlyConfig = {MathJaxConfig: 'local'};\n",
       "        if (window.MathJax) {MathJax.Hub.Config({SVG: {font: \"STIX-Web\"}});}\n",
       "        if (typeof require !== 'undefined') {\n",
       "        require.undef(\"plotly\");\n",
       "        requirejs.config({\n",
       "            paths: {\n",
       "                'plotly': ['https://cdn.plot.ly/plotly-latest.min']\n",
       "            }\n",
       "        });\n",
       "        require(['plotly'], function(Plotly) {\n",
       "            window._Plotly = Plotly;\n",
       "        });\n",
       "        }\n",
       "        </script>\n",
       "        "
      ]
     },
     "metadata": {},
     "output_type": "display_data"
    }
   ],
   "source": [
    "import pandas as pd\n",
    "import cufflinks as cf"
   ]
  },
  {
   "cell_type": "code",
   "execution_count": 7,
   "metadata": {},
   "outputs": [],
   "source": [
    "dataset = pd.read_csv(r\"Data/popular_songs_per_year.csv\")"
   ]
  },
  {
   "cell_type": "code",
   "execution_count": 10,
   "metadata": {},
   "outputs": [],
   "source": [
    "data = dataset.sort_values(\"popularity\", ascending=False,).groupby(\"year\").first()\n",
    "data = data.reset_index()"
   ]
  },
  {
   "cell_type": "code",
   "execution_count": 16,
   "metadata": {},
   "outputs": [],
   "source": [
    "data['duration_minutes'] = data['duration_ms'] / 60000"
   ]
  },
  {
   "cell_type": "code",
   "execution_count": 17,
   "metadata": {},
   "outputs": [
    {
     "data": {
      "text/plain": [
       "Index(['year', 'Unnamed: 0', 'Unnamed: 0.1', 'acousticness', 'artists',\n",
       "       'danceability', 'duration_ms', 'energy', 'explicit', 'id',\n",
       "       'instrumentalness', 'key', 'liveness', 'loudness', 'mode', 'name',\n",
       "       'popularity', 'release_date', 'speechiness', 'tempo', 'valence',\n",
       "       'duration_minutes'],\n",
       "      dtype='object')"
      ]
     },
     "execution_count": 17,
     "metadata": {},
     "output_type": "execute_result"
    }
   ],
   "source": [
    "data.columns"
   ]
  },
  {
   "cell_type": "code",
   "execution_count": 18,
   "metadata": {},
   "outputs": [],
   "source": [
    "data.drop(columns=[\"Unnamed: 0\", \"Unnamed: 0.1\", \"duration_ms\", \"id\", \"mode\"], inplace=True)"
   ]
  },
  {
   "cell_type": "code",
   "execution_count": 19,
   "metadata": {
    "scrolled": true
   },
   "outputs": [
    {
     "data": {
      "text/html": [
       "<div>\n",
       "<style scoped>\n",
       "    .dataframe tbody tr th:only-of-type {\n",
       "        vertical-align: middle;\n",
       "    }\n",
       "\n",
       "    .dataframe tbody tr th {\n",
       "        vertical-align: top;\n",
       "    }\n",
       "\n",
       "    .dataframe thead th {\n",
       "        text-align: right;\n",
       "    }\n",
       "</style>\n",
       "<table border=\"1\" class=\"dataframe\">\n",
       "  <thead>\n",
       "    <tr style=\"text-align: right;\">\n",
       "      <th></th>\n",
       "      <th>year</th>\n",
       "      <th>acousticness</th>\n",
       "      <th>artists</th>\n",
       "      <th>danceability</th>\n",
       "      <th>energy</th>\n",
       "      <th>explicit</th>\n",
       "      <th>instrumentalness</th>\n",
       "      <th>key</th>\n",
       "      <th>liveness</th>\n",
       "      <th>loudness</th>\n",
       "      <th>name</th>\n",
       "      <th>popularity</th>\n",
       "      <th>release_date</th>\n",
       "      <th>speechiness</th>\n",
       "      <th>tempo</th>\n",
       "      <th>valence</th>\n",
       "      <th>duration_minutes</th>\n",
       "    </tr>\n",
       "  </thead>\n",
       "  <tbody>\n",
       "    <tr>\n",
       "      <th>0</th>\n",
       "      <td>1921</td>\n",
       "      <td>0.73200</td>\n",
       "      <td>['Dennis Day']</td>\n",
       "      <td>0.819</td>\n",
       "      <td>0.3410</td>\n",
       "      <td>0</td>\n",
       "      <td>0.000000</td>\n",
       "      <td>7</td>\n",
       "      <td>0.1600</td>\n",
       "      <td>-12.441</td>\n",
       "      <td>Clancy Lowered the Boom</td>\n",
       "      <td>8</td>\n",
       "      <td>1921</td>\n",
       "      <td>0.4150</td>\n",
       "      <td>60.936</td>\n",
       "      <td>0.963</td>\n",
       "      <td>3.008883</td>\n",
       "    </tr>\n",
       "    <tr>\n",
       "      <th>1</th>\n",
       "      <td>1922</td>\n",
       "      <td>0.67400</td>\n",
       "      <td>['Uli']</td>\n",
       "      <td>0.645</td>\n",
       "      <td>0.4450</td>\n",
       "      <td>0</td>\n",
       "      <td>0.744000</td>\n",
       "      <td>0</td>\n",
       "      <td>0.1510</td>\n",
       "      <td>-13.338</td>\n",
       "      <td>Carve</td>\n",
       "      <td>10</td>\n",
       "      <td>1922-02-22</td>\n",
       "      <td>0.4510</td>\n",
       "      <td>104.851</td>\n",
       "      <td>0.127</td>\n",
       "      <td>2.115050</td>\n",
       "    </tr>\n",
       "    <tr>\n",
       "      <th>2</th>\n",
       "      <td>1923</td>\n",
       "      <td>0.99600</td>\n",
       "      <td>['Bessie Smith']</td>\n",
       "      <td>0.614</td>\n",
       "      <td>0.0423</td>\n",
       "      <td>0</td>\n",
       "      <td>0.002930</td>\n",
       "      <td>4</td>\n",
       "      <td>0.1830</td>\n",
       "      <td>-12.033</td>\n",
       "      <td>Nobody Knows You When You're Down and Out</td>\n",
       "      <td>45</td>\n",
       "      <td>1923</td>\n",
       "      <td>0.0535</td>\n",
       "      <td>89.822</td>\n",
       "      <td>0.211</td>\n",
       "      <td>2.952217</td>\n",
       "    </tr>\n",
       "    <tr>\n",
       "      <th>3</th>\n",
       "      <td>1924</td>\n",
       "      <td>0.81600</td>\n",
       "      <td>['Paul Whiteman &amp; His Orchestra', 'Bix Beiderb...</td>\n",
       "      <td>0.678</td>\n",
       "      <td>0.3950</td>\n",
       "      <td>0</td>\n",
       "      <td>0.240000</td>\n",
       "      <td>3</td>\n",
       "      <td>0.1000</td>\n",
       "      <td>-9.825</td>\n",
       "      <td>Mississippi Mud</td>\n",
       "      <td>13</td>\n",
       "      <td>1924</td>\n",
       "      <td>0.1330</td>\n",
       "      <td>184.446</td>\n",
       "      <td>0.832</td>\n",
       "      <td>3.433333</td>\n",
       "    </tr>\n",
       "    <tr>\n",
       "      <th>4</th>\n",
       "      <td>1925</td>\n",
       "      <td>0.96900</td>\n",
       "      <td>['Tommy Dorsey']</td>\n",
       "      <td>0.678</td>\n",
       "      <td>0.1750</td>\n",
       "      <td>0</td>\n",
       "      <td>0.001050</td>\n",
       "      <td>3</td>\n",
       "      <td>0.1770</td>\n",
       "      <td>-13.021</td>\n",
       "      <td>On the Sunny Side of the Street (From \"Is Ever...</td>\n",
       "      <td>39</td>\n",
       "      <td>1925</td>\n",
       "      <td>0.0301</td>\n",
       "      <td>112.941</td>\n",
       "      <td>0.580</td>\n",
       "      <td>3.238667</td>\n",
       "    </tr>\n",
       "    <tr>\n",
       "      <th>...</th>\n",
       "      <td>...</td>\n",
       "      <td>...</td>\n",
       "      <td>...</td>\n",
       "      <td>...</td>\n",
       "      <td>...</td>\n",
       "      <td>...</td>\n",
       "      <td>...</td>\n",
       "      <td>...</td>\n",
       "      <td>...</td>\n",
       "      <td>...</td>\n",
       "      <td>...</td>\n",
       "      <td>...</td>\n",
       "      <td>...</td>\n",
       "      <td>...</td>\n",
       "      <td>...</td>\n",
       "      <td>...</td>\n",
       "      <td>...</td>\n",
       "    </tr>\n",
       "    <tr>\n",
       "      <th>95</th>\n",
       "      <td>2016</td>\n",
       "      <td>0.08470</td>\n",
       "      <td>['Travis Scott']</td>\n",
       "      <td>0.841</td>\n",
       "      <td>0.7280</td>\n",
       "      <td>1</td>\n",
       "      <td>0.000000</td>\n",
       "      <td>7</td>\n",
       "      <td>0.1490</td>\n",
       "      <td>-3.370</td>\n",
       "      <td>goosebumps</td>\n",
       "      <td>92</td>\n",
       "      <td>2016-09-16</td>\n",
       "      <td>0.0484</td>\n",
       "      <td>130.049</td>\n",
       "      <td>0.430</td>\n",
       "      <td>4.063950</td>\n",
       "    </tr>\n",
       "    <tr>\n",
       "      <th>96</th>\n",
       "      <td>2017</td>\n",
       "      <td>0.06220</td>\n",
       "      <td>['Imagine Dragons']</td>\n",
       "      <td>0.776</td>\n",
       "      <td>0.7800</td>\n",
       "      <td>0</td>\n",
       "      <td>0.000000</td>\n",
       "      <td>10</td>\n",
       "      <td>0.0810</td>\n",
       "      <td>-4.374</td>\n",
       "      <td>Believer</td>\n",
       "      <td>87</td>\n",
       "      <td>2017-06-23</td>\n",
       "      <td>0.1280</td>\n",
       "      <td>124.949</td>\n",
       "      <td>0.666</td>\n",
       "      <td>3.405783</td>\n",
       "    </tr>\n",
       "    <tr>\n",
       "      <th>97</th>\n",
       "      <td>2018</td>\n",
       "      <td>0.12300</td>\n",
       "      <td>['Trevor Daniel']</td>\n",
       "      <td>0.784</td>\n",
       "      <td>0.4300</td>\n",
       "      <td>0</td>\n",
       "      <td>0.000000</td>\n",
       "      <td>10</td>\n",
       "      <td>0.0887</td>\n",
       "      <td>-8.756</td>\n",
       "      <td>Falling</td>\n",
       "      <td>93</td>\n",
       "      <td>2018-10-05</td>\n",
       "      <td>0.0364</td>\n",
       "      <td>127.087</td>\n",
       "      <td>0.236</td>\n",
       "      <td>2.656367</td>\n",
       "    </tr>\n",
       "    <tr>\n",
       "      <th>98</th>\n",
       "      <td>2019</td>\n",
       "      <td>0.10400</td>\n",
       "      <td>['Roddy Ricch']</td>\n",
       "      <td>0.896</td>\n",
       "      <td>0.5860</td>\n",
       "      <td>1</td>\n",
       "      <td>0.000000</td>\n",
       "      <td>10</td>\n",
       "      <td>0.7900</td>\n",
       "      <td>-6.687</td>\n",
       "      <td>The Box</td>\n",
       "      <td>97</td>\n",
       "      <td>2019-12-06</td>\n",
       "      <td>0.0559</td>\n",
       "      <td>116.971</td>\n",
       "      <td>0.642</td>\n",
       "      <td>3.277550</td>\n",
       "    </tr>\n",
       "    <tr>\n",
       "      <th>99</th>\n",
       "      <td>2020</td>\n",
       "      <td>0.00146</td>\n",
       "      <td>['The Weeknd']</td>\n",
       "      <td>0.514</td>\n",
       "      <td>0.7300</td>\n",
       "      <td>0</td>\n",
       "      <td>0.000095</td>\n",
       "      <td>1</td>\n",
       "      <td>0.0897</td>\n",
       "      <td>-5.934</td>\n",
       "      <td>Blinding Lights</td>\n",
       "      <td>100</td>\n",
       "      <td>2020-03-20</td>\n",
       "      <td>0.0598</td>\n",
       "      <td>171.005</td>\n",
       "      <td>0.334</td>\n",
       "      <td>3.334000</td>\n",
       "    </tr>\n",
       "  </tbody>\n",
       "</table>\n",
       "<p>100 rows × 17 columns</p>\n",
       "</div>"
      ],
      "text/plain": [
       "    year  acousticness                                            artists  \\\n",
       "0   1921       0.73200                                     ['Dennis Day']   \n",
       "1   1922       0.67400                                            ['Uli']   \n",
       "2   1923       0.99600                                   ['Bessie Smith']   \n",
       "3   1924       0.81600  ['Paul Whiteman & His Orchestra', 'Bix Beiderb...   \n",
       "4   1925       0.96900                                   ['Tommy Dorsey']   \n",
       "..   ...           ...                                                ...   \n",
       "95  2016       0.08470                                   ['Travis Scott']   \n",
       "96  2017       0.06220                                ['Imagine Dragons']   \n",
       "97  2018       0.12300                                  ['Trevor Daniel']   \n",
       "98  2019       0.10400                                    ['Roddy Ricch']   \n",
       "99  2020       0.00146                                     ['The Weeknd']   \n",
       "\n",
       "    danceability  energy  explicit  instrumentalness  key  liveness  loudness  \\\n",
       "0          0.819  0.3410         0          0.000000    7    0.1600   -12.441   \n",
       "1          0.645  0.4450         0          0.744000    0    0.1510   -13.338   \n",
       "2          0.614  0.0423         0          0.002930    4    0.1830   -12.033   \n",
       "3          0.678  0.3950         0          0.240000    3    0.1000    -9.825   \n",
       "4          0.678  0.1750         0          0.001050    3    0.1770   -13.021   \n",
       "..           ...     ...       ...               ...  ...       ...       ...   \n",
       "95         0.841  0.7280         1          0.000000    7    0.1490    -3.370   \n",
       "96         0.776  0.7800         0          0.000000   10    0.0810    -4.374   \n",
       "97         0.784  0.4300         0          0.000000   10    0.0887    -8.756   \n",
       "98         0.896  0.5860         1          0.000000   10    0.7900    -6.687   \n",
       "99         0.514  0.7300         0          0.000095    1    0.0897    -5.934   \n",
       "\n",
       "                                                 name  popularity  \\\n",
       "0                             Clancy Lowered the Boom           8   \n",
       "1                                               Carve          10   \n",
       "2           Nobody Knows You When You're Down and Out          45   \n",
       "3                                     Mississippi Mud          13   \n",
       "4   On the Sunny Side of the Street (From \"Is Ever...          39   \n",
       "..                                                ...         ...   \n",
       "95                                         goosebumps          92   \n",
       "96                                           Believer          87   \n",
       "97                                            Falling          93   \n",
       "98                                            The Box          97   \n",
       "99                                    Blinding Lights         100   \n",
       "\n",
       "   release_date  speechiness    tempo  valence  duration_minutes  \n",
       "0          1921       0.4150   60.936    0.963          3.008883  \n",
       "1    1922-02-22       0.4510  104.851    0.127          2.115050  \n",
       "2          1923       0.0535   89.822    0.211          2.952217  \n",
       "3          1924       0.1330  184.446    0.832          3.433333  \n",
       "4          1925       0.0301  112.941    0.580          3.238667  \n",
       "..          ...          ...      ...      ...               ...  \n",
       "95   2016-09-16       0.0484  130.049    0.430          4.063950  \n",
       "96   2017-06-23       0.1280  124.949    0.666          3.405783  \n",
       "97   2018-10-05       0.0364  127.087    0.236          2.656367  \n",
       "98   2019-12-06       0.0559  116.971    0.642          3.277550  \n",
       "99   2020-03-20       0.0598  171.005    0.334          3.334000  \n",
       "\n",
       "[100 rows x 17 columns]"
      ]
     },
     "execution_count": 19,
     "metadata": {},
     "output_type": "execute_result"
    }
   ],
   "source": [
    "data"
   ]
  },
  {
   "cell_type": "code",
   "execution_count": 23,
   "metadata": {
    "scrolled": true
   },
   "outputs": [
    {
     "data": {
      "text/html": [
       "<div>\n",
       "<style scoped>\n",
       "    .dataframe tbody tr th:only-of-type {\n",
       "        vertical-align: middle;\n",
       "    }\n",
       "\n",
       "    .dataframe tbody tr th {\n",
       "        vertical-align: top;\n",
       "    }\n",
       "\n",
       "    .dataframe thead th {\n",
       "        text-align: right;\n",
       "    }\n",
       "</style>\n",
       "<table border=\"1\" class=\"dataframe\">\n",
       "  <thead>\n",
       "    <tr style=\"text-align: right;\">\n",
       "      <th></th>\n",
       "      <th>year</th>\n",
       "      <th>acousticness</th>\n",
       "      <th>artists</th>\n",
       "      <th>danceability</th>\n",
       "      <th>energy</th>\n",
       "      <th>explicit</th>\n",
       "      <th>instrumentalness</th>\n",
       "      <th>key</th>\n",
       "      <th>liveness</th>\n",
       "      <th>loudness</th>\n",
       "      <th>name</th>\n",
       "      <th>popularity</th>\n",
       "      <th>release_date</th>\n",
       "      <th>speechiness</th>\n",
       "      <th>tempo</th>\n",
       "      <th>valence</th>\n",
       "      <th>duration_minutes</th>\n",
       "    </tr>\n",
       "  </thead>\n",
       "  <tbody>\n",
       "    <tr>\n",
       "      <th>0</th>\n",
       "      <td>1921</td>\n",
       "      <td>0.73200</td>\n",
       "      <td>['Dennis Day']</td>\n",
       "      <td>0.819</td>\n",
       "      <td>0.3410</td>\n",
       "      <td>0</td>\n",
       "      <td>0.000000</td>\n",
       "      <td>7</td>\n",
       "      <td>0.1600</td>\n",
       "      <td>-12.441</td>\n",
       "      <td>Clancy Lowered the Boom</td>\n",
       "      <td>8</td>\n",
       "      <td>1921</td>\n",
       "      <td>0.4150</td>\n",
       "      <td>60.936</td>\n",
       "      <td>0.963</td>\n",
       "      <td>3.008883</td>\n",
       "    </tr>\n",
       "    <tr>\n",
       "      <th>1</th>\n",
       "      <td>1922</td>\n",
       "      <td>0.67400</td>\n",
       "      <td>['Uli']</td>\n",
       "      <td>0.645</td>\n",
       "      <td>0.4450</td>\n",
       "      <td>0</td>\n",
       "      <td>0.744000</td>\n",
       "      <td>0</td>\n",
       "      <td>0.1510</td>\n",
       "      <td>-13.338</td>\n",
       "      <td>Carve</td>\n",
       "      <td>10</td>\n",
       "      <td>1922-02-22</td>\n",
       "      <td>0.4510</td>\n",
       "      <td>104.851</td>\n",
       "      <td>0.127</td>\n",
       "      <td>2.115050</td>\n",
       "    </tr>\n",
       "    <tr>\n",
       "      <th>2</th>\n",
       "      <td>1923</td>\n",
       "      <td>0.99600</td>\n",
       "      <td>['Bessie Smith']</td>\n",
       "      <td>0.614</td>\n",
       "      <td>0.0423</td>\n",
       "      <td>0</td>\n",
       "      <td>0.002930</td>\n",
       "      <td>4</td>\n",
       "      <td>0.1830</td>\n",
       "      <td>-12.033</td>\n",
       "      <td>Nobody Knows You When You're Down and Out</td>\n",
       "      <td>45</td>\n",
       "      <td>1923</td>\n",
       "      <td>0.0535</td>\n",
       "      <td>89.822</td>\n",
       "      <td>0.211</td>\n",
       "      <td>2.952217</td>\n",
       "    </tr>\n",
       "    <tr>\n",
       "      <th>3</th>\n",
       "      <td>1924</td>\n",
       "      <td>0.81600</td>\n",
       "      <td>['Paul Whiteman &amp; His Orchestra', 'Bix Beiderb...</td>\n",
       "      <td>0.678</td>\n",
       "      <td>0.3950</td>\n",
       "      <td>0</td>\n",
       "      <td>0.240000</td>\n",
       "      <td>3</td>\n",
       "      <td>0.1000</td>\n",
       "      <td>-9.825</td>\n",
       "      <td>Mississippi Mud</td>\n",
       "      <td>13</td>\n",
       "      <td>1924</td>\n",
       "      <td>0.1330</td>\n",
       "      <td>184.446</td>\n",
       "      <td>0.832</td>\n",
       "      <td>3.433333</td>\n",
       "    </tr>\n",
       "    <tr>\n",
       "      <th>4</th>\n",
       "      <td>1925</td>\n",
       "      <td>0.96900</td>\n",
       "      <td>['Tommy Dorsey']</td>\n",
       "      <td>0.678</td>\n",
       "      <td>0.1750</td>\n",
       "      <td>0</td>\n",
       "      <td>0.001050</td>\n",
       "      <td>3</td>\n",
       "      <td>0.1770</td>\n",
       "      <td>-13.021</td>\n",
       "      <td>On the Sunny Side of the Street (From \"Is Ever...</td>\n",
       "      <td>39</td>\n",
       "      <td>1925</td>\n",
       "      <td>0.0301</td>\n",
       "      <td>112.941</td>\n",
       "      <td>0.580</td>\n",
       "      <td>3.238667</td>\n",
       "    </tr>\n",
       "    <tr>\n",
       "      <th>...</th>\n",
       "      <td>...</td>\n",
       "      <td>...</td>\n",
       "      <td>...</td>\n",
       "      <td>...</td>\n",
       "      <td>...</td>\n",
       "      <td>...</td>\n",
       "      <td>...</td>\n",
       "      <td>...</td>\n",
       "      <td>...</td>\n",
       "      <td>...</td>\n",
       "      <td>...</td>\n",
       "      <td>...</td>\n",
       "      <td>...</td>\n",
       "      <td>...</td>\n",
       "      <td>...</td>\n",
       "      <td>...</td>\n",
       "      <td>...</td>\n",
       "    </tr>\n",
       "    <tr>\n",
       "      <th>95</th>\n",
       "      <td>2016</td>\n",
       "      <td>0.08470</td>\n",
       "      <td>['Travis Scott']</td>\n",
       "      <td>0.841</td>\n",
       "      <td>0.7280</td>\n",
       "      <td>1</td>\n",
       "      <td>0.000000</td>\n",
       "      <td>7</td>\n",
       "      <td>0.1490</td>\n",
       "      <td>-3.370</td>\n",
       "      <td>goosebumps</td>\n",
       "      <td>92</td>\n",
       "      <td>2016-09-16</td>\n",
       "      <td>0.0484</td>\n",
       "      <td>130.049</td>\n",
       "      <td>0.430</td>\n",
       "      <td>4.063950</td>\n",
       "    </tr>\n",
       "    <tr>\n",
       "      <th>96</th>\n",
       "      <td>2017</td>\n",
       "      <td>0.06220</td>\n",
       "      <td>['Imagine Dragons']</td>\n",
       "      <td>0.776</td>\n",
       "      <td>0.7800</td>\n",
       "      <td>0</td>\n",
       "      <td>0.000000</td>\n",
       "      <td>10</td>\n",
       "      <td>0.0810</td>\n",
       "      <td>-4.374</td>\n",
       "      <td>Believer</td>\n",
       "      <td>87</td>\n",
       "      <td>2017-06-23</td>\n",
       "      <td>0.1280</td>\n",
       "      <td>124.949</td>\n",
       "      <td>0.666</td>\n",
       "      <td>3.405783</td>\n",
       "    </tr>\n",
       "    <tr>\n",
       "      <th>97</th>\n",
       "      <td>2018</td>\n",
       "      <td>0.12300</td>\n",
       "      <td>['Trevor Daniel']</td>\n",
       "      <td>0.784</td>\n",
       "      <td>0.4300</td>\n",
       "      <td>0</td>\n",
       "      <td>0.000000</td>\n",
       "      <td>10</td>\n",
       "      <td>0.0887</td>\n",
       "      <td>-8.756</td>\n",
       "      <td>Falling</td>\n",
       "      <td>93</td>\n",
       "      <td>2018-10-05</td>\n",
       "      <td>0.0364</td>\n",
       "      <td>127.087</td>\n",
       "      <td>0.236</td>\n",
       "      <td>2.656367</td>\n",
       "    </tr>\n",
       "    <tr>\n",
       "      <th>98</th>\n",
       "      <td>2019</td>\n",
       "      <td>0.10400</td>\n",
       "      <td>['Roddy Ricch']</td>\n",
       "      <td>0.896</td>\n",
       "      <td>0.5860</td>\n",
       "      <td>1</td>\n",
       "      <td>0.000000</td>\n",
       "      <td>10</td>\n",
       "      <td>0.7900</td>\n",
       "      <td>-6.687</td>\n",
       "      <td>The Box</td>\n",
       "      <td>97</td>\n",
       "      <td>2019-12-06</td>\n",
       "      <td>0.0559</td>\n",
       "      <td>116.971</td>\n",
       "      <td>0.642</td>\n",
       "      <td>3.277550</td>\n",
       "    </tr>\n",
       "    <tr>\n",
       "      <th>99</th>\n",
       "      <td>2020</td>\n",
       "      <td>0.00146</td>\n",
       "      <td>['The Weeknd']</td>\n",
       "      <td>0.514</td>\n",
       "      <td>0.7300</td>\n",
       "      <td>0</td>\n",
       "      <td>0.000095</td>\n",
       "      <td>1</td>\n",
       "      <td>0.0897</td>\n",
       "      <td>-5.934</td>\n",
       "      <td>Blinding Lights</td>\n",
       "      <td>100</td>\n",
       "      <td>2020-03-20</td>\n",
       "      <td>0.0598</td>\n",
       "      <td>171.005</td>\n",
       "      <td>0.334</td>\n",
       "      <td>3.334000</td>\n",
       "    </tr>\n",
       "  </tbody>\n",
       "</table>\n",
       "<p>100 rows × 17 columns</p>\n",
       "</div>"
      ],
      "text/plain": [
       "    year  acousticness                                            artists  \\\n",
       "0   1921       0.73200                                     ['Dennis Day']   \n",
       "1   1922       0.67400                                            ['Uli']   \n",
       "2   1923       0.99600                                   ['Bessie Smith']   \n",
       "3   1924       0.81600  ['Paul Whiteman & His Orchestra', 'Bix Beiderb...   \n",
       "4   1925       0.96900                                   ['Tommy Dorsey']   \n",
       "..   ...           ...                                                ...   \n",
       "95  2016       0.08470                                   ['Travis Scott']   \n",
       "96  2017       0.06220                                ['Imagine Dragons']   \n",
       "97  2018       0.12300                                  ['Trevor Daniel']   \n",
       "98  2019       0.10400                                    ['Roddy Ricch']   \n",
       "99  2020       0.00146                                     ['The Weeknd']   \n",
       "\n",
       "    danceability  energy  explicit  instrumentalness  key  liveness  loudness  \\\n",
       "0          0.819  0.3410         0          0.000000    7    0.1600   -12.441   \n",
       "1          0.645  0.4450         0          0.744000    0    0.1510   -13.338   \n",
       "2          0.614  0.0423         0          0.002930    4    0.1830   -12.033   \n",
       "3          0.678  0.3950         0          0.240000    3    0.1000    -9.825   \n",
       "4          0.678  0.1750         0          0.001050    3    0.1770   -13.021   \n",
       "..           ...     ...       ...               ...  ...       ...       ...   \n",
       "95         0.841  0.7280         1          0.000000    7    0.1490    -3.370   \n",
       "96         0.776  0.7800         0          0.000000   10    0.0810    -4.374   \n",
       "97         0.784  0.4300         0          0.000000   10    0.0887    -8.756   \n",
       "98         0.896  0.5860         1          0.000000   10    0.7900    -6.687   \n",
       "99         0.514  0.7300         0          0.000095    1    0.0897    -5.934   \n",
       "\n",
       "                                                 name  popularity  \\\n",
       "0                             Clancy Lowered the Boom           8   \n",
       "1                                               Carve          10   \n",
       "2           Nobody Knows You When You're Down and Out          45   \n",
       "3                                     Mississippi Mud          13   \n",
       "4   On the Sunny Side of the Street (From \"Is Ever...          39   \n",
       "..                                                ...         ...   \n",
       "95                                         goosebumps          92   \n",
       "96                                           Believer          87   \n",
       "97                                            Falling          93   \n",
       "98                                            The Box          97   \n",
       "99                                    Blinding Lights         100   \n",
       "\n",
       "   release_date  speechiness    tempo  valence  duration_minutes  \n",
       "0          1921       0.4150   60.936    0.963          3.008883  \n",
       "1    1922-02-22       0.4510  104.851    0.127          2.115050  \n",
       "2          1923       0.0535   89.822    0.211          2.952217  \n",
       "3          1924       0.1330  184.446    0.832          3.433333  \n",
       "4          1925       0.0301  112.941    0.580          3.238667  \n",
       "..          ...          ...      ...      ...               ...  \n",
       "95   2016-09-16       0.0484  130.049    0.430          4.063950  \n",
       "96   2017-06-23       0.1280  124.949    0.666          3.405783  \n",
       "97   2018-10-05       0.0364  127.087    0.236          2.656367  \n",
       "98   2019-12-06       0.0559  116.971    0.642          3.277550  \n",
       "99   2020-03-20       0.0598  171.005    0.334          3.334000  \n",
       "\n",
       "[100 rows x 17 columns]"
      ]
     },
     "execution_count": 23,
     "metadata": {},
     "output_type": "execute_result"
    }
   ],
   "source": [
    "data"
   ]
  },
  {
   "cell_type": "code",
   "execution_count": 24,
   "metadata": {},
   "outputs": [],
   "source": [
    "audio_features = data[[\"acousticness\", \"danceability\", \"energy\", \"explicit\", \"instrumentalness\", \"speechiness\", \"valence\", \"year\"]]"
   ]
  },
  {
   "cell_type": "code",
   "execution_count": 25,
   "metadata": {},
   "outputs": [],
   "source": [
    "trend = audio_features.groupby([\"year\"]).mean()"
   ]
  },
  {
   "cell_type": "code",
   "execution_count": 26,
   "metadata": {},
   "outputs": [
    {
     "data": {
      "application/vnd.plotly.v1+json": {
       "config": {
        "linkText": " ",
        "plotlyServerURL": "https://plot.ly",
        "showLink": false
       },
       "data": [
        {
         "line": {
          "color": "rgba(31, 119, 180, 1.0)",
          "dash": "solid",
          "shape": "linear",
          "width": 1.3
         },
         "mode": "lines",
         "name": "acousticness",
         "text": "",
         "type": "scatter",
         "x": [
          1921,
          1922,
          1923,
          1924,
          1925,
          1926,
          1927,
          1928,
          1929,
          1930,
          1931,
          1932,
          1933,
          1934,
          1935,
          1936,
          1937,
          1938,
          1939,
          1940,
          1941,
          1942,
          1943,
          1944,
          1945,
          1946,
          1947,
          1948,
          1949,
          1950,
          1951,
          1952,
          1953,
          1954,
          1955,
          1956,
          1957,
          1958,
          1959,
          1960,
          1961,
          1962,
          1963,
          1964,
          1965,
          1966,
          1967,
          1968,
          1969,
          1970,
          1971,
          1972,
          1973,
          1974,
          1975,
          1976,
          1977,
          1978,
          1979,
          1980,
          1981,
          1982,
          1983,
          1984,
          1985,
          1986,
          1987,
          1988,
          1989,
          1990,
          1991,
          1992,
          1993,
          1994,
          1995,
          1996,
          1997,
          1998,
          1999,
          2000,
          2001,
          2002,
          2003,
          2004,
          2005,
          2006,
          2007,
          2008,
          2009,
          2010,
          2011,
          2012,
          2013,
          2014,
          2015,
          2016,
          2017,
          2018,
          2019,
          2020
         ],
         "y": [
          0.732,
          0.674,
          0.996,
          0.816,
          0.9690000000000001,
          0.821,
          0.99,
          0.847,
          0.586,
          0.987,
          0.9570000000000001,
          0.987,
          0.972,
          0.988,
          0.9079999999999999,
          0.9329999999999999,
          0.93,
          0.763,
          0.938,
          0.68,
          0.945,
          0.6729999999999999,
          0.9470000000000001,
          0.9840000000000001,
          0.981,
          0.8290000000000001,
          0.40700000000000003,
          0.8640000000000001,
          0.9940000000000001,
          0.99,
          0.907,
          0.889,
          0.995,
          0.92,
          0.963,
          0.452,
          0.9129999999999999,
          0.41,
          0.741,
          0.546,
          0.941,
          0.57,
          0.6409999999999999,
          0.8370000000000001,
          0.635,
          0.0493,
          0.182,
          0.00255,
          0.0339,
          0.631,
          0.382,
          0.4320000000000001,
          0.38799999999999996,
          0.18100000000000002,
          0.883,
          0.0057399999999999994,
          0.652,
          0.0384,
          0.0591,
          0.011000000000000001,
          0.127,
          0.257,
          0.5429999999999999,
          0.0183,
          0.018000000000000002,
          0.0778,
          0.207,
          0.313,
          0.212,
          0.000147,
          0.179,
          0.161,
          0.0102,
          0.0154,
          0.0655,
          0.10099999999999999,
          0.0335,
          0.00125,
          0.0021,
          0.00958,
          0.000278,
          0.727,
          0.0046,
          0.0183,
          0.284,
          0.11599999999999999,
          0.00564,
          0.595,
          0.0274,
          0.185,
          0.145,
          0.932,
          0.922,
          0.588,
          0.612,
          0.0847,
          0.0622,
          0.12300000000000001,
          0.10400000000000001,
          0.00146
         ]
        },
        {
         "line": {
          "color": "rgba(255, 127, 14, 1.0)",
          "dash": "solid",
          "shape": "linear",
          "width": 1.3
         },
         "mode": "lines",
         "name": "danceability",
         "text": "",
         "type": "scatter",
         "x": [
          1921,
          1922,
          1923,
          1924,
          1925,
          1926,
          1927,
          1928,
          1929,
          1930,
          1931,
          1932,
          1933,
          1934,
          1935,
          1936,
          1937,
          1938,
          1939,
          1940,
          1941,
          1942,
          1943,
          1944,
          1945,
          1946,
          1947,
          1948,
          1949,
          1950,
          1951,
          1952,
          1953,
          1954,
          1955,
          1956,
          1957,
          1958,
          1959,
          1960,
          1961,
          1962,
          1963,
          1964,
          1965,
          1966,
          1967,
          1968,
          1969,
          1970,
          1971,
          1972,
          1973,
          1974,
          1975,
          1976,
          1977,
          1978,
          1979,
          1980,
          1981,
          1982,
          1983,
          1984,
          1985,
          1986,
          1987,
          1988,
          1989,
          1990,
          1991,
          1992,
          1993,
          1994,
          1995,
          1996,
          1997,
          1998,
          1999,
          2000,
          2001,
          2002,
          2003,
          2004,
          2005,
          2006,
          2007,
          2008,
          2009,
          2010,
          2011,
          2012,
          2013,
          2014,
          2015,
          2016,
          2017,
          2018,
          2019,
          2020
         ],
         "y": [
          0.8190000000000001,
          0.645,
          0.614,
          0.6779999999999999,
          0.6779999999999999,
          0.515,
          0.7090000000000001,
          0.626,
          0.6729999999999999,
          0.349,
          0.45899999999999996,
          0.473,
          0.504,
          0.612,
          0.506,
          0.583,
          0.675,
          0.7170000000000001,
          0.271,
          0.17,
          0.794,
          0.317,
          0.204,
          0.295,
          0.495,
          0.616,
          0.469,
          0.41600000000000004,
          0.469,
          0.354,
          0.542,
          0.354,
          0.365,
          0.349,
          0.581,
          0.585,
          0.44299999999999995,
          0.647,
          0.534,
          0.273,
          0.396,
          0.65,
          0.48200000000000004,
          0.525,
          0.5720000000000001,
          0.46399999999999997,
          0.491,
          0.43799999999999994,
          0.557,
          0.44299999999999995,
          0.414,
          0.601,
          0.307,
          0.596,
          0.414,
          0.579,
          0.38799999999999996,
          0.618,
          0.573,
          0.31,
          0.5,
          0.6709999999999999,
          0.82,
          0.508,
          0.573,
          0.532,
          0.7090000000000001,
          0.711,
          0.623,
          0.501,
          0.6659999999999999,
          0.565,
          0.515,
          0.307,
          0.647,
          0.768,
          0.35600000000000004,
          0.315,
          0.5920000000000001,
          0.556,
          0.419,
          0.56,
          0.496,
          0.894,
          0.778,
          0.4270000000000001,
          0.617,
          0.6859999999999999,
          0.513,
          0.6729999999999999,
          0.733,
          0.612,
          0.42200000000000004,
          0.418,
          0.68,
          0.841,
          0.7759999999999999,
          0.784,
          0.8959999999999999,
          0.514
         ]
        },
        {
         "line": {
          "color": "rgba(44, 160, 44, 1.0)",
          "dash": "solid",
          "shape": "linear",
          "width": 1.3
         },
         "mode": "lines",
         "name": "energy",
         "text": "",
         "type": "scatter",
         "x": [
          1921,
          1922,
          1923,
          1924,
          1925,
          1926,
          1927,
          1928,
          1929,
          1930,
          1931,
          1932,
          1933,
          1934,
          1935,
          1936,
          1937,
          1938,
          1939,
          1940,
          1941,
          1942,
          1943,
          1944,
          1945,
          1946,
          1947,
          1948,
          1949,
          1950,
          1951,
          1952,
          1953,
          1954,
          1955,
          1956,
          1957,
          1958,
          1959,
          1960,
          1961,
          1962,
          1963,
          1964,
          1965,
          1966,
          1967,
          1968,
          1969,
          1970,
          1971,
          1972,
          1973,
          1974,
          1975,
          1976,
          1977,
          1978,
          1979,
          1980,
          1981,
          1982,
          1983,
          1984,
          1985,
          1986,
          1987,
          1988,
          1989,
          1990,
          1991,
          1992,
          1993,
          1994,
          1995,
          1996,
          1997,
          1998,
          1999,
          2000,
          2001,
          2002,
          2003,
          2004,
          2005,
          2006,
          2007,
          2008,
          2009,
          2010,
          2011,
          2012,
          2013,
          2014,
          2015,
          2016,
          2017,
          2018,
          2019,
          2020
         ],
         "y": [
          0.341,
          0.445,
          0.0423,
          0.395,
          0.175,
          0.222,
          0.20800000000000002,
          0.7440000000000001,
          0.377,
          0.326,
          0.867,
          0.154,
          0.0644,
          0.3720000000000001,
          0.18,
          0.235,
          0.311,
          0.37,
          0.21899999999999997,
          0.43,
          0.174,
          0.158,
          0.151,
          0.0826,
          0.0209,
          0.67,
          0.23600000000000002,
          0.341,
          0.0128,
          0.0851,
          0.32,
          0.24100000000000002,
          0.01,
          0.182,
          0.0543,
          0.247,
          0.10400000000000001,
          0.5820000000000001,
          0.8029999999999999,
          0.34700000000000003,
          0.293,
          0.306,
          0.8490000000000001,
          0.21600000000000005,
          0.418,
          0.795,
          0.583,
          0.805,
          0.54,
          0.40299999999999997,
          0.428,
          0.532,
          0.433,
          0.605,
          0.161,
          0.508,
          0.33799999999999997,
          0.748,
          0.9129999999999999,
          0.7,
          0.748,
          0.373,
          0.452,
          0.8340000000000001,
          0.902,
          0.887,
          0.8240000000000001,
          0.292,
          0.449,
          0.889,
          0.855,
          0.564,
          0.43,
          0.635,
          0.514,
          0.8640000000000001,
          0.917,
          0.715,
          0.767,
          0.8640000000000001,
          0.934,
          0.442,
          0.863,
          0.7909999999999999,
          0.8240000000000001,
          0.9,
          0.7170000000000001,
          0.457,
          0.6609999999999999,
          0.8859999999999999,
          0.71,
          0.28,
          0.264,
          0.42,
          0.7290000000000001,
          0.728,
          0.78,
          0.43,
          0.586,
          0.73
         ]
        },
        {
         "line": {
          "color": "rgba(214, 39, 40, 1.0)",
          "dash": "solid",
          "shape": "linear",
          "width": 1.3
         },
         "mode": "lines",
         "name": "explicit",
         "text": "",
         "type": "scatter",
         "x": [
          1921,
          1922,
          1923,
          1924,
          1925,
          1926,
          1927,
          1928,
          1929,
          1930,
          1931,
          1932,
          1933,
          1934,
          1935,
          1936,
          1937,
          1938,
          1939,
          1940,
          1941,
          1942,
          1943,
          1944,
          1945,
          1946,
          1947,
          1948,
          1949,
          1950,
          1951,
          1952,
          1953,
          1954,
          1955,
          1956,
          1957,
          1958,
          1959,
          1960,
          1961,
          1962,
          1963,
          1964,
          1965,
          1966,
          1967,
          1968,
          1969,
          1970,
          1971,
          1972,
          1973,
          1974,
          1975,
          1976,
          1977,
          1978,
          1979,
          1980,
          1981,
          1982,
          1983,
          1984,
          1985,
          1986,
          1987,
          1988,
          1989,
          1990,
          1991,
          1992,
          1993,
          1994,
          1995,
          1996,
          1997,
          1998,
          1999,
          2000,
          2001,
          2002,
          2003,
          2004,
          2005,
          2006,
          2007,
          2008,
          2009,
          2010,
          2011,
          2012,
          2013,
          2014,
          2015,
          2016,
          2017,
          2018,
          2019,
          2020
         ],
         "y": [
          0,
          0,
          0,
          0,
          0,
          0,
          0,
          0,
          0,
          0,
          0,
          0,
          0,
          0,
          0,
          0,
          0,
          0,
          0,
          0,
          0,
          0,
          0,
          0,
          0,
          0,
          0,
          0,
          0,
          0,
          0,
          0,
          0,
          0,
          0,
          0,
          0,
          0,
          0,
          0,
          0,
          0,
          0,
          0,
          0,
          0,
          0,
          0,
          0,
          0,
          0,
          0,
          0,
          0,
          0,
          0,
          0,
          0,
          0,
          0,
          0,
          0,
          0,
          0,
          0,
          0,
          0,
          0,
          0,
          0,
          0,
          0,
          1,
          0,
          0,
          0,
          0,
          0,
          0,
          0,
          0,
          0,
          0,
          0,
          0,
          0,
          1,
          0,
          0,
          0,
          0,
          0,
          0,
          0,
          1,
          1,
          0,
          0,
          1,
          0
         ]
        },
        {
         "line": {
          "color": "rgba(148, 103, 189, 1.0)",
          "dash": "solid",
          "shape": "linear",
          "width": 1.3
         },
         "mode": "lines",
         "name": "instrumentalness",
         "text": "",
         "type": "scatter",
         "x": [
          1921,
          1922,
          1923,
          1924,
          1925,
          1926,
          1927,
          1928,
          1929,
          1930,
          1931,
          1932,
          1933,
          1934,
          1935,
          1936,
          1937,
          1938,
          1939,
          1940,
          1941,
          1942,
          1943,
          1944,
          1945,
          1946,
          1947,
          1948,
          1949,
          1950,
          1951,
          1952,
          1953,
          1954,
          1955,
          1956,
          1957,
          1958,
          1959,
          1960,
          1961,
          1962,
          1963,
          1964,
          1965,
          1966,
          1967,
          1968,
          1969,
          1970,
          1971,
          1972,
          1973,
          1974,
          1975,
          1976,
          1977,
          1978,
          1979,
          1980,
          1981,
          1982,
          1983,
          1984,
          1985,
          1986,
          1987,
          1988,
          1989,
          1990,
          1991,
          1992,
          1993,
          1994,
          1995,
          1996,
          1997,
          1998,
          1999,
          2000,
          2001,
          2002,
          2003,
          2004,
          2005,
          2006,
          2007,
          2008,
          2009,
          2010,
          2011,
          2012,
          2013,
          2014,
          2015,
          2016,
          2017,
          2018,
          2019,
          2020
         ],
         "y": [
          0,
          0.7440000000000001,
          0.00293,
          0.24,
          0.00105,
          0.00193,
          0.7959999999999999,
          0.892,
          0,
          0.8859999999999999,
          0.941,
          3.04e-06,
          4.36e-06,
          3.64e-05,
          2.35e-06,
          3.28e-05,
          0.000261,
          0,
          0.00086,
          0.8540000000000001,
          0.00725,
          0.353,
          9.15e-06,
          0.00035800000000000003,
          1.13e-06,
          0.85,
          0.0434,
          0,
          0.937,
          4.49e-06,
          0.649,
          0.00027400000000000005,
          0.924,
          0.0152,
          0.00027400000000000005,
          8.85e-06,
          0,
          1.93e-06,
          6.07e-05,
          0.0137,
          0.000196,
          7.07e-06,
          7.74e-06,
          0,
          0,
          0.00244,
          0,
          5.6899999999999994e-05,
          0.00248,
          0,
          0.00024300000000000002,
          6.25e-06,
          9.08e-05,
          0.000331,
          0.000223,
          0.0004940000000000001,
          3.72e-06,
          4.1e-06,
          0.00173,
          0.00965,
          0,
          7.950000000000001e-05,
          0.00294,
          0,
          0.00125,
          0.00021400000000000002,
          0.000307,
          0,
          0,
          0.0114,
          1.2e-06,
          0,
          0.00014099999999999998,
          0.00483,
          0,
          0,
          0,
          7.97e-06,
          0.00165,
          0,
          0.0015,
          1.7100000000000002e-05,
          0,
          0,
          0,
          1.75e-05,
          0,
          0,
          0,
          0,
          0.115,
          0,
          0,
          6.39e-05,
          0,
          0,
          0,
          0,
          0,
          9.54e-05
         ]
        },
        {
         "line": {
          "color": "rgba(140, 86, 75, 1.0)",
          "dash": "solid",
          "shape": "linear",
          "width": 1.3
         },
         "mode": "lines",
         "name": "speechiness",
         "text": "",
         "type": "scatter",
         "x": [
          1921,
          1922,
          1923,
          1924,
          1925,
          1926,
          1927,
          1928,
          1929,
          1930,
          1931,
          1932,
          1933,
          1934,
          1935,
          1936,
          1937,
          1938,
          1939,
          1940,
          1941,
          1942,
          1943,
          1944,
          1945,
          1946,
          1947,
          1948,
          1949,
          1950,
          1951,
          1952,
          1953,
          1954,
          1955,
          1956,
          1957,
          1958,
          1959,
          1960,
          1961,
          1962,
          1963,
          1964,
          1965,
          1966,
          1967,
          1968,
          1969,
          1970,
          1971,
          1972,
          1973,
          1974,
          1975,
          1976,
          1977,
          1978,
          1979,
          1980,
          1981,
          1982,
          1983,
          1984,
          1985,
          1986,
          1987,
          1988,
          1989,
          1990,
          1991,
          1992,
          1993,
          1994,
          1995,
          1996,
          1997,
          1998,
          1999,
          2000,
          2001,
          2002,
          2003,
          2004,
          2005,
          2006,
          2007,
          2008,
          2009,
          2010,
          2011,
          2012,
          2013,
          2014,
          2015,
          2016,
          2017,
          2018,
          2019,
          2020
         ],
         "y": [
          0.415,
          0.451,
          0.0535,
          0.133,
          0.0301,
          0.0575,
          0.0828,
          0.0662,
          0.0697,
          0.0551,
          0.0475,
          0.11900000000000001,
          0.0408,
          0.138,
          0.0443,
          0.0431,
          0.0525,
          0.0365,
          0.031,
          0.0357,
          0.0388,
          0.0381,
          0.0418,
          0.0367,
          0.0348,
          0.244,
          0.0364,
          0.0391,
          0.11900000000000001,
          0.0345,
          0.0387,
          0.0334,
          0.0519,
          0.031,
          0.0466,
          0.04,
          0.10099999999999999,
          0.0755,
          0.0743,
          0.0292,
          0.0275,
          0.0393,
          0.0452,
          0.0301,
          0.0349,
          0.0926,
          0.0376,
          0.0624,
          0.0347,
          0.0322,
          0.0278,
          0.0286,
          0.028999999999999998,
          0.0255,
          0.0318,
          0.027000000000000003,
          0.0328,
          0.358,
          0.132,
          0.047,
          0.0363,
          0.0323,
          0.0348,
          0.0386,
          0.054000000000000006,
          0.0335,
          0.0453,
          0.037000000000000005,
          0.0253,
          0.0364,
          0.0295,
          0.0292,
          0.0369,
          0.0339,
          0.0593,
          0.0324,
          0.0479,
          0.0362,
          0.027000000000000003,
          0.0584,
          0.12,
          0.0243,
          0.0381,
          0.11199999999999999,
          0.0712,
          0.0499,
          0.153,
          0.0468,
          0.0439,
          0.0431,
          0.0292,
          0.0434,
          0.0322,
          0.0414,
          0.0475,
          0.0484,
          0.128,
          0.0364,
          0.0559,
          0.0598
         ]
        },
        {
         "line": {
          "color": "rgba(227, 119, 194, 1.0)",
          "dash": "solid",
          "shape": "linear",
          "width": 1.3
         },
         "mode": "lines",
         "name": "valence",
         "text": "",
         "type": "scatter",
         "x": [
          1921,
          1922,
          1923,
          1924,
          1925,
          1926,
          1927,
          1928,
          1929,
          1930,
          1931,
          1932,
          1933,
          1934,
          1935,
          1936,
          1937,
          1938,
          1939,
          1940,
          1941,
          1942,
          1943,
          1944,
          1945,
          1946,
          1947,
          1948,
          1949,
          1950,
          1951,
          1952,
          1953,
          1954,
          1955,
          1956,
          1957,
          1958,
          1959,
          1960,
          1961,
          1962,
          1963,
          1964,
          1965,
          1966,
          1967,
          1968,
          1969,
          1970,
          1971,
          1972,
          1973,
          1974,
          1975,
          1976,
          1977,
          1978,
          1979,
          1980,
          1981,
          1982,
          1983,
          1984,
          1985,
          1986,
          1987,
          1988,
          1989,
          1990,
          1991,
          1992,
          1993,
          1994,
          1995,
          1996,
          1997,
          1998,
          1999,
          2000,
          2001,
          2002,
          2003,
          2004,
          2005,
          2006,
          2007,
          2008,
          2009,
          2010,
          2011,
          2012,
          2013,
          2014,
          2015,
          2016,
          2017,
          2018,
          2019,
          2020
         ],
         "y": [
          0.963,
          0.127,
          0.21100000000000002,
          0.8320000000000001,
          0.58,
          0.35,
          0.8190000000000001,
          0.259,
          0.713,
          0.168,
          0.292,
          0.322,
          0.40299999999999997,
          0.895,
          0.665,
          0.855,
          0.638,
          0.8809999999999999,
          0.375,
          0.171,
          0.6559999999999999,
          0.247,
          0.134,
          0.16899999999999998,
          0.145,
          0.552,
          0.415,
          0.7759999999999999,
          0.354,
          0.19699999999999998,
          0.20600000000000002,
          0.408,
          0.0364,
          0.17800000000000002,
          0.175,
          0.591,
          0.39399999999999996,
          0.915,
          0.9690000000000001,
          0.32799999999999996,
          0.34299999999999997,
          0.605,
          0.937,
          0.32799999999999996,
          0.6940000000000001,
          0.612,
          0.907,
          0.564,
          0.39399999999999996,
          0.41,
          0.282,
          0.341,
          0.22399999999999998,
          0.8859999999999999,
          0.423,
          0.609,
          0.47700000000000004,
          0.6629999999999999,
          0.42200000000000004,
          0.763,
          0.514,
          0.732,
          0.74,
          0.774,
          0.8759999999999999,
          0.795,
          0.867,
          0.19399999999999998,
          0.5720000000000001,
          0.257,
          0.8029999999999999,
          0.45399999999999996,
          0.10400000000000001,
          0.304,
          0.387,
          0.8909999999999999,
          0.518,
          0.4970000000000001,
          0.32799999999999996,
          0.4,
          0.28600000000000003,
          0.212,
          0.243,
          0.583,
          0.7559999999999999,
          0.599,
          0.49,
          0.718,
          0.461,
          0.795,
          0.965,
          0.387,
          0.331,
          0.184,
          0.446,
          0.43,
          0.6659999999999999,
          0.23600000000000002,
          0.642,
          0.33399999999999996
         ]
        }
       ],
       "layout": {
        "legend": {
         "bgcolor": "#FFFFFF",
         "font": {
          "color": "#4D5663"
         }
        },
        "paper_bgcolor": "#FFFFFF",
        "plot_bgcolor": "#FFFFFF",
        "template": {
         "data": {
          "bar": [
           {
            "error_x": {
             "color": "#2a3f5f"
            },
            "error_y": {
             "color": "#2a3f5f"
            },
            "marker": {
             "line": {
              "color": "#E5ECF6",
              "width": 0.5
             }
            },
            "type": "bar"
           }
          ],
          "barpolar": [
           {
            "marker": {
             "line": {
              "color": "#E5ECF6",
              "width": 0.5
             }
            },
            "type": "barpolar"
           }
          ],
          "carpet": [
           {
            "aaxis": {
             "endlinecolor": "#2a3f5f",
             "gridcolor": "white",
             "linecolor": "white",
             "minorgridcolor": "white",
             "startlinecolor": "#2a3f5f"
            },
            "baxis": {
             "endlinecolor": "#2a3f5f",
             "gridcolor": "white",
             "linecolor": "white",
             "minorgridcolor": "white",
             "startlinecolor": "#2a3f5f"
            },
            "type": "carpet"
           }
          ],
          "choropleth": [
           {
            "colorbar": {
             "outlinewidth": 0,
             "ticks": ""
            },
            "type": "choropleth"
           }
          ],
          "contour": [
           {
            "colorbar": {
             "outlinewidth": 0,
             "ticks": ""
            },
            "colorscale": [
             [
              0,
              "#0d0887"
             ],
             [
              0.1111111111111111,
              "#46039f"
             ],
             [
              0.2222222222222222,
              "#7201a8"
             ],
             [
              0.3333333333333333,
              "#9c179e"
             ],
             [
              0.4444444444444444,
              "#bd3786"
             ],
             [
              0.5555555555555556,
              "#d8576b"
             ],
             [
              0.6666666666666666,
              "#ed7953"
             ],
             [
              0.7777777777777778,
              "#fb9f3a"
             ],
             [
              0.8888888888888888,
              "#fdca26"
             ],
             [
              1,
              "#f0f921"
             ]
            ],
            "type": "contour"
           }
          ],
          "contourcarpet": [
           {
            "colorbar": {
             "outlinewidth": 0,
             "ticks": ""
            },
            "type": "contourcarpet"
           }
          ],
          "heatmap": [
           {
            "colorbar": {
             "outlinewidth": 0,
             "ticks": ""
            },
            "colorscale": [
             [
              0,
              "#0d0887"
             ],
             [
              0.1111111111111111,
              "#46039f"
             ],
             [
              0.2222222222222222,
              "#7201a8"
             ],
             [
              0.3333333333333333,
              "#9c179e"
             ],
             [
              0.4444444444444444,
              "#bd3786"
             ],
             [
              0.5555555555555556,
              "#d8576b"
             ],
             [
              0.6666666666666666,
              "#ed7953"
             ],
             [
              0.7777777777777778,
              "#fb9f3a"
             ],
             [
              0.8888888888888888,
              "#fdca26"
             ],
             [
              1,
              "#f0f921"
             ]
            ],
            "type": "heatmap"
           }
          ],
          "heatmapgl": [
           {
            "colorbar": {
             "outlinewidth": 0,
             "ticks": ""
            },
            "colorscale": [
             [
              0,
              "#0d0887"
             ],
             [
              0.1111111111111111,
              "#46039f"
             ],
             [
              0.2222222222222222,
              "#7201a8"
             ],
             [
              0.3333333333333333,
              "#9c179e"
             ],
             [
              0.4444444444444444,
              "#bd3786"
             ],
             [
              0.5555555555555556,
              "#d8576b"
             ],
             [
              0.6666666666666666,
              "#ed7953"
             ],
             [
              0.7777777777777778,
              "#fb9f3a"
             ],
             [
              0.8888888888888888,
              "#fdca26"
             ],
             [
              1,
              "#f0f921"
             ]
            ],
            "type": "heatmapgl"
           }
          ],
          "histogram": [
           {
            "marker": {
             "colorbar": {
              "outlinewidth": 0,
              "ticks": ""
             }
            },
            "type": "histogram"
           }
          ],
          "histogram2d": [
           {
            "colorbar": {
             "outlinewidth": 0,
             "ticks": ""
            },
            "colorscale": [
             [
              0,
              "#0d0887"
             ],
             [
              0.1111111111111111,
              "#46039f"
             ],
             [
              0.2222222222222222,
              "#7201a8"
             ],
             [
              0.3333333333333333,
              "#9c179e"
             ],
             [
              0.4444444444444444,
              "#bd3786"
             ],
             [
              0.5555555555555556,
              "#d8576b"
             ],
             [
              0.6666666666666666,
              "#ed7953"
             ],
             [
              0.7777777777777778,
              "#fb9f3a"
             ],
             [
              0.8888888888888888,
              "#fdca26"
             ],
             [
              1,
              "#f0f921"
             ]
            ],
            "type": "histogram2d"
           }
          ],
          "histogram2dcontour": [
           {
            "colorbar": {
             "outlinewidth": 0,
             "ticks": ""
            },
            "colorscale": [
             [
              0,
              "#0d0887"
             ],
             [
              0.1111111111111111,
              "#46039f"
             ],
             [
              0.2222222222222222,
              "#7201a8"
             ],
             [
              0.3333333333333333,
              "#9c179e"
             ],
             [
              0.4444444444444444,
              "#bd3786"
             ],
             [
              0.5555555555555556,
              "#d8576b"
             ],
             [
              0.6666666666666666,
              "#ed7953"
             ],
             [
              0.7777777777777778,
              "#fb9f3a"
             ],
             [
              0.8888888888888888,
              "#fdca26"
             ],
             [
              1,
              "#f0f921"
             ]
            ],
            "type": "histogram2dcontour"
           }
          ],
          "mesh3d": [
           {
            "colorbar": {
             "outlinewidth": 0,
             "ticks": ""
            },
            "type": "mesh3d"
           }
          ],
          "parcoords": [
           {
            "line": {
             "colorbar": {
              "outlinewidth": 0,
              "ticks": ""
             }
            },
            "type": "parcoords"
           }
          ],
          "pie": [
           {
            "automargin": true,
            "type": "pie"
           }
          ],
          "scatter": [
           {
            "marker": {
             "colorbar": {
              "outlinewidth": 0,
              "ticks": ""
             }
            },
            "type": "scatter"
           }
          ],
          "scatter3d": [
           {
            "line": {
             "colorbar": {
              "outlinewidth": 0,
              "ticks": ""
             }
            },
            "marker": {
             "colorbar": {
              "outlinewidth": 0,
              "ticks": ""
             }
            },
            "type": "scatter3d"
           }
          ],
          "scattercarpet": [
           {
            "marker": {
             "colorbar": {
              "outlinewidth": 0,
              "ticks": ""
             }
            },
            "type": "scattercarpet"
           }
          ],
          "scattergeo": [
           {
            "marker": {
             "colorbar": {
              "outlinewidth": 0,
              "ticks": ""
             }
            },
            "type": "scattergeo"
           }
          ],
          "scattergl": [
           {
            "marker": {
             "colorbar": {
              "outlinewidth": 0,
              "ticks": ""
             }
            },
            "type": "scattergl"
           }
          ],
          "scattermapbox": [
           {
            "marker": {
             "colorbar": {
              "outlinewidth": 0,
              "ticks": ""
             }
            },
            "type": "scattermapbox"
           }
          ],
          "scatterpolar": [
           {
            "marker": {
             "colorbar": {
              "outlinewidth": 0,
              "ticks": ""
             }
            },
            "type": "scatterpolar"
           }
          ],
          "scatterpolargl": [
           {
            "marker": {
             "colorbar": {
              "outlinewidth": 0,
              "ticks": ""
             }
            },
            "type": "scatterpolargl"
           }
          ],
          "scatterternary": [
           {
            "marker": {
             "colorbar": {
              "outlinewidth": 0,
              "ticks": ""
             }
            },
            "type": "scatterternary"
           }
          ],
          "surface": [
           {
            "colorbar": {
             "outlinewidth": 0,
             "ticks": ""
            },
            "colorscale": [
             [
              0,
              "#0d0887"
             ],
             [
              0.1111111111111111,
              "#46039f"
             ],
             [
              0.2222222222222222,
              "#7201a8"
             ],
             [
              0.3333333333333333,
              "#9c179e"
             ],
             [
              0.4444444444444444,
              "#bd3786"
             ],
             [
              0.5555555555555556,
              "#d8576b"
             ],
             [
              0.6666666666666666,
              "#ed7953"
             ],
             [
              0.7777777777777778,
              "#fb9f3a"
             ],
             [
              0.8888888888888888,
              "#fdca26"
             ],
             [
              1,
              "#f0f921"
             ]
            ],
            "type": "surface"
           }
          ],
          "table": [
           {
            "cells": {
             "fill": {
              "color": "#EBF0F8"
             },
             "line": {
              "color": "white"
             }
            },
            "header": {
             "fill": {
              "color": "#C8D4E3"
             },
             "line": {
              "color": "white"
             }
            },
            "type": "table"
           }
          ]
         },
         "layout": {
          "annotationdefaults": {
           "arrowcolor": "#2a3f5f",
           "arrowhead": 0,
           "arrowwidth": 1
          },
          "coloraxis": {
           "colorbar": {
            "outlinewidth": 0,
            "ticks": ""
           }
          },
          "colorscale": {
           "diverging": [
            [
             0,
             "#8e0152"
            ],
            [
             0.1,
             "#c51b7d"
            ],
            [
             0.2,
             "#de77ae"
            ],
            [
             0.3,
             "#f1b6da"
            ],
            [
             0.4,
             "#fde0ef"
            ],
            [
             0.5,
             "#f7f7f7"
            ],
            [
             0.6,
             "#e6f5d0"
            ],
            [
             0.7,
             "#b8e186"
            ],
            [
             0.8,
             "#7fbc41"
            ],
            [
             0.9,
             "#4d9221"
            ],
            [
             1,
             "#276419"
            ]
           ],
           "sequential": [
            [
             0,
             "#0d0887"
            ],
            [
             0.1111111111111111,
             "#46039f"
            ],
            [
             0.2222222222222222,
             "#7201a8"
            ],
            [
             0.3333333333333333,
             "#9c179e"
            ],
            [
             0.4444444444444444,
             "#bd3786"
            ],
            [
             0.5555555555555556,
             "#d8576b"
            ],
            [
             0.6666666666666666,
             "#ed7953"
            ],
            [
             0.7777777777777778,
             "#fb9f3a"
            ],
            [
             0.8888888888888888,
             "#fdca26"
            ],
            [
             1,
             "#f0f921"
            ]
           ],
           "sequentialminus": [
            [
             0,
             "#0d0887"
            ],
            [
             0.1111111111111111,
             "#46039f"
            ],
            [
             0.2222222222222222,
             "#7201a8"
            ],
            [
             0.3333333333333333,
             "#9c179e"
            ],
            [
             0.4444444444444444,
             "#bd3786"
            ],
            [
             0.5555555555555556,
             "#d8576b"
            ],
            [
             0.6666666666666666,
             "#ed7953"
            ],
            [
             0.7777777777777778,
             "#fb9f3a"
            ],
            [
             0.8888888888888888,
             "#fdca26"
            ],
            [
             1,
             "#f0f921"
            ]
           ]
          },
          "colorway": [
           "#636efa",
           "#EF553B",
           "#00cc96",
           "#ab63fa",
           "#FFA15A",
           "#19d3f3",
           "#FF6692",
           "#B6E880",
           "#FF97FF",
           "#FECB52"
          ],
          "font": {
           "color": "#2a3f5f"
          },
          "geo": {
           "bgcolor": "white",
           "lakecolor": "white",
           "landcolor": "#E5ECF6",
           "showlakes": true,
           "showland": true,
           "subunitcolor": "white"
          },
          "hoverlabel": {
           "align": "left"
          },
          "hovermode": "closest",
          "mapbox": {
           "style": "light"
          },
          "paper_bgcolor": "white",
          "plot_bgcolor": "#E5ECF6",
          "polar": {
           "angularaxis": {
            "gridcolor": "white",
            "linecolor": "white",
            "ticks": ""
           },
           "bgcolor": "#E5ECF6",
           "radialaxis": {
            "gridcolor": "white",
            "linecolor": "white",
            "ticks": ""
           }
          },
          "scene": {
           "xaxis": {
            "backgroundcolor": "#E5ECF6",
            "gridcolor": "white",
            "gridwidth": 2,
            "linecolor": "white",
            "showbackground": true,
            "ticks": "",
            "zerolinecolor": "white"
           },
           "yaxis": {
            "backgroundcolor": "#E5ECF6",
            "gridcolor": "white",
            "gridwidth": 2,
            "linecolor": "white",
            "showbackground": true,
            "ticks": "",
            "zerolinecolor": "white"
           },
           "zaxis": {
            "backgroundcolor": "#E5ECF6",
            "gridcolor": "white",
            "gridwidth": 2,
            "linecolor": "white",
            "showbackground": true,
            "ticks": "",
            "zerolinecolor": "white"
           }
          },
          "shapedefaults": {
           "line": {
            "color": "#2a3f5f"
           }
          },
          "ternary": {
           "aaxis": {
            "gridcolor": "white",
            "linecolor": "white",
            "ticks": ""
           },
           "baxis": {
            "gridcolor": "white",
            "linecolor": "white",
            "ticks": ""
           },
           "bgcolor": "#E5ECF6",
           "caxis": {
            "gridcolor": "white",
            "linecolor": "white",
            "ticks": ""
           }
          },
          "title": {
           "x": 0.05
          },
          "xaxis": {
           "automargin": true,
           "gridcolor": "white",
           "linecolor": "white",
           "ticks": "",
           "title": {
            "standoff": 15
           },
           "zerolinecolor": "white",
           "zerolinewidth": 2
          },
          "yaxis": {
           "automargin": true,
           "gridcolor": "white",
           "linecolor": "white",
           "ticks": "",
           "title": {
            "standoff": 15
           },
           "zerolinecolor": "white",
           "zerolinewidth": 2
          }
         }
        },
        "title": {
         "font": {
          "color": "#4D5663"
         },
         "text": "Trends in 160,000 Spotify songs over the last 100 years"
        },
        "xaxis": {
         "gridcolor": "#E1E5ED",
         "showgrid": true,
         "tickfont": {
          "color": "#4D5663"
         },
         "title": {
          "font": {
           "color": "#4D5663"
          },
          "text": "Years (1920-2020)"
         },
         "zerolinecolor": "#E1E5ED"
        },
        "yaxis": {
         "gridcolor": "#E1E5ED",
         "showgrid": true,
         "tickfont": {
          "color": "#4D5663"
         },
         "title": {
          "font": {
           "color": "#4D5663"
          },
          "text": "Features"
         },
         "zerolinecolor": "#E1E5ED"
        }
       }
      },
      "text/html": [
       "<div>\n",
       "        \n",
       "        \n",
       "            <div id=\"29affa97-a4ea-4998-82f1-d4b49ea1091e\" class=\"plotly-graph-div\" style=\"height:525px; width:100%;\"></div>\n",
       "            <script type=\"text/javascript\">\n",
       "                require([\"plotly\"], function(Plotly) {\n",
       "                    window.PLOTLYENV=window.PLOTLYENV || {};\n",
       "                    \n",
       "                if (document.getElementById(\"29affa97-a4ea-4998-82f1-d4b49ea1091e\")) {\n",
       "                    Plotly.newPlot(\n",
       "                        '29affa97-a4ea-4998-82f1-d4b49ea1091e',\n",
       "                        [{\"line\": {\"color\": \"rgba(31, 119, 180, 1.0)\", \"dash\": \"solid\", \"shape\": \"linear\", \"width\": 1.3}, \"mode\": \"lines\", \"name\": \"acousticness\", \"text\": \"\", \"type\": \"scatter\", \"x\": [1921, 1922, 1923, 1924, 1925, 1926, 1927, 1928, 1929, 1930, 1931, 1932, 1933, 1934, 1935, 1936, 1937, 1938, 1939, 1940, 1941, 1942, 1943, 1944, 1945, 1946, 1947, 1948, 1949, 1950, 1951, 1952, 1953, 1954, 1955, 1956, 1957, 1958, 1959, 1960, 1961, 1962, 1963, 1964, 1965, 1966, 1967, 1968, 1969, 1970, 1971, 1972, 1973, 1974, 1975, 1976, 1977, 1978, 1979, 1980, 1981, 1982, 1983, 1984, 1985, 1986, 1987, 1988, 1989, 1990, 1991, 1992, 1993, 1994, 1995, 1996, 1997, 1998, 1999, 2000, 2001, 2002, 2003, 2004, 2005, 2006, 2007, 2008, 2009, 2010, 2011, 2012, 2013, 2014, 2015, 2016, 2017, 2018, 2019, 2020], \"y\": [0.732, 0.674, 0.996, 0.816, 0.9690000000000001, 0.821, 0.99, 0.847, 0.586, 0.987, 0.9570000000000001, 0.987, 0.972, 0.988, 0.9079999999999999, 0.9329999999999999, 0.93, 0.763, 0.938, 0.68, 0.945, 0.6729999999999999, 0.9470000000000001, 0.9840000000000001, 0.981, 0.8290000000000001, 0.40700000000000003, 0.8640000000000001, 0.9940000000000001, 0.99, 0.907, 0.889, 0.995, 0.92, 0.963, 0.452, 0.9129999999999999, 0.41, 0.741, 0.546, 0.941, 0.57, 0.6409999999999999, 0.8370000000000001, 0.635, 0.0493, 0.182, 0.00255, 0.0339, 0.631, 0.382, 0.4320000000000001, 0.38799999999999996, 0.18100000000000002, 0.883, 0.0057399999999999994, 0.652, 0.0384, 0.0591, 0.011000000000000001, 0.127, 0.257, 0.5429999999999999, 0.0183, 0.018000000000000002, 0.0778, 0.207, 0.313, 0.212, 0.000147, 0.179, 0.161, 0.0102, 0.0154, 0.0655, 0.10099999999999999, 0.0335, 0.00125, 0.0021, 0.00958, 0.000278, 0.727, 0.0046, 0.0183, 0.284, 0.11599999999999999, 0.00564, 0.595, 0.0274, 0.185, 0.145, 0.932, 0.922, 0.588, 0.612, 0.0847, 0.0622, 0.12300000000000001, 0.10400000000000001, 0.00146]}, {\"line\": {\"color\": \"rgba(255, 127, 14, 1.0)\", \"dash\": \"solid\", \"shape\": \"linear\", \"width\": 1.3}, \"mode\": \"lines\", \"name\": \"danceability\", \"text\": \"\", \"type\": \"scatter\", \"x\": [1921, 1922, 1923, 1924, 1925, 1926, 1927, 1928, 1929, 1930, 1931, 1932, 1933, 1934, 1935, 1936, 1937, 1938, 1939, 1940, 1941, 1942, 1943, 1944, 1945, 1946, 1947, 1948, 1949, 1950, 1951, 1952, 1953, 1954, 1955, 1956, 1957, 1958, 1959, 1960, 1961, 1962, 1963, 1964, 1965, 1966, 1967, 1968, 1969, 1970, 1971, 1972, 1973, 1974, 1975, 1976, 1977, 1978, 1979, 1980, 1981, 1982, 1983, 1984, 1985, 1986, 1987, 1988, 1989, 1990, 1991, 1992, 1993, 1994, 1995, 1996, 1997, 1998, 1999, 2000, 2001, 2002, 2003, 2004, 2005, 2006, 2007, 2008, 2009, 2010, 2011, 2012, 2013, 2014, 2015, 2016, 2017, 2018, 2019, 2020], \"y\": [0.8190000000000001, 0.645, 0.614, 0.6779999999999999, 0.6779999999999999, 0.515, 0.7090000000000001, 0.626, 0.6729999999999999, 0.349, 0.45899999999999996, 0.473, 0.504, 0.612, 0.506, 0.583, 0.675, 0.7170000000000001, 0.271, 0.17, 0.794, 0.317, 0.204, 0.295, 0.495, 0.616, 0.469, 0.41600000000000004, 0.469, 0.354, 0.542, 0.354, 0.365, 0.349, 0.581, 0.585, 0.44299999999999995, 0.647, 0.534, 0.273, 0.396, 0.65, 0.48200000000000004, 0.525, 0.5720000000000001, 0.46399999999999997, 0.491, 0.43799999999999994, 0.557, 0.44299999999999995, 0.414, 0.601, 0.307, 0.596, 0.414, 0.579, 0.38799999999999996, 0.618, 0.573, 0.31, 0.5, 0.6709999999999999, 0.82, 0.508, 0.573, 0.532, 0.7090000000000001, 0.711, 0.623, 0.501, 0.6659999999999999, 0.565, 0.515, 0.307, 0.647, 0.768, 0.35600000000000004, 0.315, 0.5920000000000001, 0.556, 0.419, 0.56, 0.496, 0.894, 0.778, 0.4270000000000001, 0.617, 0.6859999999999999, 0.513, 0.6729999999999999, 0.733, 0.612, 0.42200000000000004, 0.418, 0.68, 0.841, 0.7759999999999999, 0.784, 0.8959999999999999, 0.514]}, {\"line\": {\"color\": \"rgba(44, 160, 44, 1.0)\", \"dash\": \"solid\", \"shape\": \"linear\", \"width\": 1.3}, \"mode\": \"lines\", \"name\": \"energy\", \"text\": \"\", \"type\": \"scatter\", \"x\": [1921, 1922, 1923, 1924, 1925, 1926, 1927, 1928, 1929, 1930, 1931, 1932, 1933, 1934, 1935, 1936, 1937, 1938, 1939, 1940, 1941, 1942, 1943, 1944, 1945, 1946, 1947, 1948, 1949, 1950, 1951, 1952, 1953, 1954, 1955, 1956, 1957, 1958, 1959, 1960, 1961, 1962, 1963, 1964, 1965, 1966, 1967, 1968, 1969, 1970, 1971, 1972, 1973, 1974, 1975, 1976, 1977, 1978, 1979, 1980, 1981, 1982, 1983, 1984, 1985, 1986, 1987, 1988, 1989, 1990, 1991, 1992, 1993, 1994, 1995, 1996, 1997, 1998, 1999, 2000, 2001, 2002, 2003, 2004, 2005, 2006, 2007, 2008, 2009, 2010, 2011, 2012, 2013, 2014, 2015, 2016, 2017, 2018, 2019, 2020], \"y\": [0.341, 0.445, 0.0423, 0.395, 0.175, 0.222, 0.20800000000000002, 0.7440000000000001, 0.377, 0.326, 0.867, 0.154, 0.0644, 0.3720000000000001, 0.18, 0.235, 0.311, 0.37, 0.21899999999999997, 0.43, 0.174, 0.158, 0.151, 0.0826, 0.0209, 0.67, 0.23600000000000002, 0.341, 0.0128, 0.0851, 0.32, 0.24100000000000002, 0.01, 0.182, 0.0543, 0.247, 0.10400000000000001, 0.5820000000000001, 0.8029999999999999, 0.34700000000000003, 0.293, 0.306, 0.8490000000000001, 0.21600000000000005, 0.418, 0.795, 0.583, 0.805, 0.54, 0.40299999999999997, 0.428, 0.532, 0.433, 0.605, 0.161, 0.508, 0.33799999999999997, 0.748, 0.9129999999999999, 0.7, 0.748, 0.373, 0.452, 0.8340000000000001, 0.902, 0.887, 0.8240000000000001, 0.292, 0.449, 0.889, 0.855, 0.564, 0.43, 0.635, 0.514, 0.8640000000000001, 0.917, 0.715, 0.767, 0.8640000000000001, 0.934, 0.442, 0.863, 0.7909999999999999, 0.8240000000000001, 0.9, 0.7170000000000001, 0.457, 0.6609999999999999, 0.8859999999999999, 0.71, 0.28, 0.264, 0.42, 0.7290000000000001, 0.728, 0.78, 0.43, 0.586, 0.73]}, {\"line\": {\"color\": \"rgba(214, 39, 40, 1.0)\", \"dash\": \"solid\", \"shape\": \"linear\", \"width\": 1.3}, \"mode\": \"lines\", \"name\": \"explicit\", \"text\": \"\", \"type\": \"scatter\", \"x\": [1921, 1922, 1923, 1924, 1925, 1926, 1927, 1928, 1929, 1930, 1931, 1932, 1933, 1934, 1935, 1936, 1937, 1938, 1939, 1940, 1941, 1942, 1943, 1944, 1945, 1946, 1947, 1948, 1949, 1950, 1951, 1952, 1953, 1954, 1955, 1956, 1957, 1958, 1959, 1960, 1961, 1962, 1963, 1964, 1965, 1966, 1967, 1968, 1969, 1970, 1971, 1972, 1973, 1974, 1975, 1976, 1977, 1978, 1979, 1980, 1981, 1982, 1983, 1984, 1985, 1986, 1987, 1988, 1989, 1990, 1991, 1992, 1993, 1994, 1995, 1996, 1997, 1998, 1999, 2000, 2001, 2002, 2003, 2004, 2005, 2006, 2007, 2008, 2009, 2010, 2011, 2012, 2013, 2014, 2015, 2016, 2017, 2018, 2019, 2020], \"y\": [0, 0, 0, 0, 0, 0, 0, 0, 0, 0, 0, 0, 0, 0, 0, 0, 0, 0, 0, 0, 0, 0, 0, 0, 0, 0, 0, 0, 0, 0, 0, 0, 0, 0, 0, 0, 0, 0, 0, 0, 0, 0, 0, 0, 0, 0, 0, 0, 0, 0, 0, 0, 0, 0, 0, 0, 0, 0, 0, 0, 0, 0, 0, 0, 0, 0, 0, 0, 0, 0, 0, 0, 1, 0, 0, 0, 0, 0, 0, 0, 0, 0, 0, 0, 0, 0, 1, 0, 0, 0, 0, 0, 0, 0, 1, 1, 0, 0, 1, 0]}, {\"line\": {\"color\": \"rgba(148, 103, 189, 1.0)\", \"dash\": \"solid\", \"shape\": \"linear\", \"width\": 1.3}, \"mode\": \"lines\", \"name\": \"instrumentalness\", \"text\": \"\", \"type\": \"scatter\", \"x\": [1921, 1922, 1923, 1924, 1925, 1926, 1927, 1928, 1929, 1930, 1931, 1932, 1933, 1934, 1935, 1936, 1937, 1938, 1939, 1940, 1941, 1942, 1943, 1944, 1945, 1946, 1947, 1948, 1949, 1950, 1951, 1952, 1953, 1954, 1955, 1956, 1957, 1958, 1959, 1960, 1961, 1962, 1963, 1964, 1965, 1966, 1967, 1968, 1969, 1970, 1971, 1972, 1973, 1974, 1975, 1976, 1977, 1978, 1979, 1980, 1981, 1982, 1983, 1984, 1985, 1986, 1987, 1988, 1989, 1990, 1991, 1992, 1993, 1994, 1995, 1996, 1997, 1998, 1999, 2000, 2001, 2002, 2003, 2004, 2005, 2006, 2007, 2008, 2009, 2010, 2011, 2012, 2013, 2014, 2015, 2016, 2017, 2018, 2019, 2020], \"y\": [0.0, 0.7440000000000001, 0.00293, 0.24, 0.00105, 0.00193, 0.7959999999999999, 0.892, 0.0, 0.8859999999999999, 0.941, 3.04e-06, 4.36e-06, 3.64e-05, 2.35e-06, 3.28e-05, 0.000261, 0.0, 0.00086, 0.8540000000000001, 0.00725, 0.353, 9.15e-06, 0.00035800000000000003, 1.13e-06, 0.85, 0.0434, 0.0, 0.937, 4.49e-06, 0.649, 0.00027400000000000005, 0.924, 0.0152, 0.00027400000000000005, 8.85e-06, 0.0, 1.93e-06, 6.07e-05, 0.0137, 0.000196, 7.07e-06, 7.74e-06, 0.0, 0.0, 0.00244, 0.0, 5.6899999999999994e-05, 0.00248, 0.0, 0.00024300000000000002, 6.25e-06, 9.08e-05, 0.000331, 0.000223, 0.0004940000000000001, 3.72e-06, 4.1e-06, 0.00173, 0.00965, 0.0, 7.950000000000001e-05, 0.00294, 0.0, 0.00125, 0.00021400000000000002, 0.000307, 0.0, 0.0, 0.0114, 1.2e-06, 0.0, 0.00014099999999999998, 0.00483, 0.0, 0.0, 0.0, 7.97e-06, 0.00165, 0.0, 0.0015, 1.7100000000000002e-05, 0.0, 0.0, 0.0, 1.75e-05, 0.0, 0.0, 0.0, 0.0, 0.115, 0.0, 0.0, 6.39e-05, 0.0, 0.0, 0.0, 0.0, 0.0, 9.54e-05]}, {\"line\": {\"color\": \"rgba(140, 86, 75, 1.0)\", \"dash\": \"solid\", \"shape\": \"linear\", \"width\": 1.3}, \"mode\": \"lines\", \"name\": \"speechiness\", \"text\": \"\", \"type\": \"scatter\", \"x\": [1921, 1922, 1923, 1924, 1925, 1926, 1927, 1928, 1929, 1930, 1931, 1932, 1933, 1934, 1935, 1936, 1937, 1938, 1939, 1940, 1941, 1942, 1943, 1944, 1945, 1946, 1947, 1948, 1949, 1950, 1951, 1952, 1953, 1954, 1955, 1956, 1957, 1958, 1959, 1960, 1961, 1962, 1963, 1964, 1965, 1966, 1967, 1968, 1969, 1970, 1971, 1972, 1973, 1974, 1975, 1976, 1977, 1978, 1979, 1980, 1981, 1982, 1983, 1984, 1985, 1986, 1987, 1988, 1989, 1990, 1991, 1992, 1993, 1994, 1995, 1996, 1997, 1998, 1999, 2000, 2001, 2002, 2003, 2004, 2005, 2006, 2007, 2008, 2009, 2010, 2011, 2012, 2013, 2014, 2015, 2016, 2017, 2018, 2019, 2020], \"y\": [0.415, 0.451, 0.0535, 0.133, 0.0301, 0.0575, 0.0828, 0.0662, 0.0697, 0.0551, 0.0475, 0.11900000000000001, 0.0408, 0.138, 0.0443, 0.0431, 0.0525, 0.0365, 0.031, 0.0357, 0.0388, 0.0381, 0.0418, 0.0367, 0.0348, 0.244, 0.0364, 0.0391, 0.11900000000000001, 0.0345, 0.0387, 0.0334, 0.0519, 0.031, 0.0466, 0.04, 0.10099999999999999, 0.0755, 0.0743, 0.0292, 0.0275, 0.0393, 0.0452, 0.0301, 0.0349, 0.0926, 0.0376, 0.0624, 0.0347, 0.0322, 0.0278, 0.0286, 0.028999999999999998, 0.0255, 0.0318, 0.027000000000000003, 0.0328, 0.358, 0.132, 0.047, 0.0363, 0.0323, 0.0348, 0.0386, 0.054000000000000006, 0.0335, 0.0453, 0.037000000000000005, 0.0253, 0.0364, 0.0295, 0.0292, 0.0369, 0.0339, 0.0593, 0.0324, 0.0479, 0.0362, 0.027000000000000003, 0.0584, 0.12, 0.0243, 0.0381, 0.11199999999999999, 0.0712, 0.0499, 0.153, 0.0468, 0.0439, 0.0431, 0.0292, 0.0434, 0.0322, 0.0414, 0.0475, 0.0484, 0.128, 0.0364, 0.0559, 0.0598]}, {\"line\": {\"color\": \"rgba(227, 119, 194, 1.0)\", \"dash\": \"solid\", \"shape\": \"linear\", \"width\": 1.3}, \"mode\": \"lines\", \"name\": \"valence\", \"text\": \"\", \"type\": \"scatter\", \"x\": [1921, 1922, 1923, 1924, 1925, 1926, 1927, 1928, 1929, 1930, 1931, 1932, 1933, 1934, 1935, 1936, 1937, 1938, 1939, 1940, 1941, 1942, 1943, 1944, 1945, 1946, 1947, 1948, 1949, 1950, 1951, 1952, 1953, 1954, 1955, 1956, 1957, 1958, 1959, 1960, 1961, 1962, 1963, 1964, 1965, 1966, 1967, 1968, 1969, 1970, 1971, 1972, 1973, 1974, 1975, 1976, 1977, 1978, 1979, 1980, 1981, 1982, 1983, 1984, 1985, 1986, 1987, 1988, 1989, 1990, 1991, 1992, 1993, 1994, 1995, 1996, 1997, 1998, 1999, 2000, 2001, 2002, 2003, 2004, 2005, 2006, 2007, 2008, 2009, 2010, 2011, 2012, 2013, 2014, 2015, 2016, 2017, 2018, 2019, 2020], \"y\": [0.963, 0.127, 0.21100000000000002, 0.8320000000000001, 0.58, 0.35, 0.8190000000000001, 0.259, 0.713, 0.168, 0.292, 0.322, 0.40299999999999997, 0.895, 0.665, 0.855, 0.638, 0.8809999999999999, 0.375, 0.171, 0.6559999999999999, 0.247, 0.134, 0.16899999999999998, 0.145, 0.552, 0.415, 0.7759999999999999, 0.354, 0.19699999999999998, 0.20600000000000002, 0.408, 0.0364, 0.17800000000000002, 0.175, 0.591, 0.39399999999999996, 0.915, 0.9690000000000001, 0.32799999999999996, 0.34299999999999997, 0.605, 0.937, 0.32799999999999996, 0.6940000000000001, 0.612, 0.907, 0.564, 0.39399999999999996, 0.41, 0.282, 0.341, 0.22399999999999998, 0.8859999999999999, 0.423, 0.609, 0.47700000000000004, 0.6629999999999999, 0.42200000000000004, 0.763, 0.514, 0.732, 0.74, 0.774, 0.8759999999999999, 0.795, 0.867, 0.19399999999999998, 0.5720000000000001, 0.257, 0.8029999999999999, 0.45399999999999996, 0.10400000000000001, 0.304, 0.387, 0.8909999999999999, 0.518, 0.4970000000000001, 0.32799999999999996, 0.4, 0.28600000000000003, 0.212, 0.243, 0.583, 0.7559999999999999, 0.599, 0.49, 0.718, 0.461, 0.795, 0.965, 0.387, 0.331, 0.184, 0.446, 0.43, 0.6659999999999999, 0.23600000000000002, 0.642, 0.33399999999999996]}],\n",
       "                        {\"legend\": {\"bgcolor\": \"#FFFFFF\", \"font\": {\"color\": \"#4D5663\"}}, \"paper_bgcolor\": \"#FFFFFF\", \"plot_bgcolor\": \"#FFFFFF\", \"template\": {\"data\": {\"bar\": [{\"error_x\": {\"color\": \"#2a3f5f\"}, \"error_y\": {\"color\": \"#2a3f5f\"}, \"marker\": {\"line\": {\"color\": \"#E5ECF6\", \"width\": 0.5}}, \"type\": \"bar\"}], \"barpolar\": [{\"marker\": {\"line\": {\"color\": \"#E5ECF6\", \"width\": 0.5}}, \"type\": \"barpolar\"}], \"carpet\": [{\"aaxis\": {\"endlinecolor\": \"#2a3f5f\", \"gridcolor\": \"white\", \"linecolor\": \"white\", \"minorgridcolor\": \"white\", \"startlinecolor\": \"#2a3f5f\"}, \"baxis\": {\"endlinecolor\": \"#2a3f5f\", \"gridcolor\": \"white\", \"linecolor\": \"white\", \"minorgridcolor\": \"white\", \"startlinecolor\": \"#2a3f5f\"}, \"type\": \"carpet\"}], \"choropleth\": [{\"colorbar\": {\"outlinewidth\": 0, \"ticks\": \"\"}, \"type\": \"choropleth\"}], \"contour\": [{\"colorbar\": {\"outlinewidth\": 0, \"ticks\": \"\"}, \"colorscale\": [[0.0, \"#0d0887\"], [0.1111111111111111, \"#46039f\"], [0.2222222222222222, \"#7201a8\"], [0.3333333333333333, \"#9c179e\"], [0.4444444444444444, \"#bd3786\"], [0.5555555555555556, \"#d8576b\"], [0.6666666666666666, \"#ed7953\"], [0.7777777777777778, \"#fb9f3a\"], [0.8888888888888888, \"#fdca26\"], [1.0, \"#f0f921\"]], \"type\": \"contour\"}], \"contourcarpet\": [{\"colorbar\": {\"outlinewidth\": 0, \"ticks\": \"\"}, \"type\": \"contourcarpet\"}], \"heatmap\": [{\"colorbar\": {\"outlinewidth\": 0, \"ticks\": \"\"}, \"colorscale\": [[0.0, \"#0d0887\"], [0.1111111111111111, \"#46039f\"], [0.2222222222222222, \"#7201a8\"], [0.3333333333333333, \"#9c179e\"], [0.4444444444444444, \"#bd3786\"], [0.5555555555555556, \"#d8576b\"], [0.6666666666666666, \"#ed7953\"], [0.7777777777777778, \"#fb9f3a\"], [0.8888888888888888, \"#fdca26\"], [1.0, \"#f0f921\"]], \"type\": \"heatmap\"}], \"heatmapgl\": [{\"colorbar\": {\"outlinewidth\": 0, \"ticks\": \"\"}, \"colorscale\": [[0.0, \"#0d0887\"], [0.1111111111111111, \"#46039f\"], [0.2222222222222222, \"#7201a8\"], [0.3333333333333333, \"#9c179e\"], [0.4444444444444444, \"#bd3786\"], [0.5555555555555556, \"#d8576b\"], [0.6666666666666666, \"#ed7953\"], [0.7777777777777778, \"#fb9f3a\"], [0.8888888888888888, \"#fdca26\"], [1.0, \"#f0f921\"]], \"type\": \"heatmapgl\"}], \"histogram\": [{\"marker\": {\"colorbar\": {\"outlinewidth\": 0, \"ticks\": \"\"}}, \"type\": \"histogram\"}], \"histogram2d\": [{\"colorbar\": {\"outlinewidth\": 0, \"ticks\": \"\"}, \"colorscale\": [[0.0, \"#0d0887\"], [0.1111111111111111, \"#46039f\"], [0.2222222222222222, \"#7201a8\"], [0.3333333333333333, \"#9c179e\"], [0.4444444444444444, \"#bd3786\"], [0.5555555555555556, \"#d8576b\"], [0.6666666666666666, \"#ed7953\"], [0.7777777777777778, \"#fb9f3a\"], [0.8888888888888888, \"#fdca26\"], [1.0, \"#f0f921\"]], \"type\": \"histogram2d\"}], \"histogram2dcontour\": [{\"colorbar\": {\"outlinewidth\": 0, \"ticks\": \"\"}, \"colorscale\": [[0.0, \"#0d0887\"], [0.1111111111111111, \"#46039f\"], [0.2222222222222222, \"#7201a8\"], [0.3333333333333333, \"#9c179e\"], [0.4444444444444444, \"#bd3786\"], [0.5555555555555556, \"#d8576b\"], [0.6666666666666666, \"#ed7953\"], [0.7777777777777778, \"#fb9f3a\"], [0.8888888888888888, \"#fdca26\"], [1.0, \"#f0f921\"]], \"type\": \"histogram2dcontour\"}], \"mesh3d\": [{\"colorbar\": {\"outlinewidth\": 0, \"ticks\": \"\"}, \"type\": \"mesh3d\"}], \"parcoords\": [{\"line\": {\"colorbar\": {\"outlinewidth\": 0, \"ticks\": \"\"}}, \"type\": \"parcoords\"}], \"pie\": [{\"automargin\": true, \"type\": \"pie\"}], \"scatter\": [{\"marker\": {\"colorbar\": {\"outlinewidth\": 0, \"ticks\": \"\"}}, \"type\": \"scatter\"}], \"scatter3d\": [{\"line\": {\"colorbar\": {\"outlinewidth\": 0, \"ticks\": \"\"}}, \"marker\": {\"colorbar\": {\"outlinewidth\": 0, \"ticks\": \"\"}}, \"type\": \"scatter3d\"}], \"scattercarpet\": [{\"marker\": {\"colorbar\": {\"outlinewidth\": 0, \"ticks\": \"\"}}, \"type\": \"scattercarpet\"}], \"scattergeo\": [{\"marker\": {\"colorbar\": {\"outlinewidth\": 0, \"ticks\": \"\"}}, \"type\": \"scattergeo\"}], \"scattergl\": [{\"marker\": {\"colorbar\": {\"outlinewidth\": 0, \"ticks\": \"\"}}, \"type\": \"scattergl\"}], \"scattermapbox\": [{\"marker\": {\"colorbar\": {\"outlinewidth\": 0, \"ticks\": \"\"}}, \"type\": \"scattermapbox\"}], \"scatterpolar\": [{\"marker\": {\"colorbar\": {\"outlinewidth\": 0, \"ticks\": \"\"}}, \"type\": \"scatterpolar\"}], \"scatterpolargl\": [{\"marker\": {\"colorbar\": {\"outlinewidth\": 0, \"ticks\": \"\"}}, \"type\": \"scatterpolargl\"}], \"scatterternary\": [{\"marker\": {\"colorbar\": {\"outlinewidth\": 0, \"ticks\": \"\"}}, \"type\": \"scatterternary\"}], \"surface\": [{\"colorbar\": {\"outlinewidth\": 0, \"ticks\": \"\"}, \"colorscale\": [[0.0, \"#0d0887\"], [0.1111111111111111, \"#46039f\"], [0.2222222222222222, \"#7201a8\"], [0.3333333333333333, \"#9c179e\"], [0.4444444444444444, \"#bd3786\"], [0.5555555555555556, \"#d8576b\"], [0.6666666666666666, \"#ed7953\"], [0.7777777777777778, \"#fb9f3a\"], [0.8888888888888888, \"#fdca26\"], [1.0, \"#f0f921\"]], \"type\": \"surface\"}], \"table\": [{\"cells\": {\"fill\": {\"color\": \"#EBF0F8\"}, \"line\": {\"color\": \"white\"}}, \"header\": {\"fill\": {\"color\": \"#C8D4E3\"}, \"line\": {\"color\": \"white\"}}, \"type\": \"table\"}]}, \"layout\": {\"annotationdefaults\": {\"arrowcolor\": \"#2a3f5f\", \"arrowhead\": 0, \"arrowwidth\": 1}, \"coloraxis\": {\"colorbar\": {\"outlinewidth\": 0, \"ticks\": \"\"}}, \"colorscale\": {\"diverging\": [[0, \"#8e0152\"], [0.1, \"#c51b7d\"], [0.2, \"#de77ae\"], [0.3, \"#f1b6da\"], [0.4, \"#fde0ef\"], [0.5, \"#f7f7f7\"], [0.6, \"#e6f5d0\"], [0.7, \"#b8e186\"], [0.8, \"#7fbc41\"], [0.9, \"#4d9221\"], [1, \"#276419\"]], \"sequential\": [[0.0, \"#0d0887\"], [0.1111111111111111, \"#46039f\"], [0.2222222222222222, \"#7201a8\"], [0.3333333333333333, \"#9c179e\"], [0.4444444444444444, \"#bd3786\"], [0.5555555555555556, \"#d8576b\"], [0.6666666666666666, \"#ed7953\"], [0.7777777777777778, \"#fb9f3a\"], [0.8888888888888888, \"#fdca26\"], [1.0, \"#f0f921\"]], \"sequentialminus\": [[0.0, \"#0d0887\"], [0.1111111111111111, \"#46039f\"], [0.2222222222222222, \"#7201a8\"], [0.3333333333333333, \"#9c179e\"], [0.4444444444444444, \"#bd3786\"], [0.5555555555555556, \"#d8576b\"], [0.6666666666666666, \"#ed7953\"], [0.7777777777777778, \"#fb9f3a\"], [0.8888888888888888, \"#fdca26\"], [1.0, \"#f0f921\"]]}, \"colorway\": [\"#636efa\", \"#EF553B\", \"#00cc96\", \"#ab63fa\", \"#FFA15A\", \"#19d3f3\", \"#FF6692\", \"#B6E880\", \"#FF97FF\", \"#FECB52\"], \"font\": {\"color\": \"#2a3f5f\"}, \"geo\": {\"bgcolor\": \"white\", \"lakecolor\": \"white\", \"landcolor\": \"#E5ECF6\", \"showlakes\": true, \"showland\": true, \"subunitcolor\": \"white\"}, \"hoverlabel\": {\"align\": \"left\"}, \"hovermode\": \"closest\", \"mapbox\": {\"style\": \"light\"}, \"paper_bgcolor\": \"white\", \"plot_bgcolor\": \"#E5ECF6\", \"polar\": {\"angularaxis\": {\"gridcolor\": \"white\", \"linecolor\": \"white\", \"ticks\": \"\"}, \"bgcolor\": \"#E5ECF6\", \"radialaxis\": {\"gridcolor\": \"white\", \"linecolor\": \"white\", \"ticks\": \"\"}}, \"scene\": {\"xaxis\": {\"backgroundcolor\": \"#E5ECF6\", \"gridcolor\": \"white\", \"gridwidth\": 2, \"linecolor\": \"white\", \"showbackground\": true, \"ticks\": \"\", \"zerolinecolor\": \"white\"}, \"yaxis\": {\"backgroundcolor\": \"#E5ECF6\", \"gridcolor\": \"white\", \"gridwidth\": 2, \"linecolor\": \"white\", \"showbackground\": true, \"ticks\": \"\", \"zerolinecolor\": \"white\"}, \"zaxis\": {\"backgroundcolor\": \"#E5ECF6\", \"gridcolor\": \"white\", \"gridwidth\": 2, \"linecolor\": \"white\", \"showbackground\": true, \"ticks\": \"\", \"zerolinecolor\": \"white\"}}, \"shapedefaults\": {\"line\": {\"color\": \"#2a3f5f\"}}, \"ternary\": {\"aaxis\": {\"gridcolor\": \"white\", \"linecolor\": \"white\", \"ticks\": \"\"}, \"baxis\": {\"gridcolor\": \"white\", \"linecolor\": \"white\", \"ticks\": \"\"}, \"bgcolor\": \"#E5ECF6\", \"caxis\": {\"gridcolor\": \"white\", \"linecolor\": \"white\", \"ticks\": \"\"}}, \"title\": {\"x\": 0.05}, \"xaxis\": {\"automargin\": true, \"gridcolor\": \"white\", \"linecolor\": \"white\", \"ticks\": \"\", \"title\": {\"standoff\": 15}, \"zerolinecolor\": \"white\", \"zerolinewidth\": 2}, \"yaxis\": {\"automargin\": true, \"gridcolor\": \"white\", \"linecolor\": \"white\", \"ticks\": \"\", \"title\": {\"standoff\": 15}, \"zerolinecolor\": \"white\", \"zerolinewidth\": 2}}}, \"title\": {\"font\": {\"color\": \"#4D5663\"}, \"text\": \"Trends in 160,000 Spotify songs over the last 100 years\"}, \"xaxis\": {\"gridcolor\": \"#E1E5ED\", \"showgrid\": true, \"tickfont\": {\"color\": \"#4D5663\"}, \"title\": {\"font\": {\"color\": \"#4D5663\"}, \"text\": \"Years (1920-2020)\"}, \"zerolinecolor\": \"#E1E5ED\"}, \"yaxis\": {\"gridcolor\": \"#E1E5ED\", \"showgrid\": true, \"tickfont\": {\"color\": \"#4D5663\"}, \"title\": {\"font\": {\"color\": \"#4D5663\"}, \"text\": \"Features\"}, \"zerolinecolor\": \"#E1E5ED\"}},\n",
       "                        {\"responsive\": true}\n",
       "                    ).then(function(){\n",
       "                            \n",
       "var gd = document.getElementById('29affa97-a4ea-4998-82f1-d4b49ea1091e');\n",
       "var x = new MutationObserver(function (mutations, observer) {{\n",
       "        var display = window.getComputedStyle(gd).display;\n",
       "        if (!display || display === 'none') {{\n",
       "            console.log([gd, 'removed!']);\n",
       "            Plotly.purge(gd);\n",
       "            observer.disconnect();\n",
       "        }}\n",
       "}});\n",
       "\n",
       "// Listen for the removal of the full notebook cells\n",
       "var notebookContainer = gd.closest('#notebook-container');\n",
       "if (notebookContainer) {{\n",
       "    x.observe(notebookContainer, {childList: true});\n",
       "}}\n",
       "\n",
       "// Listen for the clearing of the current output cell\n",
       "var outputEl = gd.closest('.output');\n",
       "if (outputEl) {{\n",
       "    x.observe(outputEl, {childList: true});\n",
       "}}\n",
       "\n",
       "                        })\n",
       "                };\n",
       "                });\n",
       "            </script>\n",
       "        </div>"
      ]
     },
     "metadata": {},
     "output_type": "display_data"
    }
   ],
   "source": [
    "trend.iplot(kind=\"scatter\",\n",
    "            title=\"Trends in 160,000 Spotify songs over the last 100 years\", \n",
    "            xTitle=\"Years (1920-2020)\", \n",
    "            yTitle=\"Features\", \n",
    "            theme=\"white\", \n",
    "            colorscale=\"plotly\", \n",
    "            mode=\"lines\")"
   ]
  },
  {
   "cell_type": "code",
   "execution_count": 28,
   "metadata": {},
   "outputs": [
    {
     "data": {
      "application/vnd.plotly.v1+json": {
       "config": {
        "linkText": " ",
        "plotlyServerURL": "https://plot.ly",
        "showLink": false
       },
       "data": [
        {
         "line": {
          "color": "rgba(31, 119, 180, 1.0)",
          "dash": "solid",
          "shape": "linear",
          "width": 1.3
         },
         "mode": "lines",
         "name": "acousticness",
         "text": "",
         "type": "scatter",
         "x": [
          1921,
          1922,
          1923,
          1924,
          1925,
          1926,
          1927,
          1928,
          1929,
          1930,
          1931,
          1932,
          1933,
          1934,
          1935,
          1936,
          1937,
          1938,
          1939,
          1940,
          1941,
          1942,
          1943,
          1944,
          1945,
          1946,
          1947,
          1948,
          1949,
          1950,
          1951,
          1952,
          1953,
          1954,
          1955,
          1956,
          1957,
          1958,
          1959,
          1960,
          1961,
          1962,
          1963,
          1964,
          1965,
          1966,
          1967,
          1968,
          1969,
          1970,
          1971,
          1972,
          1973,
          1974,
          1975,
          1976,
          1977,
          1978,
          1979,
          1980,
          1981,
          1982,
          1983,
          1984,
          1985,
          1986,
          1987,
          1988,
          1989,
          1990,
          1991,
          1992,
          1993,
          1994,
          1995,
          1996,
          1997,
          1998,
          1999,
          2000,
          2001,
          2002,
          2003,
          2004,
          2005,
          2006,
          2007,
          2008,
          2009,
          2010,
          2011,
          2012,
          2013,
          2014,
          2015,
          2016,
          2017,
          2018,
          2019,
          2020
         ],
         "xaxis": "x",
         "y": [
          0.732,
          0.674,
          0.996,
          0.816,
          0.9690000000000001,
          0.821,
          0.99,
          0.847,
          0.586,
          0.987,
          0.9570000000000001,
          0.987,
          0.972,
          0.988,
          0.9079999999999999,
          0.9329999999999999,
          0.93,
          0.763,
          0.938,
          0.68,
          0.945,
          0.6729999999999999,
          0.9470000000000001,
          0.9840000000000001,
          0.981,
          0.8290000000000001,
          0.40700000000000003,
          0.8640000000000001,
          0.9940000000000001,
          0.99,
          0.907,
          0.889,
          0.995,
          0.92,
          0.963,
          0.452,
          0.9129999999999999,
          0.41,
          0.741,
          0.546,
          0.941,
          0.57,
          0.6409999999999999,
          0.8370000000000001,
          0.635,
          0.0493,
          0.182,
          0.00255,
          0.0339,
          0.631,
          0.382,
          0.4320000000000001,
          0.38799999999999996,
          0.18100000000000002,
          0.883,
          0.0057399999999999994,
          0.652,
          0.0384,
          0.0591,
          0.011000000000000001,
          0.127,
          0.257,
          0.5429999999999999,
          0.0183,
          0.018000000000000002,
          0.0778,
          0.207,
          0.313,
          0.212,
          0.000147,
          0.179,
          0.161,
          0.0102,
          0.0154,
          0.0655,
          0.10099999999999999,
          0.0335,
          0.00125,
          0.0021,
          0.00958,
          0.000278,
          0.727,
          0.0046,
          0.0183,
          0.284,
          0.11599999999999999,
          0.00564,
          0.595,
          0.0274,
          0.185,
          0.145,
          0.932,
          0.922,
          0.588,
          0.612,
          0.0847,
          0.0622,
          0.12300000000000001,
          0.10400000000000001,
          0.00146
         ],
         "yaxis": "y"
        },
        {
         "line": {
          "color": "rgba(255, 127, 14, 1.0)",
          "dash": "solid",
          "shape": "linear",
          "width": 1.3
         },
         "mode": "lines",
         "name": "danceability",
         "text": "",
         "type": "scatter",
         "x": [
          1921,
          1922,
          1923,
          1924,
          1925,
          1926,
          1927,
          1928,
          1929,
          1930,
          1931,
          1932,
          1933,
          1934,
          1935,
          1936,
          1937,
          1938,
          1939,
          1940,
          1941,
          1942,
          1943,
          1944,
          1945,
          1946,
          1947,
          1948,
          1949,
          1950,
          1951,
          1952,
          1953,
          1954,
          1955,
          1956,
          1957,
          1958,
          1959,
          1960,
          1961,
          1962,
          1963,
          1964,
          1965,
          1966,
          1967,
          1968,
          1969,
          1970,
          1971,
          1972,
          1973,
          1974,
          1975,
          1976,
          1977,
          1978,
          1979,
          1980,
          1981,
          1982,
          1983,
          1984,
          1985,
          1986,
          1987,
          1988,
          1989,
          1990,
          1991,
          1992,
          1993,
          1994,
          1995,
          1996,
          1997,
          1998,
          1999,
          2000,
          2001,
          2002,
          2003,
          2004,
          2005,
          2006,
          2007,
          2008,
          2009,
          2010,
          2011,
          2012,
          2013,
          2014,
          2015,
          2016,
          2017,
          2018,
          2019,
          2020
         ],
         "xaxis": "x2",
         "y": [
          0.8190000000000001,
          0.645,
          0.614,
          0.6779999999999999,
          0.6779999999999999,
          0.515,
          0.7090000000000001,
          0.626,
          0.6729999999999999,
          0.349,
          0.45899999999999996,
          0.473,
          0.504,
          0.612,
          0.506,
          0.583,
          0.675,
          0.7170000000000001,
          0.271,
          0.17,
          0.794,
          0.317,
          0.204,
          0.295,
          0.495,
          0.616,
          0.469,
          0.41600000000000004,
          0.469,
          0.354,
          0.542,
          0.354,
          0.365,
          0.349,
          0.581,
          0.585,
          0.44299999999999995,
          0.647,
          0.534,
          0.273,
          0.396,
          0.65,
          0.48200000000000004,
          0.525,
          0.5720000000000001,
          0.46399999999999997,
          0.491,
          0.43799999999999994,
          0.557,
          0.44299999999999995,
          0.414,
          0.601,
          0.307,
          0.596,
          0.414,
          0.579,
          0.38799999999999996,
          0.618,
          0.573,
          0.31,
          0.5,
          0.6709999999999999,
          0.82,
          0.508,
          0.573,
          0.532,
          0.7090000000000001,
          0.711,
          0.623,
          0.501,
          0.6659999999999999,
          0.565,
          0.515,
          0.307,
          0.647,
          0.768,
          0.35600000000000004,
          0.315,
          0.5920000000000001,
          0.556,
          0.419,
          0.56,
          0.496,
          0.894,
          0.778,
          0.4270000000000001,
          0.617,
          0.6859999999999999,
          0.513,
          0.6729999999999999,
          0.733,
          0.612,
          0.42200000000000004,
          0.418,
          0.68,
          0.841,
          0.7759999999999999,
          0.784,
          0.8959999999999999,
          0.514
         ],
         "yaxis": "y2"
        },
        {
         "line": {
          "color": "rgba(44, 160, 44, 1.0)",
          "dash": "solid",
          "shape": "linear",
          "width": 1.3
         },
         "mode": "lines",
         "name": "energy",
         "text": "",
         "type": "scatter",
         "x": [
          1921,
          1922,
          1923,
          1924,
          1925,
          1926,
          1927,
          1928,
          1929,
          1930,
          1931,
          1932,
          1933,
          1934,
          1935,
          1936,
          1937,
          1938,
          1939,
          1940,
          1941,
          1942,
          1943,
          1944,
          1945,
          1946,
          1947,
          1948,
          1949,
          1950,
          1951,
          1952,
          1953,
          1954,
          1955,
          1956,
          1957,
          1958,
          1959,
          1960,
          1961,
          1962,
          1963,
          1964,
          1965,
          1966,
          1967,
          1968,
          1969,
          1970,
          1971,
          1972,
          1973,
          1974,
          1975,
          1976,
          1977,
          1978,
          1979,
          1980,
          1981,
          1982,
          1983,
          1984,
          1985,
          1986,
          1987,
          1988,
          1989,
          1990,
          1991,
          1992,
          1993,
          1994,
          1995,
          1996,
          1997,
          1998,
          1999,
          2000,
          2001,
          2002,
          2003,
          2004,
          2005,
          2006,
          2007,
          2008,
          2009,
          2010,
          2011,
          2012,
          2013,
          2014,
          2015,
          2016,
          2017,
          2018,
          2019,
          2020
         ],
         "xaxis": "x3",
         "y": [
          0.341,
          0.445,
          0.0423,
          0.395,
          0.175,
          0.222,
          0.20800000000000002,
          0.7440000000000001,
          0.377,
          0.326,
          0.867,
          0.154,
          0.0644,
          0.3720000000000001,
          0.18,
          0.235,
          0.311,
          0.37,
          0.21899999999999997,
          0.43,
          0.174,
          0.158,
          0.151,
          0.0826,
          0.0209,
          0.67,
          0.23600000000000002,
          0.341,
          0.0128,
          0.0851,
          0.32,
          0.24100000000000002,
          0.01,
          0.182,
          0.0543,
          0.247,
          0.10400000000000001,
          0.5820000000000001,
          0.8029999999999999,
          0.34700000000000003,
          0.293,
          0.306,
          0.8490000000000001,
          0.21600000000000005,
          0.418,
          0.795,
          0.583,
          0.805,
          0.54,
          0.40299999999999997,
          0.428,
          0.532,
          0.433,
          0.605,
          0.161,
          0.508,
          0.33799999999999997,
          0.748,
          0.9129999999999999,
          0.7,
          0.748,
          0.373,
          0.452,
          0.8340000000000001,
          0.902,
          0.887,
          0.8240000000000001,
          0.292,
          0.449,
          0.889,
          0.855,
          0.564,
          0.43,
          0.635,
          0.514,
          0.8640000000000001,
          0.917,
          0.715,
          0.767,
          0.8640000000000001,
          0.934,
          0.442,
          0.863,
          0.7909999999999999,
          0.8240000000000001,
          0.9,
          0.7170000000000001,
          0.457,
          0.6609999999999999,
          0.8859999999999999,
          0.71,
          0.28,
          0.264,
          0.42,
          0.7290000000000001,
          0.728,
          0.78,
          0.43,
          0.586,
          0.73
         ],
         "yaxis": "y3"
        },
        {
         "line": {
          "color": "rgba(214, 39, 40, 1.0)",
          "dash": "solid",
          "shape": "linear",
          "width": 1.3
         },
         "mode": "lines",
         "name": "explicit",
         "text": "",
         "type": "scatter",
         "x": [
          1921,
          1922,
          1923,
          1924,
          1925,
          1926,
          1927,
          1928,
          1929,
          1930,
          1931,
          1932,
          1933,
          1934,
          1935,
          1936,
          1937,
          1938,
          1939,
          1940,
          1941,
          1942,
          1943,
          1944,
          1945,
          1946,
          1947,
          1948,
          1949,
          1950,
          1951,
          1952,
          1953,
          1954,
          1955,
          1956,
          1957,
          1958,
          1959,
          1960,
          1961,
          1962,
          1963,
          1964,
          1965,
          1966,
          1967,
          1968,
          1969,
          1970,
          1971,
          1972,
          1973,
          1974,
          1975,
          1976,
          1977,
          1978,
          1979,
          1980,
          1981,
          1982,
          1983,
          1984,
          1985,
          1986,
          1987,
          1988,
          1989,
          1990,
          1991,
          1992,
          1993,
          1994,
          1995,
          1996,
          1997,
          1998,
          1999,
          2000,
          2001,
          2002,
          2003,
          2004,
          2005,
          2006,
          2007,
          2008,
          2009,
          2010,
          2011,
          2012,
          2013,
          2014,
          2015,
          2016,
          2017,
          2018,
          2019,
          2020
         ],
         "xaxis": "x4",
         "y": [
          0,
          0,
          0,
          0,
          0,
          0,
          0,
          0,
          0,
          0,
          0,
          0,
          0,
          0,
          0,
          0,
          0,
          0,
          0,
          0,
          0,
          0,
          0,
          0,
          0,
          0,
          0,
          0,
          0,
          0,
          0,
          0,
          0,
          0,
          0,
          0,
          0,
          0,
          0,
          0,
          0,
          0,
          0,
          0,
          0,
          0,
          0,
          0,
          0,
          0,
          0,
          0,
          0,
          0,
          0,
          0,
          0,
          0,
          0,
          0,
          0,
          0,
          0,
          0,
          0,
          0,
          0,
          0,
          0,
          0,
          0,
          0,
          1,
          0,
          0,
          0,
          0,
          0,
          0,
          0,
          0,
          0,
          0,
          0,
          0,
          0,
          1,
          0,
          0,
          0,
          0,
          0,
          0,
          0,
          1,
          1,
          0,
          0,
          1,
          0
         ],
         "yaxis": "y4"
        },
        {
         "line": {
          "color": "rgba(148, 103, 189, 1.0)",
          "dash": "solid",
          "shape": "linear",
          "width": 1.3
         },
         "mode": "lines",
         "name": "instrumentalness",
         "text": "",
         "type": "scatter",
         "x": [
          1921,
          1922,
          1923,
          1924,
          1925,
          1926,
          1927,
          1928,
          1929,
          1930,
          1931,
          1932,
          1933,
          1934,
          1935,
          1936,
          1937,
          1938,
          1939,
          1940,
          1941,
          1942,
          1943,
          1944,
          1945,
          1946,
          1947,
          1948,
          1949,
          1950,
          1951,
          1952,
          1953,
          1954,
          1955,
          1956,
          1957,
          1958,
          1959,
          1960,
          1961,
          1962,
          1963,
          1964,
          1965,
          1966,
          1967,
          1968,
          1969,
          1970,
          1971,
          1972,
          1973,
          1974,
          1975,
          1976,
          1977,
          1978,
          1979,
          1980,
          1981,
          1982,
          1983,
          1984,
          1985,
          1986,
          1987,
          1988,
          1989,
          1990,
          1991,
          1992,
          1993,
          1994,
          1995,
          1996,
          1997,
          1998,
          1999,
          2000,
          2001,
          2002,
          2003,
          2004,
          2005,
          2006,
          2007,
          2008,
          2009,
          2010,
          2011,
          2012,
          2013,
          2014,
          2015,
          2016,
          2017,
          2018,
          2019,
          2020
         ],
         "xaxis": "x5",
         "y": [
          0,
          0.7440000000000001,
          0.00293,
          0.24,
          0.00105,
          0.00193,
          0.7959999999999999,
          0.892,
          0,
          0.8859999999999999,
          0.941,
          3.04e-06,
          4.36e-06,
          3.64e-05,
          2.35e-06,
          3.28e-05,
          0.000261,
          0,
          0.00086,
          0.8540000000000001,
          0.00725,
          0.353,
          9.15e-06,
          0.00035800000000000003,
          1.13e-06,
          0.85,
          0.0434,
          0,
          0.937,
          4.49e-06,
          0.649,
          0.00027400000000000005,
          0.924,
          0.0152,
          0.00027400000000000005,
          8.85e-06,
          0,
          1.93e-06,
          6.07e-05,
          0.0137,
          0.000196,
          7.07e-06,
          7.74e-06,
          0,
          0,
          0.00244,
          0,
          5.6899999999999994e-05,
          0.00248,
          0,
          0.00024300000000000002,
          6.25e-06,
          9.08e-05,
          0.000331,
          0.000223,
          0.0004940000000000001,
          3.72e-06,
          4.1e-06,
          0.00173,
          0.00965,
          0,
          7.950000000000001e-05,
          0.00294,
          0,
          0.00125,
          0.00021400000000000002,
          0.000307,
          0,
          0,
          0.0114,
          1.2e-06,
          0,
          0.00014099999999999998,
          0.00483,
          0,
          0,
          0,
          7.97e-06,
          0.00165,
          0,
          0.0015,
          1.7100000000000002e-05,
          0,
          0,
          0,
          1.75e-05,
          0,
          0,
          0,
          0,
          0.115,
          0,
          0,
          6.39e-05,
          0,
          0,
          0,
          0,
          0,
          9.54e-05
         ],
         "yaxis": "y5"
        },
        {
         "line": {
          "color": "rgba(140, 86, 75, 1.0)",
          "dash": "solid",
          "shape": "linear",
          "width": 1.3
         },
         "mode": "lines",
         "name": "speechiness",
         "text": "",
         "type": "scatter",
         "x": [
          1921,
          1922,
          1923,
          1924,
          1925,
          1926,
          1927,
          1928,
          1929,
          1930,
          1931,
          1932,
          1933,
          1934,
          1935,
          1936,
          1937,
          1938,
          1939,
          1940,
          1941,
          1942,
          1943,
          1944,
          1945,
          1946,
          1947,
          1948,
          1949,
          1950,
          1951,
          1952,
          1953,
          1954,
          1955,
          1956,
          1957,
          1958,
          1959,
          1960,
          1961,
          1962,
          1963,
          1964,
          1965,
          1966,
          1967,
          1968,
          1969,
          1970,
          1971,
          1972,
          1973,
          1974,
          1975,
          1976,
          1977,
          1978,
          1979,
          1980,
          1981,
          1982,
          1983,
          1984,
          1985,
          1986,
          1987,
          1988,
          1989,
          1990,
          1991,
          1992,
          1993,
          1994,
          1995,
          1996,
          1997,
          1998,
          1999,
          2000,
          2001,
          2002,
          2003,
          2004,
          2005,
          2006,
          2007,
          2008,
          2009,
          2010,
          2011,
          2012,
          2013,
          2014,
          2015,
          2016,
          2017,
          2018,
          2019,
          2020
         ],
         "xaxis": "x6",
         "y": [
          0.415,
          0.451,
          0.0535,
          0.133,
          0.0301,
          0.0575,
          0.0828,
          0.0662,
          0.0697,
          0.0551,
          0.0475,
          0.11900000000000001,
          0.0408,
          0.138,
          0.0443,
          0.0431,
          0.0525,
          0.0365,
          0.031,
          0.0357,
          0.0388,
          0.0381,
          0.0418,
          0.0367,
          0.0348,
          0.244,
          0.0364,
          0.0391,
          0.11900000000000001,
          0.0345,
          0.0387,
          0.0334,
          0.0519,
          0.031,
          0.0466,
          0.04,
          0.10099999999999999,
          0.0755,
          0.0743,
          0.0292,
          0.0275,
          0.0393,
          0.0452,
          0.0301,
          0.0349,
          0.0926,
          0.0376,
          0.0624,
          0.0347,
          0.0322,
          0.0278,
          0.0286,
          0.028999999999999998,
          0.0255,
          0.0318,
          0.027000000000000003,
          0.0328,
          0.358,
          0.132,
          0.047,
          0.0363,
          0.0323,
          0.0348,
          0.0386,
          0.054000000000000006,
          0.0335,
          0.0453,
          0.037000000000000005,
          0.0253,
          0.0364,
          0.0295,
          0.0292,
          0.0369,
          0.0339,
          0.0593,
          0.0324,
          0.0479,
          0.0362,
          0.027000000000000003,
          0.0584,
          0.12,
          0.0243,
          0.0381,
          0.11199999999999999,
          0.0712,
          0.0499,
          0.153,
          0.0468,
          0.0439,
          0.0431,
          0.0292,
          0.0434,
          0.0322,
          0.0414,
          0.0475,
          0.0484,
          0.128,
          0.0364,
          0.0559,
          0.0598
         ],
         "yaxis": "y6"
        },
        {
         "line": {
          "color": "rgba(227, 119, 194, 1.0)",
          "dash": "solid",
          "shape": "linear",
          "width": 1.3
         },
         "mode": "lines",
         "name": "valence",
         "text": "",
         "type": "scatter",
         "x": [
          1921,
          1922,
          1923,
          1924,
          1925,
          1926,
          1927,
          1928,
          1929,
          1930,
          1931,
          1932,
          1933,
          1934,
          1935,
          1936,
          1937,
          1938,
          1939,
          1940,
          1941,
          1942,
          1943,
          1944,
          1945,
          1946,
          1947,
          1948,
          1949,
          1950,
          1951,
          1952,
          1953,
          1954,
          1955,
          1956,
          1957,
          1958,
          1959,
          1960,
          1961,
          1962,
          1963,
          1964,
          1965,
          1966,
          1967,
          1968,
          1969,
          1970,
          1971,
          1972,
          1973,
          1974,
          1975,
          1976,
          1977,
          1978,
          1979,
          1980,
          1981,
          1982,
          1983,
          1984,
          1985,
          1986,
          1987,
          1988,
          1989,
          1990,
          1991,
          1992,
          1993,
          1994,
          1995,
          1996,
          1997,
          1998,
          1999,
          2000,
          2001,
          2002,
          2003,
          2004,
          2005,
          2006,
          2007,
          2008,
          2009,
          2010,
          2011,
          2012,
          2013,
          2014,
          2015,
          2016,
          2017,
          2018,
          2019,
          2020
         ],
         "xaxis": "x7",
         "y": [
          0.963,
          0.127,
          0.21100000000000002,
          0.8320000000000001,
          0.58,
          0.35,
          0.8190000000000001,
          0.259,
          0.713,
          0.168,
          0.292,
          0.322,
          0.40299999999999997,
          0.895,
          0.665,
          0.855,
          0.638,
          0.8809999999999999,
          0.375,
          0.171,
          0.6559999999999999,
          0.247,
          0.134,
          0.16899999999999998,
          0.145,
          0.552,
          0.415,
          0.7759999999999999,
          0.354,
          0.19699999999999998,
          0.20600000000000002,
          0.408,
          0.0364,
          0.17800000000000002,
          0.175,
          0.591,
          0.39399999999999996,
          0.915,
          0.9690000000000001,
          0.32799999999999996,
          0.34299999999999997,
          0.605,
          0.937,
          0.32799999999999996,
          0.6940000000000001,
          0.612,
          0.907,
          0.564,
          0.39399999999999996,
          0.41,
          0.282,
          0.341,
          0.22399999999999998,
          0.8859999999999999,
          0.423,
          0.609,
          0.47700000000000004,
          0.6629999999999999,
          0.42200000000000004,
          0.763,
          0.514,
          0.732,
          0.74,
          0.774,
          0.8759999999999999,
          0.795,
          0.867,
          0.19399999999999998,
          0.5720000000000001,
          0.257,
          0.8029999999999999,
          0.45399999999999996,
          0.10400000000000001,
          0.304,
          0.387,
          0.8909999999999999,
          0.518,
          0.4970000000000001,
          0.32799999999999996,
          0.4,
          0.28600000000000003,
          0.212,
          0.243,
          0.583,
          0.7559999999999999,
          0.599,
          0.49,
          0.718,
          0.461,
          0.795,
          0.965,
          0.387,
          0.331,
          0.184,
          0.446,
          0.43,
          0.6659999999999999,
          0.23600000000000002,
          0.642,
          0.33399999999999996
         ],
         "yaxis": "y7"
        }
       ],
       "layout": {
        "annotations": [
         {
          "font": {
           "size": 16
          },
          "showarrow": false,
          "text": "acousticness",
          "x": 0.14444444444444446,
          "xanchor": "center",
          "xref": "paper",
          "y": 1,
          "yanchor": "bottom",
          "yref": "paper"
         },
         {
          "font": {
           "size": 16
          },
          "showarrow": false,
          "text": "danceability",
          "x": 0.5,
          "xanchor": "center",
          "xref": "paper",
          "y": 1,
          "yanchor": "bottom",
          "yref": "paper"
         },
         {
          "font": {
           "size": 16
          },
          "showarrow": false,
          "text": "energy",
          "x": 0.8555555555555556,
          "xanchor": "center",
          "xref": "paper",
          "y": 1,
          "yanchor": "bottom",
          "yref": "paper"
         },
         {
          "font": {
           "size": 16
          },
          "showarrow": false,
          "text": "explicit",
          "x": 0.14444444444444446,
          "xanchor": "center",
          "xref": "paper",
          "y": 0.6111111111111112,
          "yanchor": "bottom",
          "yref": "paper"
         },
         {
          "font": {
           "size": 16
          },
          "showarrow": false,
          "text": "instrumentalness",
          "x": 0.5,
          "xanchor": "center",
          "xref": "paper",
          "y": 0.6111111111111112,
          "yanchor": "bottom",
          "yref": "paper"
         },
         {
          "font": {
           "size": 16
          },
          "showarrow": false,
          "text": "speechiness",
          "x": 0.8555555555555556,
          "xanchor": "center",
          "xref": "paper",
          "y": 0.6111111111111112,
          "yanchor": "bottom",
          "yref": "paper"
         },
         {
          "font": {
           "size": 16
          },
          "showarrow": false,
          "text": "valence",
          "x": 0.14444444444444446,
          "xanchor": "center",
          "xref": "paper",
          "y": 0.22222222222222224,
          "yanchor": "bottom",
          "yref": "paper"
         }
        ],
        "legend": {
         "bgcolor": "#FFFFFF",
         "font": {
          "color": "#4D5663"
         }
        },
        "paper_bgcolor": "#FFFFFF",
        "plot_bgcolor": "#FFFFFF",
        "template": {
         "data": {
          "bar": [
           {
            "error_x": {
             "color": "#2a3f5f"
            },
            "error_y": {
             "color": "#2a3f5f"
            },
            "marker": {
             "line": {
              "color": "#E5ECF6",
              "width": 0.5
             }
            },
            "type": "bar"
           }
          ],
          "barpolar": [
           {
            "marker": {
             "line": {
              "color": "#E5ECF6",
              "width": 0.5
             }
            },
            "type": "barpolar"
           }
          ],
          "carpet": [
           {
            "aaxis": {
             "endlinecolor": "#2a3f5f",
             "gridcolor": "white",
             "linecolor": "white",
             "minorgridcolor": "white",
             "startlinecolor": "#2a3f5f"
            },
            "baxis": {
             "endlinecolor": "#2a3f5f",
             "gridcolor": "white",
             "linecolor": "white",
             "minorgridcolor": "white",
             "startlinecolor": "#2a3f5f"
            },
            "type": "carpet"
           }
          ],
          "choropleth": [
           {
            "colorbar": {
             "outlinewidth": 0,
             "ticks": ""
            },
            "type": "choropleth"
           }
          ],
          "contour": [
           {
            "colorbar": {
             "outlinewidth": 0,
             "ticks": ""
            },
            "colorscale": [
             [
              0,
              "#0d0887"
             ],
             [
              0.1111111111111111,
              "#46039f"
             ],
             [
              0.2222222222222222,
              "#7201a8"
             ],
             [
              0.3333333333333333,
              "#9c179e"
             ],
             [
              0.4444444444444444,
              "#bd3786"
             ],
             [
              0.5555555555555556,
              "#d8576b"
             ],
             [
              0.6666666666666666,
              "#ed7953"
             ],
             [
              0.7777777777777778,
              "#fb9f3a"
             ],
             [
              0.8888888888888888,
              "#fdca26"
             ],
             [
              1,
              "#f0f921"
             ]
            ],
            "type": "contour"
           }
          ],
          "contourcarpet": [
           {
            "colorbar": {
             "outlinewidth": 0,
             "ticks": ""
            },
            "type": "contourcarpet"
           }
          ],
          "heatmap": [
           {
            "colorbar": {
             "outlinewidth": 0,
             "ticks": ""
            },
            "colorscale": [
             [
              0,
              "#0d0887"
             ],
             [
              0.1111111111111111,
              "#46039f"
             ],
             [
              0.2222222222222222,
              "#7201a8"
             ],
             [
              0.3333333333333333,
              "#9c179e"
             ],
             [
              0.4444444444444444,
              "#bd3786"
             ],
             [
              0.5555555555555556,
              "#d8576b"
             ],
             [
              0.6666666666666666,
              "#ed7953"
             ],
             [
              0.7777777777777778,
              "#fb9f3a"
             ],
             [
              0.8888888888888888,
              "#fdca26"
             ],
             [
              1,
              "#f0f921"
             ]
            ],
            "type": "heatmap"
           }
          ],
          "heatmapgl": [
           {
            "colorbar": {
             "outlinewidth": 0,
             "ticks": ""
            },
            "colorscale": [
             [
              0,
              "#0d0887"
             ],
             [
              0.1111111111111111,
              "#46039f"
             ],
             [
              0.2222222222222222,
              "#7201a8"
             ],
             [
              0.3333333333333333,
              "#9c179e"
             ],
             [
              0.4444444444444444,
              "#bd3786"
             ],
             [
              0.5555555555555556,
              "#d8576b"
             ],
             [
              0.6666666666666666,
              "#ed7953"
             ],
             [
              0.7777777777777778,
              "#fb9f3a"
             ],
             [
              0.8888888888888888,
              "#fdca26"
             ],
             [
              1,
              "#f0f921"
             ]
            ],
            "type": "heatmapgl"
           }
          ],
          "histogram": [
           {
            "marker": {
             "colorbar": {
              "outlinewidth": 0,
              "ticks": ""
             }
            },
            "type": "histogram"
           }
          ],
          "histogram2d": [
           {
            "colorbar": {
             "outlinewidth": 0,
             "ticks": ""
            },
            "colorscale": [
             [
              0,
              "#0d0887"
             ],
             [
              0.1111111111111111,
              "#46039f"
             ],
             [
              0.2222222222222222,
              "#7201a8"
             ],
             [
              0.3333333333333333,
              "#9c179e"
             ],
             [
              0.4444444444444444,
              "#bd3786"
             ],
             [
              0.5555555555555556,
              "#d8576b"
             ],
             [
              0.6666666666666666,
              "#ed7953"
             ],
             [
              0.7777777777777778,
              "#fb9f3a"
             ],
             [
              0.8888888888888888,
              "#fdca26"
             ],
             [
              1,
              "#f0f921"
             ]
            ],
            "type": "histogram2d"
           }
          ],
          "histogram2dcontour": [
           {
            "colorbar": {
             "outlinewidth": 0,
             "ticks": ""
            },
            "colorscale": [
             [
              0,
              "#0d0887"
             ],
             [
              0.1111111111111111,
              "#46039f"
             ],
             [
              0.2222222222222222,
              "#7201a8"
             ],
             [
              0.3333333333333333,
              "#9c179e"
             ],
             [
              0.4444444444444444,
              "#bd3786"
             ],
             [
              0.5555555555555556,
              "#d8576b"
             ],
             [
              0.6666666666666666,
              "#ed7953"
             ],
             [
              0.7777777777777778,
              "#fb9f3a"
             ],
             [
              0.8888888888888888,
              "#fdca26"
             ],
             [
              1,
              "#f0f921"
             ]
            ],
            "type": "histogram2dcontour"
           }
          ],
          "mesh3d": [
           {
            "colorbar": {
             "outlinewidth": 0,
             "ticks": ""
            },
            "type": "mesh3d"
           }
          ],
          "parcoords": [
           {
            "line": {
             "colorbar": {
              "outlinewidth": 0,
              "ticks": ""
             }
            },
            "type": "parcoords"
           }
          ],
          "pie": [
           {
            "automargin": true,
            "type": "pie"
           }
          ],
          "scatter": [
           {
            "marker": {
             "colorbar": {
              "outlinewidth": 0,
              "ticks": ""
             }
            },
            "type": "scatter"
           }
          ],
          "scatter3d": [
           {
            "line": {
             "colorbar": {
              "outlinewidth": 0,
              "ticks": ""
             }
            },
            "marker": {
             "colorbar": {
              "outlinewidth": 0,
              "ticks": ""
             }
            },
            "type": "scatter3d"
           }
          ],
          "scattercarpet": [
           {
            "marker": {
             "colorbar": {
              "outlinewidth": 0,
              "ticks": ""
             }
            },
            "type": "scattercarpet"
           }
          ],
          "scattergeo": [
           {
            "marker": {
             "colorbar": {
              "outlinewidth": 0,
              "ticks": ""
             }
            },
            "type": "scattergeo"
           }
          ],
          "scattergl": [
           {
            "marker": {
             "colorbar": {
              "outlinewidth": 0,
              "ticks": ""
             }
            },
            "type": "scattergl"
           }
          ],
          "scattermapbox": [
           {
            "marker": {
             "colorbar": {
              "outlinewidth": 0,
              "ticks": ""
             }
            },
            "type": "scattermapbox"
           }
          ],
          "scatterpolar": [
           {
            "marker": {
             "colorbar": {
              "outlinewidth": 0,
              "ticks": ""
             }
            },
            "type": "scatterpolar"
           }
          ],
          "scatterpolargl": [
           {
            "marker": {
             "colorbar": {
              "outlinewidth": 0,
              "ticks": ""
             }
            },
            "type": "scatterpolargl"
           }
          ],
          "scatterternary": [
           {
            "marker": {
             "colorbar": {
              "outlinewidth": 0,
              "ticks": ""
             }
            },
            "type": "scatterternary"
           }
          ],
          "surface": [
           {
            "colorbar": {
             "outlinewidth": 0,
             "ticks": ""
            },
            "colorscale": [
             [
              0,
              "#0d0887"
             ],
             [
              0.1111111111111111,
              "#46039f"
             ],
             [
              0.2222222222222222,
              "#7201a8"
             ],
             [
              0.3333333333333333,
              "#9c179e"
             ],
             [
              0.4444444444444444,
              "#bd3786"
             ],
             [
              0.5555555555555556,
              "#d8576b"
             ],
             [
              0.6666666666666666,
              "#ed7953"
             ],
             [
              0.7777777777777778,
              "#fb9f3a"
             ],
             [
              0.8888888888888888,
              "#fdca26"
             ],
             [
              1,
              "#f0f921"
             ]
            ],
            "type": "surface"
           }
          ],
          "table": [
           {
            "cells": {
             "fill": {
              "color": "#EBF0F8"
             },
             "line": {
              "color": "white"
             }
            },
            "header": {
             "fill": {
              "color": "#C8D4E3"
             },
             "line": {
              "color": "white"
             }
            },
            "type": "table"
           }
          ]
         },
         "layout": {
          "annotationdefaults": {
           "arrowcolor": "#2a3f5f",
           "arrowhead": 0,
           "arrowwidth": 1
          },
          "coloraxis": {
           "colorbar": {
            "outlinewidth": 0,
            "ticks": ""
           }
          },
          "colorscale": {
           "diverging": [
            [
             0,
             "#8e0152"
            ],
            [
             0.1,
             "#c51b7d"
            ],
            [
             0.2,
             "#de77ae"
            ],
            [
             0.3,
             "#f1b6da"
            ],
            [
             0.4,
             "#fde0ef"
            ],
            [
             0.5,
             "#f7f7f7"
            ],
            [
             0.6,
             "#e6f5d0"
            ],
            [
             0.7,
             "#b8e186"
            ],
            [
             0.8,
             "#7fbc41"
            ],
            [
             0.9,
             "#4d9221"
            ],
            [
             1,
             "#276419"
            ]
           ],
           "sequential": [
            [
             0,
             "#0d0887"
            ],
            [
             0.1111111111111111,
             "#46039f"
            ],
            [
             0.2222222222222222,
             "#7201a8"
            ],
            [
             0.3333333333333333,
             "#9c179e"
            ],
            [
             0.4444444444444444,
             "#bd3786"
            ],
            [
             0.5555555555555556,
             "#d8576b"
            ],
            [
             0.6666666666666666,
             "#ed7953"
            ],
            [
             0.7777777777777778,
             "#fb9f3a"
            ],
            [
             0.8888888888888888,
             "#fdca26"
            ],
            [
             1,
             "#f0f921"
            ]
           ],
           "sequentialminus": [
            [
             0,
             "#0d0887"
            ],
            [
             0.1111111111111111,
             "#46039f"
            ],
            [
             0.2222222222222222,
             "#7201a8"
            ],
            [
             0.3333333333333333,
             "#9c179e"
            ],
            [
             0.4444444444444444,
             "#bd3786"
            ],
            [
             0.5555555555555556,
             "#d8576b"
            ],
            [
             0.6666666666666666,
             "#ed7953"
            ],
            [
             0.7777777777777778,
             "#fb9f3a"
            ],
            [
             0.8888888888888888,
             "#fdca26"
            ],
            [
             1,
             "#f0f921"
            ]
           ]
          },
          "colorway": [
           "#636efa",
           "#EF553B",
           "#00cc96",
           "#ab63fa",
           "#FFA15A",
           "#19d3f3",
           "#FF6692",
           "#B6E880",
           "#FF97FF",
           "#FECB52"
          ],
          "font": {
           "color": "#2a3f5f"
          },
          "geo": {
           "bgcolor": "white",
           "lakecolor": "white",
           "landcolor": "#E5ECF6",
           "showlakes": true,
           "showland": true,
           "subunitcolor": "white"
          },
          "hoverlabel": {
           "align": "left"
          },
          "hovermode": "closest",
          "mapbox": {
           "style": "light"
          },
          "paper_bgcolor": "white",
          "plot_bgcolor": "#E5ECF6",
          "polar": {
           "angularaxis": {
            "gridcolor": "white",
            "linecolor": "white",
            "ticks": ""
           },
           "bgcolor": "#E5ECF6",
           "radialaxis": {
            "gridcolor": "white",
            "linecolor": "white",
            "ticks": ""
           }
          },
          "scene": {
           "xaxis": {
            "backgroundcolor": "#E5ECF6",
            "gridcolor": "white",
            "gridwidth": 2,
            "linecolor": "white",
            "showbackground": true,
            "ticks": "",
            "zerolinecolor": "white"
           },
           "yaxis": {
            "backgroundcolor": "#E5ECF6",
            "gridcolor": "white",
            "gridwidth": 2,
            "linecolor": "white",
            "showbackground": true,
            "ticks": "",
            "zerolinecolor": "white"
           },
           "zaxis": {
            "backgroundcolor": "#E5ECF6",
            "gridcolor": "white",
            "gridwidth": 2,
            "linecolor": "white",
            "showbackground": true,
            "ticks": "",
            "zerolinecolor": "white"
           }
          },
          "shapedefaults": {
           "line": {
            "color": "#2a3f5f"
           }
          },
          "ternary": {
           "aaxis": {
            "gridcolor": "white",
            "linecolor": "white",
            "ticks": ""
           },
           "baxis": {
            "gridcolor": "white",
            "linecolor": "white",
            "ticks": ""
           },
           "bgcolor": "#E5ECF6",
           "caxis": {
            "gridcolor": "white",
            "linecolor": "white",
            "ticks": ""
           }
          },
          "title": {
           "x": 0.05
          },
          "xaxis": {
           "automargin": true,
           "gridcolor": "white",
           "linecolor": "white",
           "ticks": "",
           "title": {
            "standoff": 15
           },
           "zerolinecolor": "white",
           "zerolinewidth": 2
          },
          "yaxis": {
           "automargin": true,
           "gridcolor": "white",
           "linecolor": "white",
           "ticks": "",
           "title": {
            "standoff": 15
           },
           "zerolinecolor": "white",
           "zerolinewidth": 2
          }
         }
        },
        "title": {
         "font": {
          "color": "#4D5663"
         },
         "text": "Trend in the most popular songs by year"
        },
        "xaxis": {
         "anchor": "y",
         "domain": [
          0,
          0.2888888888888889
         ],
         "gridcolor": "#E1E5ED",
         "showgrid": true,
         "tickfont": {
          "color": "#4D5663"
         },
         "title": {
          "font": {
           "color": "#4D5663"
          },
          "text": "Years (1920-2020)"
         },
         "zerolinecolor": "#E1E5ED"
        },
        "xaxis2": {
         "anchor": "y2",
         "domain": [
          0.35555555555555557,
          0.6444444444444445
         ],
         "gridcolor": "#E1E5ED",
         "showgrid": true,
         "tickfont": {
          "color": "#4D5663"
         },
         "title": {
          "font": {
           "color": "#4D5663"
          },
          "text": "Years (1920-2020)"
         },
         "zerolinecolor": "#E1E5ED"
        },
        "xaxis3": {
         "anchor": "y3",
         "domain": [
          0.7111111111111111,
          1
         ],
         "gridcolor": "#E1E5ED",
         "showgrid": true,
         "tickfont": {
          "color": "#4D5663"
         },
         "title": {
          "font": {
           "color": "#4D5663"
          },
          "text": "Years (1920-2020)"
         },
         "zerolinecolor": "#E1E5ED"
        },
        "xaxis4": {
         "anchor": "y4",
         "domain": [
          0,
          0.2888888888888889
         ],
         "gridcolor": "#E1E5ED",
         "showgrid": true,
         "tickfont": {
          "color": "#4D5663"
         },
         "title": {
          "font": {
           "color": "#4D5663"
          },
          "text": "Years (1920-2020)"
         },
         "zerolinecolor": "#E1E5ED"
        },
        "xaxis5": {
         "anchor": "y5",
         "domain": [
          0.35555555555555557,
          0.6444444444444445
         ],
         "gridcolor": "#E1E5ED",
         "showgrid": true,
         "tickfont": {
          "color": "#4D5663"
         },
         "title": {
          "font": {
           "color": "#4D5663"
          },
          "text": "Years (1920-2020)"
         },
         "zerolinecolor": "#E1E5ED"
        },
        "xaxis6": {
         "anchor": "y6",
         "domain": [
          0.7111111111111111,
          1
         ],
         "gridcolor": "#E1E5ED",
         "showgrid": true,
         "tickfont": {
          "color": "#4D5663"
         },
         "title": {
          "font": {
           "color": "#4D5663"
          },
          "text": "Years (1920-2020)"
         },
         "zerolinecolor": "#E1E5ED"
        },
        "xaxis7": {
         "anchor": "y7",
         "domain": [
          0,
          0.2888888888888889
         ],
         "gridcolor": "#E1E5ED",
         "showgrid": true,
         "tickfont": {
          "color": "#4D5663"
         },
         "title": {
          "font": {
           "color": "#4D5663"
          },
          "text": "Years (1920-2020)"
         },
         "zerolinecolor": "#E1E5ED"
        },
        "yaxis": {
         "anchor": "x",
         "domain": [
          0.7777777777777778,
          1
         ],
         "gridcolor": "#E1E5ED",
         "showgrid": true,
         "tickfont": {
          "color": "#4D5663"
         },
         "title": {
          "font": {
           "color": "#4D5663"
          },
          "text": "Features"
         },
         "zerolinecolor": "#E1E5ED"
        },
        "yaxis2": {
         "anchor": "x2",
         "domain": [
          0.7777777777777778,
          1
         ],
         "gridcolor": "#E1E5ED",
         "matches": "y",
         "showgrid": true,
         "showticklabels": false,
         "tickfont": {
          "color": "#4D5663"
         },
         "title": {
          "font": {
           "color": "#4D5663"
          },
          "text": "Features"
         },
         "zerolinecolor": "#E1E5ED"
        },
        "yaxis3": {
         "anchor": "x3",
         "domain": [
          0.7777777777777778,
          1
         ],
         "gridcolor": "#E1E5ED",
         "matches": "y",
         "showgrid": true,
         "showticklabels": false,
         "tickfont": {
          "color": "#4D5663"
         },
         "title": {
          "font": {
           "color": "#4D5663"
          },
          "text": "Features"
         },
         "zerolinecolor": "#E1E5ED"
        },
        "yaxis4": {
         "anchor": "x4",
         "domain": [
          0.3888888888888889,
          0.6111111111111112
         ],
         "gridcolor": "#E1E5ED",
         "showgrid": true,
         "tickfont": {
          "color": "#4D5663"
         },
         "title": {
          "font": {
           "color": "#4D5663"
          },
          "text": "Features"
         },
         "zerolinecolor": "#E1E5ED"
        },
        "yaxis5": {
         "anchor": "x5",
         "domain": [
          0.3888888888888889,
          0.6111111111111112
         ],
         "gridcolor": "#E1E5ED",
         "matches": "y4",
         "showgrid": true,
         "showticklabels": false,
         "tickfont": {
          "color": "#4D5663"
         },
         "title": {
          "font": {
           "color": "#4D5663"
          },
          "text": "Features"
         },
         "zerolinecolor": "#E1E5ED"
        },
        "yaxis6": {
         "anchor": "x6",
         "domain": [
          0.3888888888888889,
          0.6111111111111112
         ],
         "gridcolor": "#E1E5ED",
         "matches": "y4",
         "showgrid": true,
         "showticklabels": false,
         "tickfont": {
          "color": "#4D5663"
         },
         "title": {
          "font": {
           "color": "#4D5663"
          },
          "text": "Features"
         },
         "zerolinecolor": "#E1E5ED"
        },
        "yaxis7": {
         "anchor": "x7",
         "domain": [
          0,
          0.22222222222222224
         ],
         "gridcolor": "#E1E5ED",
         "showgrid": true,
         "tickfont": {
          "color": "#4D5663"
         },
         "title": {
          "font": {
           "color": "#4D5663"
          },
          "text": "Features"
         },
         "zerolinecolor": "#E1E5ED"
        }
       }
      },
      "text/html": [
       "<div>\n",
       "        \n",
       "        \n",
       "            <div id=\"7528884b-fb5a-433b-a675-12d1a9ab3e3d\" class=\"plotly-graph-div\" style=\"height:525px; width:100%;\"></div>\n",
       "            <script type=\"text/javascript\">\n",
       "                require([\"plotly\"], function(Plotly) {\n",
       "                    window.PLOTLYENV=window.PLOTLYENV || {};\n",
       "                    \n",
       "                if (document.getElementById(\"7528884b-fb5a-433b-a675-12d1a9ab3e3d\")) {\n",
       "                    Plotly.newPlot(\n",
       "                        '7528884b-fb5a-433b-a675-12d1a9ab3e3d',\n",
       "                        [{\"line\": {\"color\": \"rgba(31, 119, 180, 1.0)\", \"dash\": \"solid\", \"shape\": \"linear\", \"width\": 1.3}, \"mode\": \"lines\", \"name\": \"acousticness\", \"text\": \"\", \"type\": \"scatter\", \"x\": [1921, 1922, 1923, 1924, 1925, 1926, 1927, 1928, 1929, 1930, 1931, 1932, 1933, 1934, 1935, 1936, 1937, 1938, 1939, 1940, 1941, 1942, 1943, 1944, 1945, 1946, 1947, 1948, 1949, 1950, 1951, 1952, 1953, 1954, 1955, 1956, 1957, 1958, 1959, 1960, 1961, 1962, 1963, 1964, 1965, 1966, 1967, 1968, 1969, 1970, 1971, 1972, 1973, 1974, 1975, 1976, 1977, 1978, 1979, 1980, 1981, 1982, 1983, 1984, 1985, 1986, 1987, 1988, 1989, 1990, 1991, 1992, 1993, 1994, 1995, 1996, 1997, 1998, 1999, 2000, 2001, 2002, 2003, 2004, 2005, 2006, 2007, 2008, 2009, 2010, 2011, 2012, 2013, 2014, 2015, 2016, 2017, 2018, 2019, 2020], \"xaxis\": \"x\", \"y\": [0.732, 0.674, 0.996, 0.816, 0.9690000000000001, 0.821, 0.99, 0.847, 0.586, 0.987, 0.9570000000000001, 0.987, 0.972, 0.988, 0.9079999999999999, 0.9329999999999999, 0.93, 0.763, 0.938, 0.68, 0.945, 0.6729999999999999, 0.9470000000000001, 0.9840000000000001, 0.981, 0.8290000000000001, 0.40700000000000003, 0.8640000000000001, 0.9940000000000001, 0.99, 0.907, 0.889, 0.995, 0.92, 0.963, 0.452, 0.9129999999999999, 0.41, 0.741, 0.546, 0.941, 0.57, 0.6409999999999999, 0.8370000000000001, 0.635, 0.0493, 0.182, 0.00255, 0.0339, 0.631, 0.382, 0.4320000000000001, 0.38799999999999996, 0.18100000000000002, 0.883, 0.0057399999999999994, 0.652, 0.0384, 0.0591, 0.011000000000000001, 0.127, 0.257, 0.5429999999999999, 0.0183, 0.018000000000000002, 0.0778, 0.207, 0.313, 0.212, 0.000147, 0.179, 0.161, 0.0102, 0.0154, 0.0655, 0.10099999999999999, 0.0335, 0.00125, 0.0021, 0.00958, 0.000278, 0.727, 0.0046, 0.0183, 0.284, 0.11599999999999999, 0.00564, 0.595, 0.0274, 0.185, 0.145, 0.932, 0.922, 0.588, 0.612, 0.0847, 0.0622, 0.12300000000000001, 0.10400000000000001, 0.00146], \"yaxis\": \"y\"}, {\"line\": {\"color\": \"rgba(255, 127, 14, 1.0)\", \"dash\": \"solid\", \"shape\": \"linear\", \"width\": 1.3}, \"mode\": \"lines\", \"name\": \"danceability\", \"text\": \"\", \"type\": \"scatter\", \"x\": [1921, 1922, 1923, 1924, 1925, 1926, 1927, 1928, 1929, 1930, 1931, 1932, 1933, 1934, 1935, 1936, 1937, 1938, 1939, 1940, 1941, 1942, 1943, 1944, 1945, 1946, 1947, 1948, 1949, 1950, 1951, 1952, 1953, 1954, 1955, 1956, 1957, 1958, 1959, 1960, 1961, 1962, 1963, 1964, 1965, 1966, 1967, 1968, 1969, 1970, 1971, 1972, 1973, 1974, 1975, 1976, 1977, 1978, 1979, 1980, 1981, 1982, 1983, 1984, 1985, 1986, 1987, 1988, 1989, 1990, 1991, 1992, 1993, 1994, 1995, 1996, 1997, 1998, 1999, 2000, 2001, 2002, 2003, 2004, 2005, 2006, 2007, 2008, 2009, 2010, 2011, 2012, 2013, 2014, 2015, 2016, 2017, 2018, 2019, 2020], \"xaxis\": \"x2\", \"y\": [0.8190000000000001, 0.645, 0.614, 0.6779999999999999, 0.6779999999999999, 0.515, 0.7090000000000001, 0.626, 0.6729999999999999, 0.349, 0.45899999999999996, 0.473, 0.504, 0.612, 0.506, 0.583, 0.675, 0.7170000000000001, 0.271, 0.17, 0.794, 0.317, 0.204, 0.295, 0.495, 0.616, 0.469, 0.41600000000000004, 0.469, 0.354, 0.542, 0.354, 0.365, 0.349, 0.581, 0.585, 0.44299999999999995, 0.647, 0.534, 0.273, 0.396, 0.65, 0.48200000000000004, 0.525, 0.5720000000000001, 0.46399999999999997, 0.491, 0.43799999999999994, 0.557, 0.44299999999999995, 0.414, 0.601, 0.307, 0.596, 0.414, 0.579, 0.38799999999999996, 0.618, 0.573, 0.31, 0.5, 0.6709999999999999, 0.82, 0.508, 0.573, 0.532, 0.7090000000000001, 0.711, 0.623, 0.501, 0.6659999999999999, 0.565, 0.515, 0.307, 0.647, 0.768, 0.35600000000000004, 0.315, 0.5920000000000001, 0.556, 0.419, 0.56, 0.496, 0.894, 0.778, 0.4270000000000001, 0.617, 0.6859999999999999, 0.513, 0.6729999999999999, 0.733, 0.612, 0.42200000000000004, 0.418, 0.68, 0.841, 0.7759999999999999, 0.784, 0.8959999999999999, 0.514], \"yaxis\": \"y2\"}, {\"line\": {\"color\": \"rgba(44, 160, 44, 1.0)\", \"dash\": \"solid\", \"shape\": \"linear\", \"width\": 1.3}, \"mode\": \"lines\", \"name\": \"energy\", \"text\": \"\", \"type\": \"scatter\", \"x\": [1921, 1922, 1923, 1924, 1925, 1926, 1927, 1928, 1929, 1930, 1931, 1932, 1933, 1934, 1935, 1936, 1937, 1938, 1939, 1940, 1941, 1942, 1943, 1944, 1945, 1946, 1947, 1948, 1949, 1950, 1951, 1952, 1953, 1954, 1955, 1956, 1957, 1958, 1959, 1960, 1961, 1962, 1963, 1964, 1965, 1966, 1967, 1968, 1969, 1970, 1971, 1972, 1973, 1974, 1975, 1976, 1977, 1978, 1979, 1980, 1981, 1982, 1983, 1984, 1985, 1986, 1987, 1988, 1989, 1990, 1991, 1992, 1993, 1994, 1995, 1996, 1997, 1998, 1999, 2000, 2001, 2002, 2003, 2004, 2005, 2006, 2007, 2008, 2009, 2010, 2011, 2012, 2013, 2014, 2015, 2016, 2017, 2018, 2019, 2020], \"xaxis\": \"x3\", \"y\": [0.341, 0.445, 0.0423, 0.395, 0.175, 0.222, 0.20800000000000002, 0.7440000000000001, 0.377, 0.326, 0.867, 0.154, 0.0644, 0.3720000000000001, 0.18, 0.235, 0.311, 0.37, 0.21899999999999997, 0.43, 0.174, 0.158, 0.151, 0.0826, 0.0209, 0.67, 0.23600000000000002, 0.341, 0.0128, 0.0851, 0.32, 0.24100000000000002, 0.01, 0.182, 0.0543, 0.247, 0.10400000000000001, 0.5820000000000001, 0.8029999999999999, 0.34700000000000003, 0.293, 0.306, 0.8490000000000001, 0.21600000000000005, 0.418, 0.795, 0.583, 0.805, 0.54, 0.40299999999999997, 0.428, 0.532, 0.433, 0.605, 0.161, 0.508, 0.33799999999999997, 0.748, 0.9129999999999999, 0.7, 0.748, 0.373, 0.452, 0.8340000000000001, 0.902, 0.887, 0.8240000000000001, 0.292, 0.449, 0.889, 0.855, 0.564, 0.43, 0.635, 0.514, 0.8640000000000001, 0.917, 0.715, 0.767, 0.8640000000000001, 0.934, 0.442, 0.863, 0.7909999999999999, 0.8240000000000001, 0.9, 0.7170000000000001, 0.457, 0.6609999999999999, 0.8859999999999999, 0.71, 0.28, 0.264, 0.42, 0.7290000000000001, 0.728, 0.78, 0.43, 0.586, 0.73], \"yaxis\": \"y3\"}, {\"line\": {\"color\": \"rgba(214, 39, 40, 1.0)\", \"dash\": \"solid\", \"shape\": \"linear\", \"width\": 1.3}, \"mode\": \"lines\", \"name\": \"explicit\", \"text\": \"\", \"type\": \"scatter\", \"x\": [1921, 1922, 1923, 1924, 1925, 1926, 1927, 1928, 1929, 1930, 1931, 1932, 1933, 1934, 1935, 1936, 1937, 1938, 1939, 1940, 1941, 1942, 1943, 1944, 1945, 1946, 1947, 1948, 1949, 1950, 1951, 1952, 1953, 1954, 1955, 1956, 1957, 1958, 1959, 1960, 1961, 1962, 1963, 1964, 1965, 1966, 1967, 1968, 1969, 1970, 1971, 1972, 1973, 1974, 1975, 1976, 1977, 1978, 1979, 1980, 1981, 1982, 1983, 1984, 1985, 1986, 1987, 1988, 1989, 1990, 1991, 1992, 1993, 1994, 1995, 1996, 1997, 1998, 1999, 2000, 2001, 2002, 2003, 2004, 2005, 2006, 2007, 2008, 2009, 2010, 2011, 2012, 2013, 2014, 2015, 2016, 2017, 2018, 2019, 2020], \"xaxis\": \"x4\", \"y\": [0, 0, 0, 0, 0, 0, 0, 0, 0, 0, 0, 0, 0, 0, 0, 0, 0, 0, 0, 0, 0, 0, 0, 0, 0, 0, 0, 0, 0, 0, 0, 0, 0, 0, 0, 0, 0, 0, 0, 0, 0, 0, 0, 0, 0, 0, 0, 0, 0, 0, 0, 0, 0, 0, 0, 0, 0, 0, 0, 0, 0, 0, 0, 0, 0, 0, 0, 0, 0, 0, 0, 0, 1, 0, 0, 0, 0, 0, 0, 0, 0, 0, 0, 0, 0, 0, 1, 0, 0, 0, 0, 0, 0, 0, 1, 1, 0, 0, 1, 0], \"yaxis\": \"y4\"}, {\"line\": {\"color\": \"rgba(148, 103, 189, 1.0)\", \"dash\": \"solid\", \"shape\": \"linear\", \"width\": 1.3}, \"mode\": \"lines\", \"name\": \"instrumentalness\", \"text\": \"\", \"type\": \"scatter\", \"x\": [1921, 1922, 1923, 1924, 1925, 1926, 1927, 1928, 1929, 1930, 1931, 1932, 1933, 1934, 1935, 1936, 1937, 1938, 1939, 1940, 1941, 1942, 1943, 1944, 1945, 1946, 1947, 1948, 1949, 1950, 1951, 1952, 1953, 1954, 1955, 1956, 1957, 1958, 1959, 1960, 1961, 1962, 1963, 1964, 1965, 1966, 1967, 1968, 1969, 1970, 1971, 1972, 1973, 1974, 1975, 1976, 1977, 1978, 1979, 1980, 1981, 1982, 1983, 1984, 1985, 1986, 1987, 1988, 1989, 1990, 1991, 1992, 1993, 1994, 1995, 1996, 1997, 1998, 1999, 2000, 2001, 2002, 2003, 2004, 2005, 2006, 2007, 2008, 2009, 2010, 2011, 2012, 2013, 2014, 2015, 2016, 2017, 2018, 2019, 2020], \"xaxis\": \"x5\", \"y\": [0.0, 0.7440000000000001, 0.00293, 0.24, 0.00105, 0.00193, 0.7959999999999999, 0.892, 0.0, 0.8859999999999999, 0.941, 3.04e-06, 4.36e-06, 3.64e-05, 2.35e-06, 3.28e-05, 0.000261, 0.0, 0.00086, 0.8540000000000001, 0.00725, 0.353, 9.15e-06, 0.00035800000000000003, 1.13e-06, 0.85, 0.0434, 0.0, 0.937, 4.49e-06, 0.649, 0.00027400000000000005, 0.924, 0.0152, 0.00027400000000000005, 8.85e-06, 0.0, 1.93e-06, 6.07e-05, 0.0137, 0.000196, 7.07e-06, 7.74e-06, 0.0, 0.0, 0.00244, 0.0, 5.6899999999999994e-05, 0.00248, 0.0, 0.00024300000000000002, 6.25e-06, 9.08e-05, 0.000331, 0.000223, 0.0004940000000000001, 3.72e-06, 4.1e-06, 0.00173, 0.00965, 0.0, 7.950000000000001e-05, 0.00294, 0.0, 0.00125, 0.00021400000000000002, 0.000307, 0.0, 0.0, 0.0114, 1.2e-06, 0.0, 0.00014099999999999998, 0.00483, 0.0, 0.0, 0.0, 7.97e-06, 0.00165, 0.0, 0.0015, 1.7100000000000002e-05, 0.0, 0.0, 0.0, 1.75e-05, 0.0, 0.0, 0.0, 0.0, 0.115, 0.0, 0.0, 6.39e-05, 0.0, 0.0, 0.0, 0.0, 0.0, 9.54e-05], \"yaxis\": \"y5\"}, {\"line\": {\"color\": \"rgba(140, 86, 75, 1.0)\", \"dash\": \"solid\", \"shape\": \"linear\", \"width\": 1.3}, \"mode\": \"lines\", \"name\": \"speechiness\", \"text\": \"\", \"type\": \"scatter\", \"x\": [1921, 1922, 1923, 1924, 1925, 1926, 1927, 1928, 1929, 1930, 1931, 1932, 1933, 1934, 1935, 1936, 1937, 1938, 1939, 1940, 1941, 1942, 1943, 1944, 1945, 1946, 1947, 1948, 1949, 1950, 1951, 1952, 1953, 1954, 1955, 1956, 1957, 1958, 1959, 1960, 1961, 1962, 1963, 1964, 1965, 1966, 1967, 1968, 1969, 1970, 1971, 1972, 1973, 1974, 1975, 1976, 1977, 1978, 1979, 1980, 1981, 1982, 1983, 1984, 1985, 1986, 1987, 1988, 1989, 1990, 1991, 1992, 1993, 1994, 1995, 1996, 1997, 1998, 1999, 2000, 2001, 2002, 2003, 2004, 2005, 2006, 2007, 2008, 2009, 2010, 2011, 2012, 2013, 2014, 2015, 2016, 2017, 2018, 2019, 2020], \"xaxis\": \"x6\", \"y\": [0.415, 0.451, 0.0535, 0.133, 0.0301, 0.0575, 0.0828, 0.0662, 0.0697, 0.0551, 0.0475, 0.11900000000000001, 0.0408, 0.138, 0.0443, 0.0431, 0.0525, 0.0365, 0.031, 0.0357, 0.0388, 0.0381, 0.0418, 0.0367, 0.0348, 0.244, 0.0364, 0.0391, 0.11900000000000001, 0.0345, 0.0387, 0.0334, 0.0519, 0.031, 0.0466, 0.04, 0.10099999999999999, 0.0755, 0.0743, 0.0292, 0.0275, 0.0393, 0.0452, 0.0301, 0.0349, 0.0926, 0.0376, 0.0624, 0.0347, 0.0322, 0.0278, 0.0286, 0.028999999999999998, 0.0255, 0.0318, 0.027000000000000003, 0.0328, 0.358, 0.132, 0.047, 0.0363, 0.0323, 0.0348, 0.0386, 0.054000000000000006, 0.0335, 0.0453, 0.037000000000000005, 0.0253, 0.0364, 0.0295, 0.0292, 0.0369, 0.0339, 0.0593, 0.0324, 0.0479, 0.0362, 0.027000000000000003, 0.0584, 0.12, 0.0243, 0.0381, 0.11199999999999999, 0.0712, 0.0499, 0.153, 0.0468, 0.0439, 0.0431, 0.0292, 0.0434, 0.0322, 0.0414, 0.0475, 0.0484, 0.128, 0.0364, 0.0559, 0.0598], \"yaxis\": \"y6\"}, {\"line\": {\"color\": \"rgba(227, 119, 194, 1.0)\", \"dash\": \"solid\", \"shape\": \"linear\", \"width\": 1.3}, \"mode\": \"lines\", \"name\": \"valence\", \"text\": \"\", \"type\": \"scatter\", \"x\": [1921, 1922, 1923, 1924, 1925, 1926, 1927, 1928, 1929, 1930, 1931, 1932, 1933, 1934, 1935, 1936, 1937, 1938, 1939, 1940, 1941, 1942, 1943, 1944, 1945, 1946, 1947, 1948, 1949, 1950, 1951, 1952, 1953, 1954, 1955, 1956, 1957, 1958, 1959, 1960, 1961, 1962, 1963, 1964, 1965, 1966, 1967, 1968, 1969, 1970, 1971, 1972, 1973, 1974, 1975, 1976, 1977, 1978, 1979, 1980, 1981, 1982, 1983, 1984, 1985, 1986, 1987, 1988, 1989, 1990, 1991, 1992, 1993, 1994, 1995, 1996, 1997, 1998, 1999, 2000, 2001, 2002, 2003, 2004, 2005, 2006, 2007, 2008, 2009, 2010, 2011, 2012, 2013, 2014, 2015, 2016, 2017, 2018, 2019, 2020], \"xaxis\": \"x7\", \"y\": [0.963, 0.127, 0.21100000000000002, 0.8320000000000001, 0.58, 0.35, 0.8190000000000001, 0.259, 0.713, 0.168, 0.292, 0.322, 0.40299999999999997, 0.895, 0.665, 0.855, 0.638, 0.8809999999999999, 0.375, 0.171, 0.6559999999999999, 0.247, 0.134, 0.16899999999999998, 0.145, 0.552, 0.415, 0.7759999999999999, 0.354, 0.19699999999999998, 0.20600000000000002, 0.408, 0.0364, 0.17800000000000002, 0.175, 0.591, 0.39399999999999996, 0.915, 0.9690000000000001, 0.32799999999999996, 0.34299999999999997, 0.605, 0.937, 0.32799999999999996, 0.6940000000000001, 0.612, 0.907, 0.564, 0.39399999999999996, 0.41, 0.282, 0.341, 0.22399999999999998, 0.8859999999999999, 0.423, 0.609, 0.47700000000000004, 0.6629999999999999, 0.42200000000000004, 0.763, 0.514, 0.732, 0.74, 0.774, 0.8759999999999999, 0.795, 0.867, 0.19399999999999998, 0.5720000000000001, 0.257, 0.8029999999999999, 0.45399999999999996, 0.10400000000000001, 0.304, 0.387, 0.8909999999999999, 0.518, 0.4970000000000001, 0.32799999999999996, 0.4, 0.28600000000000003, 0.212, 0.243, 0.583, 0.7559999999999999, 0.599, 0.49, 0.718, 0.461, 0.795, 0.965, 0.387, 0.331, 0.184, 0.446, 0.43, 0.6659999999999999, 0.23600000000000002, 0.642, 0.33399999999999996], \"yaxis\": \"y7\"}],\n",
       "                        {\"annotations\": [{\"font\": {\"size\": 16}, \"showarrow\": false, \"text\": \"acousticness\", \"x\": 0.14444444444444446, \"xanchor\": \"center\", \"xref\": \"paper\", \"y\": 1.0, \"yanchor\": \"bottom\", \"yref\": \"paper\"}, {\"font\": {\"size\": 16}, \"showarrow\": false, \"text\": \"danceability\", \"x\": 0.5, \"xanchor\": \"center\", \"xref\": \"paper\", \"y\": 1.0, \"yanchor\": \"bottom\", \"yref\": \"paper\"}, {\"font\": {\"size\": 16}, \"showarrow\": false, \"text\": \"energy\", \"x\": 0.8555555555555556, \"xanchor\": \"center\", \"xref\": \"paper\", \"y\": 1.0, \"yanchor\": \"bottom\", \"yref\": \"paper\"}, {\"font\": {\"size\": 16}, \"showarrow\": false, \"text\": \"explicit\", \"x\": 0.14444444444444446, \"xanchor\": \"center\", \"xref\": \"paper\", \"y\": 0.6111111111111112, \"yanchor\": \"bottom\", \"yref\": \"paper\"}, {\"font\": {\"size\": 16}, \"showarrow\": false, \"text\": \"instrumentalness\", \"x\": 0.5, \"xanchor\": \"center\", \"xref\": \"paper\", \"y\": 0.6111111111111112, \"yanchor\": \"bottom\", \"yref\": \"paper\"}, {\"font\": {\"size\": 16}, \"showarrow\": false, \"text\": \"speechiness\", \"x\": 0.8555555555555556, \"xanchor\": \"center\", \"xref\": \"paper\", \"y\": 0.6111111111111112, \"yanchor\": \"bottom\", \"yref\": \"paper\"}, {\"font\": {\"size\": 16}, \"showarrow\": false, \"text\": \"valence\", \"x\": 0.14444444444444446, \"xanchor\": \"center\", \"xref\": \"paper\", \"y\": 0.22222222222222224, \"yanchor\": \"bottom\", \"yref\": \"paper\"}], \"legend\": {\"bgcolor\": \"#FFFFFF\", \"font\": {\"color\": \"#4D5663\"}}, \"paper_bgcolor\": \"#FFFFFF\", \"plot_bgcolor\": \"#FFFFFF\", \"template\": {\"data\": {\"bar\": [{\"error_x\": {\"color\": \"#2a3f5f\"}, \"error_y\": {\"color\": \"#2a3f5f\"}, \"marker\": {\"line\": {\"color\": \"#E5ECF6\", \"width\": 0.5}}, \"type\": \"bar\"}], \"barpolar\": [{\"marker\": {\"line\": {\"color\": \"#E5ECF6\", \"width\": 0.5}}, \"type\": \"barpolar\"}], \"carpet\": [{\"aaxis\": {\"endlinecolor\": \"#2a3f5f\", \"gridcolor\": \"white\", \"linecolor\": \"white\", \"minorgridcolor\": \"white\", \"startlinecolor\": \"#2a3f5f\"}, \"baxis\": {\"endlinecolor\": \"#2a3f5f\", \"gridcolor\": \"white\", \"linecolor\": \"white\", \"minorgridcolor\": \"white\", \"startlinecolor\": \"#2a3f5f\"}, \"type\": \"carpet\"}], \"choropleth\": [{\"colorbar\": {\"outlinewidth\": 0, \"ticks\": \"\"}, \"type\": \"choropleth\"}], \"contour\": [{\"colorbar\": {\"outlinewidth\": 0, \"ticks\": \"\"}, \"colorscale\": [[0.0, \"#0d0887\"], [0.1111111111111111, \"#46039f\"], [0.2222222222222222, \"#7201a8\"], [0.3333333333333333, \"#9c179e\"], [0.4444444444444444, \"#bd3786\"], [0.5555555555555556, \"#d8576b\"], [0.6666666666666666, \"#ed7953\"], [0.7777777777777778, \"#fb9f3a\"], [0.8888888888888888, \"#fdca26\"], [1.0, \"#f0f921\"]], \"type\": \"contour\"}], \"contourcarpet\": [{\"colorbar\": {\"outlinewidth\": 0, \"ticks\": \"\"}, \"type\": \"contourcarpet\"}], \"heatmap\": [{\"colorbar\": {\"outlinewidth\": 0, \"ticks\": \"\"}, \"colorscale\": [[0.0, \"#0d0887\"], [0.1111111111111111, \"#46039f\"], [0.2222222222222222, \"#7201a8\"], [0.3333333333333333, \"#9c179e\"], [0.4444444444444444, \"#bd3786\"], [0.5555555555555556, \"#d8576b\"], [0.6666666666666666, \"#ed7953\"], [0.7777777777777778, \"#fb9f3a\"], [0.8888888888888888, \"#fdca26\"], [1.0, \"#f0f921\"]], \"type\": \"heatmap\"}], \"heatmapgl\": [{\"colorbar\": {\"outlinewidth\": 0, \"ticks\": \"\"}, \"colorscale\": [[0.0, \"#0d0887\"], [0.1111111111111111, \"#46039f\"], [0.2222222222222222, \"#7201a8\"], [0.3333333333333333, \"#9c179e\"], [0.4444444444444444, \"#bd3786\"], [0.5555555555555556, \"#d8576b\"], [0.6666666666666666, \"#ed7953\"], [0.7777777777777778, \"#fb9f3a\"], [0.8888888888888888, \"#fdca26\"], [1.0, \"#f0f921\"]], \"type\": \"heatmapgl\"}], \"histogram\": [{\"marker\": {\"colorbar\": {\"outlinewidth\": 0, \"ticks\": \"\"}}, \"type\": \"histogram\"}], \"histogram2d\": [{\"colorbar\": {\"outlinewidth\": 0, \"ticks\": \"\"}, \"colorscale\": [[0.0, \"#0d0887\"], [0.1111111111111111, \"#46039f\"], [0.2222222222222222, \"#7201a8\"], [0.3333333333333333, \"#9c179e\"], [0.4444444444444444, \"#bd3786\"], [0.5555555555555556, \"#d8576b\"], [0.6666666666666666, \"#ed7953\"], [0.7777777777777778, \"#fb9f3a\"], [0.8888888888888888, \"#fdca26\"], [1.0, \"#f0f921\"]], \"type\": \"histogram2d\"}], \"histogram2dcontour\": [{\"colorbar\": {\"outlinewidth\": 0, \"ticks\": \"\"}, \"colorscale\": [[0.0, \"#0d0887\"], [0.1111111111111111, \"#46039f\"], [0.2222222222222222, \"#7201a8\"], [0.3333333333333333, \"#9c179e\"], [0.4444444444444444, \"#bd3786\"], [0.5555555555555556, \"#d8576b\"], [0.6666666666666666, \"#ed7953\"], [0.7777777777777778, \"#fb9f3a\"], [0.8888888888888888, \"#fdca26\"], [1.0, \"#f0f921\"]], \"type\": \"histogram2dcontour\"}], \"mesh3d\": [{\"colorbar\": {\"outlinewidth\": 0, \"ticks\": \"\"}, \"type\": \"mesh3d\"}], \"parcoords\": [{\"line\": {\"colorbar\": {\"outlinewidth\": 0, \"ticks\": \"\"}}, \"type\": \"parcoords\"}], \"pie\": [{\"automargin\": true, \"type\": \"pie\"}], \"scatter\": [{\"marker\": {\"colorbar\": {\"outlinewidth\": 0, \"ticks\": \"\"}}, \"type\": \"scatter\"}], \"scatter3d\": [{\"line\": {\"colorbar\": {\"outlinewidth\": 0, \"ticks\": \"\"}}, \"marker\": {\"colorbar\": {\"outlinewidth\": 0, \"ticks\": \"\"}}, \"type\": \"scatter3d\"}], \"scattercarpet\": [{\"marker\": {\"colorbar\": {\"outlinewidth\": 0, \"ticks\": \"\"}}, \"type\": \"scattercarpet\"}], \"scattergeo\": [{\"marker\": {\"colorbar\": {\"outlinewidth\": 0, \"ticks\": \"\"}}, \"type\": \"scattergeo\"}], \"scattergl\": [{\"marker\": {\"colorbar\": {\"outlinewidth\": 0, \"ticks\": \"\"}}, \"type\": \"scattergl\"}], \"scattermapbox\": [{\"marker\": {\"colorbar\": {\"outlinewidth\": 0, \"ticks\": \"\"}}, \"type\": \"scattermapbox\"}], \"scatterpolar\": [{\"marker\": {\"colorbar\": {\"outlinewidth\": 0, \"ticks\": \"\"}}, \"type\": \"scatterpolar\"}], \"scatterpolargl\": [{\"marker\": {\"colorbar\": {\"outlinewidth\": 0, \"ticks\": \"\"}}, \"type\": \"scatterpolargl\"}], \"scatterternary\": [{\"marker\": {\"colorbar\": {\"outlinewidth\": 0, \"ticks\": \"\"}}, \"type\": \"scatterternary\"}], \"surface\": [{\"colorbar\": {\"outlinewidth\": 0, \"ticks\": \"\"}, \"colorscale\": [[0.0, \"#0d0887\"], [0.1111111111111111, \"#46039f\"], [0.2222222222222222, \"#7201a8\"], [0.3333333333333333, \"#9c179e\"], [0.4444444444444444, \"#bd3786\"], [0.5555555555555556, \"#d8576b\"], [0.6666666666666666, \"#ed7953\"], [0.7777777777777778, \"#fb9f3a\"], [0.8888888888888888, \"#fdca26\"], [1.0, \"#f0f921\"]], \"type\": \"surface\"}], \"table\": [{\"cells\": {\"fill\": {\"color\": \"#EBF0F8\"}, \"line\": {\"color\": \"white\"}}, \"header\": {\"fill\": {\"color\": \"#C8D4E3\"}, \"line\": {\"color\": \"white\"}}, \"type\": \"table\"}]}, \"layout\": {\"annotationdefaults\": {\"arrowcolor\": \"#2a3f5f\", \"arrowhead\": 0, \"arrowwidth\": 1}, \"coloraxis\": {\"colorbar\": {\"outlinewidth\": 0, \"ticks\": \"\"}}, \"colorscale\": {\"diverging\": [[0, \"#8e0152\"], [0.1, \"#c51b7d\"], [0.2, \"#de77ae\"], [0.3, \"#f1b6da\"], [0.4, \"#fde0ef\"], [0.5, \"#f7f7f7\"], [0.6, \"#e6f5d0\"], [0.7, \"#b8e186\"], [0.8, \"#7fbc41\"], [0.9, \"#4d9221\"], [1, \"#276419\"]], \"sequential\": [[0.0, \"#0d0887\"], [0.1111111111111111, \"#46039f\"], [0.2222222222222222, \"#7201a8\"], [0.3333333333333333, \"#9c179e\"], [0.4444444444444444, \"#bd3786\"], [0.5555555555555556, \"#d8576b\"], [0.6666666666666666, \"#ed7953\"], [0.7777777777777778, \"#fb9f3a\"], [0.8888888888888888, \"#fdca26\"], [1.0, \"#f0f921\"]], \"sequentialminus\": [[0.0, \"#0d0887\"], [0.1111111111111111, \"#46039f\"], [0.2222222222222222, \"#7201a8\"], [0.3333333333333333, \"#9c179e\"], [0.4444444444444444, \"#bd3786\"], [0.5555555555555556, \"#d8576b\"], [0.6666666666666666, \"#ed7953\"], [0.7777777777777778, \"#fb9f3a\"], [0.8888888888888888, \"#fdca26\"], [1.0, \"#f0f921\"]]}, \"colorway\": [\"#636efa\", \"#EF553B\", \"#00cc96\", \"#ab63fa\", \"#FFA15A\", \"#19d3f3\", \"#FF6692\", \"#B6E880\", \"#FF97FF\", \"#FECB52\"], \"font\": {\"color\": \"#2a3f5f\"}, \"geo\": {\"bgcolor\": \"white\", \"lakecolor\": \"white\", \"landcolor\": \"#E5ECF6\", \"showlakes\": true, \"showland\": true, \"subunitcolor\": \"white\"}, \"hoverlabel\": {\"align\": \"left\"}, \"hovermode\": \"closest\", \"mapbox\": {\"style\": \"light\"}, \"paper_bgcolor\": \"white\", \"plot_bgcolor\": \"#E5ECF6\", \"polar\": {\"angularaxis\": {\"gridcolor\": \"white\", \"linecolor\": \"white\", \"ticks\": \"\"}, \"bgcolor\": \"#E5ECF6\", \"radialaxis\": {\"gridcolor\": \"white\", \"linecolor\": \"white\", \"ticks\": \"\"}}, \"scene\": {\"xaxis\": {\"backgroundcolor\": \"#E5ECF6\", \"gridcolor\": \"white\", \"gridwidth\": 2, \"linecolor\": \"white\", \"showbackground\": true, \"ticks\": \"\", \"zerolinecolor\": \"white\"}, \"yaxis\": {\"backgroundcolor\": \"#E5ECF6\", \"gridcolor\": \"white\", \"gridwidth\": 2, \"linecolor\": \"white\", \"showbackground\": true, \"ticks\": \"\", \"zerolinecolor\": \"white\"}, \"zaxis\": {\"backgroundcolor\": \"#E5ECF6\", \"gridcolor\": \"white\", \"gridwidth\": 2, \"linecolor\": \"white\", \"showbackground\": true, \"ticks\": \"\", \"zerolinecolor\": \"white\"}}, \"shapedefaults\": {\"line\": {\"color\": \"#2a3f5f\"}}, \"ternary\": {\"aaxis\": {\"gridcolor\": \"white\", \"linecolor\": \"white\", \"ticks\": \"\"}, \"baxis\": {\"gridcolor\": \"white\", \"linecolor\": \"white\", \"ticks\": \"\"}, \"bgcolor\": \"#E5ECF6\", \"caxis\": {\"gridcolor\": \"white\", \"linecolor\": \"white\", \"ticks\": \"\"}}, \"title\": {\"x\": 0.05}, \"xaxis\": {\"automargin\": true, \"gridcolor\": \"white\", \"linecolor\": \"white\", \"ticks\": \"\", \"title\": {\"standoff\": 15}, \"zerolinecolor\": \"white\", \"zerolinewidth\": 2}, \"yaxis\": {\"automargin\": true, \"gridcolor\": \"white\", \"linecolor\": \"white\", \"ticks\": \"\", \"title\": {\"standoff\": 15}, \"zerolinecolor\": \"white\", \"zerolinewidth\": 2}}}, \"title\": {\"font\": {\"color\": \"#4D5663\"}, \"text\": \"Trend in the most popular songs by year\"}, \"xaxis\": {\"anchor\": \"y\", \"domain\": [0.0, 0.2888888888888889], \"gridcolor\": \"#E1E5ED\", \"showgrid\": true, \"tickfont\": {\"color\": \"#4D5663\"}, \"title\": {\"font\": {\"color\": \"#4D5663\"}, \"text\": \"Years (1920-2020)\"}, \"zerolinecolor\": \"#E1E5ED\"}, \"xaxis2\": {\"anchor\": \"y2\", \"domain\": [0.35555555555555557, 0.6444444444444445], \"gridcolor\": \"#E1E5ED\", \"showgrid\": true, \"tickfont\": {\"color\": \"#4D5663\"}, \"title\": {\"font\": {\"color\": \"#4D5663\"}, \"text\": \"Years (1920-2020)\"}, \"zerolinecolor\": \"#E1E5ED\"}, \"xaxis3\": {\"anchor\": \"y3\", \"domain\": [0.7111111111111111, 1.0], \"gridcolor\": \"#E1E5ED\", \"showgrid\": true, \"tickfont\": {\"color\": \"#4D5663\"}, \"title\": {\"font\": {\"color\": \"#4D5663\"}, \"text\": \"Years (1920-2020)\"}, \"zerolinecolor\": \"#E1E5ED\"}, \"xaxis4\": {\"anchor\": \"y4\", \"domain\": [0.0, 0.2888888888888889], \"gridcolor\": \"#E1E5ED\", \"showgrid\": true, \"tickfont\": {\"color\": \"#4D5663\"}, \"title\": {\"font\": {\"color\": \"#4D5663\"}, \"text\": \"Years (1920-2020)\"}, \"zerolinecolor\": \"#E1E5ED\"}, \"xaxis5\": {\"anchor\": \"y5\", \"domain\": [0.35555555555555557, 0.6444444444444445], \"gridcolor\": \"#E1E5ED\", \"showgrid\": true, \"tickfont\": {\"color\": \"#4D5663\"}, \"title\": {\"font\": {\"color\": \"#4D5663\"}, \"text\": \"Years (1920-2020)\"}, \"zerolinecolor\": \"#E1E5ED\"}, \"xaxis6\": {\"anchor\": \"y6\", \"domain\": [0.7111111111111111, 1.0], \"gridcolor\": \"#E1E5ED\", \"showgrid\": true, \"tickfont\": {\"color\": \"#4D5663\"}, \"title\": {\"font\": {\"color\": \"#4D5663\"}, \"text\": \"Years (1920-2020)\"}, \"zerolinecolor\": \"#E1E5ED\"}, \"xaxis7\": {\"anchor\": \"y7\", \"domain\": [0.0, 0.2888888888888889], \"gridcolor\": \"#E1E5ED\", \"showgrid\": true, \"tickfont\": {\"color\": \"#4D5663\"}, \"title\": {\"font\": {\"color\": \"#4D5663\"}, \"text\": \"Years (1920-2020)\"}, \"zerolinecolor\": \"#E1E5ED\"}, \"yaxis\": {\"anchor\": \"x\", \"domain\": [0.7777777777777778, 1.0], \"gridcolor\": \"#E1E5ED\", \"showgrid\": true, \"tickfont\": {\"color\": \"#4D5663\"}, \"title\": {\"font\": {\"color\": \"#4D5663\"}, \"text\": \"Features\"}, \"zerolinecolor\": \"#E1E5ED\"}, \"yaxis2\": {\"anchor\": \"x2\", \"domain\": [0.7777777777777778, 1.0], \"gridcolor\": \"#E1E5ED\", \"matches\": \"y\", \"showgrid\": true, \"showticklabels\": false, \"tickfont\": {\"color\": \"#4D5663\"}, \"title\": {\"font\": {\"color\": \"#4D5663\"}, \"text\": \"Features\"}, \"zerolinecolor\": \"#E1E5ED\"}, \"yaxis3\": {\"anchor\": \"x3\", \"domain\": [0.7777777777777778, 1.0], \"gridcolor\": \"#E1E5ED\", \"matches\": \"y\", \"showgrid\": true, \"showticklabels\": false, \"tickfont\": {\"color\": \"#4D5663\"}, \"title\": {\"font\": {\"color\": \"#4D5663\"}, \"text\": \"Features\"}, \"zerolinecolor\": \"#E1E5ED\"}, \"yaxis4\": {\"anchor\": \"x4\", \"domain\": [0.3888888888888889, 0.6111111111111112], \"gridcolor\": \"#E1E5ED\", \"showgrid\": true, \"tickfont\": {\"color\": \"#4D5663\"}, \"title\": {\"font\": {\"color\": \"#4D5663\"}, \"text\": \"Features\"}, \"zerolinecolor\": \"#E1E5ED\"}, \"yaxis5\": {\"anchor\": \"x5\", \"domain\": [0.3888888888888889, 0.6111111111111112], \"gridcolor\": \"#E1E5ED\", \"matches\": \"y4\", \"showgrid\": true, \"showticklabels\": false, \"tickfont\": {\"color\": \"#4D5663\"}, \"title\": {\"font\": {\"color\": \"#4D5663\"}, \"text\": \"Features\"}, \"zerolinecolor\": \"#E1E5ED\"}, \"yaxis6\": {\"anchor\": \"x6\", \"domain\": [0.3888888888888889, 0.6111111111111112], \"gridcolor\": \"#E1E5ED\", \"matches\": \"y4\", \"showgrid\": true, \"showticklabels\": false, \"tickfont\": {\"color\": \"#4D5663\"}, \"title\": {\"font\": {\"color\": \"#4D5663\"}, \"text\": \"Features\"}, \"zerolinecolor\": \"#E1E5ED\"}, \"yaxis7\": {\"anchor\": \"x7\", \"domain\": [0.0, 0.22222222222222224], \"gridcolor\": \"#E1E5ED\", \"showgrid\": true, \"tickfont\": {\"color\": \"#4D5663\"}, \"title\": {\"font\": {\"color\": \"#4D5663\"}, \"text\": \"Features\"}, \"zerolinecolor\": \"#E1E5ED\"}},\n",
       "                        {\"responsive\": true}\n",
       "                    ).then(function(){\n",
       "                            \n",
       "var gd = document.getElementById('7528884b-fb5a-433b-a675-12d1a9ab3e3d');\n",
       "var x = new MutationObserver(function (mutations, observer) {{\n",
       "        var display = window.getComputedStyle(gd).display;\n",
       "        if (!display || display === 'none') {{\n",
       "            console.log([gd, 'removed!']);\n",
       "            Plotly.purge(gd);\n",
       "            observer.disconnect();\n",
       "        }}\n",
       "}});\n",
       "\n",
       "// Listen for the removal of the full notebook cells\n",
       "var notebookContainer = gd.closest('#notebook-container');\n",
       "if (notebookContainer) {{\n",
       "    x.observe(notebookContainer, {childList: true});\n",
       "}}\n",
       "\n",
       "// Listen for the clearing of the current output cell\n",
       "var outputEl = gd.closest('.output');\n",
       "if (outputEl) {{\n",
       "    x.observe(outputEl, {childList: true});\n",
       "}}\n",
       "\n",
       "                        })\n",
       "                };\n",
       "                });\n",
       "            </script>\n",
       "        </div>"
      ]
     },
     "metadata": {},
     "output_type": "display_data"
    }
   ],
   "source": [
    "trend.iplot(kind=\"scatter\", \n",
    "            title=\"Trend in the most popular songs by year\", \n",
    "            xTitle=\"Years (1920-2020)\", \n",
    "            yTitle=\"Features\", \n",
    "            theme=\"white\", \n",
    "            colorscale=\"plotly\", \n",
    "            mode=\"lines\", \n",
    "            subplots=True,\n",
    "            subplot_titles=True,\n",
    "            shape=(3,3),\n",
    "            shared_yaxes=True)"
   ]
  }
 ],
 "metadata": {
  "hide_input": false,
  "kernelspec": {
   "display_name": "Python 3",
   "language": "python",
   "name": "python3"
  },
  "language_info": {
   "codemirror_mode": {
    "name": "ipython",
    "version": 3
   },
   "file_extension": ".py",
   "mimetype": "text/x-python",
   "name": "python",
   "nbconvert_exporter": "python",
   "pygments_lexer": "ipython3",
   "version": "3.8.2"
  },
  "toc": {
   "base_numbering": 1,
   "nav_menu": {},
   "number_sections": true,
   "sideBar": true,
   "skip_h1_title": false,
   "title_cell": "Table of Contents",
   "title_sidebar": "Contents",
   "toc_cell": false,
   "toc_position": {},
   "toc_section_display": true,
   "toc_window_display": false
  },
  "varInspector": {
   "cols": {
    "lenName": 16,
    "lenType": 16,
    "lenVar": 40
   },
   "kernels_config": {
    "python": {
     "delete_cmd_postfix": "",
     "delete_cmd_prefix": "del ",
     "library": "var_list.py",
     "varRefreshCmd": "print(var_dic_list())"
    },
    "r": {
     "delete_cmd_postfix": ") ",
     "delete_cmd_prefix": "rm(",
     "library": "var_list.r",
     "varRefreshCmd": "cat(var_dic_list()) "
    }
   },
   "types_to_exclude": [
    "module",
    "function",
    "builtin_function_or_method",
    "instance",
    "_Feature"
   ],
   "window_display": false
  }
 },
 "nbformat": 4,
 "nbformat_minor": 4
}
