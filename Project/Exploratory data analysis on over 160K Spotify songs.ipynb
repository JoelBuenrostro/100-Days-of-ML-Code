{
 "cells": [
  {
   "cell_type": "code",
   "execution_count": 1,
   "metadata": {},
   "outputs": [
    {
     "data": {
      "text/html": [
       "        <script type=\"text/javascript\">\n",
       "        window.PlotlyConfig = {MathJaxConfig: 'local'};\n",
       "        if (window.MathJax) {MathJax.Hub.Config({SVG: {font: \"STIX-Web\"}});}\n",
       "        if (typeof require !== 'undefined') {\n",
       "        require.undef(\"plotly\");\n",
       "        requirejs.config({\n",
       "            paths: {\n",
       "                'plotly': ['https://cdn.plot.ly/plotly-latest.min']\n",
       "            }\n",
       "        });\n",
       "        require(['plotly'], function(Plotly) {\n",
       "            window._Plotly = Plotly;\n",
       "        });\n",
       "        }\n",
       "        </script>\n",
       "        "
      ]
     },
     "metadata": {},
     "output_type": "display_data"
    }
   ],
   "source": [
    "import pandas as pd\n",
    "import cufflinks as cf"
   ]
  },
  {
   "cell_type": "code",
   "execution_count": null,
   "metadata": {},
   "outputs": [],
   "source": [
    "spotify_data = pd.read_csv(r'Data\\data.csv')\n",
    "spotify_data_genres = pd.read_csv(r'Data\\data_w_genres.csv')\n",
    "spotify_years = pd.read_csv(r'Data\\data_by_year.csv')\n",
    "spotify_genres = pd.read_csv(r'Data\\data_by_genres.csv')\n",
    "spotify_artist = pd.read_csv(r'Data\\data_by_artist.csv')\n",
    "spotify_super_genres = pd.read_csv(r'Data\\super_genres.json')"
   ]
  },
  {
   "cell_type": "code",
   "execution_count": null,
   "metadata": {
    "scrolled": false
   },
   "outputs": [],
   "source": [
    "spotify_data.info()"
   ]
  },
  {
   "cell_type": "code",
   "execution_count": null,
   "metadata": {},
   "outputs": [],
   "source": [
    "spotify_data_genres.info()"
   ]
  },
  {
   "cell_type": "code",
   "execution_count": null,
   "metadata": {},
   "outputs": [],
   "source": [
    "spotify_data['duration_minutes'] = spotify_data['duration_ms'] / 60000"
   ]
  },
  {
   "cell_type": "code",
   "execution_count": null,
   "metadata": {},
   "outputs": [],
   "source": [
    "spotify_data['duration_minutes'].describe()"
   ]
  },
  {
   "cell_type": "code",
   "execution_count": null,
   "metadata": {},
   "outputs": [],
   "source": [
    "top_danceability_name = spotify_data[spotify_data['danceability'] == spotify_data['danceability'].max()]['name']\n",
    "top_danceability = spotify_data.loc[spotify_data['danceability'].idxmax()]"
   ]
  },
  {
   "cell_type": "code",
   "execution_count": null,
   "metadata": {},
   "outputs": [],
   "source": [
    "less_danceability_name = spotify_data[spotify_data['danceability'] == spotify_data['danceability'].min()]['name']\n",
    "less_danceability = spotify_data.loc[spotify_data['danceability'].idxmin()]"
   ]
  },
  {
   "cell_type": "code",
   "execution_count": null,
   "metadata": {},
   "outputs": [],
   "source": [
    "top_energy_name = spotify_data[spotify_data['energy'] == spotify_data['energy'].max()]['name']\n",
    "top_energy = spotify_data.loc[spotify_data['energy'].idxmax()]"
   ]
  },
  {
   "cell_type": "code",
   "execution_count": null,
   "metadata": {},
   "outputs": [],
   "source": [
    "top_loudness_name = spotify_data[spotify_data['loudness'] == spotify_data['loudness'].max()]['name']\n",
    "top_loudness = spotify_data.loc[spotify_data['loudness'].idxmax()]"
   ]
  },
  {
   "cell_type": "code",
   "execution_count": null,
   "metadata": {},
   "outputs": [],
   "source": [
    "top_popularity_name = spotify_data[spotify_data['popularity'] == spotify_data['popularity'].max()]['name']\n",
    "top_popularity = spotify_data.loc[spotify_data['popularity'].idxmax()]"
   ]
  },
  {
   "cell_type": "code",
   "execution_count": null,
   "metadata": {
    "scrolled": false
   },
   "outputs": [],
   "source": [
    "most_popular_songs = spotify_data[spotify_data['popularity'] > 90]\n",
    "#most_popular_songs.to_csv(r'Data\\popular_songs.csv')"
   ]
  },
  {
   "cell_type": "code",
   "execution_count": null,
   "metadata": {},
   "outputs": [],
   "source": [
    "total_genres = spotify_data_genres['genres'].nunique()"
   ]
  },
  {
   "cell_type": "code",
   "execution_count": null,
   "metadata": {
    "scrolled": true
   },
   "outputs": [],
   "source": [
    "print(\"Songs : \", len(spotify_data))\n",
    "print(\"Artist : \", len(spotify_data[\"artists\"].unique()))\n",
    "print(\"Years : \", len(spotify_data[\"year\"].unique()))\n",
    "print(\"Genres : \", len(spotify_data_genres[\"genres\"].unique()))\n",
    "print(\"Most danceable song : \", top_danceability_name)\n",
    "print(\"Most popular song : \", top_popularity_name)"
   ]
  },
  {
   "cell_type": "code",
   "execution_count": null,
   "metadata": {},
   "outputs": [],
   "source": [
    "audio_features = spotify_data[[\"acousticness\", \"danceability\", \"energy\", \"explicit\", \"instrumentalness\", \"speechiness\", \"valence\", \"year\"]]"
   ]
  },
  {
   "cell_type": "code",
   "execution_count": null,
   "metadata": {},
   "outputs": [],
   "source": [
    "trend = audio_features.groupby([\"year\"]).mean()"
   ]
  },
  {
   "cell_type": "code",
   "execution_count": null,
   "metadata": {},
   "outputs": [],
   "source": [
    "trend.iplot(kind=\"scatter\",\n",
    "            title=\"Trends in 160,000 Spotify songs over the last 100 years\", \n",
    "            xTitle=\"Years (1920-2020)\", \n",
    "            yTitle=\"Features\", \n",
    "            theme=\"white\", \n",
    "            colorscale=\"plotly\", \n",
    "            mode=\"lines\")"
   ]
  },
  {
   "cell_type": "code",
   "execution_count": null,
   "metadata": {
    "scrolled": false
   },
   "outputs": [],
   "source": [
    "trend.iplot(kind=\"scatter\", \n",
    "            title=\"Trends in 160,000 Spotify songs over the last 100 years\", \n",
    "            xTitle=\"Years (1920-2020)\", \n",
    "            yTitle=\"Features\", \n",
    "            theme=\"white\", \n",
    "            colorscale=\"plotly\", \n",
    "            mode=\"lines\", \n",
    "            subplots=True,\n",
    "            subplot_titles=True,\n",
    "            shape=(3,3),\n",
    "            shared_yaxes=True)"
   ]
  }
 ],
 "metadata": {
  "hide_input": false,
  "kernelspec": {
   "display_name": "Python 3",
   "language": "python",
   "name": "python3"
  },
  "language_info": {
   "codemirror_mode": {
    "name": "ipython",
    "version": 3
   },
   "file_extension": ".py",
   "mimetype": "text/x-python",
   "name": "python",
   "nbconvert_exporter": "python",
   "pygments_lexer": "ipython3",
   "version": "3.8.2"
  },
  "nbTranslate": {
   "displayLangs": [
    "es",
    "en"
   ],
   "hotkey": "alt-t",
   "langInMainMenu": true,
   "sourceLang": "en",
   "targetLang": "es",
   "useGoogleTranslate": true
  },
  "toc": {
   "base_numbering": 1,
   "nav_menu": {},
   "number_sections": true,
   "sideBar": true,
   "skip_h1_title": false,
   "title_cell": "Table of Contents",
   "title_sidebar": "Contents",
   "toc_cell": false,
   "toc_position": {},
   "toc_section_display": true,
   "toc_window_display": false
  },
  "varInspector": {
   "cols": {
    "lenName": 16,
    "lenType": 16,
    "lenVar": 40
   },
   "kernels_config": {
    "python": {
     "delete_cmd_postfix": "",
     "delete_cmd_prefix": "del ",
     "library": "var_list.py",
     "varRefreshCmd": "print(var_dic_list())"
    },
    "r": {
     "delete_cmd_postfix": ") ",
     "delete_cmd_prefix": "rm(",
     "library": "var_list.r",
     "varRefreshCmd": "cat(var_dic_list()) "
    }
   },
   "position": {
    "height": "788px",
    "left": "1556px",
    "right": "20px",
    "top": "126px",
    "width": "363px"
   },
   "types_to_exclude": [
    "module",
    "function",
    "builtin_function_or_method",
    "instance",
    "_Feature"
   ],
   "window_display": true
  }
 },
 "nbformat": 4,
 "nbformat_minor": 4
}
