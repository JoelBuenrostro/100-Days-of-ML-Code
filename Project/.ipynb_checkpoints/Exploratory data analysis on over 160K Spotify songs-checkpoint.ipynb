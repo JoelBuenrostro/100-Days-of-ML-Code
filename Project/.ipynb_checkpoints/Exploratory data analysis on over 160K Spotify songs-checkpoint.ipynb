{
 "cells": [
  {
   "cell_type": "code",
   "execution_count": 1,
   "metadata": {},
   "outputs": [],
   "source": [
    "import pandas as pd"
   ]
  },
  {
   "cell_type": "code",
   "execution_count": 2,
   "metadata": {},
   "outputs": [],
   "source": [
    "spotify_data = pd.read_csv(r'Data\\data.csv')\n",
    "spotify_data_genres = pd.read_csv(r'Data\\data_w_genres.csv')\n",
    "spotify_years = pd.read_csv(r'Data\\data_by_year.csv')\n",
    "spotify_genres = pd.read_csv(r'Data\\data_by_genres.csv')\n",
    "spotify_artist = pd.read_csv(r'Data\\data_by_artist.csv')\n",
    "spotify_super_genres = pd.read_csv(r'Data\\super_genres.json')"
   ]
  },
  {
   "cell_type": "code",
   "execution_count": 3,
   "metadata": {
    "scrolled": false
   },
   "outputs": [
    {
     "name": "stdout",
     "output_type": "stream",
     "text": [
      "<class 'pandas.core.frame.DataFrame'>\n",
      "RangeIndex: 168592 entries, 0 to 168591\n",
      "Data columns (total 20 columns):\n",
      " #   Column            Non-Null Count   Dtype  \n",
      "---  ------            --------------   -----  \n",
      " 0   Unnamed: 0        168592 non-null  int64  \n",
      " 1   acousticness      168592 non-null  float64\n",
      " 2   artists           168592 non-null  object \n",
      " 3   danceability      168592 non-null  float64\n",
      " 4   duration_ms       168592 non-null  int64  \n",
      " 5   energy            168592 non-null  float64\n",
      " 6   explicit          168592 non-null  int64  \n",
      " 7   id                168592 non-null  object \n",
      " 8   instrumentalness  168592 non-null  float64\n",
      " 9   key               168592 non-null  int64  \n",
      " 10  liveness          168592 non-null  float64\n",
      " 11  loudness          168592 non-null  float64\n",
      " 12  mode              168592 non-null  int64  \n",
      " 13  name              168592 non-null  object \n",
      " 14  popularity        168592 non-null  int64  \n",
      " 15  release_date      168592 non-null  object \n",
      " 16  speechiness       168592 non-null  float64\n",
      " 17  tempo             168592 non-null  float64\n",
      " 18  valence           168592 non-null  float64\n",
      " 19  year              168592 non-null  int64  \n",
      "dtypes: float64(9), int64(7), object(4)\n",
      "memory usage: 25.7+ MB\n"
     ]
    }
   ],
   "source": [
    "spotify_data.info()"
   ]
  },
  {
   "cell_type": "code",
   "execution_count": 4,
   "metadata": {},
   "outputs": [
    {
     "name": "stdout",
     "output_type": "stream",
     "text": [
      "<class 'pandas.core.frame.DataFrame'>\n",
      "RangeIndex: 27606 entries, 0 to 27605\n",
      "Data columns (total 17 columns):\n",
      " #   Column            Non-Null Count  Dtype  \n",
      "---  ------            --------------  -----  \n",
      " 0   Unnamed: 0        27606 non-null  int64  \n",
      " 1   artists           27606 non-null  object \n",
      " 2   acousticness      27606 non-null  float64\n",
      " 3   danceability      27606 non-null  float64\n",
      " 4   duration_ms       27606 non-null  float64\n",
      " 5   energy            27606 non-null  float64\n",
      " 6   instrumentalness  27606 non-null  float64\n",
      " 7   liveness          27606 non-null  float64\n",
      " 8   loudness          27606 non-null  float64\n",
      " 9   speechiness       27606 non-null  float64\n",
      " 10  tempo             27606 non-null  float64\n",
      " 11  valence           27606 non-null  float64\n",
      " 12  popularity        27606 non-null  float64\n",
      " 13  key               27606 non-null  int64  \n",
      " 14  mode              27606 non-null  int64  \n",
      " 15  count             27606 non-null  int64  \n",
      " 16  genres            27606 non-null  object \n",
      "dtypes: float64(11), int64(4), object(2)\n",
      "memory usage: 3.6+ MB\n"
     ]
    }
   ],
   "source": [
    "spotify_data_genres.info()"
   ]
  },
  {
   "cell_type": "code",
   "execution_count": 5,
   "metadata": {},
   "outputs": [],
   "source": [
    "spotify_data['duration_minutes'] = spotify_data['duration_ms'] / 60000"
   ]
  },
  {
   "cell_type": "code",
   "execution_count": 6,
   "metadata": {},
   "outputs": [
    {
     "data": {
      "text/plain": [
       "count    168592.000000\n",
       "mean          3.878359\n",
       "std           2.039869\n",
       "min           0.085133\n",
       "25%           2.869333\n",
       "50%           3.485550\n",
       "75%           4.395117\n",
       "max          90.058333\n",
       "Name: duration_minutes, dtype: float64"
      ]
     },
     "execution_count": 6,
     "metadata": {},
     "output_type": "execute_result"
    }
   ],
   "source": [
    "spotify_data['duration_minutes'].describe()"
   ]
  },
  {
   "cell_type": "code",
   "execution_count": 10,
   "metadata": {},
   "outputs": [],
   "source": [
    "top_danceability_name = spotify_data[spotify_data['danceability'] == spotify_data['danceability'].max()]['name']\n",
    "top_danceability = spotify_data.loc[spotify_data['danceability'].idxmax()]"
   ]
  },
  {
   "cell_type": "code",
   "execution_count": 11,
   "metadata": {},
   "outputs": [],
   "source": [
    "less_danceability_name = spotify_data[spotify_data['danceability'] == spotify_data['danceability'].min()]['name']\n",
    "less_danceability = spotify_data.loc[spotify_data['danceability'].idxmin()]"
   ]
  },
  {
   "cell_type": "code",
   "execution_count": 12,
   "metadata": {},
   "outputs": [],
   "source": [
    "top_energy_name = spotify_data[spotify_data['energy'] == spotify_data['energy'].max()]['name']\n",
    "top_energy = spotify_data.loc[spotify_data['energy'].idxmax()]"
   ]
  },
  {
   "cell_type": "code",
   "execution_count": 13,
   "metadata": {},
   "outputs": [],
   "source": [
    "top_loudness_name = spotify_data[spotify_data['loudness'] == spotify_data['loudness'].max()]['name']\n",
    "top_loudness = spotify_data.loc[spotify_data['loudness'].idxmax()]"
   ]
  },
  {
   "cell_type": "code",
   "execution_count": 14,
   "metadata": {},
   "outputs": [],
   "source": [
    "top_popularity_name = spotify_data[spotify_data['popularity'] == spotify_data['popularity'].max()]['name']\n",
    "top_popularity = spotify_data.loc[spotify_data['popularity'].idxmax()]"
   ]
  },
  {
   "cell_type": "code",
   "execution_count": 24,
   "metadata": {
    "scrolled": false
   },
   "outputs": [],
   "source": [
    "most_popular_songs = spotify_data[spotify_data['popularity'] > 90]\n",
    "#most_popular_songs.to_csv(r'Data\\popular_songs.csv')"
   ]
  },
  {
   "cell_type": "code",
   "execution_count": 16,
   "metadata": {},
   "outputs": [
    {
     "data": {
      "text/plain": [
       "10164"
      ]
     },
     "execution_count": 16,
     "metadata": {},
     "output_type": "execute_result"
    }
   ],
   "source": [
    "total_genres = spotify_data_genres['genres'].nunique()"
   ]
  },
  {
   "cell_type": "code",
   "execution_count": 29,
   "metadata": {
    "scrolled": true
   },
   "outputs": [
    {
     "name": "stdout",
     "output_type": "stream",
     "text": [
      "Songs :  168592\n",
      "Artist :  33268\n",
      "Years :  100\n",
      "Genres :  10164\n",
      "Most danceable song :  6845    Funky Cold Medina\n",
      "Name: name, dtype: object\n",
      "Most popular song :  9875    Blinding Lights\n",
      "Name: name, dtype: object\n"
     ]
    }
   ],
   "source": [
    "print(\"Songs : \", len(spotify_data))\n",
    "print(\"Artist : \", len(spotify_data[\"artists\"].unique()))\n",
    "print(\"Years : \", len(spotify_data[\"year\"].unique()))\n",
    "print(\"Genres : \", len(spotify_data_genres[\"genres\"].unique()))\n",
    "print(\"Most danceable song : \", top_danceability_name)\n",
    "print(\"Most popular song : \", top_popularity_name)"
   ]
  },
  {
   "cell_type": "code",
   "execution_count": null,
   "metadata": {},
   "outputs": [],
   "source": []
  }
 ],
 "metadata": {
  "hide_input": false,
  "kernelspec": {
   "display_name": "Python 3",
   "language": "python",
   "name": "python3"
  },
  "language_info": {
   "codemirror_mode": {
    "name": "ipython",
    "version": 3
   },
   "file_extension": ".py",
   "mimetype": "text/x-python",
   "name": "python",
   "nbconvert_exporter": "python",
   "pygments_lexer": "ipython3",
   "version": "3.8.2"
  },
  "nbTranslate": {
   "displayLangs": [
    "es",
    "en"
   ],
   "hotkey": "alt-t",
   "langInMainMenu": true,
   "sourceLang": "en",
   "targetLang": "es",
   "useGoogleTranslate": true
  },
  "toc": {
   "base_numbering": 1,
   "nav_menu": {},
   "number_sections": true,
   "sideBar": true,
   "skip_h1_title": false,
   "title_cell": "Table of Contents",
   "title_sidebar": "Contents",
   "toc_cell": false,
   "toc_position": {},
   "toc_section_display": true,
   "toc_window_display": false
  },
  "varInspector": {
   "cols": {
    "lenName": 16,
    "lenType": 16,
    "lenVar": 40
   },
   "kernels_config": {
    "python": {
     "delete_cmd_postfix": "",
     "delete_cmd_prefix": "del ",
     "library": "var_list.py",
     "varRefreshCmd": "print(var_dic_list())"
    },
    "r": {
     "delete_cmd_postfix": ") ",
     "delete_cmd_prefix": "rm(",
     "library": "var_list.r",
     "varRefreshCmd": "cat(var_dic_list()) "
    }
   },
   "types_to_exclude": [
    "module",
    "function",
    "builtin_function_or_method",
    "instance",
    "_Feature"
   ],
   "window_display": false
  }
 },
 "nbformat": 4,
 "nbformat_minor": 4
}
