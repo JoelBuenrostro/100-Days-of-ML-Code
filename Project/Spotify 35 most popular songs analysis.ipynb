{
 "cells": [
  {
   "cell_type": "markdown",
   "metadata": {
    "hide_input": false
   },
   "source": [
    "# Spotify 35 most popular songs analysis (May-2020)"
   ]
  },
  {
   "cell_type": "code",
   "execution_count": 1,
   "metadata": {
    "hide_input": false
   },
   "outputs": [
    {
     "data": {
      "text/html": [
       "        <script type=\"text/javascript\">\n",
       "        window.PlotlyConfig = {MathJaxConfig: 'local'};\n",
       "        if (window.MathJax) {MathJax.Hub.Config({SVG: {font: \"STIX-Web\"}});}\n",
       "        if (typeof require !== 'undefined') {\n",
       "        require.undef(\"plotly\");\n",
       "        requirejs.config({\n",
       "            paths: {\n",
       "                'plotly': ['https://cdn.plot.ly/plotly-latest.min']\n",
       "            }\n",
       "        });\n",
       "        require(['plotly'], function(Plotly) {\n",
       "            window._Plotly = Plotly;\n",
       "        });\n",
       "        }\n",
       "        </script>\n",
       "        "
      ]
     },
     "metadata": {},
     "output_type": "display_data"
    }
   ],
   "source": [
    "import pandas as pd\n",
    "import cufflinks as cf"
   ]
  },
  {
   "cell_type": "code",
   "execution_count": 2,
   "metadata": {
    "hide_input": false
   },
   "outputs": [
    {
     "data": {
      "text/html": [
       "        <script type=\"text/javascript\">\n",
       "        window.PlotlyConfig = {MathJaxConfig: 'local'};\n",
       "        if (window.MathJax) {MathJax.Hub.Config({SVG: {font: \"STIX-Web\"}});}\n",
       "        if (typeof require !== 'undefined') {\n",
       "        require.undef(\"plotly\");\n",
       "        requirejs.config({\n",
       "            paths: {\n",
       "                'plotly': ['https://cdn.plot.ly/plotly-latest.min']\n",
       "            }\n",
       "        });\n",
       "        require(['plotly'], function(Plotly) {\n",
       "            window._Plotly = Plotly;\n",
       "        });\n",
       "        }\n",
       "        </script>\n",
       "        "
      ]
     },
     "metadata": {},
     "output_type": "display_data"
    }
   ],
   "source": [
    "cf.go_offline()"
   ]
  },
  {
   "cell_type": "code",
   "execution_count": 3,
   "metadata": {},
   "outputs": [
    {
     "data": {
      "text/html": [
       "        <script type=\"text/javascript\">\n",
       "        window.PlotlyConfig = {MathJaxConfig: 'local'};\n",
       "        if (window.MathJax) {MathJax.Hub.Config({SVG: {font: \"STIX-Web\"}});}\n",
       "        if (typeof require !== 'undefined') {\n",
       "        require.undef(\"plotly\");\n",
       "        requirejs.config({\n",
       "            paths: {\n",
       "                'plotly': ['https://cdn.plot.ly/plotly-latest.min']\n",
       "            }\n",
       "        });\n",
       "        require(['plotly'], function(Plotly) {\n",
       "            window._Plotly = Plotly;\n",
       "        });\n",
       "        }\n",
       "        </script>\n",
       "        "
      ]
     },
     "metadata": {},
     "output_type": "display_data"
    }
   ],
   "source": [
    "cf.set_config_file(sharing=\"private\", theme=\"white\", colorscale=\"rdgy\", offline=True, offline_show_link=False, offline_link_text=\" \")"
   ]
  },
  {
   "cell_type": "code",
   "execution_count": 4,
   "metadata": {
    "scrolled": true
   },
   "outputs": [
    {
     "data": {
      "text/plain": [
       "{'sharing': 'private',\n",
       " 'theme': 'white',\n",
       " 'colorscale': 'rdgy',\n",
       " 'offline': True,\n",
       " 'offline_connected': True,\n",
       " 'offline_url': '',\n",
       " 'offline_show_link': False,\n",
       " 'offline_link_text': ' ',\n",
       " 'datagen_mode': 'stocks',\n",
       " 'dimensions': None,\n",
       " 'margin': None,\n",
       " 'offline_config': None}"
      ]
     },
     "execution_count": 4,
     "metadata": {},
     "output_type": "execute_result"
    }
   ],
   "source": [
    "cf.get_config_file()"
   ]
  },
  {
   "cell_type": "code",
   "execution_count": 5,
   "metadata": {},
   "outputs": [],
   "source": [
    "data = pd.read_csv(r\"Data/popular_songs.csv\")"
   ]
  },
  {
   "cell_type": "code",
   "execution_count": 6,
   "metadata": {
    "scrolled": true
   },
   "outputs": [],
   "source": [
    "data.sort_values(by=[\"popularity\"], ascending=False, inplace=True)"
   ]
  },
  {
   "cell_type": "code",
   "execution_count": 7,
   "metadata": {
    "scrolled": false
   },
   "outputs": [
    {
     "data": {
      "text/html": [
       "<div>\n",
       "<style scoped>\n",
       "    .dataframe tbody tr th:only-of-type {\n",
       "        vertical-align: middle;\n",
       "    }\n",
       "\n",
       "    .dataframe tbody tr th {\n",
       "        vertical-align: top;\n",
       "    }\n",
       "\n",
       "    .dataframe thead th {\n",
       "        text-align: right;\n",
       "    }\n",
       "</style>\n",
       "<table border=\"1\" class=\"dataframe\">\n",
       "  <thead>\n",
       "    <tr style=\"text-align: right;\">\n",
       "      <th></th>\n",
       "      <th>Unnamed: 0</th>\n",
       "      <th>Unnamed: 0.1</th>\n",
       "      <th>acousticness</th>\n",
       "      <th>artists</th>\n",
       "      <th>danceability</th>\n",
       "      <th>duration_ms</th>\n",
       "      <th>energy</th>\n",
       "      <th>explicit</th>\n",
       "      <th>id</th>\n",
       "      <th>instrumentalness</th>\n",
       "      <th>...</th>\n",
       "      <th>loudness</th>\n",
       "      <th>mode</th>\n",
       "      <th>name</th>\n",
       "      <th>popularity</th>\n",
       "      <th>release_date</th>\n",
       "      <th>speechiness</th>\n",
       "      <th>tempo</th>\n",
       "      <th>valence</th>\n",
       "      <th>year</th>\n",
       "      <th>duration_minutes</th>\n",
       "    </tr>\n",
       "  </thead>\n",
       "  <tbody>\n",
       "    <tr>\n",
       "      <th>21</th>\n",
       "      <td>9875</td>\n",
       "      <td>9875</td>\n",
       "      <td>0.00146</td>\n",
       "      <td>['The Weeknd']</td>\n",
       "      <td>0.514</td>\n",
       "      <td>200040</td>\n",
       "      <td>0.730</td>\n",
       "      <td>0</td>\n",
       "      <td>0VjIjW4GlUZAMYd2vXMi3b</td>\n",
       "      <td>0.000095</td>\n",
       "      <td>...</td>\n",
       "      <td>-5.934</td>\n",
       "      <td>1</td>\n",
       "      <td>Blinding Lights</td>\n",
       "      <td>100</td>\n",
       "      <td>2020-03-20</td>\n",
       "      <td>0.0598</td>\n",
       "      <td>171.005</td>\n",
       "      <td>0.334</td>\n",
       "      <td>2020</td>\n",
       "      <td>3.334000</td>\n",
       "    </tr>\n",
       "    <tr>\n",
       "      <th>25</th>\n",
       "      <td>9879</td>\n",
       "      <td>9879</td>\n",
       "      <td>0.73100</td>\n",
       "      <td>['Powfu', 'beabadoobee']</td>\n",
       "      <td>0.726</td>\n",
       "      <td>173333</td>\n",
       "      <td>0.431</td>\n",
       "      <td>0</td>\n",
       "      <td>7eJMfftS33KTjuF7lTsMCx</td>\n",
       "      <td>0.000000</td>\n",
       "      <td>...</td>\n",
       "      <td>-8.765</td>\n",
       "      <td>0</td>\n",
       "      <td>death bed (coffee for your head) (feat. beabad...</td>\n",
       "      <td>98</td>\n",
       "      <td>2020-02-08</td>\n",
       "      <td>0.1350</td>\n",
       "      <td>144.026</td>\n",
       "      <td>0.348</td>\n",
       "      <td>2020</td>\n",
       "      <td>2.888883</td>\n",
       "    </tr>\n",
       "    <tr>\n",
       "      <th>18</th>\n",
       "      <td>9872</td>\n",
       "      <td>9872</td>\n",
       "      <td>0.23300</td>\n",
       "      <td>['THE SCOTTS', 'Travis Scott', 'Kid Cudi']</td>\n",
       "      <td>0.716</td>\n",
       "      <td>165978</td>\n",
       "      <td>0.537</td>\n",
       "      <td>1</td>\n",
       "      <td>39Yp9wwQiSRIDOvrVg7mbk</td>\n",
       "      <td>0.000000</td>\n",
       "      <td>...</td>\n",
       "      <td>-7.648</td>\n",
       "      <td>0</td>\n",
       "      <td>THE SCOTTS</td>\n",
       "      <td>97</td>\n",
       "      <td>2020-04-24</td>\n",
       "      <td>0.0514</td>\n",
       "      <td>129.979</td>\n",
       "      <td>0.280</td>\n",
       "      <td>2020</td>\n",
       "      <td>2.766300</td>\n",
       "    </tr>\n",
       "    <tr>\n",
       "      <th>3</th>\n",
       "      <td>9772</td>\n",
       "      <td>9772</td>\n",
       "      <td>0.10400</td>\n",
       "      <td>['Roddy Ricch']</td>\n",
       "      <td>0.896</td>\n",
       "      <td>196653</td>\n",
       "      <td>0.586</td>\n",
       "      <td>1</td>\n",
       "      <td>0nbXyq5TXYPCO7pr3N8S4I</td>\n",
       "      <td>0.000000</td>\n",
       "      <td>...</td>\n",
       "      <td>-6.687</td>\n",
       "      <td>0</td>\n",
       "      <td>The Box</td>\n",
       "      <td>97</td>\n",
       "      <td>2019-12-06</td>\n",
       "      <td>0.0559</td>\n",
       "      <td>116.971</td>\n",
       "      <td>0.642</td>\n",
       "      <td>2019</td>\n",
       "      <td>3.277550</td>\n",
       "    </tr>\n",
       "    <tr>\n",
       "      <th>20</th>\n",
       "      <td>9874</td>\n",
       "      <td>9874</td>\n",
       "      <td>0.32100</td>\n",
       "      <td>['Drake']</td>\n",
       "      <td>0.834</td>\n",
       "      <td>247059</td>\n",
       "      <td>0.454</td>\n",
       "      <td>1</td>\n",
       "      <td>127QTOFJsJQp5LbJbu3A1y</td>\n",
       "      <td>0.000006</td>\n",
       "      <td>...</td>\n",
       "      <td>-9.750</td>\n",
       "      <td>0</td>\n",
       "      <td>Toosie Slide</td>\n",
       "      <td>97</td>\n",
       "      <td>2020-04-03</td>\n",
       "      <td>0.2010</td>\n",
       "      <td>81.618</td>\n",
       "      <td>0.837</td>\n",
       "      <td>2020</td>\n",
       "      <td>4.117650</td>\n",
       "    </tr>\n",
       "  </tbody>\n",
       "</table>\n",
       "<p>5 rows × 22 columns</p>\n",
       "</div>"
      ],
      "text/plain": [
       "    Unnamed: 0  Unnamed: 0.1  acousticness  \\\n",
       "21        9875          9875       0.00146   \n",
       "25        9879          9879       0.73100   \n",
       "18        9872          9872       0.23300   \n",
       "3         9772          9772       0.10400   \n",
       "20        9874          9874       0.32100   \n",
       "\n",
       "                                       artists  danceability  duration_ms  \\\n",
       "21                              ['The Weeknd']         0.514       200040   \n",
       "25                    ['Powfu', 'beabadoobee']         0.726       173333   \n",
       "18  ['THE SCOTTS', 'Travis Scott', 'Kid Cudi']         0.716       165978   \n",
       "3                              ['Roddy Ricch']         0.896       196653   \n",
       "20                                   ['Drake']         0.834       247059   \n",
       "\n",
       "    energy  explicit                      id  instrumentalness  ...  loudness  \\\n",
       "21   0.730         0  0VjIjW4GlUZAMYd2vXMi3b          0.000095  ...    -5.934   \n",
       "25   0.431         0  7eJMfftS33KTjuF7lTsMCx          0.000000  ...    -8.765   \n",
       "18   0.537         1  39Yp9wwQiSRIDOvrVg7mbk          0.000000  ...    -7.648   \n",
       "3    0.586         1  0nbXyq5TXYPCO7pr3N8S4I          0.000000  ...    -6.687   \n",
       "20   0.454         1  127QTOFJsJQp5LbJbu3A1y          0.000006  ...    -9.750   \n",
       "\n",
       "    mode                                               name  popularity  \\\n",
       "21     1                                    Blinding Lights         100   \n",
       "25     0  death bed (coffee for your head) (feat. beabad...          98   \n",
       "18     0                                         THE SCOTTS          97   \n",
       "3      0                                            The Box          97   \n",
       "20     0                                       Toosie Slide          97   \n",
       "\n",
       "   release_date  speechiness    tempo  valence  year  duration_minutes  \n",
       "21   2020-03-20       0.0598  171.005    0.334  2020          3.334000  \n",
       "25   2020-02-08       0.1350  144.026    0.348  2020          2.888883  \n",
       "18   2020-04-24       0.0514  129.979    0.280  2020          2.766300  \n",
       "3    2019-12-06       0.0559  116.971    0.642  2019          3.277550  \n",
       "20   2020-04-03       0.2010   81.618    0.837  2020          4.117650  \n",
       "\n",
       "[5 rows x 22 columns]"
      ]
     },
     "execution_count": 7,
     "metadata": {},
     "output_type": "execute_result"
    }
   ],
   "source": [
    "data.head()"
   ]
  },
  {
   "cell_type": "code",
   "execution_count": 8,
   "metadata": {},
   "outputs": [],
   "source": [
    "data.drop(columns=[\"Unnamed: 0\", \"Unnamed: 0.1\", \"duration_ms\", \"id\", \"mode\"], inplace=True)"
   ]
  },
  {
   "cell_type": "code",
   "execution_count": 9,
   "metadata": {
    "scrolled": true
   },
   "outputs": [],
   "source": [
    "data.drop(data.index[[35, 36]], inplace=True)"
   ]
  },
  {
   "cell_type": "code",
   "execution_count": 10,
   "metadata": {
    "scrolled": false
   },
   "outputs": [
    {
     "data": {
      "text/html": [
       "<div>\n",
       "<style scoped>\n",
       "    .dataframe tbody tr th:only-of-type {\n",
       "        vertical-align: middle;\n",
       "    }\n",
       "\n",
       "    .dataframe tbody tr th {\n",
       "        vertical-align: top;\n",
       "    }\n",
       "\n",
       "    .dataframe thead th {\n",
       "        text-align: right;\n",
       "    }\n",
       "</style>\n",
       "<table border=\"1\" class=\"dataframe\">\n",
       "  <thead>\n",
       "    <tr style=\"text-align: right;\">\n",
       "      <th></th>\n",
       "      <th>acousticness</th>\n",
       "      <th>artists</th>\n",
       "      <th>danceability</th>\n",
       "      <th>energy</th>\n",
       "      <th>explicit</th>\n",
       "      <th>instrumentalness</th>\n",
       "      <th>key</th>\n",
       "      <th>liveness</th>\n",
       "      <th>loudness</th>\n",
       "      <th>name</th>\n",
       "      <th>popularity</th>\n",
       "      <th>release_date</th>\n",
       "      <th>speechiness</th>\n",
       "      <th>tempo</th>\n",
       "      <th>valence</th>\n",
       "      <th>year</th>\n",
       "      <th>duration_minutes</th>\n",
       "    </tr>\n",
       "  </thead>\n",
       "  <tbody>\n",
       "    <tr>\n",
       "      <th>21</th>\n",
       "      <td>0.00146</td>\n",
       "      <td>['The Weeknd']</td>\n",
       "      <td>0.514</td>\n",
       "      <td>0.730</td>\n",
       "      <td>0</td>\n",
       "      <td>0.000095</td>\n",
       "      <td>1</td>\n",
       "      <td>0.0897</td>\n",
       "      <td>-5.934</td>\n",
       "      <td>Blinding Lights</td>\n",
       "      <td>100</td>\n",
       "      <td>2020-03-20</td>\n",
       "      <td>0.0598</td>\n",
       "      <td>171.005</td>\n",
       "      <td>0.3340</td>\n",
       "      <td>2020</td>\n",
       "      <td>3.334000</td>\n",
       "    </tr>\n",
       "    <tr>\n",
       "      <th>25</th>\n",
       "      <td>0.73100</td>\n",
       "      <td>['Powfu', 'beabadoobee']</td>\n",
       "      <td>0.726</td>\n",
       "      <td>0.431</td>\n",
       "      <td>0</td>\n",
       "      <td>0.000000</td>\n",
       "      <td>8</td>\n",
       "      <td>0.6960</td>\n",
       "      <td>-8.765</td>\n",
       "      <td>death bed (coffee for your head) (feat. beabad...</td>\n",
       "      <td>98</td>\n",
       "      <td>2020-02-08</td>\n",
       "      <td>0.1350</td>\n",
       "      <td>144.026</td>\n",
       "      <td>0.3480</td>\n",
       "      <td>2020</td>\n",
       "      <td>2.888883</td>\n",
       "    </tr>\n",
       "    <tr>\n",
       "      <th>18</th>\n",
       "      <td>0.23300</td>\n",
       "      <td>['THE SCOTTS', 'Travis Scott', 'Kid Cudi']</td>\n",
       "      <td>0.716</td>\n",
       "      <td>0.537</td>\n",
       "      <td>1</td>\n",
       "      <td>0.000000</td>\n",
       "      <td>0</td>\n",
       "      <td>0.1570</td>\n",
       "      <td>-7.648</td>\n",
       "      <td>THE SCOTTS</td>\n",
       "      <td>97</td>\n",
       "      <td>2020-04-24</td>\n",
       "      <td>0.0514</td>\n",
       "      <td>129.979</td>\n",
       "      <td>0.2800</td>\n",
       "      <td>2020</td>\n",
       "      <td>2.766300</td>\n",
       "    </tr>\n",
       "    <tr>\n",
       "      <th>3</th>\n",
       "      <td>0.10400</td>\n",
       "      <td>['Roddy Ricch']</td>\n",
       "      <td>0.896</td>\n",
       "      <td>0.586</td>\n",
       "      <td>1</td>\n",
       "      <td>0.000000</td>\n",
       "      <td>10</td>\n",
       "      <td>0.7900</td>\n",
       "      <td>-6.687</td>\n",
       "      <td>The Box</td>\n",
       "      <td>97</td>\n",
       "      <td>2019-12-06</td>\n",
       "      <td>0.0559</td>\n",
       "      <td>116.971</td>\n",
       "      <td>0.6420</td>\n",
       "      <td>2019</td>\n",
       "      <td>3.277550</td>\n",
       "    </tr>\n",
       "    <tr>\n",
       "      <th>20</th>\n",
       "      <td>0.32100</td>\n",
       "      <td>['Drake']</td>\n",
       "      <td>0.834</td>\n",
       "      <td>0.454</td>\n",
       "      <td>1</td>\n",
       "      <td>0.000006</td>\n",
       "      <td>1</td>\n",
       "      <td>0.1140</td>\n",
       "      <td>-9.750</td>\n",
       "      <td>Toosie Slide</td>\n",
       "      <td>97</td>\n",
       "      <td>2020-04-03</td>\n",
       "      <td>0.2010</td>\n",
       "      <td>81.618</td>\n",
       "      <td>0.8370</td>\n",
       "      <td>2020</td>\n",
       "      <td>4.117650</td>\n",
       "    </tr>\n",
       "    <tr>\n",
       "      <th>4</th>\n",
       "      <td>0.25600</td>\n",
       "      <td>['Doja Cat']</td>\n",
       "      <td>0.787</td>\n",
       "      <td>0.673</td>\n",
       "      <td>1</td>\n",
       "      <td>0.000004</td>\n",
       "      <td>11</td>\n",
       "      <td>0.0904</td>\n",
       "      <td>-4.577</td>\n",
       "      <td>Say So</td>\n",
       "      <td>96</td>\n",
       "      <td>2019-11-07</td>\n",
       "      <td>0.1580</td>\n",
       "      <td>110.962</td>\n",
       "      <td>0.7860</td>\n",
       "      <td>2019</td>\n",
       "      <td>3.964883</td>\n",
       "    </tr>\n",
       "    <tr>\n",
       "      <th>19</th>\n",
       "      <td>0.24700</td>\n",
       "      <td>['DaBaby', 'Roddy Ricch']</td>\n",
       "      <td>0.746</td>\n",
       "      <td>0.690</td>\n",
       "      <td>1</td>\n",
       "      <td>0.000000</td>\n",
       "      <td>11</td>\n",
       "      <td>0.1010</td>\n",
       "      <td>-7.956</td>\n",
       "      <td>ROCKSTAR (feat. Roddy Ricch)</td>\n",
       "      <td>96</td>\n",
       "      <td>2020-04-17</td>\n",
       "      <td>0.1640</td>\n",
       "      <td>89.977</td>\n",
       "      <td>0.4970</td>\n",
       "      <td>2020</td>\n",
       "      <td>3.028883</td>\n",
       "    </tr>\n",
       "    <tr>\n",
       "      <th>8</th>\n",
       "      <td>0.30500</td>\n",
       "      <td>['BENEE', 'Gus Dapperton']</td>\n",
       "      <td>0.863</td>\n",
       "      <td>0.631</td>\n",
       "      <td>1</td>\n",
       "      <td>0.000030</td>\n",
       "      <td>7</td>\n",
       "      <td>0.1230</td>\n",
       "      <td>-4.689</td>\n",
       "      <td>Supalonely</td>\n",
       "      <td>95</td>\n",
       "      <td>2019-11-15</td>\n",
       "      <td>0.0534</td>\n",
       "      <td>128.977</td>\n",
       "      <td>0.8170</td>\n",
       "      <td>2019</td>\n",
       "      <td>3.724667</td>\n",
       "    </tr>\n",
       "    <tr>\n",
       "      <th>11</th>\n",
       "      <td>0.69200</td>\n",
       "      <td>['Tones And I']</td>\n",
       "      <td>0.824</td>\n",
       "      <td>0.588</td>\n",
       "      <td>0</td>\n",
       "      <td>0.000104</td>\n",
       "      <td>6</td>\n",
       "      <td>0.1490</td>\n",
       "      <td>-6.400</td>\n",
       "      <td>Dance Monkey</td>\n",
       "      <td>95</td>\n",
       "      <td>2019-10-17</td>\n",
       "      <td>0.0924</td>\n",
       "      <td>98.027</td>\n",
       "      <td>0.5130</td>\n",
       "      <td>2019</td>\n",
       "      <td>3.490633</td>\n",
       "    </tr>\n",
       "    <tr>\n",
       "      <th>22</th>\n",
       "      <td>0.20700</td>\n",
       "      <td>['Lil Mosey']</td>\n",
       "      <td>0.774</td>\n",
       "      <td>0.554</td>\n",
       "      <td>1</td>\n",
       "      <td>0.000000</td>\n",
       "      <td>0</td>\n",
       "      <td>0.1320</td>\n",
       "      <td>-7.909</td>\n",
       "      <td>Blueberry Faygo</td>\n",
       "      <td>94</td>\n",
       "      <td>2020-02-07</td>\n",
       "      <td>0.0383</td>\n",
       "      <td>99.034</td>\n",
       "      <td>0.3490</td>\n",
       "      <td>2020</td>\n",
       "      <td>2.709117</td>\n",
       "    </tr>\n",
       "    <tr>\n",
       "      <th>5</th>\n",
       "      <td>0.19200</td>\n",
       "      <td>['Post Malone']</td>\n",
       "      <td>0.695</td>\n",
       "      <td>0.762</td>\n",
       "      <td>0</td>\n",
       "      <td>0.002440</td>\n",
       "      <td>0</td>\n",
       "      <td>0.0863</td>\n",
       "      <td>-3.497</td>\n",
       "      <td>Circles</td>\n",
       "      <td>94</td>\n",
       "      <td>2019-09-06</td>\n",
       "      <td>0.0395</td>\n",
       "      <td>120.042</td>\n",
       "      <td>0.5530</td>\n",
       "      <td>2019</td>\n",
       "      <td>3.588000</td>\n",
       "    </tr>\n",
       "    <tr>\n",
       "      <th>6</th>\n",
       "      <td>0.18300</td>\n",
       "      <td>['Surfaces']</td>\n",
       "      <td>0.878</td>\n",
       "      <td>0.525</td>\n",
       "      <td>0</td>\n",
       "      <td>0.000000</td>\n",
       "      <td>5</td>\n",
       "      <td>0.0714</td>\n",
       "      <td>-6.832</td>\n",
       "      <td>Sunday Best</td>\n",
       "      <td>94</td>\n",
       "      <td>2019-01-06</td>\n",
       "      <td>0.0578</td>\n",
       "      <td>112.022</td>\n",
       "      <td>0.6940</td>\n",
       "      <td>2019</td>\n",
       "      <td>2.642850</td>\n",
       "    </tr>\n",
       "    <tr>\n",
       "      <th>7</th>\n",
       "      <td>0.05220</td>\n",
       "      <td>['Arizona Zervas']</td>\n",
       "      <td>0.621</td>\n",
       "      <td>0.601</td>\n",
       "      <td>1</td>\n",
       "      <td>0.000000</td>\n",
       "      <td>6</td>\n",
       "      <td>0.4600</td>\n",
       "      <td>-5.616</td>\n",
       "      <td>ROXANNE</td>\n",
       "      <td>94</td>\n",
       "      <td>2019-10-10</td>\n",
       "      <td>0.1480</td>\n",
       "      <td>116.735</td>\n",
       "      <td>0.4570</td>\n",
       "      <td>2019</td>\n",
       "      <td>2.727267</td>\n",
       "    </tr>\n",
       "    <tr>\n",
       "      <th>9</th>\n",
       "      <td>0.01250</td>\n",
       "      <td>['Dua Lipa']</td>\n",
       "      <td>0.794</td>\n",
       "      <td>0.793</td>\n",
       "      <td>0</td>\n",
       "      <td>0.000000</td>\n",
       "      <td>11</td>\n",
       "      <td>0.0952</td>\n",
       "      <td>-4.521</td>\n",
       "      <td>Don't Start Now</td>\n",
       "      <td>94</td>\n",
       "      <td>2019-10-31</td>\n",
       "      <td>0.0842</td>\n",
       "      <td>123.941</td>\n",
       "      <td>0.6770</td>\n",
       "      <td>2019</td>\n",
       "      <td>3.054833</td>\n",
       "    </tr>\n",
       "    <tr>\n",
       "      <th>17</th>\n",
       "      <td>0.29500</td>\n",
       "      <td>['KAROL G', 'Nicki Minaj']</td>\n",
       "      <td>0.803</td>\n",
       "      <td>0.715</td>\n",
       "      <td>0</td>\n",
       "      <td>0.000134</td>\n",
       "      <td>2</td>\n",
       "      <td>0.0574</td>\n",
       "      <td>-3.280</td>\n",
       "      <td>Tusa</td>\n",
       "      <td>93</td>\n",
       "      <td>2019-11-07</td>\n",
       "      <td>0.2980</td>\n",
       "      <td>101.085</td>\n",
       "      <td>0.5740</td>\n",
       "      <td>2019</td>\n",
       "      <td>3.349333</td>\n",
       "    </tr>\n",
       "    <tr>\n",
       "      <th>1</th>\n",
       "      <td>0.12300</td>\n",
       "      <td>['Trevor Daniel']</td>\n",
       "      <td>0.784</td>\n",
       "      <td>0.430</td>\n",
       "      <td>0</td>\n",
       "      <td>0.000000</td>\n",
       "      <td>10</td>\n",
       "      <td>0.0887</td>\n",
       "      <td>-8.756</td>\n",
       "      <td>Falling</td>\n",
       "      <td>93</td>\n",
       "      <td>2018-10-05</td>\n",
       "      <td>0.0364</td>\n",
       "      <td>127.087</td>\n",
       "      <td>0.2360</td>\n",
       "      <td>2018</td>\n",
       "      <td>2.656367</td>\n",
       "    </tr>\n",
       "    <tr>\n",
       "      <th>34</th>\n",
       "      <td>0.02100</td>\n",
       "      <td>['Bad Bunny']</td>\n",
       "      <td>0.860</td>\n",
       "      <td>0.758</td>\n",
       "      <td>0</td>\n",
       "      <td>0.000065</td>\n",
       "      <td>11</td>\n",
       "      <td>0.3440</td>\n",
       "      <td>-5.160</td>\n",
       "      <td>Yo Perreo Sola</td>\n",
       "      <td>93</td>\n",
       "      <td>2020-02-28</td>\n",
       "      <td>0.0695</td>\n",
       "      <td>97.014</td>\n",
       "      <td>0.4530</td>\n",
       "      <td>2020</td>\n",
       "      <td>2.868783</td>\n",
       "    </tr>\n",
       "    <tr>\n",
       "      <th>31</th>\n",
       "      <td>0.12700</td>\n",
       "      <td>['Doja Cat']</td>\n",
       "      <td>0.707</td>\n",
       "      <td>0.955</td>\n",
       "      <td>0</td>\n",
       "      <td>0.000000</td>\n",
       "      <td>10</td>\n",
       "      <td>0.2020</td>\n",
       "      <td>-4.593</td>\n",
       "      <td>Boss Bitch</td>\n",
       "      <td>93</td>\n",
       "      <td>2020-01-23</td>\n",
       "      <td>0.2220</td>\n",
       "      <td>125.989</td>\n",
       "      <td>0.5750</td>\n",
       "      <td>2020</td>\n",
       "      <td>2.237333</td>\n",
       "    </tr>\n",
       "    <tr>\n",
       "      <th>35</th>\n",
       "      <td>0.01030</td>\n",
       "      <td>['Bad Bunny', 'Jowell &amp; Randy', 'Nengo Flow']</td>\n",
       "      <td>0.607</td>\n",
       "      <td>0.829</td>\n",
       "      <td>1</td>\n",
       "      <td>0.000000</td>\n",
       "      <td>2</td>\n",
       "      <td>0.1070</td>\n",
       "      <td>-4.074</td>\n",
       "      <td>Safaera</td>\n",
       "      <td>93</td>\n",
       "      <td>2020-02-28</td>\n",
       "      <td>0.3790</td>\n",
       "      <td>96.172</td>\n",
       "      <td>0.6850</td>\n",
       "      <td>2020</td>\n",
       "      <td>4.919617</td>\n",
       "    </tr>\n",
       "    <tr>\n",
       "      <th>2</th>\n",
       "      <td>0.00513</td>\n",
       "      <td>['Travis Scott']</td>\n",
       "      <td>0.834</td>\n",
       "      <td>0.730</td>\n",
       "      <td>1</td>\n",
       "      <td>0.000000</td>\n",
       "      <td>8</td>\n",
       "      <td>0.1240</td>\n",
       "      <td>-3.714</td>\n",
       "      <td>SICKO MODE</td>\n",
       "      <td>93</td>\n",
       "      <td>2018-08-03</td>\n",
       "      <td>0.2220</td>\n",
       "      <td>155.008</td>\n",
       "      <td>0.4460</td>\n",
       "      <td>2018</td>\n",
       "      <td>5.213667</td>\n",
       "    </tr>\n",
       "    <tr>\n",
       "      <th>29</th>\n",
       "      <td>0.22300</td>\n",
       "      <td>['Ariana Grande', 'Justin Bieber']</td>\n",
       "      <td>0.597</td>\n",
       "      <td>0.450</td>\n",
       "      <td>0</td>\n",
       "      <td>0.000000</td>\n",
       "      <td>8</td>\n",
       "      <td>0.3820</td>\n",
       "      <td>-6.658</td>\n",
       "      <td>Stuck with U (with Justin Bieber)</td>\n",
       "      <td>92</td>\n",
       "      <td>2020-05-08</td>\n",
       "      <td>0.0418</td>\n",
       "      <td>178.765</td>\n",
       "      <td>0.5370</td>\n",
       "      <td>2020</td>\n",
       "      <td>3.808033</td>\n",
       "    </tr>\n",
       "    <tr>\n",
       "      <th>30</th>\n",
       "      <td>0.00285</td>\n",
       "      <td>['The Weeknd']</td>\n",
       "      <td>0.667</td>\n",
       "      <td>0.719</td>\n",
       "      <td>1</td>\n",
       "      <td>0.000081</td>\n",
       "      <td>7</td>\n",
       "      <td>0.0736</td>\n",
       "      <td>-5.371</td>\n",
       "      <td>In Your Eyes</td>\n",
       "      <td>92</td>\n",
       "      <td>2020-03-20</td>\n",
       "      <td>0.0346</td>\n",
       "      <td>100.021</td>\n",
       "      <td>0.7170</td>\n",
       "      <td>2020</td>\n",
       "      <td>3.958667</td>\n",
       "    </tr>\n",
       "    <tr>\n",
       "      <th>33</th>\n",
       "      <td>0.02640</td>\n",
       "      <td>['6ix9ine']</td>\n",
       "      <td>0.611</td>\n",
       "      <td>0.688</td>\n",
       "      <td>1</td>\n",
       "      <td>0.000000</td>\n",
       "      <td>1</td>\n",
       "      <td>0.2510</td>\n",
       "      <td>-5.688</td>\n",
       "      <td>GOOBA</td>\n",
       "      <td>92</td>\n",
       "      <td>2020-05-08</td>\n",
       "      <td>0.3410</td>\n",
       "      <td>178.462</td>\n",
       "      <td>0.3930</td>\n",
       "      <td>2020</td>\n",
       "      <td>2.205050</td>\n",
       "    </tr>\n",
       "    <tr>\n",
       "      <th>27</th>\n",
       "      <td>0.02520</td>\n",
       "      <td>['Megan Thee Stallion']</td>\n",
       "      <td>0.843</td>\n",
       "      <td>0.741</td>\n",
       "      <td>1</td>\n",
       "      <td>0.000000</td>\n",
       "      <td>11</td>\n",
       "      <td>0.0960</td>\n",
       "      <td>-5.609</td>\n",
       "      <td>Savage</td>\n",
       "      <td>92</td>\n",
       "      <td>2020-03-06</td>\n",
       "      <td>0.3340</td>\n",
       "      <td>168.983</td>\n",
       "      <td>0.6800</td>\n",
       "      <td>2020</td>\n",
       "      <td>2.591617</td>\n",
       "    </tr>\n",
       "    <tr>\n",
       "      <th>26</th>\n",
       "      <td>0.07060</td>\n",
       "      <td>['Future', 'Drake']</td>\n",
       "      <td>0.676</td>\n",
       "      <td>0.609</td>\n",
       "      <td>1</td>\n",
       "      <td>0.000000</td>\n",
       "      <td>2</td>\n",
       "      <td>0.1520</td>\n",
       "      <td>-5.831</td>\n",
       "      <td>Life Is Good (feat. Drake)</td>\n",
       "      <td>92</td>\n",
       "      <td>2020-01-10</td>\n",
       "      <td>0.4810</td>\n",
       "      <td>142.037</td>\n",
       "      <td>0.5080</td>\n",
       "      <td>2020</td>\n",
       "      <td>3.962250</td>\n",
       "    </tr>\n",
       "    <tr>\n",
       "      <th>0</th>\n",
       "      <td>0.08470</td>\n",
       "      <td>['Travis Scott']</td>\n",
       "      <td>0.841</td>\n",
       "      <td>0.728</td>\n",
       "      <td>1</td>\n",
       "      <td>0.000000</td>\n",
       "      <td>7</td>\n",
       "      <td>0.1490</td>\n",
       "      <td>-3.370</td>\n",
       "      <td>goosebumps</td>\n",
       "      <td>92</td>\n",
       "      <td>2016-09-16</td>\n",
       "      <td>0.0484</td>\n",
       "      <td>130.049</td>\n",
       "      <td>0.4300</td>\n",
       "      <td>2016</td>\n",
       "      <td>4.063950</td>\n",
       "    </tr>\n",
       "    <tr>\n",
       "      <th>23</th>\n",
       "      <td>0.01700</td>\n",
       "      <td>['Jack Harlow']</td>\n",
       "      <td>0.923</td>\n",
       "      <td>0.604</td>\n",
       "      <td>1</td>\n",
       "      <td>0.000000</td>\n",
       "      <td>11</td>\n",
       "      <td>0.2720</td>\n",
       "      <td>-6.671</td>\n",
       "      <td>WHATS POPPIN</td>\n",
       "      <td>92</td>\n",
       "      <td>2020-03-13</td>\n",
       "      <td>0.2450</td>\n",
       "      <td>145.062</td>\n",
       "      <td>0.8260</td>\n",
       "      <td>2020</td>\n",
       "      <td>2.329017</td>\n",
       "    </tr>\n",
       "    <tr>\n",
       "      <th>16</th>\n",
       "      <td>0.83700</td>\n",
       "      <td>['Maroon 5']</td>\n",
       "      <td>0.764</td>\n",
       "      <td>0.320</td>\n",
       "      <td>0</td>\n",
       "      <td>0.000000</td>\n",
       "      <td>11</td>\n",
       "      <td>0.0822</td>\n",
       "      <td>-7.209</td>\n",
       "      <td>Memories</td>\n",
       "      <td>92</td>\n",
       "      <td>2019-09-20</td>\n",
       "      <td>0.0546</td>\n",
       "      <td>91.019</td>\n",
       "      <td>0.5750</td>\n",
       "      <td>2019</td>\n",
       "      <td>3.158100</td>\n",
       "    </tr>\n",
       "    <tr>\n",
       "      <th>15</th>\n",
       "      <td>0.06860</td>\n",
       "      <td>['Surf Mesa', 'Emilee']</td>\n",
       "      <td>0.674</td>\n",
       "      <td>0.774</td>\n",
       "      <td>0</td>\n",
       "      <td>0.001880</td>\n",
       "      <td>11</td>\n",
       "      <td>0.3930</td>\n",
       "      <td>-7.567</td>\n",
       "      <td>ily (i love you baby) (feat. Emilee)</td>\n",
       "      <td>92</td>\n",
       "      <td>2019-11-26</td>\n",
       "      <td>0.0892</td>\n",
       "      <td>112.050</td>\n",
       "      <td>0.3300</td>\n",
       "      <td>2019</td>\n",
       "      <td>2.942450</td>\n",
       "    </tr>\n",
       "    <tr>\n",
       "      <th>14</th>\n",
       "      <td>0.32800</td>\n",
       "      <td>['Billie Eilish']</td>\n",
       "      <td>0.701</td>\n",
       "      <td>0.425</td>\n",
       "      <td>0</td>\n",
       "      <td>0.130000</td>\n",
       "      <td>7</td>\n",
       "      <td>0.1000</td>\n",
       "      <td>-10.965</td>\n",
       "      <td>bad guy</td>\n",
       "      <td>92</td>\n",
       "      <td>2019-03-29</td>\n",
       "      <td>0.3750</td>\n",
       "      <td>135.128</td>\n",
       "      <td>0.5620</td>\n",
       "      <td>2019</td>\n",
       "      <td>3.234800</td>\n",
       "    </tr>\n",
       "    <tr>\n",
       "      <th>13</th>\n",
       "      <td>0.75100</td>\n",
       "      <td>['Lewis Capaldi']</td>\n",
       "      <td>0.501</td>\n",
       "      <td>0.405</td>\n",
       "      <td>0</td>\n",
       "      <td>0.000000</td>\n",
       "      <td>1</td>\n",
       "      <td>0.1050</td>\n",
       "      <td>-5.679</td>\n",
       "      <td>Someone You Loved</td>\n",
       "      <td>92</td>\n",
       "      <td>2019-05-17</td>\n",
       "      <td>0.0319</td>\n",
       "      <td>109.891</td>\n",
       "      <td>0.4460</td>\n",
       "      <td>2019</td>\n",
       "      <td>3.036017</td>\n",
       "    </tr>\n",
       "    <tr>\n",
       "      <th>10</th>\n",
       "      <td>0.05460</td>\n",
       "      <td>['Travis Scott']</td>\n",
       "      <td>0.598</td>\n",
       "      <td>0.427</td>\n",
       "      <td>1</td>\n",
       "      <td>0.000006</td>\n",
       "      <td>7</td>\n",
       "      <td>0.2100</td>\n",
       "      <td>-8.764</td>\n",
       "      <td>HIGHEST IN THE ROOM</td>\n",
       "      <td>92</td>\n",
       "      <td>2019-10-04</td>\n",
       "      <td>0.0317</td>\n",
       "      <td>76.469</td>\n",
       "      <td>0.0605</td>\n",
       "      <td>2019</td>\n",
       "      <td>2.928683</td>\n",
       "    </tr>\n",
       "    <tr>\n",
       "      <th>24</th>\n",
       "      <td>0.03970</td>\n",
       "      <td>['Juice WRLD']</td>\n",
       "      <td>0.707</td>\n",
       "      <td>0.622</td>\n",
       "      <td>1</td>\n",
       "      <td>0.000000</td>\n",
       "      <td>0</td>\n",
       "      <td>0.1490</td>\n",
       "      <td>-6.951</td>\n",
       "      <td>Righteous</td>\n",
       "      <td>91</td>\n",
       "      <td>2020-04-24</td>\n",
       "      <td>0.0310</td>\n",
       "      <td>142.942</td>\n",
       "      <td>0.2230</td>\n",
       "      <td>2020</td>\n",
       "      <td>4.055950</td>\n",
       "    </tr>\n",
       "    <tr>\n",
       "      <th>28</th>\n",
       "      <td>0.14500</td>\n",
       "      <td>['Eminem', 'Juice WRLD']</td>\n",
       "      <td>0.808</td>\n",
       "      <td>0.745</td>\n",
       "      <td>1</td>\n",
       "      <td>0.000000</td>\n",
       "      <td>10</td>\n",
       "      <td>0.2920</td>\n",
       "      <td>-5.260</td>\n",
       "      <td>Godzilla (feat. Juice WRLD)</td>\n",
       "      <td>91</td>\n",
       "      <td>2020-01-17</td>\n",
       "      <td>0.3420</td>\n",
       "      <td>165.995</td>\n",
       "      <td>0.8290</td>\n",
       "      <td>2020</td>\n",
       "      <td>3.513333</td>\n",
       "    </tr>\n",
       "    <tr>\n",
       "      <th>32</th>\n",
       "      <td>0.31700</td>\n",
       "      <td>['Justin Bieber', 'Quavo']</td>\n",
       "      <td>0.811</td>\n",
       "      <td>0.553</td>\n",
       "      <td>0</td>\n",
       "      <td>0.000000</td>\n",
       "      <td>9</td>\n",
       "      <td>0.1050</td>\n",
       "      <td>-6.644</td>\n",
       "      <td>Intentions</td>\n",
       "      <td>91</td>\n",
       "      <td>2020-02-07</td>\n",
       "      <td>0.0552</td>\n",
       "      <td>148.014</td>\n",
       "      <td>0.8600</td>\n",
       "      <td>2020</td>\n",
       "      <td>3.547817</td>\n",
       "    </tr>\n",
       "  </tbody>\n",
       "</table>\n",
       "</div>"
      ],
      "text/plain": [
       "    acousticness                                        artists  danceability  \\\n",
       "21       0.00146                                 ['The Weeknd']         0.514   \n",
       "25       0.73100                       ['Powfu', 'beabadoobee']         0.726   \n",
       "18       0.23300     ['THE SCOTTS', 'Travis Scott', 'Kid Cudi']         0.716   \n",
       "3        0.10400                                ['Roddy Ricch']         0.896   \n",
       "20       0.32100                                      ['Drake']         0.834   \n",
       "4        0.25600                                   ['Doja Cat']         0.787   \n",
       "19       0.24700                      ['DaBaby', 'Roddy Ricch']         0.746   \n",
       "8        0.30500                     ['BENEE', 'Gus Dapperton']         0.863   \n",
       "11       0.69200                                ['Tones And I']         0.824   \n",
       "22       0.20700                                  ['Lil Mosey']         0.774   \n",
       "5        0.19200                                ['Post Malone']         0.695   \n",
       "6        0.18300                                   ['Surfaces']         0.878   \n",
       "7        0.05220                             ['Arizona Zervas']         0.621   \n",
       "9        0.01250                                   ['Dua Lipa']         0.794   \n",
       "17       0.29500                     ['KAROL G', 'Nicki Minaj']         0.803   \n",
       "1        0.12300                              ['Trevor Daniel']         0.784   \n",
       "34       0.02100                                  ['Bad Bunny']         0.860   \n",
       "31       0.12700                                   ['Doja Cat']         0.707   \n",
       "35       0.01030  ['Bad Bunny', 'Jowell & Randy', 'Nengo Flow']         0.607   \n",
       "2        0.00513                               ['Travis Scott']         0.834   \n",
       "29       0.22300             ['Ariana Grande', 'Justin Bieber']         0.597   \n",
       "30       0.00285                                 ['The Weeknd']         0.667   \n",
       "33       0.02640                                    ['6ix9ine']         0.611   \n",
       "27       0.02520                        ['Megan Thee Stallion']         0.843   \n",
       "26       0.07060                            ['Future', 'Drake']         0.676   \n",
       "0        0.08470                               ['Travis Scott']         0.841   \n",
       "23       0.01700                                ['Jack Harlow']         0.923   \n",
       "16       0.83700                                   ['Maroon 5']         0.764   \n",
       "15       0.06860                        ['Surf Mesa', 'Emilee']         0.674   \n",
       "14       0.32800                              ['Billie Eilish']         0.701   \n",
       "13       0.75100                              ['Lewis Capaldi']         0.501   \n",
       "10       0.05460                               ['Travis Scott']         0.598   \n",
       "24       0.03970                                 ['Juice WRLD']         0.707   \n",
       "28       0.14500                       ['Eminem', 'Juice WRLD']         0.808   \n",
       "32       0.31700                     ['Justin Bieber', 'Quavo']         0.811   \n",
       "\n",
       "    energy  explicit  instrumentalness  key  liveness  loudness  \\\n",
       "21   0.730         0          0.000095    1    0.0897    -5.934   \n",
       "25   0.431         0          0.000000    8    0.6960    -8.765   \n",
       "18   0.537         1          0.000000    0    0.1570    -7.648   \n",
       "3    0.586         1          0.000000   10    0.7900    -6.687   \n",
       "20   0.454         1          0.000006    1    0.1140    -9.750   \n",
       "4    0.673         1          0.000004   11    0.0904    -4.577   \n",
       "19   0.690         1          0.000000   11    0.1010    -7.956   \n",
       "8    0.631         1          0.000030    7    0.1230    -4.689   \n",
       "11   0.588         0          0.000104    6    0.1490    -6.400   \n",
       "22   0.554         1          0.000000    0    0.1320    -7.909   \n",
       "5    0.762         0          0.002440    0    0.0863    -3.497   \n",
       "6    0.525         0          0.000000    5    0.0714    -6.832   \n",
       "7    0.601         1          0.000000    6    0.4600    -5.616   \n",
       "9    0.793         0          0.000000   11    0.0952    -4.521   \n",
       "17   0.715         0          0.000134    2    0.0574    -3.280   \n",
       "1    0.430         0          0.000000   10    0.0887    -8.756   \n",
       "34   0.758         0          0.000065   11    0.3440    -5.160   \n",
       "31   0.955         0          0.000000   10    0.2020    -4.593   \n",
       "35   0.829         1          0.000000    2    0.1070    -4.074   \n",
       "2    0.730         1          0.000000    8    0.1240    -3.714   \n",
       "29   0.450         0          0.000000    8    0.3820    -6.658   \n",
       "30   0.719         1          0.000081    7    0.0736    -5.371   \n",
       "33   0.688         1          0.000000    1    0.2510    -5.688   \n",
       "27   0.741         1          0.000000   11    0.0960    -5.609   \n",
       "26   0.609         1          0.000000    2    0.1520    -5.831   \n",
       "0    0.728         1          0.000000    7    0.1490    -3.370   \n",
       "23   0.604         1          0.000000   11    0.2720    -6.671   \n",
       "16   0.320         0          0.000000   11    0.0822    -7.209   \n",
       "15   0.774         0          0.001880   11    0.3930    -7.567   \n",
       "14   0.425         0          0.130000    7    0.1000   -10.965   \n",
       "13   0.405         0          0.000000    1    0.1050    -5.679   \n",
       "10   0.427         1          0.000006    7    0.2100    -8.764   \n",
       "24   0.622         1          0.000000    0    0.1490    -6.951   \n",
       "28   0.745         1          0.000000   10    0.2920    -5.260   \n",
       "32   0.553         0          0.000000    9    0.1050    -6.644   \n",
       "\n",
       "                                                 name  popularity  \\\n",
       "21                                    Blinding Lights         100   \n",
       "25  death bed (coffee for your head) (feat. beabad...          98   \n",
       "18                                         THE SCOTTS          97   \n",
       "3                                             The Box          97   \n",
       "20                                       Toosie Slide          97   \n",
       "4                                              Say So          96   \n",
       "19                       ROCKSTAR (feat. Roddy Ricch)          96   \n",
       "8                                          Supalonely          95   \n",
       "11                                       Dance Monkey          95   \n",
       "22                                    Blueberry Faygo          94   \n",
       "5                                             Circles          94   \n",
       "6                                         Sunday Best          94   \n",
       "7                                             ROXANNE          94   \n",
       "9                                     Don't Start Now          94   \n",
       "17                                               Tusa          93   \n",
       "1                                             Falling          93   \n",
       "34                                     Yo Perreo Sola          93   \n",
       "31                                         Boss Bitch          93   \n",
       "35                                            Safaera          93   \n",
       "2                                          SICKO MODE          93   \n",
       "29                  Stuck with U (with Justin Bieber)          92   \n",
       "30                                       In Your Eyes          92   \n",
       "33                                              GOOBA          92   \n",
       "27                                             Savage          92   \n",
       "26                         Life Is Good (feat. Drake)          92   \n",
       "0                                          goosebumps          92   \n",
       "23                                       WHATS POPPIN          92   \n",
       "16                                           Memories          92   \n",
       "15               ily (i love you baby) (feat. Emilee)          92   \n",
       "14                                            bad guy          92   \n",
       "13                                  Someone You Loved          92   \n",
       "10                                HIGHEST IN THE ROOM          92   \n",
       "24                                          Righteous          91   \n",
       "28                        Godzilla (feat. Juice WRLD)          91   \n",
       "32                                         Intentions          91   \n",
       "\n",
       "   release_date  speechiness    tempo  valence  year  duration_minutes  \n",
       "21   2020-03-20       0.0598  171.005   0.3340  2020          3.334000  \n",
       "25   2020-02-08       0.1350  144.026   0.3480  2020          2.888883  \n",
       "18   2020-04-24       0.0514  129.979   0.2800  2020          2.766300  \n",
       "3    2019-12-06       0.0559  116.971   0.6420  2019          3.277550  \n",
       "20   2020-04-03       0.2010   81.618   0.8370  2020          4.117650  \n",
       "4    2019-11-07       0.1580  110.962   0.7860  2019          3.964883  \n",
       "19   2020-04-17       0.1640   89.977   0.4970  2020          3.028883  \n",
       "8    2019-11-15       0.0534  128.977   0.8170  2019          3.724667  \n",
       "11   2019-10-17       0.0924   98.027   0.5130  2019          3.490633  \n",
       "22   2020-02-07       0.0383   99.034   0.3490  2020          2.709117  \n",
       "5    2019-09-06       0.0395  120.042   0.5530  2019          3.588000  \n",
       "6    2019-01-06       0.0578  112.022   0.6940  2019          2.642850  \n",
       "7    2019-10-10       0.1480  116.735   0.4570  2019          2.727267  \n",
       "9    2019-10-31       0.0842  123.941   0.6770  2019          3.054833  \n",
       "17   2019-11-07       0.2980  101.085   0.5740  2019          3.349333  \n",
       "1    2018-10-05       0.0364  127.087   0.2360  2018          2.656367  \n",
       "34   2020-02-28       0.0695   97.014   0.4530  2020          2.868783  \n",
       "31   2020-01-23       0.2220  125.989   0.5750  2020          2.237333  \n",
       "35   2020-02-28       0.3790   96.172   0.6850  2020          4.919617  \n",
       "2    2018-08-03       0.2220  155.008   0.4460  2018          5.213667  \n",
       "29   2020-05-08       0.0418  178.765   0.5370  2020          3.808033  \n",
       "30   2020-03-20       0.0346  100.021   0.7170  2020          3.958667  \n",
       "33   2020-05-08       0.3410  178.462   0.3930  2020          2.205050  \n",
       "27   2020-03-06       0.3340  168.983   0.6800  2020          2.591617  \n",
       "26   2020-01-10       0.4810  142.037   0.5080  2020          3.962250  \n",
       "0    2016-09-16       0.0484  130.049   0.4300  2016          4.063950  \n",
       "23   2020-03-13       0.2450  145.062   0.8260  2020          2.329017  \n",
       "16   2019-09-20       0.0546   91.019   0.5750  2019          3.158100  \n",
       "15   2019-11-26       0.0892  112.050   0.3300  2019          2.942450  \n",
       "14   2019-03-29       0.3750  135.128   0.5620  2019          3.234800  \n",
       "13   2019-05-17       0.0319  109.891   0.4460  2019          3.036017  \n",
       "10   2019-10-04       0.0317   76.469   0.0605  2019          2.928683  \n",
       "24   2020-04-24       0.0310  142.942   0.2230  2020          4.055950  \n",
       "28   2020-01-17       0.3420  165.995   0.8290  2020          3.513333  \n",
       "32   2020-02-07       0.0552  148.014   0.8600  2020          3.547817  "
      ]
     },
     "execution_count": 10,
     "metadata": {},
     "output_type": "execute_result"
    }
   ],
   "source": [
    "data"
   ]
  },
  {
   "cell_type": "markdown",
   "metadata": {},
   "source": [
    "## The 5 songs with the highest popularity index"
   ]
  },
  {
   "cell_type": "markdown",
   "metadata": {},
   "source": [
    "<iframe src=\"https://open.spotify.com/embed/track/0VjIjW4GlUZAMYd2vXMi3b\" width=\"300\" height=\"380\" frameborder=\"0\" allowtransparency=\"true\" allow=\"encrypted-media\"></iframe>"
   ]
  },
  {
   "cell_type": "markdown",
   "metadata": {},
   "source": [
    "<iframe src=\"https://open.spotify.com/embed/track/7eJMfftS33KTjuF7lTsMCx\" width=\"300\" height=\"380\" frameborder=\"0\" allowtransparency=\"true\" allow=\"encrypted-media\"></iframe>"
   ]
  },
  {
   "cell_type": "markdown",
   "metadata": {},
   "source": [
    "<iframe src=\"https://open.spotify.com/embed/track/39Yp9wwQiSRIDOvrVg7mbk\" width=\"300\" height=\"380\" frameborder=\"0\" allowtransparency=\"true\" allow=\"encrypted-media\"></iframe>"
   ]
  },
  {
   "cell_type": "markdown",
   "metadata": {},
   "source": [
    "<iframe src=\"https://open.spotify.com/embed/track/0nbXyq5TXYPCO7pr3N8S4I\" width=\"300\" height=\"380\" frameborder=\"0\" allowtransparency=\"true\" allow=\"encrypted-media\"></iframe>"
   ]
  },
  {
   "cell_type": "markdown",
   "metadata": {},
   "source": [
    "<iframe src=\"https://open.spotify.com/embed/track/127QTOFJsJQp5LbJbu3A1y\" width=\"300\" height=\"380\" frameborder=\"0\" allowtransparency=\"true\" allow=\"encrypted-media\"></iframe>"
   ]
  },
  {
   "cell_type": "code",
   "execution_count": 11,
   "metadata": {},
   "outputs": [
    {
     "data": {
      "text/plain": [
       "Index(['acousticness', 'artists', 'danceability', 'energy', 'explicit',\n",
       "       'instrumentalness', 'key', 'liveness', 'loudness', 'name', 'popularity',\n",
       "       'release_date', 'speechiness', 'tempo', 'valence', 'year',\n",
       "       'duration_minutes'],\n",
       "      dtype='object')"
      ]
     },
     "execution_count": 11,
     "metadata": {},
     "output_type": "execute_result"
    }
   ],
   "source": [
    "data.columns"
   ]
  },
  {
   "cell_type": "code",
   "execution_count": 12,
   "metadata": {
    "scrolled": true
   },
   "outputs": [
    {
     "data": {
      "text/html": [
       "<div>\n",
       "<style scoped>\n",
       "    .dataframe tbody tr th:only-of-type {\n",
       "        vertical-align: middle;\n",
       "    }\n",
       "\n",
       "    .dataframe tbody tr th {\n",
       "        vertical-align: top;\n",
       "    }\n",
       "\n",
       "    .dataframe thead th {\n",
       "        text-align: right;\n",
       "    }\n",
       "</style>\n",
       "<table border=\"1\" class=\"dataframe\">\n",
       "  <thead>\n",
       "    <tr style=\"text-align: right;\">\n",
       "      <th></th>\n",
       "      <th>acousticness</th>\n",
       "      <th>danceability</th>\n",
       "      <th>energy</th>\n",
       "      <th>explicit</th>\n",
       "      <th>instrumentalness</th>\n",
       "      <th>key</th>\n",
       "      <th>liveness</th>\n",
       "      <th>loudness</th>\n",
       "      <th>popularity</th>\n",
       "      <th>speechiness</th>\n",
       "      <th>tempo</th>\n",
       "      <th>valence</th>\n",
       "      <th>year</th>\n",
       "      <th>duration_minutes</th>\n",
       "    </tr>\n",
       "  </thead>\n",
       "  <tbody>\n",
       "    <tr>\n",
       "      <th>count</th>\n",
       "      <td>35.000000</td>\n",
       "      <td>35.000000</td>\n",
       "      <td>35.000000</td>\n",
       "      <td>35.000000</td>\n",
       "      <td>35.000000</td>\n",
       "      <td>35.000000</td>\n",
       "      <td>35.000000</td>\n",
       "      <td>35.000000</td>\n",
       "      <td>35.00000</td>\n",
       "      <td>35.000000</td>\n",
       "      <td>35.000000</td>\n",
       "      <td>35.000000</td>\n",
       "      <td>35.000000</td>\n",
       "      <td>35.000000</td>\n",
       "    </tr>\n",
       "    <tr>\n",
       "      <th>mean</th>\n",
       "      <td>0.203121</td>\n",
       "      <td>0.742429</td>\n",
       "      <td>0.622343</td>\n",
       "      <td>0.542857</td>\n",
       "      <td>0.003853</td>\n",
       "      <td>6.371429</td>\n",
       "      <td>0.196854</td>\n",
       "      <td>-6.245571</td>\n",
       "      <td>93.60000</td>\n",
       "      <td>0.145771</td>\n",
       "      <td>124.873086</td>\n",
       "      <td>0.535129</td>\n",
       "      <td>2019.371429</td>\n",
       "      <td>3.311324</td>\n",
       "    </tr>\n",
       "    <tr>\n",
       "      <th>std</th>\n",
       "      <td>0.227408</td>\n",
       "      <td>0.107344</td>\n",
       "      <td>0.144856</td>\n",
       "      <td>0.505433</td>\n",
       "      <td>0.021956</td>\n",
       "      <td>4.123717</td>\n",
       "      <td>0.170555</td>\n",
       "      <td>1.852837</td>\n",
       "      <td>2.19893</td>\n",
       "      <td>0.128233</td>\n",
       "      <td>27.765344</td>\n",
       "      <td>0.198613</td>\n",
       "      <td>0.843163</td>\n",
       "      <td>0.696988</td>\n",
       "    </tr>\n",
       "    <tr>\n",
       "      <th>min</th>\n",
       "      <td>0.001460</td>\n",
       "      <td>0.501000</td>\n",
       "      <td>0.320000</td>\n",
       "      <td>0.000000</td>\n",
       "      <td>0.000000</td>\n",
       "      <td>0.000000</td>\n",
       "      <td>0.057400</td>\n",
       "      <td>-10.965000</td>\n",
       "      <td>91.00000</td>\n",
       "      <td>0.031000</td>\n",
       "      <td>76.469000</td>\n",
       "      <td>0.060500</td>\n",
       "      <td>2016.000000</td>\n",
       "      <td>2.205050</td>\n",
       "    </tr>\n",
       "    <tr>\n",
       "      <th>25%</th>\n",
       "      <td>0.033050</td>\n",
       "      <td>0.675000</td>\n",
       "      <td>0.531000</td>\n",
       "      <td>0.000000</td>\n",
       "      <td>0.000000</td>\n",
       "      <td>2.000000</td>\n",
       "      <td>0.095600</td>\n",
       "      <td>-7.388000</td>\n",
       "      <td>92.00000</td>\n",
       "      <td>0.049900</td>\n",
       "      <td>100.553000</td>\n",
       "      <td>0.411500</td>\n",
       "      <td>2019.000000</td>\n",
       "      <td>2.817542</td>\n",
       "    </tr>\n",
       "    <tr>\n",
       "      <th>50%</th>\n",
       "      <td>0.127000</td>\n",
       "      <td>0.764000</td>\n",
       "      <td>0.622000</td>\n",
       "      <td>1.000000</td>\n",
       "      <td>0.000000</td>\n",
       "      <td>7.000000</td>\n",
       "      <td>0.124000</td>\n",
       "      <td>-5.934000</td>\n",
       "      <td>93.00000</td>\n",
       "      <td>0.084200</td>\n",
       "      <td>123.941000</td>\n",
       "      <td>0.537000</td>\n",
       "      <td>2020.000000</td>\n",
       "      <td>3.234800</td>\n",
       "    </tr>\n",
       "    <tr>\n",
       "      <th>75%</th>\n",
       "      <td>0.275500</td>\n",
       "      <td>0.829000</td>\n",
       "      <td>0.730000</td>\n",
       "      <td>1.000000</td>\n",
       "      <td>0.000018</td>\n",
       "      <td>10.000000</td>\n",
       "      <td>0.230500</td>\n",
       "      <td>-4.924500</td>\n",
       "      <td>94.50000</td>\n",
       "      <td>0.222000</td>\n",
       "      <td>143.484000</td>\n",
       "      <td>0.682500</td>\n",
       "      <td>2020.000000</td>\n",
       "      <td>3.766350</td>\n",
       "    </tr>\n",
       "    <tr>\n",
       "      <th>max</th>\n",
       "      <td>0.837000</td>\n",
       "      <td>0.923000</td>\n",
       "      <td>0.955000</td>\n",
       "      <td>1.000000</td>\n",
       "      <td>0.130000</td>\n",
       "      <td>11.000000</td>\n",
       "      <td>0.790000</td>\n",
       "      <td>-3.280000</td>\n",
       "      <td>100.00000</td>\n",
       "      <td>0.481000</td>\n",
       "      <td>178.765000</td>\n",
       "      <td>0.860000</td>\n",
       "      <td>2020.000000</td>\n",
       "      <td>5.213667</td>\n",
       "    </tr>\n",
       "  </tbody>\n",
       "</table>\n",
       "</div>"
      ],
      "text/plain": [
       "       acousticness  danceability     energy   explicit  instrumentalness  \\\n",
       "count     35.000000     35.000000  35.000000  35.000000         35.000000   \n",
       "mean       0.203121      0.742429   0.622343   0.542857          0.003853   \n",
       "std        0.227408      0.107344   0.144856   0.505433          0.021956   \n",
       "min        0.001460      0.501000   0.320000   0.000000          0.000000   \n",
       "25%        0.033050      0.675000   0.531000   0.000000          0.000000   \n",
       "50%        0.127000      0.764000   0.622000   1.000000          0.000000   \n",
       "75%        0.275500      0.829000   0.730000   1.000000          0.000018   \n",
       "max        0.837000      0.923000   0.955000   1.000000          0.130000   \n",
       "\n",
       "             key   liveness   loudness  popularity  speechiness       tempo  \\\n",
       "count  35.000000  35.000000  35.000000    35.00000    35.000000   35.000000   \n",
       "mean    6.371429   0.196854  -6.245571    93.60000     0.145771  124.873086   \n",
       "std     4.123717   0.170555   1.852837     2.19893     0.128233   27.765344   \n",
       "min     0.000000   0.057400 -10.965000    91.00000     0.031000   76.469000   \n",
       "25%     2.000000   0.095600  -7.388000    92.00000     0.049900  100.553000   \n",
       "50%     7.000000   0.124000  -5.934000    93.00000     0.084200  123.941000   \n",
       "75%    10.000000   0.230500  -4.924500    94.50000     0.222000  143.484000   \n",
       "max    11.000000   0.790000  -3.280000   100.00000     0.481000  178.765000   \n",
       "\n",
       "         valence         year  duration_minutes  \n",
       "count  35.000000    35.000000         35.000000  \n",
       "mean    0.535129  2019.371429          3.311324  \n",
       "std     0.198613     0.843163          0.696988  \n",
       "min     0.060500  2016.000000          2.205050  \n",
       "25%     0.411500  2019.000000          2.817542  \n",
       "50%     0.537000  2020.000000          3.234800  \n",
       "75%     0.682500  2020.000000          3.766350  \n",
       "max     0.860000  2020.000000          5.213667  "
      ]
     },
     "execution_count": 12,
     "metadata": {},
     "output_type": "execute_result"
    }
   ],
   "source": [
    "data.describe()"
   ]
  },
  {
   "cell_type": "code",
   "execution_count": 13,
   "metadata": {},
   "outputs": [
    {
     "data": {
      "text/html": [
       "<div>\n",
       "<style scoped>\n",
       "    .dataframe tbody tr th:only-of-type {\n",
       "        vertical-align: middle;\n",
       "    }\n",
       "\n",
       "    .dataframe tbody tr th {\n",
       "        vertical-align: top;\n",
       "    }\n",
       "\n",
       "    .dataframe thead th {\n",
       "        text-align: right;\n",
       "    }\n",
       "</style>\n",
       "<table border=\"1\" class=\"dataframe\">\n",
       "  <thead>\n",
       "    <tr style=\"text-align: right;\">\n",
       "      <th></th>\n",
       "      <th>acousticness</th>\n",
       "      <th>danceability</th>\n",
       "      <th>energy</th>\n",
       "      <th>explicit</th>\n",
       "      <th>instrumentalness</th>\n",
       "      <th>key</th>\n",
       "      <th>liveness</th>\n",
       "      <th>loudness</th>\n",
       "      <th>popularity</th>\n",
       "      <th>speechiness</th>\n",
       "      <th>tempo</th>\n",
       "      <th>valence</th>\n",
       "      <th>year</th>\n",
       "      <th>duration_minutes</th>\n",
       "    </tr>\n",
       "  </thead>\n",
       "  <tbody>\n",
       "    <tr>\n",
       "      <th>acousticness</th>\n",
       "      <td>1.000000</td>\n",
       "      <td>-0.021072</td>\n",
       "      <td>-0.600673</td>\n",
       "      <td>-0.422888</td>\n",
       "      <td>0.094093</td>\n",
       "      <td>-0.024927</td>\n",
       "      <td>0.015872</td>\n",
       "      <td>-0.276648</td>\n",
       "      <td>0.158161</td>\n",
       "      <td>-0.195886</td>\n",
       "      <td>-0.254395</td>\n",
       "      <td>0.046330</td>\n",
       "      <td>-0.039467</td>\n",
       "      <td>-0.067401</td>\n",
       "    </tr>\n",
       "    <tr>\n",
       "      <th>danceability</th>\n",
       "      <td>-0.021072</td>\n",
       "      <td>1.000000</td>\n",
       "      <td>0.071775</td>\n",
       "      <td>0.133280</td>\n",
       "      <td>-0.070261</td>\n",
       "      <td>0.440286</td>\n",
       "      <td>0.045908</td>\n",
       "      <td>0.060980</td>\n",
       "      <td>0.013457</td>\n",
       "      <td>0.007021</td>\n",
       "      <td>-0.094622</td>\n",
       "      <td>0.475572</td>\n",
       "      <td>-0.216286</td>\n",
       "      <td>-0.005795</td>\n",
       "    </tr>\n",
       "    <tr>\n",
       "      <th>energy</th>\n",
       "      <td>-0.600673</td>\n",
       "      <td>0.071775</td>\n",
       "      <td>1.000000</td>\n",
       "      <td>0.137984</td>\n",
       "      <td>-0.231142</td>\n",
       "      <td>0.097369</td>\n",
       "      <td>-0.095041</td>\n",
       "      <td>0.696295</td>\n",
       "      <td>-0.042862</td>\n",
       "      <td>0.271863</td>\n",
       "      <td>0.141722</td>\n",
       "      <td>0.195359</td>\n",
       "      <td>0.056480</td>\n",
       "      <td>0.123980</td>\n",
       "    </tr>\n",
       "    <tr>\n",
       "      <th>explicit</th>\n",
       "      <td>-0.422888</td>\n",
       "      <td>0.133280</td>\n",
       "      <td>0.137984</td>\n",
       "      <td>1.000000</td>\n",
       "      <td>-0.193676</td>\n",
       "      <td>-0.127809</td>\n",
       "      <td>0.035063</td>\n",
       "      <td>0.079486</td>\n",
       "      <td>-0.010585</td>\n",
       "      <td>0.267757</td>\n",
       "      <td>0.006003</td>\n",
       "      <td>0.086448</td>\n",
       "      <td>0.065072</td>\n",
       "      <td>0.262404</td>\n",
       "    </tr>\n",
       "    <tr>\n",
       "      <th>instrumentalness</th>\n",
       "      <td>0.094093</td>\n",
       "      <td>-0.070261</td>\n",
       "      <td>-0.231142</td>\n",
       "      <td>-0.193676</td>\n",
       "      <td>1.000000</td>\n",
       "      <td>0.024069</td>\n",
       "      <td>-0.098409</td>\n",
       "      <td>-0.440110</td>\n",
       "      <td>-0.127604</td>\n",
       "      <td>0.307373</td>\n",
       "      <td>0.062304</td>\n",
       "      <td>0.021265</td>\n",
       "      <td>-0.079180</td>\n",
       "      <td>-0.019027</td>\n",
       "    </tr>\n",
       "    <tr>\n",
       "      <th>key</th>\n",
       "      <td>-0.024927</td>\n",
       "      <td>0.440286</td>\n",
       "      <td>0.097369</td>\n",
       "      <td>-0.127809</td>\n",
       "      <td>0.024069</td>\n",
       "      <td>1.000000</td>\n",
       "      <td>0.267386</td>\n",
       "      <td>-0.026367</td>\n",
       "      <td>-0.164772</td>\n",
       "      <td>-0.032845</td>\n",
       "      <td>0.015434</td>\n",
       "      <td>0.282899</td>\n",
       "      <td>-0.159271</td>\n",
       "      <td>-0.184074</td>\n",
       "    </tr>\n",
       "    <tr>\n",
       "      <th>liveness</th>\n",
       "      <td>0.015872</td>\n",
       "      <td>0.045908</td>\n",
       "      <td>-0.095041</td>\n",
       "      <td>0.035063</td>\n",
       "      <td>-0.098409</td>\n",
       "      <td>0.267386</td>\n",
       "      <td>1.000000</td>\n",
       "      <td>-0.170525</td>\n",
       "      <td>0.221409</td>\n",
       "      <td>-0.070444</td>\n",
       "      <td>0.150858</td>\n",
       "      <td>-0.131567</td>\n",
       "      <td>0.101545</td>\n",
       "      <td>-0.213506</td>\n",
       "    </tr>\n",
       "    <tr>\n",
       "      <th>loudness</th>\n",
       "      <td>-0.276648</td>\n",
       "      <td>0.060980</td>\n",
       "      <td>0.696295</td>\n",
       "      <td>0.079486</td>\n",
       "      <td>-0.440110</td>\n",
       "      <td>-0.026367</td>\n",
       "      <td>-0.170525</td>\n",
       "      <td>1.000000</td>\n",
       "      <td>-0.155972</td>\n",
       "      <td>0.091567</td>\n",
       "      <td>0.149536</td>\n",
       "      <td>0.268251</td>\n",
       "      <td>-0.239090</td>\n",
       "      <td>0.316352</td>\n",
       "    </tr>\n",
       "    <tr>\n",
       "      <th>popularity</th>\n",
       "      <td>0.158161</td>\n",
       "      <td>0.013457</td>\n",
       "      <td>-0.042862</td>\n",
       "      <td>-0.010585</td>\n",
       "      <td>-0.127604</td>\n",
       "      <td>-0.164772</td>\n",
       "      <td>0.221409</td>\n",
       "      <td>-0.155972</td>\n",
       "      <td>1.000000</td>\n",
       "      <td>-0.216289</td>\n",
       "      <td>-0.117609</td>\n",
       "      <td>-0.052071</td>\n",
       "      <td>0.114217</td>\n",
       "      <td>-0.027409</td>\n",
       "    </tr>\n",
       "    <tr>\n",
       "      <th>speechiness</th>\n",
       "      <td>-0.195886</td>\n",
       "      <td>0.007021</td>\n",
       "      <td>0.271863</td>\n",
       "      <td>0.267757</td>\n",
       "      <td>0.307373</td>\n",
       "      <td>-0.032845</td>\n",
       "      <td>-0.070444</td>\n",
       "      <td>0.091567</td>\n",
       "      <td>-0.216289</td>\n",
       "      <td>1.000000</td>\n",
       "      <td>0.270884</td>\n",
       "      <td>0.289722</td>\n",
       "      <td>0.252159</td>\n",
       "      <td>0.102729</td>\n",
       "    </tr>\n",
       "    <tr>\n",
       "      <th>tempo</th>\n",
       "      <td>-0.254395</td>\n",
       "      <td>-0.094622</td>\n",
       "      <td>0.141722</td>\n",
       "      <td>0.006003</td>\n",
       "      <td>0.062304</td>\n",
       "      <td>0.015434</td>\n",
       "      <td>0.150858</td>\n",
       "      <td>0.149536</td>\n",
       "      <td>-0.117609</td>\n",
       "      <td>0.270884</td>\n",
       "      <td>1.000000</td>\n",
       "      <td>0.040070</td>\n",
       "      <td>0.137573</td>\n",
       "      <td>-0.038211</td>\n",
       "    </tr>\n",
       "    <tr>\n",
       "      <th>valence</th>\n",
       "      <td>0.046330</td>\n",
       "      <td>0.475572</td>\n",
       "      <td>0.195359</td>\n",
       "      <td>0.086448</td>\n",
       "      <td>0.021265</td>\n",
       "      <td>0.282899</td>\n",
       "      <td>-0.131567</td>\n",
       "      <td>0.268251</td>\n",
       "      <td>-0.052071</td>\n",
       "      <td>0.289722</td>\n",
       "      <td>0.040070</td>\n",
       "      <td>1.000000</td>\n",
       "      <td>0.176040</td>\n",
       "      <td>0.210264</td>\n",
       "    </tr>\n",
       "    <tr>\n",
       "      <th>year</th>\n",
       "      <td>-0.039467</td>\n",
       "      <td>-0.216286</td>\n",
       "      <td>0.056480</td>\n",
       "      <td>0.065072</td>\n",
       "      <td>-0.079180</td>\n",
       "      <td>-0.159271</td>\n",
       "      <td>0.101545</td>\n",
       "      <td>-0.239090</td>\n",
       "      <td>0.114217</td>\n",
       "      <td>0.252159</td>\n",
       "      <td>0.137573</td>\n",
       "      <td>0.176040</td>\n",
       "      <td>1.000000</td>\n",
       "      <td>-0.213544</td>\n",
       "    </tr>\n",
       "    <tr>\n",
       "      <th>duration_minutes</th>\n",
       "      <td>-0.067401</td>\n",
       "      <td>-0.005795</td>\n",
       "      <td>0.123980</td>\n",
       "      <td>0.262404</td>\n",
       "      <td>-0.019027</td>\n",
       "      <td>-0.184074</td>\n",
       "      <td>-0.213506</td>\n",
       "      <td>0.316352</td>\n",
       "      <td>-0.027409</td>\n",
       "      <td>0.102729</td>\n",
       "      <td>-0.038211</td>\n",
       "      <td>0.210264</td>\n",
       "      <td>-0.213544</td>\n",
       "      <td>1.000000</td>\n",
       "    </tr>\n",
       "  </tbody>\n",
       "</table>\n",
       "</div>"
      ],
      "text/plain": [
       "                  acousticness  danceability    energy  explicit  \\\n",
       "acousticness          1.000000     -0.021072 -0.600673 -0.422888   \n",
       "danceability         -0.021072      1.000000  0.071775  0.133280   \n",
       "energy               -0.600673      0.071775  1.000000  0.137984   \n",
       "explicit             -0.422888      0.133280  0.137984  1.000000   \n",
       "instrumentalness      0.094093     -0.070261 -0.231142 -0.193676   \n",
       "key                  -0.024927      0.440286  0.097369 -0.127809   \n",
       "liveness              0.015872      0.045908 -0.095041  0.035063   \n",
       "loudness             -0.276648      0.060980  0.696295  0.079486   \n",
       "popularity            0.158161      0.013457 -0.042862 -0.010585   \n",
       "speechiness          -0.195886      0.007021  0.271863  0.267757   \n",
       "tempo                -0.254395     -0.094622  0.141722  0.006003   \n",
       "valence               0.046330      0.475572  0.195359  0.086448   \n",
       "year                 -0.039467     -0.216286  0.056480  0.065072   \n",
       "duration_minutes     -0.067401     -0.005795  0.123980  0.262404   \n",
       "\n",
       "                  instrumentalness       key  liveness  loudness  popularity  \\\n",
       "acousticness              0.094093 -0.024927  0.015872 -0.276648    0.158161   \n",
       "danceability             -0.070261  0.440286  0.045908  0.060980    0.013457   \n",
       "energy                   -0.231142  0.097369 -0.095041  0.696295   -0.042862   \n",
       "explicit                 -0.193676 -0.127809  0.035063  0.079486   -0.010585   \n",
       "instrumentalness          1.000000  0.024069 -0.098409 -0.440110   -0.127604   \n",
       "key                       0.024069  1.000000  0.267386 -0.026367   -0.164772   \n",
       "liveness                 -0.098409  0.267386  1.000000 -0.170525    0.221409   \n",
       "loudness                 -0.440110 -0.026367 -0.170525  1.000000   -0.155972   \n",
       "popularity               -0.127604 -0.164772  0.221409 -0.155972    1.000000   \n",
       "speechiness               0.307373 -0.032845 -0.070444  0.091567   -0.216289   \n",
       "tempo                     0.062304  0.015434  0.150858  0.149536   -0.117609   \n",
       "valence                   0.021265  0.282899 -0.131567  0.268251   -0.052071   \n",
       "year                     -0.079180 -0.159271  0.101545 -0.239090    0.114217   \n",
       "duration_minutes         -0.019027 -0.184074 -0.213506  0.316352   -0.027409   \n",
       "\n",
       "                  speechiness     tempo   valence      year  duration_minutes  \n",
       "acousticness        -0.195886 -0.254395  0.046330 -0.039467         -0.067401  \n",
       "danceability         0.007021 -0.094622  0.475572 -0.216286         -0.005795  \n",
       "energy               0.271863  0.141722  0.195359  0.056480          0.123980  \n",
       "explicit             0.267757  0.006003  0.086448  0.065072          0.262404  \n",
       "instrumentalness     0.307373  0.062304  0.021265 -0.079180         -0.019027  \n",
       "key                 -0.032845  0.015434  0.282899 -0.159271         -0.184074  \n",
       "liveness            -0.070444  0.150858 -0.131567  0.101545         -0.213506  \n",
       "loudness             0.091567  0.149536  0.268251 -0.239090          0.316352  \n",
       "popularity          -0.216289 -0.117609 -0.052071  0.114217         -0.027409  \n",
       "speechiness          1.000000  0.270884  0.289722  0.252159          0.102729  \n",
       "tempo                0.270884  1.000000  0.040070  0.137573         -0.038211  \n",
       "valence              0.289722  0.040070  1.000000  0.176040          0.210264  \n",
       "year                 0.252159  0.137573  0.176040  1.000000         -0.213544  \n",
       "duration_minutes     0.102729 -0.038211  0.210264 -0.213544          1.000000  "
      ]
     },
     "execution_count": 13,
     "metadata": {},
     "output_type": "execute_result"
    }
   ],
   "source": [
    "data.corr()"
   ]
  },
  {
   "cell_type": "code",
   "execution_count": 14,
   "metadata": {
    "scrolled": false
   },
   "outputs": [
    {
     "data": {
      "application/vnd.plotly.v1+json": {
       "config": {
        "linkText": " ",
        "plotlyServerURL": "https://plot.ly",
        "showLink": false
       },
       "data": [
        {
         "colorscale": [
          [
           0,
           "rgb(5,48,97)"
          ],
          [
           0.1,
           "rgb(33,102,172)"
          ],
          [
           0.2,
           "rgb(67,147,195)"
          ],
          [
           0.3,
           "rgb(146,197,222)"
          ],
          [
           0.4,
           "rgb(209,229,240)"
          ],
          [
           0.5,
           "rgb(247,247,247)"
          ],
          [
           0.6,
           "rgb(253,219,199)"
          ],
          [
           0.7,
           "rgb(244,165,130)"
          ],
          [
           0.8,
           "rgb(214,96,77)"
          ],
          [
           0.9,
           "rgb(178,24,43)"
          ],
          [
           1,
           "rgb(103,0,31)"
          ]
         ],
         "type": "heatmap",
         "x": [
          "acousticness",
          "danceability",
          "energy",
          "explicit",
          "instrumentalness",
          "key",
          "liveness",
          "loudness",
          "popularity",
          "speechiness",
          "tempo",
          "valence",
          "year",
          "duration_minutes"
         ],
         "y": [
          "acousticness",
          "danceability",
          "energy",
          "explicit",
          "instrumentalness",
          "key",
          "liveness",
          "loudness",
          "popularity",
          "speechiness",
          "tempo",
          "valence",
          "year",
          "duration_minutes"
         ],
         "z": [
          [
           1,
           -0.021072351708468412,
           -0.6006732820084405,
           -0.4228876528260364,
           0.09409252242021199,
           -0.024926692834827235,
           0.015871879823657967,
           -0.27664762184025393,
           0.1581606403900593,
           -0.19588576266656854,
           -0.25439515246574185,
           0.04633049585915626,
           -0.03946701367432122,
           -0.06740098082249427
          ],
          [
           -0.021072351708468412,
           1,
           0.07177473468945772,
           0.1332797457726146,
           -0.0702610481793166,
           0.4402864323908107,
           0.04590793688419372,
           0.060979757460205175,
           0.013457269315002218,
           0.0070208283496809324,
           -0.09462233678070275,
           0.4755724709572627,
           -0.21628560019751977,
           -0.005795096194280335
          ],
          [
           -0.6006732820084405,
           0.07177473468945772,
           1,
           0.13798409933309486,
           -0.23114249372065535,
           0.09736900332424617,
           -0.09504137106385908,
           0.6962945471178993,
           -0.04286248666477683,
           0.2718626885321704,
           0.1417216517213688,
           0.19535863882751975,
           0.05647993463905684,
           0.1239797999513715
          ],
          [
           -0.4228876528260364,
           0.1332797457726146,
           0.13798409933309486,
           1,
           -0.1936763444396528,
           -0.12780861688687215,
           0.03506326966670648,
           0.07948556647681815,
           -0.010585376634249863,
           0.26775657633642347,
           0.00600321708002994,
           0.08644836935931058,
           0.06507167208854134,
           0.26240425011230994
          ],
          [
           0.09409252242021199,
           -0.0702610481793166,
           -0.23114249372065535,
           -0.1936763444396528,
           1,
           0.024068988991947034,
           -0.09840884054167665,
           -0.4401097708237601,
           -0.12760434473486099,
           0.3073730838679958,
           0.062303740115955984,
           0.021265315731474933,
           -0.0791801719263601,
           -0.01902656025202037
          ],
          [
           -0.024926692834827235,
           0.4402864323908107,
           0.09736900332424617,
           -0.12780861688687215,
           0.024068988991947034,
           1,
           0.26738607890332267,
           -0.02636686511501093,
           -0.16477240948639835,
           -0.032845203747540026,
           0.015433794956827934,
           0.2828991584005995,
           -0.15927143673526914,
           -0.1840739771032372
          ],
          [
           0.015871879823657967,
           0.04590793688419372,
           -0.09504137106385908,
           0.03506326966670648,
           -0.09840884054167665,
           0.26738607890332267,
           1,
           -0.17052544380140486,
           0.2214087756803147,
           -0.07044360406077105,
           0.15085842227265805,
           -0.13156719874513373,
           0.10154486277671125,
           -0.213506123520213
          ],
          [
           -0.27664762184025393,
           0.060979757460205175,
           0.6962945471178993,
           0.07948556647681815,
           -0.4401097708237601,
           -0.02636686511501093,
           -0.17052544380140486,
           1,
           -0.1559720846932735,
           0.09156727386837098,
           0.14953589520140106,
           0.2682506247782842,
           -0.2390899479619664,
           0.31635204108944165
          ],
          [
           0.1581606403900593,
           0.013457269315002218,
           -0.04286248666477683,
           -0.010585376634249863,
           -0.12760434473486099,
           -0.16477240948639835,
           0.2214087756803147,
           -0.1559720846932735,
           1,
           -0.21628850371529587,
           -0.11760880189068407,
           -0.05207081575248811,
           0.11421691626130655,
           -0.027408912573182048
          ],
          [
           -0.19588576266656854,
           0.0070208283496809324,
           0.2718626885321704,
           0.26775657633642347,
           0.3073730838679958,
           -0.032845203747540026,
           -0.07044360406077105,
           0.09156727386837098,
           -0.21628850371529587,
           1,
           0.27088445012420714,
           0.2897222979542233,
           0.25215904304232656,
           0.10272939267847965
          ],
          [
           -0.25439515246574185,
           -0.09462233678070275,
           0.1417216517213688,
           0.00600321708002994,
           0.062303740115955984,
           0.015433794956827934,
           0.15085842227265805,
           0.14953589520140106,
           -0.11760880189068407,
           0.27088445012420714,
           1,
           0.04006968881703675,
           0.13757258235000244,
           -0.038211344581031294
          ],
          [
           0.04633049585915626,
           0.4755724709572627,
           0.19535863882751975,
           0.08644836935931058,
           0.021265315731474933,
           0.2828991584005995,
           -0.13156719874513373,
           0.2682506247782842,
           -0.05207081575248811,
           0.2897222979542233,
           0.04006968881703675,
           1,
           0.17604041897141406,
           0.21026352908212442
          ],
          [
           -0.03946701367432122,
           -0.21628560019751977,
           0.05647993463905684,
           0.06507167208854134,
           -0.0791801719263601,
           -0.15927143673526914,
           0.10154486277671125,
           -0.2390899479619664,
           0.11421691626130655,
           0.25215904304232656,
           0.13757258235000244,
           0.17604041897141406,
           1,
           -0.21354355521171745
          ],
          [
           -0.06740098082249427,
           -0.005795096194280335,
           0.1239797999513715,
           0.26240425011230994,
           -0.01902656025202037,
           -0.1840739771032372,
           -0.213506123520213,
           0.31635204108944165,
           -0.027408912573182048,
           0.10272939267847965,
           -0.038211344581031294,
           0.21026352908212442,
           -0.21354355521171745,
           1
          ]
         ],
         "zmax": 1,
         "zmin": -0.6006732820084405
        }
       ],
       "layout": {
        "legend": {
         "bgcolor": "#FFFFFF",
         "font": {
          "color": "#4D5663"
         }
        },
        "paper_bgcolor": "#FFFFFF",
        "plot_bgcolor": "#FFFFFF",
        "template": {
         "data": {
          "bar": [
           {
            "error_x": {
             "color": "#2a3f5f"
            },
            "error_y": {
             "color": "#2a3f5f"
            },
            "marker": {
             "line": {
              "color": "#E5ECF6",
              "width": 0.5
             }
            },
            "type": "bar"
           }
          ],
          "barpolar": [
           {
            "marker": {
             "line": {
              "color": "#E5ECF6",
              "width": 0.5
             }
            },
            "type": "barpolar"
           }
          ],
          "carpet": [
           {
            "aaxis": {
             "endlinecolor": "#2a3f5f",
             "gridcolor": "white",
             "linecolor": "white",
             "minorgridcolor": "white",
             "startlinecolor": "#2a3f5f"
            },
            "baxis": {
             "endlinecolor": "#2a3f5f",
             "gridcolor": "white",
             "linecolor": "white",
             "minorgridcolor": "white",
             "startlinecolor": "#2a3f5f"
            },
            "type": "carpet"
           }
          ],
          "choropleth": [
           {
            "colorbar": {
             "outlinewidth": 0,
             "ticks": ""
            },
            "type": "choropleth"
           }
          ],
          "contour": [
           {
            "colorbar": {
             "outlinewidth": 0,
             "ticks": ""
            },
            "colorscale": [
             [
              0,
              "#0d0887"
             ],
             [
              0.1111111111111111,
              "#46039f"
             ],
             [
              0.2222222222222222,
              "#7201a8"
             ],
             [
              0.3333333333333333,
              "#9c179e"
             ],
             [
              0.4444444444444444,
              "#bd3786"
             ],
             [
              0.5555555555555556,
              "#d8576b"
             ],
             [
              0.6666666666666666,
              "#ed7953"
             ],
             [
              0.7777777777777778,
              "#fb9f3a"
             ],
             [
              0.8888888888888888,
              "#fdca26"
             ],
             [
              1,
              "#f0f921"
             ]
            ],
            "type": "contour"
           }
          ],
          "contourcarpet": [
           {
            "colorbar": {
             "outlinewidth": 0,
             "ticks": ""
            },
            "type": "contourcarpet"
           }
          ],
          "heatmap": [
           {
            "colorbar": {
             "outlinewidth": 0,
             "ticks": ""
            },
            "colorscale": [
             [
              0,
              "#0d0887"
             ],
             [
              0.1111111111111111,
              "#46039f"
             ],
             [
              0.2222222222222222,
              "#7201a8"
             ],
             [
              0.3333333333333333,
              "#9c179e"
             ],
             [
              0.4444444444444444,
              "#bd3786"
             ],
             [
              0.5555555555555556,
              "#d8576b"
             ],
             [
              0.6666666666666666,
              "#ed7953"
             ],
             [
              0.7777777777777778,
              "#fb9f3a"
             ],
             [
              0.8888888888888888,
              "#fdca26"
             ],
             [
              1,
              "#f0f921"
             ]
            ],
            "type": "heatmap"
           }
          ],
          "heatmapgl": [
           {
            "colorbar": {
             "outlinewidth": 0,
             "ticks": ""
            },
            "colorscale": [
             [
              0,
              "#0d0887"
             ],
             [
              0.1111111111111111,
              "#46039f"
             ],
             [
              0.2222222222222222,
              "#7201a8"
             ],
             [
              0.3333333333333333,
              "#9c179e"
             ],
             [
              0.4444444444444444,
              "#bd3786"
             ],
             [
              0.5555555555555556,
              "#d8576b"
             ],
             [
              0.6666666666666666,
              "#ed7953"
             ],
             [
              0.7777777777777778,
              "#fb9f3a"
             ],
             [
              0.8888888888888888,
              "#fdca26"
             ],
             [
              1,
              "#f0f921"
             ]
            ],
            "type": "heatmapgl"
           }
          ],
          "histogram": [
           {
            "marker": {
             "colorbar": {
              "outlinewidth": 0,
              "ticks": ""
             }
            },
            "type": "histogram"
           }
          ],
          "histogram2d": [
           {
            "colorbar": {
             "outlinewidth": 0,
             "ticks": ""
            },
            "colorscale": [
             [
              0,
              "#0d0887"
             ],
             [
              0.1111111111111111,
              "#46039f"
             ],
             [
              0.2222222222222222,
              "#7201a8"
             ],
             [
              0.3333333333333333,
              "#9c179e"
             ],
             [
              0.4444444444444444,
              "#bd3786"
             ],
             [
              0.5555555555555556,
              "#d8576b"
             ],
             [
              0.6666666666666666,
              "#ed7953"
             ],
             [
              0.7777777777777778,
              "#fb9f3a"
             ],
             [
              0.8888888888888888,
              "#fdca26"
             ],
             [
              1,
              "#f0f921"
             ]
            ],
            "type": "histogram2d"
           }
          ],
          "histogram2dcontour": [
           {
            "colorbar": {
             "outlinewidth": 0,
             "ticks": ""
            },
            "colorscale": [
             [
              0,
              "#0d0887"
             ],
             [
              0.1111111111111111,
              "#46039f"
             ],
             [
              0.2222222222222222,
              "#7201a8"
             ],
             [
              0.3333333333333333,
              "#9c179e"
             ],
             [
              0.4444444444444444,
              "#bd3786"
             ],
             [
              0.5555555555555556,
              "#d8576b"
             ],
             [
              0.6666666666666666,
              "#ed7953"
             ],
             [
              0.7777777777777778,
              "#fb9f3a"
             ],
             [
              0.8888888888888888,
              "#fdca26"
             ],
             [
              1,
              "#f0f921"
             ]
            ],
            "type": "histogram2dcontour"
           }
          ],
          "mesh3d": [
           {
            "colorbar": {
             "outlinewidth": 0,
             "ticks": ""
            },
            "type": "mesh3d"
           }
          ],
          "parcoords": [
           {
            "line": {
             "colorbar": {
              "outlinewidth": 0,
              "ticks": ""
             }
            },
            "type": "parcoords"
           }
          ],
          "pie": [
           {
            "automargin": true,
            "type": "pie"
           }
          ],
          "scatter": [
           {
            "marker": {
             "colorbar": {
              "outlinewidth": 0,
              "ticks": ""
             }
            },
            "type": "scatter"
           }
          ],
          "scatter3d": [
           {
            "line": {
             "colorbar": {
              "outlinewidth": 0,
              "ticks": ""
             }
            },
            "marker": {
             "colorbar": {
              "outlinewidth": 0,
              "ticks": ""
             }
            },
            "type": "scatter3d"
           }
          ],
          "scattercarpet": [
           {
            "marker": {
             "colorbar": {
              "outlinewidth": 0,
              "ticks": ""
             }
            },
            "type": "scattercarpet"
           }
          ],
          "scattergeo": [
           {
            "marker": {
             "colorbar": {
              "outlinewidth": 0,
              "ticks": ""
             }
            },
            "type": "scattergeo"
           }
          ],
          "scattergl": [
           {
            "marker": {
             "colorbar": {
              "outlinewidth": 0,
              "ticks": ""
             }
            },
            "type": "scattergl"
           }
          ],
          "scattermapbox": [
           {
            "marker": {
             "colorbar": {
              "outlinewidth": 0,
              "ticks": ""
             }
            },
            "type": "scattermapbox"
           }
          ],
          "scatterpolar": [
           {
            "marker": {
             "colorbar": {
              "outlinewidth": 0,
              "ticks": ""
             }
            },
            "type": "scatterpolar"
           }
          ],
          "scatterpolargl": [
           {
            "marker": {
             "colorbar": {
              "outlinewidth": 0,
              "ticks": ""
             }
            },
            "type": "scatterpolargl"
           }
          ],
          "scatterternary": [
           {
            "marker": {
             "colorbar": {
              "outlinewidth": 0,
              "ticks": ""
             }
            },
            "type": "scatterternary"
           }
          ],
          "surface": [
           {
            "colorbar": {
             "outlinewidth": 0,
             "ticks": ""
            },
            "colorscale": [
             [
              0,
              "#0d0887"
             ],
             [
              0.1111111111111111,
              "#46039f"
             ],
             [
              0.2222222222222222,
              "#7201a8"
             ],
             [
              0.3333333333333333,
              "#9c179e"
             ],
             [
              0.4444444444444444,
              "#bd3786"
             ],
             [
              0.5555555555555556,
              "#d8576b"
             ],
             [
              0.6666666666666666,
              "#ed7953"
             ],
             [
              0.7777777777777778,
              "#fb9f3a"
             ],
             [
              0.8888888888888888,
              "#fdca26"
             ],
             [
              1,
              "#f0f921"
             ]
            ],
            "type": "surface"
           }
          ],
          "table": [
           {
            "cells": {
             "fill": {
              "color": "#EBF0F8"
             },
             "line": {
              "color": "white"
             }
            },
            "header": {
             "fill": {
              "color": "#C8D4E3"
             },
             "line": {
              "color": "white"
             }
            },
            "type": "table"
           }
          ]
         },
         "layout": {
          "annotationdefaults": {
           "arrowcolor": "#2a3f5f",
           "arrowhead": 0,
           "arrowwidth": 1
          },
          "coloraxis": {
           "colorbar": {
            "outlinewidth": 0,
            "ticks": ""
           }
          },
          "colorscale": {
           "diverging": [
            [
             0,
             "#8e0152"
            ],
            [
             0.1,
             "#c51b7d"
            ],
            [
             0.2,
             "#de77ae"
            ],
            [
             0.3,
             "#f1b6da"
            ],
            [
             0.4,
             "#fde0ef"
            ],
            [
             0.5,
             "#f7f7f7"
            ],
            [
             0.6,
             "#e6f5d0"
            ],
            [
             0.7,
             "#b8e186"
            ],
            [
             0.8,
             "#7fbc41"
            ],
            [
             0.9,
             "#4d9221"
            ],
            [
             1,
             "#276419"
            ]
           ],
           "sequential": [
            [
             0,
             "#0d0887"
            ],
            [
             0.1111111111111111,
             "#46039f"
            ],
            [
             0.2222222222222222,
             "#7201a8"
            ],
            [
             0.3333333333333333,
             "#9c179e"
            ],
            [
             0.4444444444444444,
             "#bd3786"
            ],
            [
             0.5555555555555556,
             "#d8576b"
            ],
            [
             0.6666666666666666,
             "#ed7953"
            ],
            [
             0.7777777777777778,
             "#fb9f3a"
            ],
            [
             0.8888888888888888,
             "#fdca26"
            ],
            [
             1,
             "#f0f921"
            ]
           ],
           "sequentialminus": [
            [
             0,
             "#0d0887"
            ],
            [
             0.1111111111111111,
             "#46039f"
            ],
            [
             0.2222222222222222,
             "#7201a8"
            ],
            [
             0.3333333333333333,
             "#9c179e"
            ],
            [
             0.4444444444444444,
             "#bd3786"
            ],
            [
             0.5555555555555556,
             "#d8576b"
            ],
            [
             0.6666666666666666,
             "#ed7953"
            ],
            [
             0.7777777777777778,
             "#fb9f3a"
            ],
            [
             0.8888888888888888,
             "#fdca26"
            ],
            [
             1,
             "#f0f921"
            ]
           ]
          },
          "colorway": [
           "#636efa",
           "#EF553B",
           "#00cc96",
           "#ab63fa",
           "#FFA15A",
           "#19d3f3",
           "#FF6692",
           "#B6E880",
           "#FF97FF",
           "#FECB52"
          ],
          "font": {
           "color": "#2a3f5f"
          },
          "geo": {
           "bgcolor": "white",
           "lakecolor": "white",
           "landcolor": "#E5ECF6",
           "showlakes": true,
           "showland": true,
           "subunitcolor": "white"
          },
          "hoverlabel": {
           "align": "left"
          },
          "hovermode": "closest",
          "mapbox": {
           "style": "light"
          },
          "paper_bgcolor": "white",
          "plot_bgcolor": "#E5ECF6",
          "polar": {
           "angularaxis": {
            "gridcolor": "white",
            "linecolor": "white",
            "ticks": ""
           },
           "bgcolor": "#E5ECF6",
           "radialaxis": {
            "gridcolor": "white",
            "linecolor": "white",
            "ticks": ""
           }
          },
          "scene": {
           "xaxis": {
            "backgroundcolor": "#E5ECF6",
            "gridcolor": "white",
            "gridwidth": 2,
            "linecolor": "white",
            "showbackground": true,
            "ticks": "",
            "zerolinecolor": "white"
           },
           "yaxis": {
            "backgroundcolor": "#E5ECF6",
            "gridcolor": "white",
            "gridwidth": 2,
            "linecolor": "white",
            "showbackground": true,
            "ticks": "",
            "zerolinecolor": "white"
           },
           "zaxis": {
            "backgroundcolor": "#E5ECF6",
            "gridcolor": "white",
            "gridwidth": 2,
            "linecolor": "white",
            "showbackground": true,
            "ticks": "",
            "zerolinecolor": "white"
           }
          },
          "shapedefaults": {
           "line": {
            "color": "#2a3f5f"
           }
          },
          "ternary": {
           "aaxis": {
            "gridcolor": "white",
            "linecolor": "white",
            "ticks": ""
           },
           "baxis": {
            "gridcolor": "white",
            "linecolor": "white",
            "ticks": ""
           },
           "bgcolor": "#E5ECF6",
           "caxis": {
            "gridcolor": "white",
            "linecolor": "white",
            "ticks": ""
           }
          },
          "title": {
           "x": 0.05
          },
          "xaxis": {
           "automargin": true,
           "gridcolor": "white",
           "linecolor": "white",
           "ticks": "",
           "title": {
            "standoff": 15
           },
           "zerolinecolor": "white",
           "zerolinewidth": 2
          },
          "yaxis": {
           "automargin": true,
           "gridcolor": "white",
           "linecolor": "white",
           "ticks": "",
           "title": {
            "standoff": 15
           },
           "zerolinecolor": "white",
           "zerolinewidth": 2
          }
         }
        },
        "title": {
         "font": {
          "color": "#4D5663"
         },
         "text": "Correlation between each audio feature"
        },
        "xaxis": {
         "gridcolor": "#E1E5ED",
         "showgrid": true,
         "tickfont": {
          "color": "#4D5663"
         },
         "title": {
          "font": {
           "color": "#4D5663"
          },
          "text": ""
         },
         "zerolinecolor": "#E1E5ED"
        },
        "yaxis": {
         "gridcolor": "#E1E5ED",
         "showgrid": true,
         "tickfont": {
          "color": "#4D5663"
         },
         "title": {
          "font": {
           "color": "#4D5663"
          },
          "text": ""
         },
         "zerolinecolor": "#E1E5ED"
        }
       }
      },
      "text/html": [
       "<div>\n",
       "        \n",
       "        \n",
       "            <div id=\"081ef584-4c54-4e03-bca9-d09a9c43294d\" class=\"plotly-graph-div\" style=\"height:525px; width:100%;\"></div>\n",
       "            <script type=\"text/javascript\">\n",
       "                require([\"plotly\"], function(Plotly) {\n",
       "                    window.PLOTLYENV=window.PLOTLYENV || {};\n",
       "                    \n",
       "                if (document.getElementById(\"081ef584-4c54-4e03-bca9-d09a9c43294d\")) {\n",
       "                    Plotly.newPlot(\n",
       "                        '081ef584-4c54-4e03-bca9-d09a9c43294d',\n",
       "                        [{\"colorscale\": [[0.0, \"rgb(5,48,97)\"], [0.1, \"rgb(33,102,172)\"], [0.2, \"rgb(67,147,195)\"], [0.3, \"rgb(146,197,222)\"], [0.4, \"rgb(209,229,240)\"], [0.5, \"rgb(247,247,247)\"], [0.6, \"rgb(253,219,199)\"], [0.7, \"rgb(244,165,130)\"], [0.8, \"rgb(214,96,77)\"], [0.9, \"rgb(178,24,43)\"], [1.0, \"rgb(103,0,31)\"]], \"type\": \"heatmap\", \"x\": [\"acousticness\", \"danceability\", \"energy\", \"explicit\", \"instrumentalness\", \"key\", \"liveness\", \"loudness\", \"popularity\", \"speechiness\", \"tempo\", \"valence\", \"year\", \"duration_minutes\"], \"y\": [\"acousticness\", \"danceability\", \"energy\", \"explicit\", \"instrumentalness\", \"key\", \"liveness\", \"loudness\", \"popularity\", \"speechiness\", \"tempo\", \"valence\", \"year\", \"duration_minutes\"], \"z\": [[1.0, -0.021072351708468412, -0.6006732820084405, -0.4228876528260364, 0.09409252242021199, -0.024926692834827235, 0.015871879823657967, -0.27664762184025393, 0.1581606403900593, -0.19588576266656854, -0.25439515246574185, 0.04633049585915626, -0.03946701367432122, -0.06740098082249427], [-0.021072351708468412, 1.0, 0.07177473468945772, 0.1332797457726146, -0.0702610481793166, 0.4402864323908107, 0.04590793688419372, 0.060979757460205175, 0.013457269315002218, 0.0070208283496809324, -0.09462233678070275, 0.4755724709572627, -0.21628560019751977, -0.005795096194280335], [-0.6006732820084405, 0.07177473468945772, 1.0, 0.13798409933309486, -0.23114249372065535, 0.09736900332424617, -0.09504137106385908, 0.6962945471178993, -0.04286248666477683, 0.2718626885321704, 0.1417216517213688, 0.19535863882751975, 0.05647993463905684, 0.1239797999513715], [-0.4228876528260364, 0.1332797457726146, 0.13798409933309486, 1.0, -0.1936763444396528, -0.12780861688687215, 0.03506326966670648, 0.07948556647681815, -0.010585376634249863, 0.26775657633642347, 0.00600321708002994, 0.08644836935931058, 0.06507167208854134, 0.26240425011230994], [0.09409252242021199, -0.0702610481793166, -0.23114249372065535, -0.1936763444396528, 1.0, 0.024068988991947034, -0.09840884054167665, -0.4401097708237601, -0.12760434473486099, 0.3073730838679958, 0.062303740115955984, 0.021265315731474933, -0.0791801719263601, -0.01902656025202037], [-0.024926692834827235, 0.4402864323908107, 0.09736900332424617, -0.12780861688687215, 0.024068988991947034, 1.0, 0.26738607890332267, -0.02636686511501093, -0.16477240948639835, -0.032845203747540026, 0.015433794956827934, 0.2828991584005995, -0.15927143673526914, -0.1840739771032372], [0.015871879823657967, 0.04590793688419372, -0.09504137106385908, 0.03506326966670648, -0.09840884054167665, 0.26738607890332267, 1.0, -0.17052544380140486, 0.2214087756803147, -0.07044360406077105, 0.15085842227265805, -0.13156719874513373, 0.10154486277671125, -0.213506123520213], [-0.27664762184025393, 0.060979757460205175, 0.6962945471178993, 0.07948556647681815, -0.4401097708237601, -0.02636686511501093, -0.17052544380140486, 1.0, -0.1559720846932735, 0.09156727386837098, 0.14953589520140106, 0.2682506247782842, -0.2390899479619664, 0.31635204108944165], [0.1581606403900593, 0.013457269315002218, -0.04286248666477683, -0.010585376634249863, -0.12760434473486099, -0.16477240948639835, 0.2214087756803147, -0.1559720846932735, 1.0, -0.21628850371529587, -0.11760880189068407, -0.05207081575248811, 0.11421691626130655, -0.027408912573182048], [-0.19588576266656854, 0.0070208283496809324, 0.2718626885321704, 0.26775657633642347, 0.3073730838679958, -0.032845203747540026, -0.07044360406077105, 0.09156727386837098, -0.21628850371529587, 1.0, 0.27088445012420714, 0.2897222979542233, 0.25215904304232656, 0.10272939267847965], [-0.25439515246574185, -0.09462233678070275, 0.1417216517213688, 0.00600321708002994, 0.062303740115955984, 0.015433794956827934, 0.15085842227265805, 0.14953589520140106, -0.11760880189068407, 0.27088445012420714, 1.0, 0.04006968881703675, 0.13757258235000244, -0.038211344581031294], [0.04633049585915626, 0.4755724709572627, 0.19535863882751975, 0.08644836935931058, 0.021265315731474933, 0.2828991584005995, -0.13156719874513373, 0.2682506247782842, -0.05207081575248811, 0.2897222979542233, 0.04006968881703675, 1.0, 0.17604041897141406, 0.21026352908212442], [-0.03946701367432122, -0.21628560019751977, 0.05647993463905684, 0.06507167208854134, -0.0791801719263601, -0.15927143673526914, 0.10154486277671125, -0.2390899479619664, 0.11421691626130655, 0.25215904304232656, 0.13757258235000244, 0.17604041897141406, 1.0, -0.21354355521171745], [-0.06740098082249427, -0.005795096194280335, 0.1239797999513715, 0.26240425011230994, -0.01902656025202037, -0.1840739771032372, -0.213506123520213, 0.31635204108944165, -0.027408912573182048, 0.10272939267847965, -0.038211344581031294, 0.21026352908212442, -0.21354355521171745, 1.0]], \"zmax\": 1.0, \"zmin\": -0.6006732820084405}],\n",
       "                        {\"legend\": {\"bgcolor\": \"#FFFFFF\", \"font\": {\"color\": \"#4D5663\"}}, \"paper_bgcolor\": \"#FFFFFF\", \"plot_bgcolor\": \"#FFFFFF\", \"template\": {\"data\": {\"bar\": [{\"error_x\": {\"color\": \"#2a3f5f\"}, \"error_y\": {\"color\": \"#2a3f5f\"}, \"marker\": {\"line\": {\"color\": \"#E5ECF6\", \"width\": 0.5}}, \"type\": \"bar\"}], \"barpolar\": [{\"marker\": {\"line\": {\"color\": \"#E5ECF6\", \"width\": 0.5}}, \"type\": \"barpolar\"}], \"carpet\": [{\"aaxis\": {\"endlinecolor\": \"#2a3f5f\", \"gridcolor\": \"white\", \"linecolor\": \"white\", \"minorgridcolor\": \"white\", \"startlinecolor\": \"#2a3f5f\"}, \"baxis\": {\"endlinecolor\": \"#2a3f5f\", \"gridcolor\": \"white\", \"linecolor\": \"white\", \"minorgridcolor\": \"white\", \"startlinecolor\": \"#2a3f5f\"}, \"type\": \"carpet\"}], \"choropleth\": [{\"colorbar\": {\"outlinewidth\": 0, \"ticks\": \"\"}, \"type\": \"choropleth\"}], \"contour\": [{\"colorbar\": {\"outlinewidth\": 0, \"ticks\": \"\"}, \"colorscale\": [[0.0, \"#0d0887\"], [0.1111111111111111, \"#46039f\"], [0.2222222222222222, \"#7201a8\"], [0.3333333333333333, \"#9c179e\"], [0.4444444444444444, \"#bd3786\"], [0.5555555555555556, \"#d8576b\"], [0.6666666666666666, \"#ed7953\"], [0.7777777777777778, \"#fb9f3a\"], [0.8888888888888888, \"#fdca26\"], [1.0, \"#f0f921\"]], \"type\": \"contour\"}], \"contourcarpet\": [{\"colorbar\": {\"outlinewidth\": 0, \"ticks\": \"\"}, \"type\": \"contourcarpet\"}], \"heatmap\": [{\"colorbar\": {\"outlinewidth\": 0, \"ticks\": \"\"}, \"colorscale\": [[0.0, \"#0d0887\"], [0.1111111111111111, \"#46039f\"], [0.2222222222222222, \"#7201a8\"], [0.3333333333333333, \"#9c179e\"], [0.4444444444444444, \"#bd3786\"], [0.5555555555555556, \"#d8576b\"], [0.6666666666666666, \"#ed7953\"], [0.7777777777777778, \"#fb9f3a\"], [0.8888888888888888, \"#fdca26\"], [1.0, \"#f0f921\"]], \"type\": \"heatmap\"}], \"heatmapgl\": [{\"colorbar\": {\"outlinewidth\": 0, \"ticks\": \"\"}, \"colorscale\": [[0.0, \"#0d0887\"], [0.1111111111111111, \"#46039f\"], [0.2222222222222222, \"#7201a8\"], [0.3333333333333333, \"#9c179e\"], [0.4444444444444444, \"#bd3786\"], [0.5555555555555556, \"#d8576b\"], [0.6666666666666666, \"#ed7953\"], [0.7777777777777778, \"#fb9f3a\"], [0.8888888888888888, \"#fdca26\"], [1.0, \"#f0f921\"]], \"type\": \"heatmapgl\"}], \"histogram\": [{\"marker\": {\"colorbar\": {\"outlinewidth\": 0, \"ticks\": \"\"}}, \"type\": \"histogram\"}], \"histogram2d\": [{\"colorbar\": {\"outlinewidth\": 0, \"ticks\": \"\"}, \"colorscale\": [[0.0, \"#0d0887\"], [0.1111111111111111, \"#46039f\"], [0.2222222222222222, \"#7201a8\"], [0.3333333333333333, \"#9c179e\"], [0.4444444444444444, \"#bd3786\"], [0.5555555555555556, \"#d8576b\"], [0.6666666666666666, \"#ed7953\"], [0.7777777777777778, \"#fb9f3a\"], [0.8888888888888888, \"#fdca26\"], [1.0, \"#f0f921\"]], \"type\": \"histogram2d\"}], \"histogram2dcontour\": [{\"colorbar\": {\"outlinewidth\": 0, \"ticks\": \"\"}, \"colorscale\": [[0.0, \"#0d0887\"], [0.1111111111111111, \"#46039f\"], [0.2222222222222222, \"#7201a8\"], [0.3333333333333333, \"#9c179e\"], [0.4444444444444444, \"#bd3786\"], [0.5555555555555556, \"#d8576b\"], [0.6666666666666666, \"#ed7953\"], [0.7777777777777778, \"#fb9f3a\"], [0.8888888888888888, \"#fdca26\"], [1.0, \"#f0f921\"]], \"type\": \"histogram2dcontour\"}], \"mesh3d\": [{\"colorbar\": {\"outlinewidth\": 0, \"ticks\": \"\"}, \"type\": \"mesh3d\"}], \"parcoords\": [{\"line\": {\"colorbar\": {\"outlinewidth\": 0, \"ticks\": \"\"}}, \"type\": \"parcoords\"}], \"pie\": [{\"automargin\": true, \"type\": \"pie\"}], \"scatter\": [{\"marker\": {\"colorbar\": {\"outlinewidth\": 0, \"ticks\": \"\"}}, \"type\": \"scatter\"}], \"scatter3d\": [{\"line\": {\"colorbar\": {\"outlinewidth\": 0, \"ticks\": \"\"}}, \"marker\": {\"colorbar\": {\"outlinewidth\": 0, \"ticks\": \"\"}}, \"type\": \"scatter3d\"}], \"scattercarpet\": [{\"marker\": {\"colorbar\": {\"outlinewidth\": 0, \"ticks\": \"\"}}, \"type\": \"scattercarpet\"}], \"scattergeo\": [{\"marker\": {\"colorbar\": {\"outlinewidth\": 0, \"ticks\": \"\"}}, \"type\": \"scattergeo\"}], \"scattergl\": [{\"marker\": {\"colorbar\": {\"outlinewidth\": 0, \"ticks\": \"\"}}, \"type\": \"scattergl\"}], \"scattermapbox\": [{\"marker\": {\"colorbar\": {\"outlinewidth\": 0, \"ticks\": \"\"}}, \"type\": \"scattermapbox\"}], \"scatterpolar\": [{\"marker\": {\"colorbar\": {\"outlinewidth\": 0, \"ticks\": \"\"}}, \"type\": \"scatterpolar\"}], \"scatterpolargl\": [{\"marker\": {\"colorbar\": {\"outlinewidth\": 0, \"ticks\": \"\"}}, \"type\": \"scatterpolargl\"}], \"scatterternary\": [{\"marker\": {\"colorbar\": {\"outlinewidth\": 0, \"ticks\": \"\"}}, \"type\": \"scatterternary\"}], \"surface\": [{\"colorbar\": {\"outlinewidth\": 0, \"ticks\": \"\"}, \"colorscale\": [[0.0, \"#0d0887\"], [0.1111111111111111, \"#46039f\"], [0.2222222222222222, \"#7201a8\"], [0.3333333333333333, \"#9c179e\"], [0.4444444444444444, \"#bd3786\"], [0.5555555555555556, \"#d8576b\"], [0.6666666666666666, \"#ed7953\"], [0.7777777777777778, \"#fb9f3a\"], [0.8888888888888888, \"#fdca26\"], [1.0, \"#f0f921\"]], \"type\": \"surface\"}], \"table\": [{\"cells\": {\"fill\": {\"color\": \"#EBF0F8\"}, \"line\": {\"color\": \"white\"}}, \"header\": {\"fill\": {\"color\": \"#C8D4E3\"}, \"line\": {\"color\": \"white\"}}, \"type\": \"table\"}]}, \"layout\": {\"annotationdefaults\": {\"arrowcolor\": \"#2a3f5f\", \"arrowhead\": 0, \"arrowwidth\": 1}, \"coloraxis\": {\"colorbar\": {\"outlinewidth\": 0, \"ticks\": \"\"}}, \"colorscale\": {\"diverging\": [[0, \"#8e0152\"], [0.1, \"#c51b7d\"], [0.2, \"#de77ae\"], [0.3, \"#f1b6da\"], [0.4, \"#fde0ef\"], [0.5, \"#f7f7f7\"], [0.6, \"#e6f5d0\"], [0.7, \"#b8e186\"], [0.8, \"#7fbc41\"], [0.9, \"#4d9221\"], [1, \"#276419\"]], \"sequential\": [[0.0, \"#0d0887\"], [0.1111111111111111, \"#46039f\"], [0.2222222222222222, \"#7201a8\"], [0.3333333333333333, \"#9c179e\"], [0.4444444444444444, \"#bd3786\"], [0.5555555555555556, \"#d8576b\"], [0.6666666666666666, \"#ed7953\"], [0.7777777777777778, \"#fb9f3a\"], [0.8888888888888888, \"#fdca26\"], [1.0, \"#f0f921\"]], \"sequentialminus\": [[0.0, \"#0d0887\"], [0.1111111111111111, \"#46039f\"], [0.2222222222222222, \"#7201a8\"], [0.3333333333333333, \"#9c179e\"], [0.4444444444444444, \"#bd3786\"], [0.5555555555555556, \"#d8576b\"], [0.6666666666666666, \"#ed7953\"], [0.7777777777777778, \"#fb9f3a\"], [0.8888888888888888, \"#fdca26\"], [1.0, \"#f0f921\"]]}, \"colorway\": [\"#636efa\", \"#EF553B\", \"#00cc96\", \"#ab63fa\", \"#FFA15A\", \"#19d3f3\", \"#FF6692\", \"#B6E880\", \"#FF97FF\", \"#FECB52\"], \"font\": {\"color\": \"#2a3f5f\"}, \"geo\": {\"bgcolor\": \"white\", \"lakecolor\": \"white\", \"landcolor\": \"#E5ECF6\", \"showlakes\": true, \"showland\": true, \"subunitcolor\": \"white\"}, \"hoverlabel\": {\"align\": \"left\"}, \"hovermode\": \"closest\", \"mapbox\": {\"style\": \"light\"}, \"paper_bgcolor\": \"white\", \"plot_bgcolor\": \"#E5ECF6\", \"polar\": {\"angularaxis\": {\"gridcolor\": \"white\", \"linecolor\": \"white\", \"ticks\": \"\"}, \"bgcolor\": \"#E5ECF6\", \"radialaxis\": {\"gridcolor\": \"white\", \"linecolor\": \"white\", \"ticks\": \"\"}}, \"scene\": {\"xaxis\": {\"backgroundcolor\": \"#E5ECF6\", \"gridcolor\": \"white\", \"gridwidth\": 2, \"linecolor\": \"white\", \"showbackground\": true, \"ticks\": \"\", \"zerolinecolor\": \"white\"}, \"yaxis\": {\"backgroundcolor\": \"#E5ECF6\", \"gridcolor\": \"white\", \"gridwidth\": 2, \"linecolor\": \"white\", \"showbackground\": true, \"ticks\": \"\", \"zerolinecolor\": \"white\"}, \"zaxis\": {\"backgroundcolor\": \"#E5ECF6\", \"gridcolor\": \"white\", \"gridwidth\": 2, \"linecolor\": \"white\", \"showbackground\": true, \"ticks\": \"\", \"zerolinecolor\": \"white\"}}, \"shapedefaults\": {\"line\": {\"color\": \"#2a3f5f\"}}, \"ternary\": {\"aaxis\": {\"gridcolor\": \"white\", \"linecolor\": \"white\", \"ticks\": \"\"}, \"baxis\": {\"gridcolor\": \"white\", \"linecolor\": \"white\", \"ticks\": \"\"}, \"bgcolor\": \"#E5ECF6\", \"caxis\": {\"gridcolor\": \"white\", \"linecolor\": \"white\", \"ticks\": \"\"}}, \"title\": {\"x\": 0.05}, \"xaxis\": {\"automargin\": true, \"gridcolor\": \"white\", \"linecolor\": \"white\", \"ticks\": \"\", \"title\": {\"standoff\": 15}, \"zerolinecolor\": \"white\", \"zerolinewidth\": 2}, \"yaxis\": {\"automargin\": true, \"gridcolor\": \"white\", \"linecolor\": \"white\", \"ticks\": \"\", \"title\": {\"standoff\": 15}, \"zerolinecolor\": \"white\", \"zerolinewidth\": 2}}}, \"title\": {\"font\": {\"color\": \"#4D5663\"}, \"text\": \"Correlation between each audio feature\"}, \"xaxis\": {\"gridcolor\": \"#E1E5ED\", \"showgrid\": true, \"tickfont\": {\"color\": \"#4D5663\"}, \"title\": {\"font\": {\"color\": \"#4D5663\"}, \"text\": \"\"}, \"zerolinecolor\": \"#E1E5ED\"}, \"yaxis\": {\"gridcolor\": \"#E1E5ED\", \"showgrid\": true, \"tickfont\": {\"color\": \"#4D5663\"}, \"title\": {\"font\": {\"color\": \"#4D5663\"}, \"text\": \"\"}, \"zerolinecolor\": \"#E1E5ED\"}},\n",
       "                        {\"responsive\": true}\n",
       "                    ).then(function(){\n",
       "                            \n",
       "var gd = document.getElementById('081ef584-4c54-4e03-bca9-d09a9c43294d');\n",
       "var x = new MutationObserver(function (mutations, observer) {{\n",
       "        var display = window.getComputedStyle(gd).display;\n",
       "        if (!display || display === 'none') {{\n",
       "            console.log([gd, 'removed!']);\n",
       "            Plotly.purge(gd);\n",
       "            observer.disconnect();\n",
       "        }}\n",
       "}});\n",
       "\n",
       "// Listen for the removal of the full notebook cells\n",
       "var notebookContainer = gd.closest('#notebook-container');\n",
       "if (notebookContainer) {{\n",
       "    x.observe(notebookContainer, {childList: true});\n",
       "}}\n",
       "\n",
       "// Listen for the clearing of the current output cell\n",
       "var outputEl = gd.closest('.output');\n",
       "if (outputEl) {{\n",
       "    x.observe(outputEl, {childList: true});\n",
       "}}\n",
       "\n",
       "                        })\n",
       "                };\n",
       "                });\n",
       "            </script>\n",
       "        </div>"
      ]
     },
     "metadata": {},
     "output_type": "display_data"
    }
   ],
   "source": [
    "data.corr().iplot(kind=\"heatmap\", title=\"Correlation between each audio feature\", theme=\"white\", colorscale=\"-rdbu\")"
   ]
  },
  {
   "cell_type": "code",
   "execution_count": 15,
   "metadata": {
    "scrolled": false
   },
   "outputs": [
    {
     "data": {
      "application/vnd.plotly.v1+json": {
       "config": {
        "linkText": " ",
        "plotlyServerURL": "https://plot.ly",
        "showLink": false
       },
       "data": [
        {
         "histfunc": "count",
         "histnorm": "",
         "marker": {
          "color": "rgba(239, 138, 98, 1.0)",
          "line": {
           "color": "#4D5663",
           "width": 1.3
          }
         },
         "name": "year",
         "opacity": 0.8,
         "orientation": "v",
         "type": "histogram",
         "x": [
          2020,
          2020,
          2020,
          2019,
          2020,
          2019,
          2020,
          2019,
          2019,
          2020,
          2019,
          2019,
          2019,
          2019,
          2019,
          2018,
          2020,
          2020,
          2020,
          2018,
          2020,
          2020,
          2020,
          2020,
          2020,
          2016,
          2020,
          2019,
          2019,
          2019,
          2019,
          2019,
          2020,
          2020,
          2020
         ]
        }
       ],
       "layout": {
        "bargap": 0.5,
        "barmode": "overlay",
        "legend": {
         "bgcolor": "#FFFFFF",
         "font": {
          "color": "#4D5663"
         }
        },
        "paper_bgcolor": "#FFFFFF",
        "plot_bgcolor": "#FFFFFF",
        "template": {
         "data": {
          "bar": [
           {
            "error_x": {
             "color": "#2a3f5f"
            },
            "error_y": {
             "color": "#2a3f5f"
            },
            "marker": {
             "line": {
              "color": "#E5ECF6",
              "width": 0.5
             }
            },
            "type": "bar"
           }
          ],
          "barpolar": [
           {
            "marker": {
             "line": {
              "color": "#E5ECF6",
              "width": 0.5
             }
            },
            "type": "barpolar"
           }
          ],
          "carpet": [
           {
            "aaxis": {
             "endlinecolor": "#2a3f5f",
             "gridcolor": "white",
             "linecolor": "white",
             "minorgridcolor": "white",
             "startlinecolor": "#2a3f5f"
            },
            "baxis": {
             "endlinecolor": "#2a3f5f",
             "gridcolor": "white",
             "linecolor": "white",
             "minorgridcolor": "white",
             "startlinecolor": "#2a3f5f"
            },
            "type": "carpet"
           }
          ],
          "choropleth": [
           {
            "colorbar": {
             "outlinewidth": 0,
             "ticks": ""
            },
            "type": "choropleth"
           }
          ],
          "contour": [
           {
            "colorbar": {
             "outlinewidth": 0,
             "ticks": ""
            },
            "colorscale": [
             [
              0,
              "#0d0887"
             ],
             [
              0.1111111111111111,
              "#46039f"
             ],
             [
              0.2222222222222222,
              "#7201a8"
             ],
             [
              0.3333333333333333,
              "#9c179e"
             ],
             [
              0.4444444444444444,
              "#bd3786"
             ],
             [
              0.5555555555555556,
              "#d8576b"
             ],
             [
              0.6666666666666666,
              "#ed7953"
             ],
             [
              0.7777777777777778,
              "#fb9f3a"
             ],
             [
              0.8888888888888888,
              "#fdca26"
             ],
             [
              1,
              "#f0f921"
             ]
            ],
            "type": "contour"
           }
          ],
          "contourcarpet": [
           {
            "colorbar": {
             "outlinewidth": 0,
             "ticks": ""
            },
            "type": "contourcarpet"
           }
          ],
          "heatmap": [
           {
            "colorbar": {
             "outlinewidth": 0,
             "ticks": ""
            },
            "colorscale": [
             [
              0,
              "#0d0887"
             ],
             [
              0.1111111111111111,
              "#46039f"
             ],
             [
              0.2222222222222222,
              "#7201a8"
             ],
             [
              0.3333333333333333,
              "#9c179e"
             ],
             [
              0.4444444444444444,
              "#bd3786"
             ],
             [
              0.5555555555555556,
              "#d8576b"
             ],
             [
              0.6666666666666666,
              "#ed7953"
             ],
             [
              0.7777777777777778,
              "#fb9f3a"
             ],
             [
              0.8888888888888888,
              "#fdca26"
             ],
             [
              1,
              "#f0f921"
             ]
            ],
            "type": "heatmap"
           }
          ],
          "heatmapgl": [
           {
            "colorbar": {
             "outlinewidth": 0,
             "ticks": ""
            },
            "colorscale": [
             [
              0,
              "#0d0887"
             ],
             [
              0.1111111111111111,
              "#46039f"
             ],
             [
              0.2222222222222222,
              "#7201a8"
             ],
             [
              0.3333333333333333,
              "#9c179e"
             ],
             [
              0.4444444444444444,
              "#bd3786"
             ],
             [
              0.5555555555555556,
              "#d8576b"
             ],
             [
              0.6666666666666666,
              "#ed7953"
             ],
             [
              0.7777777777777778,
              "#fb9f3a"
             ],
             [
              0.8888888888888888,
              "#fdca26"
             ],
             [
              1,
              "#f0f921"
             ]
            ],
            "type": "heatmapgl"
           }
          ],
          "histogram": [
           {
            "marker": {
             "colorbar": {
              "outlinewidth": 0,
              "ticks": ""
             }
            },
            "type": "histogram"
           }
          ],
          "histogram2d": [
           {
            "colorbar": {
             "outlinewidth": 0,
             "ticks": ""
            },
            "colorscale": [
             [
              0,
              "#0d0887"
             ],
             [
              0.1111111111111111,
              "#46039f"
             ],
             [
              0.2222222222222222,
              "#7201a8"
             ],
             [
              0.3333333333333333,
              "#9c179e"
             ],
             [
              0.4444444444444444,
              "#bd3786"
             ],
             [
              0.5555555555555556,
              "#d8576b"
             ],
             [
              0.6666666666666666,
              "#ed7953"
             ],
             [
              0.7777777777777778,
              "#fb9f3a"
             ],
             [
              0.8888888888888888,
              "#fdca26"
             ],
             [
              1,
              "#f0f921"
             ]
            ],
            "type": "histogram2d"
           }
          ],
          "histogram2dcontour": [
           {
            "colorbar": {
             "outlinewidth": 0,
             "ticks": ""
            },
            "colorscale": [
             [
              0,
              "#0d0887"
             ],
             [
              0.1111111111111111,
              "#46039f"
             ],
             [
              0.2222222222222222,
              "#7201a8"
             ],
             [
              0.3333333333333333,
              "#9c179e"
             ],
             [
              0.4444444444444444,
              "#bd3786"
             ],
             [
              0.5555555555555556,
              "#d8576b"
             ],
             [
              0.6666666666666666,
              "#ed7953"
             ],
             [
              0.7777777777777778,
              "#fb9f3a"
             ],
             [
              0.8888888888888888,
              "#fdca26"
             ],
             [
              1,
              "#f0f921"
             ]
            ],
            "type": "histogram2dcontour"
           }
          ],
          "mesh3d": [
           {
            "colorbar": {
             "outlinewidth": 0,
             "ticks": ""
            },
            "type": "mesh3d"
           }
          ],
          "parcoords": [
           {
            "line": {
             "colorbar": {
              "outlinewidth": 0,
              "ticks": ""
             }
            },
            "type": "parcoords"
           }
          ],
          "pie": [
           {
            "automargin": true,
            "type": "pie"
           }
          ],
          "scatter": [
           {
            "marker": {
             "colorbar": {
              "outlinewidth": 0,
              "ticks": ""
             }
            },
            "type": "scatter"
           }
          ],
          "scatter3d": [
           {
            "line": {
             "colorbar": {
              "outlinewidth": 0,
              "ticks": ""
             }
            },
            "marker": {
             "colorbar": {
              "outlinewidth": 0,
              "ticks": ""
             }
            },
            "type": "scatter3d"
           }
          ],
          "scattercarpet": [
           {
            "marker": {
             "colorbar": {
              "outlinewidth": 0,
              "ticks": ""
             }
            },
            "type": "scattercarpet"
           }
          ],
          "scattergeo": [
           {
            "marker": {
             "colorbar": {
              "outlinewidth": 0,
              "ticks": ""
             }
            },
            "type": "scattergeo"
           }
          ],
          "scattergl": [
           {
            "marker": {
             "colorbar": {
              "outlinewidth": 0,
              "ticks": ""
             }
            },
            "type": "scattergl"
           }
          ],
          "scattermapbox": [
           {
            "marker": {
             "colorbar": {
              "outlinewidth": 0,
              "ticks": ""
             }
            },
            "type": "scattermapbox"
           }
          ],
          "scatterpolar": [
           {
            "marker": {
             "colorbar": {
              "outlinewidth": 0,
              "ticks": ""
             }
            },
            "type": "scatterpolar"
           }
          ],
          "scatterpolargl": [
           {
            "marker": {
             "colorbar": {
              "outlinewidth": 0,
              "ticks": ""
             }
            },
            "type": "scatterpolargl"
           }
          ],
          "scatterternary": [
           {
            "marker": {
             "colorbar": {
              "outlinewidth": 0,
              "ticks": ""
             }
            },
            "type": "scatterternary"
           }
          ],
          "surface": [
           {
            "colorbar": {
             "outlinewidth": 0,
             "ticks": ""
            },
            "colorscale": [
             [
              0,
              "#0d0887"
             ],
             [
              0.1111111111111111,
              "#46039f"
             ],
             [
              0.2222222222222222,
              "#7201a8"
             ],
             [
              0.3333333333333333,
              "#9c179e"
             ],
             [
              0.4444444444444444,
              "#bd3786"
             ],
             [
              0.5555555555555556,
              "#d8576b"
             ],
             [
              0.6666666666666666,
              "#ed7953"
             ],
             [
              0.7777777777777778,
              "#fb9f3a"
             ],
             [
              0.8888888888888888,
              "#fdca26"
             ],
             [
              1,
              "#f0f921"
             ]
            ],
            "type": "surface"
           }
          ],
          "table": [
           {
            "cells": {
             "fill": {
              "color": "#EBF0F8"
             },
             "line": {
              "color": "white"
             }
            },
            "header": {
             "fill": {
              "color": "#C8D4E3"
             },
             "line": {
              "color": "white"
             }
            },
            "type": "table"
           }
          ]
         },
         "layout": {
          "annotationdefaults": {
           "arrowcolor": "#2a3f5f",
           "arrowhead": 0,
           "arrowwidth": 1
          },
          "coloraxis": {
           "colorbar": {
            "outlinewidth": 0,
            "ticks": ""
           }
          },
          "colorscale": {
           "diverging": [
            [
             0,
             "#8e0152"
            ],
            [
             0.1,
             "#c51b7d"
            ],
            [
             0.2,
             "#de77ae"
            ],
            [
             0.3,
             "#f1b6da"
            ],
            [
             0.4,
             "#fde0ef"
            ],
            [
             0.5,
             "#f7f7f7"
            ],
            [
             0.6,
             "#e6f5d0"
            ],
            [
             0.7,
             "#b8e186"
            ],
            [
             0.8,
             "#7fbc41"
            ],
            [
             0.9,
             "#4d9221"
            ],
            [
             1,
             "#276419"
            ]
           ],
           "sequential": [
            [
             0,
             "#0d0887"
            ],
            [
             0.1111111111111111,
             "#46039f"
            ],
            [
             0.2222222222222222,
             "#7201a8"
            ],
            [
             0.3333333333333333,
             "#9c179e"
            ],
            [
             0.4444444444444444,
             "#bd3786"
            ],
            [
             0.5555555555555556,
             "#d8576b"
            ],
            [
             0.6666666666666666,
             "#ed7953"
            ],
            [
             0.7777777777777778,
             "#fb9f3a"
            ],
            [
             0.8888888888888888,
             "#fdca26"
            ],
            [
             1,
             "#f0f921"
            ]
           ],
           "sequentialminus": [
            [
             0,
             "#0d0887"
            ],
            [
             0.1111111111111111,
             "#46039f"
            ],
            [
             0.2222222222222222,
             "#7201a8"
            ],
            [
             0.3333333333333333,
             "#9c179e"
            ],
            [
             0.4444444444444444,
             "#bd3786"
            ],
            [
             0.5555555555555556,
             "#d8576b"
            ],
            [
             0.6666666666666666,
             "#ed7953"
            ],
            [
             0.7777777777777778,
             "#fb9f3a"
            ],
            [
             0.8888888888888888,
             "#fdca26"
            ],
            [
             1,
             "#f0f921"
            ]
           ]
          },
          "colorway": [
           "#636efa",
           "#EF553B",
           "#00cc96",
           "#ab63fa",
           "#FFA15A",
           "#19d3f3",
           "#FF6692",
           "#B6E880",
           "#FF97FF",
           "#FECB52"
          ],
          "font": {
           "color": "#2a3f5f"
          },
          "geo": {
           "bgcolor": "white",
           "lakecolor": "white",
           "landcolor": "#E5ECF6",
           "showlakes": true,
           "showland": true,
           "subunitcolor": "white"
          },
          "hoverlabel": {
           "align": "left"
          },
          "hovermode": "closest",
          "mapbox": {
           "style": "light"
          },
          "paper_bgcolor": "white",
          "plot_bgcolor": "#E5ECF6",
          "polar": {
           "angularaxis": {
            "gridcolor": "white",
            "linecolor": "white",
            "ticks": ""
           },
           "bgcolor": "#E5ECF6",
           "radialaxis": {
            "gridcolor": "white",
            "linecolor": "white",
            "ticks": ""
           }
          },
          "scene": {
           "xaxis": {
            "backgroundcolor": "#E5ECF6",
            "gridcolor": "white",
            "gridwidth": 2,
            "linecolor": "white",
            "showbackground": true,
            "ticks": "",
            "zerolinecolor": "white"
           },
           "yaxis": {
            "backgroundcolor": "#E5ECF6",
            "gridcolor": "white",
            "gridwidth": 2,
            "linecolor": "white",
            "showbackground": true,
            "ticks": "",
            "zerolinecolor": "white"
           },
           "zaxis": {
            "backgroundcolor": "#E5ECF6",
            "gridcolor": "white",
            "gridwidth": 2,
            "linecolor": "white",
            "showbackground": true,
            "ticks": "",
            "zerolinecolor": "white"
           }
          },
          "shapedefaults": {
           "line": {
            "color": "#2a3f5f"
           }
          },
          "ternary": {
           "aaxis": {
            "gridcolor": "white",
            "linecolor": "white",
            "ticks": ""
           },
           "baxis": {
            "gridcolor": "white",
            "linecolor": "white",
            "ticks": ""
           },
           "bgcolor": "#E5ECF6",
           "caxis": {
            "gridcolor": "white",
            "linecolor": "white",
            "ticks": ""
           }
          },
          "title": {
           "x": 0.05
          },
          "xaxis": {
           "automargin": true,
           "gridcolor": "white",
           "linecolor": "white",
           "ticks": "",
           "title": {
            "standoff": 15
           },
           "zerolinecolor": "white",
           "zerolinewidth": 2
          },
          "yaxis": {
           "automargin": true,
           "gridcolor": "white",
           "linecolor": "white",
           "ticks": "",
           "title": {
            "standoff": 15
           },
           "zerolinecolor": "white",
           "zerolinewidth": 2
          }
         }
        },
        "title": {
         "font": {
          "color": "#4D5663"
         },
         "text": "Songs per year"
        },
        "xaxis": {
         "gridcolor": "#E1E5ED",
         "showgrid": true,
         "tickfont": {
          "color": "#4D5663"
         },
         "title": {
          "font": {
           "color": "#4D5663"
          },
          "text": "Year"
         },
         "zerolinecolor": "#E1E5ED"
        },
        "yaxis": {
         "gridcolor": "#E1E5ED",
         "showgrid": true,
         "tickfont": {
          "color": "#4D5663"
         },
         "title": {
          "font": {
           "color": "#4D5663"
          },
          "text": "Number of songs"
         },
         "zerolinecolor": "#E1E5ED"
        }
       }
      },
      "text/html": [
       "<div>\n",
       "        \n",
       "        \n",
       "            <div id=\"f85a7670-3538-493e-8584-676c1fc2e542\" class=\"plotly-graph-div\" style=\"height:525px; width:100%;\"></div>\n",
       "            <script type=\"text/javascript\">\n",
       "                require([\"plotly\"], function(Plotly) {\n",
       "                    window.PLOTLYENV=window.PLOTLYENV || {};\n",
       "                    \n",
       "                if (document.getElementById(\"f85a7670-3538-493e-8584-676c1fc2e542\")) {\n",
       "                    Plotly.newPlot(\n",
       "                        'f85a7670-3538-493e-8584-676c1fc2e542',\n",
       "                        [{\"histfunc\": \"count\", \"histnorm\": \"\", \"marker\": {\"color\": \"rgba(239, 138, 98, 1.0)\", \"line\": {\"color\": \"#4D5663\", \"width\": 1.3}}, \"name\": \"year\", \"opacity\": 0.8, \"orientation\": \"v\", \"type\": \"histogram\", \"x\": [2020, 2020, 2020, 2019, 2020, 2019, 2020, 2019, 2019, 2020, 2019, 2019, 2019, 2019, 2019, 2018, 2020, 2020, 2020, 2018, 2020, 2020, 2020, 2020, 2020, 2016, 2020, 2019, 2019, 2019, 2019, 2019, 2020, 2020, 2020]}],\n",
       "                        {\"bargap\": 0.5, \"barmode\": \"overlay\", \"legend\": {\"bgcolor\": \"#FFFFFF\", \"font\": {\"color\": \"#4D5663\"}}, \"paper_bgcolor\": \"#FFFFFF\", \"plot_bgcolor\": \"#FFFFFF\", \"template\": {\"data\": {\"bar\": [{\"error_x\": {\"color\": \"#2a3f5f\"}, \"error_y\": {\"color\": \"#2a3f5f\"}, \"marker\": {\"line\": {\"color\": \"#E5ECF6\", \"width\": 0.5}}, \"type\": \"bar\"}], \"barpolar\": [{\"marker\": {\"line\": {\"color\": \"#E5ECF6\", \"width\": 0.5}}, \"type\": \"barpolar\"}], \"carpet\": [{\"aaxis\": {\"endlinecolor\": \"#2a3f5f\", \"gridcolor\": \"white\", \"linecolor\": \"white\", \"minorgridcolor\": \"white\", \"startlinecolor\": \"#2a3f5f\"}, \"baxis\": {\"endlinecolor\": \"#2a3f5f\", \"gridcolor\": \"white\", \"linecolor\": \"white\", \"minorgridcolor\": \"white\", \"startlinecolor\": \"#2a3f5f\"}, \"type\": \"carpet\"}], \"choropleth\": [{\"colorbar\": {\"outlinewidth\": 0, \"ticks\": \"\"}, \"type\": \"choropleth\"}], \"contour\": [{\"colorbar\": {\"outlinewidth\": 0, \"ticks\": \"\"}, \"colorscale\": [[0.0, \"#0d0887\"], [0.1111111111111111, \"#46039f\"], [0.2222222222222222, \"#7201a8\"], [0.3333333333333333, \"#9c179e\"], [0.4444444444444444, \"#bd3786\"], [0.5555555555555556, \"#d8576b\"], [0.6666666666666666, \"#ed7953\"], [0.7777777777777778, \"#fb9f3a\"], [0.8888888888888888, \"#fdca26\"], [1.0, \"#f0f921\"]], \"type\": \"contour\"}], \"contourcarpet\": [{\"colorbar\": {\"outlinewidth\": 0, \"ticks\": \"\"}, \"type\": \"contourcarpet\"}], \"heatmap\": [{\"colorbar\": {\"outlinewidth\": 0, \"ticks\": \"\"}, \"colorscale\": [[0.0, \"#0d0887\"], [0.1111111111111111, \"#46039f\"], [0.2222222222222222, \"#7201a8\"], [0.3333333333333333, \"#9c179e\"], [0.4444444444444444, \"#bd3786\"], [0.5555555555555556, \"#d8576b\"], [0.6666666666666666, \"#ed7953\"], [0.7777777777777778, \"#fb9f3a\"], [0.8888888888888888, \"#fdca26\"], [1.0, \"#f0f921\"]], \"type\": \"heatmap\"}], \"heatmapgl\": [{\"colorbar\": {\"outlinewidth\": 0, \"ticks\": \"\"}, \"colorscale\": [[0.0, \"#0d0887\"], [0.1111111111111111, \"#46039f\"], [0.2222222222222222, \"#7201a8\"], [0.3333333333333333, \"#9c179e\"], [0.4444444444444444, \"#bd3786\"], [0.5555555555555556, \"#d8576b\"], [0.6666666666666666, \"#ed7953\"], [0.7777777777777778, \"#fb9f3a\"], [0.8888888888888888, \"#fdca26\"], [1.0, \"#f0f921\"]], \"type\": \"heatmapgl\"}], \"histogram\": [{\"marker\": {\"colorbar\": {\"outlinewidth\": 0, \"ticks\": \"\"}}, \"type\": \"histogram\"}], \"histogram2d\": [{\"colorbar\": {\"outlinewidth\": 0, \"ticks\": \"\"}, \"colorscale\": [[0.0, \"#0d0887\"], [0.1111111111111111, \"#46039f\"], [0.2222222222222222, \"#7201a8\"], [0.3333333333333333, \"#9c179e\"], [0.4444444444444444, \"#bd3786\"], [0.5555555555555556, \"#d8576b\"], [0.6666666666666666, \"#ed7953\"], [0.7777777777777778, \"#fb9f3a\"], [0.8888888888888888, \"#fdca26\"], [1.0, \"#f0f921\"]], \"type\": \"histogram2d\"}], \"histogram2dcontour\": [{\"colorbar\": {\"outlinewidth\": 0, \"ticks\": \"\"}, \"colorscale\": [[0.0, \"#0d0887\"], [0.1111111111111111, \"#46039f\"], [0.2222222222222222, \"#7201a8\"], [0.3333333333333333, \"#9c179e\"], [0.4444444444444444, \"#bd3786\"], [0.5555555555555556, \"#d8576b\"], [0.6666666666666666, \"#ed7953\"], [0.7777777777777778, \"#fb9f3a\"], [0.8888888888888888, \"#fdca26\"], [1.0, \"#f0f921\"]], \"type\": \"histogram2dcontour\"}], \"mesh3d\": [{\"colorbar\": {\"outlinewidth\": 0, \"ticks\": \"\"}, \"type\": \"mesh3d\"}], \"parcoords\": [{\"line\": {\"colorbar\": {\"outlinewidth\": 0, \"ticks\": \"\"}}, \"type\": \"parcoords\"}], \"pie\": [{\"automargin\": true, \"type\": \"pie\"}], \"scatter\": [{\"marker\": {\"colorbar\": {\"outlinewidth\": 0, \"ticks\": \"\"}}, \"type\": \"scatter\"}], \"scatter3d\": [{\"line\": {\"colorbar\": {\"outlinewidth\": 0, \"ticks\": \"\"}}, \"marker\": {\"colorbar\": {\"outlinewidth\": 0, \"ticks\": \"\"}}, \"type\": \"scatter3d\"}], \"scattercarpet\": [{\"marker\": {\"colorbar\": {\"outlinewidth\": 0, \"ticks\": \"\"}}, \"type\": \"scattercarpet\"}], \"scattergeo\": [{\"marker\": {\"colorbar\": {\"outlinewidth\": 0, \"ticks\": \"\"}}, \"type\": \"scattergeo\"}], \"scattergl\": [{\"marker\": {\"colorbar\": {\"outlinewidth\": 0, \"ticks\": \"\"}}, \"type\": \"scattergl\"}], \"scattermapbox\": [{\"marker\": {\"colorbar\": {\"outlinewidth\": 0, \"ticks\": \"\"}}, \"type\": \"scattermapbox\"}], \"scatterpolar\": [{\"marker\": {\"colorbar\": {\"outlinewidth\": 0, \"ticks\": \"\"}}, \"type\": \"scatterpolar\"}], \"scatterpolargl\": [{\"marker\": {\"colorbar\": {\"outlinewidth\": 0, \"ticks\": \"\"}}, \"type\": \"scatterpolargl\"}], \"scatterternary\": [{\"marker\": {\"colorbar\": {\"outlinewidth\": 0, \"ticks\": \"\"}}, \"type\": \"scatterternary\"}], \"surface\": [{\"colorbar\": {\"outlinewidth\": 0, \"ticks\": \"\"}, \"colorscale\": [[0.0, \"#0d0887\"], [0.1111111111111111, \"#46039f\"], [0.2222222222222222, \"#7201a8\"], [0.3333333333333333, \"#9c179e\"], [0.4444444444444444, \"#bd3786\"], [0.5555555555555556, \"#d8576b\"], [0.6666666666666666, \"#ed7953\"], [0.7777777777777778, \"#fb9f3a\"], [0.8888888888888888, \"#fdca26\"], [1.0, \"#f0f921\"]], \"type\": \"surface\"}], \"table\": [{\"cells\": {\"fill\": {\"color\": \"#EBF0F8\"}, \"line\": {\"color\": \"white\"}}, \"header\": {\"fill\": {\"color\": \"#C8D4E3\"}, \"line\": {\"color\": \"white\"}}, \"type\": \"table\"}]}, \"layout\": {\"annotationdefaults\": {\"arrowcolor\": \"#2a3f5f\", \"arrowhead\": 0, \"arrowwidth\": 1}, \"coloraxis\": {\"colorbar\": {\"outlinewidth\": 0, \"ticks\": \"\"}}, \"colorscale\": {\"diverging\": [[0, \"#8e0152\"], [0.1, \"#c51b7d\"], [0.2, \"#de77ae\"], [0.3, \"#f1b6da\"], [0.4, \"#fde0ef\"], [0.5, \"#f7f7f7\"], [0.6, \"#e6f5d0\"], [0.7, \"#b8e186\"], [0.8, \"#7fbc41\"], [0.9, \"#4d9221\"], [1, \"#276419\"]], \"sequential\": [[0.0, \"#0d0887\"], [0.1111111111111111, \"#46039f\"], [0.2222222222222222, \"#7201a8\"], [0.3333333333333333, \"#9c179e\"], [0.4444444444444444, \"#bd3786\"], [0.5555555555555556, \"#d8576b\"], [0.6666666666666666, \"#ed7953\"], [0.7777777777777778, \"#fb9f3a\"], [0.8888888888888888, \"#fdca26\"], [1.0, \"#f0f921\"]], \"sequentialminus\": [[0.0, \"#0d0887\"], [0.1111111111111111, \"#46039f\"], [0.2222222222222222, \"#7201a8\"], [0.3333333333333333, \"#9c179e\"], [0.4444444444444444, \"#bd3786\"], [0.5555555555555556, \"#d8576b\"], [0.6666666666666666, \"#ed7953\"], [0.7777777777777778, \"#fb9f3a\"], [0.8888888888888888, \"#fdca26\"], [1.0, \"#f0f921\"]]}, \"colorway\": [\"#636efa\", \"#EF553B\", \"#00cc96\", \"#ab63fa\", \"#FFA15A\", \"#19d3f3\", \"#FF6692\", \"#B6E880\", \"#FF97FF\", \"#FECB52\"], \"font\": {\"color\": \"#2a3f5f\"}, \"geo\": {\"bgcolor\": \"white\", \"lakecolor\": \"white\", \"landcolor\": \"#E5ECF6\", \"showlakes\": true, \"showland\": true, \"subunitcolor\": \"white\"}, \"hoverlabel\": {\"align\": \"left\"}, \"hovermode\": \"closest\", \"mapbox\": {\"style\": \"light\"}, \"paper_bgcolor\": \"white\", \"plot_bgcolor\": \"#E5ECF6\", \"polar\": {\"angularaxis\": {\"gridcolor\": \"white\", \"linecolor\": \"white\", \"ticks\": \"\"}, \"bgcolor\": \"#E5ECF6\", \"radialaxis\": {\"gridcolor\": \"white\", \"linecolor\": \"white\", \"ticks\": \"\"}}, \"scene\": {\"xaxis\": {\"backgroundcolor\": \"#E5ECF6\", \"gridcolor\": \"white\", \"gridwidth\": 2, \"linecolor\": \"white\", \"showbackground\": true, \"ticks\": \"\", \"zerolinecolor\": \"white\"}, \"yaxis\": {\"backgroundcolor\": \"#E5ECF6\", \"gridcolor\": \"white\", \"gridwidth\": 2, \"linecolor\": \"white\", \"showbackground\": true, \"ticks\": \"\", \"zerolinecolor\": \"white\"}, \"zaxis\": {\"backgroundcolor\": \"#E5ECF6\", \"gridcolor\": \"white\", \"gridwidth\": 2, \"linecolor\": \"white\", \"showbackground\": true, \"ticks\": \"\", \"zerolinecolor\": \"white\"}}, \"shapedefaults\": {\"line\": {\"color\": \"#2a3f5f\"}}, \"ternary\": {\"aaxis\": {\"gridcolor\": \"white\", \"linecolor\": \"white\", \"ticks\": \"\"}, \"baxis\": {\"gridcolor\": \"white\", \"linecolor\": \"white\", \"ticks\": \"\"}, \"bgcolor\": \"#E5ECF6\", \"caxis\": {\"gridcolor\": \"white\", \"linecolor\": \"white\", \"ticks\": \"\"}}, \"title\": {\"x\": 0.05}, \"xaxis\": {\"automargin\": true, \"gridcolor\": \"white\", \"linecolor\": \"white\", \"ticks\": \"\", \"title\": {\"standoff\": 15}, \"zerolinecolor\": \"white\", \"zerolinewidth\": 2}, \"yaxis\": {\"automargin\": true, \"gridcolor\": \"white\", \"linecolor\": \"white\", \"ticks\": \"\", \"title\": {\"standoff\": 15}, \"zerolinecolor\": \"white\", \"zerolinewidth\": 2}}}, \"title\": {\"font\": {\"color\": \"#4D5663\"}, \"text\": \"Songs per year\"}, \"xaxis\": {\"gridcolor\": \"#E1E5ED\", \"showgrid\": true, \"tickfont\": {\"color\": \"#4D5663\"}, \"title\": {\"font\": {\"color\": \"#4D5663\"}, \"text\": \"Year\"}, \"zerolinecolor\": \"#E1E5ED\"}, \"yaxis\": {\"gridcolor\": \"#E1E5ED\", \"showgrid\": true, \"tickfont\": {\"color\": \"#4D5663\"}, \"title\": {\"font\": {\"color\": \"#4D5663\"}, \"text\": \"Number of songs\"}, \"zerolinecolor\": \"#E1E5ED\"}},\n",
       "                        {\"responsive\": true}\n",
       "                    ).then(function(){\n",
       "                            \n",
       "var gd = document.getElementById('f85a7670-3538-493e-8584-676c1fc2e542');\n",
       "var x = new MutationObserver(function (mutations, observer) {{\n",
       "        var display = window.getComputedStyle(gd).display;\n",
       "        if (!display || display === 'none') {{\n",
       "            console.log([gd, 'removed!']);\n",
       "            Plotly.purge(gd);\n",
       "            observer.disconnect();\n",
       "        }}\n",
       "}});\n",
       "\n",
       "// Listen for the removal of the full notebook cells\n",
       "var notebookContainer = gd.closest('#notebook-container');\n",
       "if (notebookContainer) {{\n",
       "    x.observe(notebookContainer, {childList: true});\n",
       "}}\n",
       "\n",
       "// Listen for the clearing of the current output cell\n",
       "var outputEl = gd.closest('.output');\n",
       "if (outputEl) {{\n",
       "    x.observe(outputEl, {childList: true});\n",
       "}}\n",
       "\n",
       "                        })\n",
       "                };\n",
       "                });\n",
       "            </script>\n",
       "        </div>"
      ]
     },
     "metadata": {},
     "output_type": "display_data"
    }
   ],
   "source": [
    "data[\"year\"].iplot(kind=\"histogram\", title=\"Songs per year\", xTitle=\"Year\", yTitle=\"Number of songs\", theme=\"white\", bargap=.50, )"
   ]
  },
  {
   "cell_type": "code",
   "execution_count": 16,
   "metadata": {},
   "outputs": [],
   "source": [
    "audio_features = data[[\"acousticness\", \"danceability\", \"energy\", \"explicit\", \"instrumentalness\", \"speechiness\", \"valence\", \"year\"]]"
   ]
  },
  {
   "cell_type": "code",
   "execution_count": 17,
   "metadata": {
    "hide_input": false
   },
   "outputs": [
    {
     "data": {
      "text/html": [
       "<div>\n",
       "<style scoped>\n",
       "    .dataframe tbody tr th:only-of-type {\n",
       "        vertical-align: middle;\n",
       "    }\n",
       "\n",
       "    .dataframe tbody tr th {\n",
       "        vertical-align: top;\n",
       "    }\n",
       "\n",
       "    .dataframe thead th {\n",
       "        text-align: right;\n",
       "    }\n",
       "</style>\n",
       "<table border=\"1\" class=\"dataframe\">\n",
       "  <thead>\n",
       "    <tr style=\"text-align: right;\">\n",
       "      <th></th>\n",
       "      <th>acousticness</th>\n",
       "      <th>danceability</th>\n",
       "      <th>energy</th>\n",
       "      <th>explicit</th>\n",
       "      <th>instrumentalness</th>\n",
       "      <th>speechiness</th>\n",
       "      <th>valence</th>\n",
       "    </tr>\n",
       "    <tr>\n",
       "      <th>year</th>\n",
       "      <th></th>\n",
       "      <th></th>\n",
       "      <th></th>\n",
       "      <th></th>\n",
       "      <th></th>\n",
       "      <th></th>\n",
       "      <th></th>\n",
       "    </tr>\n",
       "  </thead>\n",
       "  <tbody>\n",
       "    <tr>\n",
       "      <th>2016</th>\n",
       "      <td>0.084700</td>\n",
       "      <td>0.841000</td>\n",
       "      <td>0.728000</td>\n",
       "      <td>1.000000</td>\n",
       "      <td>0.000000</td>\n",
       "      <td>0.048400</td>\n",
       "      <td>0.430000</td>\n",
       "    </tr>\n",
       "    <tr>\n",
       "      <th>2018</th>\n",
       "      <td>0.064065</td>\n",
       "      <td>0.809000</td>\n",
       "      <td>0.580000</td>\n",
       "      <td>0.500000</td>\n",
       "      <td>0.000000</td>\n",
       "      <td>0.129200</td>\n",
       "      <td>0.341000</td>\n",
       "    </tr>\n",
       "    <tr>\n",
       "      <th>2019</th>\n",
       "      <td>0.295064</td>\n",
       "      <td>0.742786</td>\n",
       "      <td>0.587500</td>\n",
       "      <td>0.357143</td>\n",
       "      <td>0.009614</td>\n",
       "      <td>0.112114</td>\n",
       "      <td>0.549036</td>\n",
       "    </tr>\n",
       "    <tr>\n",
       "      <th>2020</th>\n",
       "      <td>0.153639</td>\n",
       "      <td>0.729278</td>\n",
       "      <td>0.648278</td>\n",
       "      <td>0.666667</td>\n",
       "      <td>0.000014</td>\n",
       "      <td>0.179200</td>\n",
       "      <td>0.551722</td>\n",
       "    </tr>\n",
       "  </tbody>\n",
       "</table>\n",
       "</div>"
      ],
      "text/plain": [
       "      acousticness  danceability    energy  explicit  instrumentalness  \\\n",
       "year                                                                     \n",
       "2016      0.084700      0.841000  0.728000  1.000000          0.000000   \n",
       "2018      0.064065      0.809000  0.580000  0.500000          0.000000   \n",
       "2019      0.295064      0.742786  0.587500  0.357143          0.009614   \n",
       "2020      0.153639      0.729278  0.648278  0.666667          0.000014   \n",
       "\n",
       "      speechiness   valence  \n",
       "year                         \n",
       "2016     0.048400  0.430000  \n",
       "2018     0.129200  0.341000  \n",
       "2019     0.112114  0.549036  \n",
       "2020     0.179200  0.551722  "
      ]
     },
     "execution_count": 17,
     "metadata": {},
     "output_type": "execute_result"
    }
   ],
   "source": [
    "trend = audio_features.groupby([\"year\"]).mean()\n",
    "trend"
   ]
  },
  {
   "cell_type": "code",
   "execution_count": 18,
   "metadata": {},
   "outputs": [
    {
     "data": {
      "application/vnd.plotly.v1+json": {
       "config": {
        "linkText": " ",
        "plotlyServerURL": "https://plot.ly",
        "showLink": false
       },
       "data": [
        {
         "line": {
          "color": "rgba(31, 119, 180, 1.0)",
          "dash": "solid",
          "shape": "linear",
          "width": 1.3
         },
         "marker": {
          "size": 12,
          "symbol": "circle"
         },
         "mode": "lines+markers",
         "name": "acousticness",
         "text": "",
         "type": "scatter",
         "x": [
          2016,
          2018,
          2019,
          2020
         ],
         "y": [
          0.0847,
          0.06406500000000001,
          0.29506428571428567,
          0.15363944444444444
         ]
        },
        {
         "line": {
          "color": "rgba(255, 127, 14, 1.0)",
          "dash": "solid",
          "shape": "linear",
          "width": 1.3
         },
         "marker": {
          "size": 12,
          "symbol": "circle"
         },
         "mode": "lines+markers",
         "name": "danceability",
         "text": "",
         "type": "scatter",
         "x": [
          2016,
          2018,
          2019,
          2020
         ],
         "y": [
          0.841,
          0.809,
          0.7427857142857144,
          0.7292777777777779
         ]
        },
        {
         "line": {
          "color": "rgba(44, 160, 44, 1.0)",
          "dash": "solid",
          "shape": "linear",
          "width": 1.3
         },
         "marker": {
          "size": 12,
          "symbol": "circle"
         },
         "mode": "lines+markers",
         "name": "energy",
         "text": "",
         "type": "scatter",
         "x": [
          2016,
          2018,
          2019,
          2020
         ],
         "y": [
          0.728,
          0.58,
          0.5875,
          0.6482777777777776
         ]
        },
        {
         "line": {
          "color": "rgba(214, 39, 40, 1.0)",
          "dash": "solid",
          "shape": "linear",
          "width": 1.3
         },
         "marker": {
          "size": 12,
          "symbol": "circle"
         },
         "mode": "lines+markers",
         "name": "explicit",
         "text": "",
         "type": "scatter",
         "x": [
          2016,
          2018,
          2019,
          2020
         ],
         "y": [
          1,
          0.5,
          0.35714285714285715,
          0.6666666666666666
         ]
        },
        {
         "line": {
          "color": "rgba(148, 103, 189, 1.0)",
          "dash": "solid",
          "shape": "linear",
          "width": 1.3
         },
         "marker": {
          "size": 12,
          "symbol": "circle"
         },
         "mode": "lines+markers",
         "name": "instrumentalness",
         "text": "",
         "type": "scatter",
         "x": [
          2016,
          2018,
          2019,
          2020
         ],
         "y": [
          0,
          0,
          0.009614128571428572,
          1.3775000000000003e-05
         ]
        },
        {
         "line": {
          "color": "rgba(140, 86, 75, 1.0)",
          "dash": "solid",
          "shape": "linear",
          "width": 1.3
         },
         "marker": {
          "size": 12,
          "symbol": "circle"
         },
         "mode": "lines+markers",
         "name": "speechiness",
         "text": "",
         "type": "scatter",
         "x": [
          2016,
          2018,
          2019,
          2020
         ],
         "y": [
          0.0484,
          0.1292,
          0.11211428571428572,
          0.1792
         ]
        },
        {
         "line": {
          "color": "rgba(227, 119, 194, 1.0)",
          "dash": "solid",
          "shape": "linear",
          "width": 1.3
         },
         "marker": {
          "size": 12,
          "symbol": "circle"
         },
         "mode": "lines+markers",
         "name": "valence",
         "text": "",
         "type": "scatter",
         "x": [
          2016,
          2018,
          2019,
          2020
         ],
         "y": [
          0.43,
          0.341,
          0.5490357142857143,
          0.5517222222222222
         ]
        }
       ],
       "layout": {
        "legend": {
         "bgcolor": "#FFFFFF",
         "font": {
          "color": "#4D5663"
         }
        },
        "paper_bgcolor": "#FFFFFF",
        "plot_bgcolor": "#FFFFFF",
        "template": {
         "data": {
          "bar": [
           {
            "error_x": {
             "color": "#2a3f5f"
            },
            "error_y": {
             "color": "#2a3f5f"
            },
            "marker": {
             "line": {
              "color": "#E5ECF6",
              "width": 0.5
             }
            },
            "type": "bar"
           }
          ],
          "barpolar": [
           {
            "marker": {
             "line": {
              "color": "#E5ECF6",
              "width": 0.5
             }
            },
            "type": "barpolar"
           }
          ],
          "carpet": [
           {
            "aaxis": {
             "endlinecolor": "#2a3f5f",
             "gridcolor": "white",
             "linecolor": "white",
             "minorgridcolor": "white",
             "startlinecolor": "#2a3f5f"
            },
            "baxis": {
             "endlinecolor": "#2a3f5f",
             "gridcolor": "white",
             "linecolor": "white",
             "minorgridcolor": "white",
             "startlinecolor": "#2a3f5f"
            },
            "type": "carpet"
           }
          ],
          "choropleth": [
           {
            "colorbar": {
             "outlinewidth": 0,
             "ticks": ""
            },
            "type": "choropleth"
           }
          ],
          "contour": [
           {
            "colorbar": {
             "outlinewidth": 0,
             "ticks": ""
            },
            "colorscale": [
             [
              0,
              "#0d0887"
             ],
             [
              0.1111111111111111,
              "#46039f"
             ],
             [
              0.2222222222222222,
              "#7201a8"
             ],
             [
              0.3333333333333333,
              "#9c179e"
             ],
             [
              0.4444444444444444,
              "#bd3786"
             ],
             [
              0.5555555555555556,
              "#d8576b"
             ],
             [
              0.6666666666666666,
              "#ed7953"
             ],
             [
              0.7777777777777778,
              "#fb9f3a"
             ],
             [
              0.8888888888888888,
              "#fdca26"
             ],
             [
              1,
              "#f0f921"
             ]
            ],
            "type": "contour"
           }
          ],
          "contourcarpet": [
           {
            "colorbar": {
             "outlinewidth": 0,
             "ticks": ""
            },
            "type": "contourcarpet"
           }
          ],
          "heatmap": [
           {
            "colorbar": {
             "outlinewidth": 0,
             "ticks": ""
            },
            "colorscale": [
             [
              0,
              "#0d0887"
             ],
             [
              0.1111111111111111,
              "#46039f"
             ],
             [
              0.2222222222222222,
              "#7201a8"
             ],
             [
              0.3333333333333333,
              "#9c179e"
             ],
             [
              0.4444444444444444,
              "#bd3786"
             ],
             [
              0.5555555555555556,
              "#d8576b"
             ],
             [
              0.6666666666666666,
              "#ed7953"
             ],
             [
              0.7777777777777778,
              "#fb9f3a"
             ],
             [
              0.8888888888888888,
              "#fdca26"
             ],
             [
              1,
              "#f0f921"
             ]
            ],
            "type": "heatmap"
           }
          ],
          "heatmapgl": [
           {
            "colorbar": {
             "outlinewidth": 0,
             "ticks": ""
            },
            "colorscale": [
             [
              0,
              "#0d0887"
             ],
             [
              0.1111111111111111,
              "#46039f"
             ],
             [
              0.2222222222222222,
              "#7201a8"
             ],
             [
              0.3333333333333333,
              "#9c179e"
             ],
             [
              0.4444444444444444,
              "#bd3786"
             ],
             [
              0.5555555555555556,
              "#d8576b"
             ],
             [
              0.6666666666666666,
              "#ed7953"
             ],
             [
              0.7777777777777778,
              "#fb9f3a"
             ],
             [
              0.8888888888888888,
              "#fdca26"
             ],
             [
              1,
              "#f0f921"
             ]
            ],
            "type": "heatmapgl"
           }
          ],
          "histogram": [
           {
            "marker": {
             "colorbar": {
              "outlinewidth": 0,
              "ticks": ""
             }
            },
            "type": "histogram"
           }
          ],
          "histogram2d": [
           {
            "colorbar": {
             "outlinewidth": 0,
             "ticks": ""
            },
            "colorscale": [
             [
              0,
              "#0d0887"
             ],
             [
              0.1111111111111111,
              "#46039f"
             ],
             [
              0.2222222222222222,
              "#7201a8"
             ],
             [
              0.3333333333333333,
              "#9c179e"
             ],
             [
              0.4444444444444444,
              "#bd3786"
             ],
             [
              0.5555555555555556,
              "#d8576b"
             ],
             [
              0.6666666666666666,
              "#ed7953"
             ],
             [
              0.7777777777777778,
              "#fb9f3a"
             ],
             [
              0.8888888888888888,
              "#fdca26"
             ],
             [
              1,
              "#f0f921"
             ]
            ],
            "type": "histogram2d"
           }
          ],
          "histogram2dcontour": [
           {
            "colorbar": {
             "outlinewidth": 0,
             "ticks": ""
            },
            "colorscale": [
             [
              0,
              "#0d0887"
             ],
             [
              0.1111111111111111,
              "#46039f"
             ],
             [
              0.2222222222222222,
              "#7201a8"
             ],
             [
              0.3333333333333333,
              "#9c179e"
             ],
             [
              0.4444444444444444,
              "#bd3786"
             ],
             [
              0.5555555555555556,
              "#d8576b"
             ],
             [
              0.6666666666666666,
              "#ed7953"
             ],
             [
              0.7777777777777778,
              "#fb9f3a"
             ],
             [
              0.8888888888888888,
              "#fdca26"
             ],
             [
              1,
              "#f0f921"
             ]
            ],
            "type": "histogram2dcontour"
           }
          ],
          "mesh3d": [
           {
            "colorbar": {
             "outlinewidth": 0,
             "ticks": ""
            },
            "type": "mesh3d"
           }
          ],
          "parcoords": [
           {
            "line": {
             "colorbar": {
              "outlinewidth": 0,
              "ticks": ""
             }
            },
            "type": "parcoords"
           }
          ],
          "pie": [
           {
            "automargin": true,
            "type": "pie"
           }
          ],
          "scatter": [
           {
            "marker": {
             "colorbar": {
              "outlinewidth": 0,
              "ticks": ""
             }
            },
            "type": "scatter"
           }
          ],
          "scatter3d": [
           {
            "line": {
             "colorbar": {
              "outlinewidth": 0,
              "ticks": ""
             }
            },
            "marker": {
             "colorbar": {
              "outlinewidth": 0,
              "ticks": ""
             }
            },
            "type": "scatter3d"
           }
          ],
          "scattercarpet": [
           {
            "marker": {
             "colorbar": {
              "outlinewidth": 0,
              "ticks": ""
             }
            },
            "type": "scattercarpet"
           }
          ],
          "scattergeo": [
           {
            "marker": {
             "colorbar": {
              "outlinewidth": 0,
              "ticks": ""
             }
            },
            "type": "scattergeo"
           }
          ],
          "scattergl": [
           {
            "marker": {
             "colorbar": {
              "outlinewidth": 0,
              "ticks": ""
             }
            },
            "type": "scattergl"
           }
          ],
          "scattermapbox": [
           {
            "marker": {
             "colorbar": {
              "outlinewidth": 0,
              "ticks": ""
             }
            },
            "type": "scattermapbox"
           }
          ],
          "scatterpolar": [
           {
            "marker": {
             "colorbar": {
              "outlinewidth": 0,
              "ticks": ""
             }
            },
            "type": "scatterpolar"
           }
          ],
          "scatterpolargl": [
           {
            "marker": {
             "colorbar": {
              "outlinewidth": 0,
              "ticks": ""
             }
            },
            "type": "scatterpolargl"
           }
          ],
          "scatterternary": [
           {
            "marker": {
             "colorbar": {
              "outlinewidth": 0,
              "ticks": ""
             }
            },
            "type": "scatterternary"
           }
          ],
          "surface": [
           {
            "colorbar": {
             "outlinewidth": 0,
             "ticks": ""
            },
            "colorscale": [
             [
              0,
              "#0d0887"
             ],
             [
              0.1111111111111111,
              "#46039f"
             ],
             [
              0.2222222222222222,
              "#7201a8"
             ],
             [
              0.3333333333333333,
              "#9c179e"
             ],
             [
              0.4444444444444444,
              "#bd3786"
             ],
             [
              0.5555555555555556,
              "#d8576b"
             ],
             [
              0.6666666666666666,
              "#ed7953"
             ],
             [
              0.7777777777777778,
              "#fb9f3a"
             ],
             [
              0.8888888888888888,
              "#fdca26"
             ],
             [
              1,
              "#f0f921"
             ]
            ],
            "type": "surface"
           }
          ],
          "table": [
           {
            "cells": {
             "fill": {
              "color": "#EBF0F8"
             },
             "line": {
              "color": "white"
             }
            },
            "header": {
             "fill": {
              "color": "#C8D4E3"
             },
             "line": {
              "color": "white"
             }
            },
            "type": "table"
           }
          ]
         },
         "layout": {
          "annotationdefaults": {
           "arrowcolor": "#2a3f5f",
           "arrowhead": 0,
           "arrowwidth": 1
          },
          "coloraxis": {
           "colorbar": {
            "outlinewidth": 0,
            "ticks": ""
           }
          },
          "colorscale": {
           "diverging": [
            [
             0,
             "#8e0152"
            ],
            [
             0.1,
             "#c51b7d"
            ],
            [
             0.2,
             "#de77ae"
            ],
            [
             0.3,
             "#f1b6da"
            ],
            [
             0.4,
             "#fde0ef"
            ],
            [
             0.5,
             "#f7f7f7"
            ],
            [
             0.6,
             "#e6f5d0"
            ],
            [
             0.7,
             "#b8e186"
            ],
            [
             0.8,
             "#7fbc41"
            ],
            [
             0.9,
             "#4d9221"
            ],
            [
             1,
             "#276419"
            ]
           ],
           "sequential": [
            [
             0,
             "#0d0887"
            ],
            [
             0.1111111111111111,
             "#46039f"
            ],
            [
             0.2222222222222222,
             "#7201a8"
            ],
            [
             0.3333333333333333,
             "#9c179e"
            ],
            [
             0.4444444444444444,
             "#bd3786"
            ],
            [
             0.5555555555555556,
             "#d8576b"
            ],
            [
             0.6666666666666666,
             "#ed7953"
            ],
            [
             0.7777777777777778,
             "#fb9f3a"
            ],
            [
             0.8888888888888888,
             "#fdca26"
            ],
            [
             1,
             "#f0f921"
            ]
           ],
           "sequentialminus": [
            [
             0,
             "#0d0887"
            ],
            [
             0.1111111111111111,
             "#46039f"
            ],
            [
             0.2222222222222222,
             "#7201a8"
            ],
            [
             0.3333333333333333,
             "#9c179e"
            ],
            [
             0.4444444444444444,
             "#bd3786"
            ],
            [
             0.5555555555555556,
             "#d8576b"
            ],
            [
             0.6666666666666666,
             "#ed7953"
            ],
            [
             0.7777777777777778,
             "#fb9f3a"
            ],
            [
             0.8888888888888888,
             "#fdca26"
            ],
            [
             1,
             "#f0f921"
            ]
           ]
          },
          "colorway": [
           "#636efa",
           "#EF553B",
           "#00cc96",
           "#ab63fa",
           "#FFA15A",
           "#19d3f3",
           "#FF6692",
           "#B6E880",
           "#FF97FF",
           "#FECB52"
          ],
          "font": {
           "color": "#2a3f5f"
          },
          "geo": {
           "bgcolor": "white",
           "lakecolor": "white",
           "landcolor": "#E5ECF6",
           "showlakes": true,
           "showland": true,
           "subunitcolor": "white"
          },
          "hoverlabel": {
           "align": "left"
          },
          "hovermode": "closest",
          "mapbox": {
           "style": "light"
          },
          "paper_bgcolor": "white",
          "plot_bgcolor": "#E5ECF6",
          "polar": {
           "angularaxis": {
            "gridcolor": "white",
            "linecolor": "white",
            "ticks": ""
           },
           "bgcolor": "#E5ECF6",
           "radialaxis": {
            "gridcolor": "white",
            "linecolor": "white",
            "ticks": ""
           }
          },
          "scene": {
           "xaxis": {
            "backgroundcolor": "#E5ECF6",
            "gridcolor": "white",
            "gridwidth": 2,
            "linecolor": "white",
            "showbackground": true,
            "ticks": "",
            "zerolinecolor": "white"
           },
           "yaxis": {
            "backgroundcolor": "#E5ECF6",
            "gridcolor": "white",
            "gridwidth": 2,
            "linecolor": "white",
            "showbackground": true,
            "ticks": "",
            "zerolinecolor": "white"
           },
           "zaxis": {
            "backgroundcolor": "#E5ECF6",
            "gridcolor": "white",
            "gridwidth": 2,
            "linecolor": "white",
            "showbackground": true,
            "ticks": "",
            "zerolinecolor": "white"
           }
          },
          "shapedefaults": {
           "line": {
            "color": "#2a3f5f"
           }
          },
          "ternary": {
           "aaxis": {
            "gridcolor": "white",
            "linecolor": "white",
            "ticks": ""
           },
           "baxis": {
            "gridcolor": "white",
            "linecolor": "white",
            "ticks": ""
           },
           "bgcolor": "#E5ECF6",
           "caxis": {
            "gridcolor": "white",
            "linecolor": "white",
            "ticks": ""
           }
          },
          "title": {
           "x": 0.05
          },
          "xaxis": {
           "automargin": true,
           "gridcolor": "white",
           "linecolor": "white",
           "ticks": "",
           "title": {
            "standoff": 15
           },
           "zerolinecolor": "white",
           "zerolinewidth": 2
          },
          "yaxis": {
           "automargin": true,
           "gridcolor": "white",
           "linecolor": "white",
           "ticks": "",
           "title": {
            "standoff": 15
           },
           "zerolinecolor": "white",
           "zerolinewidth": 2
          }
         }
        },
        "title": {
         "font": {
          "color": "#4D5663"
         },
         "text": "Trend in popular songs"
        },
        "xaxis": {
         "gridcolor": "#E1E5ED",
         "showgrid": true,
         "tickfont": {
          "color": "#4D5663"
         },
         "title": {
          "font": {
           "color": "#4D5663"
          },
          "text": "Year"
         },
         "zerolinecolor": "#E1E5ED"
        },
        "yaxis": {
         "gridcolor": "#E1E5ED",
         "showgrid": true,
         "tickfont": {
          "color": "#4D5663"
         },
         "title": {
          "font": {
           "color": "#4D5663"
          },
          "text": "Value"
         },
         "zerolinecolor": "#E1E5ED"
        }
       }
      },
      "text/html": [
       "<div>\n",
       "        \n",
       "        \n",
       "            <div id=\"5b9eaf47-e837-4985-ae63-103ef2c1cf57\" class=\"plotly-graph-div\" style=\"height:525px; width:100%;\"></div>\n",
       "            <script type=\"text/javascript\">\n",
       "                require([\"plotly\"], function(Plotly) {\n",
       "                    window.PLOTLYENV=window.PLOTLYENV || {};\n",
       "                    \n",
       "                if (document.getElementById(\"5b9eaf47-e837-4985-ae63-103ef2c1cf57\")) {\n",
       "                    Plotly.newPlot(\n",
       "                        '5b9eaf47-e837-4985-ae63-103ef2c1cf57',\n",
       "                        [{\"line\": {\"color\": \"rgba(31, 119, 180, 1.0)\", \"dash\": \"solid\", \"shape\": \"linear\", \"width\": 1.3}, \"marker\": {\"size\": 12, \"symbol\": \"circle\"}, \"mode\": \"lines+markers\", \"name\": \"acousticness\", \"text\": \"\", \"type\": \"scatter\", \"x\": [2016, 2018, 2019, 2020], \"y\": [0.0847, 0.06406500000000001, 0.29506428571428567, 0.15363944444444444]}, {\"line\": {\"color\": \"rgba(255, 127, 14, 1.0)\", \"dash\": \"solid\", \"shape\": \"linear\", \"width\": 1.3}, \"marker\": {\"size\": 12, \"symbol\": \"circle\"}, \"mode\": \"lines+markers\", \"name\": \"danceability\", \"text\": \"\", \"type\": \"scatter\", \"x\": [2016, 2018, 2019, 2020], \"y\": [0.841, 0.809, 0.7427857142857144, 0.7292777777777779]}, {\"line\": {\"color\": \"rgba(44, 160, 44, 1.0)\", \"dash\": \"solid\", \"shape\": \"linear\", \"width\": 1.3}, \"marker\": {\"size\": 12, \"symbol\": \"circle\"}, \"mode\": \"lines+markers\", \"name\": \"energy\", \"text\": \"\", \"type\": \"scatter\", \"x\": [2016, 2018, 2019, 2020], \"y\": [0.728, 0.58, 0.5875, 0.6482777777777776]}, {\"line\": {\"color\": \"rgba(214, 39, 40, 1.0)\", \"dash\": \"solid\", \"shape\": \"linear\", \"width\": 1.3}, \"marker\": {\"size\": 12, \"symbol\": \"circle\"}, \"mode\": \"lines+markers\", \"name\": \"explicit\", \"text\": \"\", \"type\": \"scatter\", \"x\": [2016, 2018, 2019, 2020], \"y\": [1.0, 0.5, 0.35714285714285715, 0.6666666666666666]}, {\"line\": {\"color\": \"rgba(148, 103, 189, 1.0)\", \"dash\": \"solid\", \"shape\": \"linear\", \"width\": 1.3}, \"marker\": {\"size\": 12, \"symbol\": \"circle\"}, \"mode\": \"lines+markers\", \"name\": \"instrumentalness\", \"text\": \"\", \"type\": \"scatter\", \"x\": [2016, 2018, 2019, 2020], \"y\": [0.0, 0.0, 0.009614128571428572, 1.3775000000000003e-05]}, {\"line\": {\"color\": \"rgba(140, 86, 75, 1.0)\", \"dash\": \"solid\", \"shape\": \"linear\", \"width\": 1.3}, \"marker\": {\"size\": 12, \"symbol\": \"circle\"}, \"mode\": \"lines+markers\", \"name\": \"speechiness\", \"text\": \"\", \"type\": \"scatter\", \"x\": [2016, 2018, 2019, 2020], \"y\": [0.0484, 0.1292, 0.11211428571428572, 0.1792]}, {\"line\": {\"color\": \"rgba(227, 119, 194, 1.0)\", \"dash\": \"solid\", \"shape\": \"linear\", \"width\": 1.3}, \"marker\": {\"size\": 12, \"symbol\": \"circle\"}, \"mode\": \"lines+markers\", \"name\": \"valence\", \"text\": \"\", \"type\": \"scatter\", \"x\": [2016, 2018, 2019, 2020], \"y\": [0.43, 0.341, 0.5490357142857143, 0.5517222222222222]}],\n",
       "                        {\"legend\": {\"bgcolor\": \"#FFFFFF\", \"font\": {\"color\": \"#4D5663\"}}, \"paper_bgcolor\": \"#FFFFFF\", \"plot_bgcolor\": \"#FFFFFF\", \"template\": {\"data\": {\"bar\": [{\"error_x\": {\"color\": \"#2a3f5f\"}, \"error_y\": {\"color\": \"#2a3f5f\"}, \"marker\": {\"line\": {\"color\": \"#E5ECF6\", \"width\": 0.5}}, \"type\": \"bar\"}], \"barpolar\": [{\"marker\": {\"line\": {\"color\": \"#E5ECF6\", \"width\": 0.5}}, \"type\": \"barpolar\"}], \"carpet\": [{\"aaxis\": {\"endlinecolor\": \"#2a3f5f\", \"gridcolor\": \"white\", \"linecolor\": \"white\", \"minorgridcolor\": \"white\", \"startlinecolor\": \"#2a3f5f\"}, \"baxis\": {\"endlinecolor\": \"#2a3f5f\", \"gridcolor\": \"white\", \"linecolor\": \"white\", \"minorgridcolor\": \"white\", \"startlinecolor\": \"#2a3f5f\"}, \"type\": \"carpet\"}], \"choropleth\": [{\"colorbar\": {\"outlinewidth\": 0, \"ticks\": \"\"}, \"type\": \"choropleth\"}], \"contour\": [{\"colorbar\": {\"outlinewidth\": 0, \"ticks\": \"\"}, \"colorscale\": [[0.0, \"#0d0887\"], [0.1111111111111111, \"#46039f\"], [0.2222222222222222, \"#7201a8\"], [0.3333333333333333, \"#9c179e\"], [0.4444444444444444, \"#bd3786\"], [0.5555555555555556, \"#d8576b\"], [0.6666666666666666, \"#ed7953\"], [0.7777777777777778, \"#fb9f3a\"], [0.8888888888888888, \"#fdca26\"], [1.0, \"#f0f921\"]], \"type\": \"contour\"}], \"contourcarpet\": [{\"colorbar\": {\"outlinewidth\": 0, \"ticks\": \"\"}, \"type\": \"contourcarpet\"}], \"heatmap\": [{\"colorbar\": {\"outlinewidth\": 0, \"ticks\": \"\"}, \"colorscale\": [[0.0, \"#0d0887\"], [0.1111111111111111, \"#46039f\"], [0.2222222222222222, \"#7201a8\"], [0.3333333333333333, \"#9c179e\"], [0.4444444444444444, \"#bd3786\"], [0.5555555555555556, \"#d8576b\"], [0.6666666666666666, \"#ed7953\"], [0.7777777777777778, \"#fb9f3a\"], [0.8888888888888888, \"#fdca26\"], [1.0, \"#f0f921\"]], \"type\": \"heatmap\"}], \"heatmapgl\": [{\"colorbar\": {\"outlinewidth\": 0, \"ticks\": \"\"}, \"colorscale\": [[0.0, \"#0d0887\"], [0.1111111111111111, \"#46039f\"], [0.2222222222222222, \"#7201a8\"], [0.3333333333333333, \"#9c179e\"], [0.4444444444444444, \"#bd3786\"], [0.5555555555555556, \"#d8576b\"], [0.6666666666666666, \"#ed7953\"], [0.7777777777777778, \"#fb9f3a\"], [0.8888888888888888, \"#fdca26\"], [1.0, \"#f0f921\"]], \"type\": \"heatmapgl\"}], \"histogram\": [{\"marker\": {\"colorbar\": {\"outlinewidth\": 0, \"ticks\": \"\"}}, \"type\": \"histogram\"}], \"histogram2d\": [{\"colorbar\": {\"outlinewidth\": 0, \"ticks\": \"\"}, \"colorscale\": [[0.0, \"#0d0887\"], [0.1111111111111111, \"#46039f\"], [0.2222222222222222, \"#7201a8\"], [0.3333333333333333, \"#9c179e\"], [0.4444444444444444, \"#bd3786\"], [0.5555555555555556, \"#d8576b\"], [0.6666666666666666, \"#ed7953\"], [0.7777777777777778, \"#fb9f3a\"], [0.8888888888888888, \"#fdca26\"], [1.0, \"#f0f921\"]], \"type\": \"histogram2d\"}], \"histogram2dcontour\": [{\"colorbar\": {\"outlinewidth\": 0, \"ticks\": \"\"}, \"colorscale\": [[0.0, \"#0d0887\"], [0.1111111111111111, \"#46039f\"], [0.2222222222222222, \"#7201a8\"], [0.3333333333333333, \"#9c179e\"], [0.4444444444444444, \"#bd3786\"], [0.5555555555555556, \"#d8576b\"], [0.6666666666666666, \"#ed7953\"], [0.7777777777777778, \"#fb9f3a\"], [0.8888888888888888, \"#fdca26\"], [1.0, \"#f0f921\"]], \"type\": \"histogram2dcontour\"}], \"mesh3d\": [{\"colorbar\": {\"outlinewidth\": 0, \"ticks\": \"\"}, \"type\": \"mesh3d\"}], \"parcoords\": [{\"line\": {\"colorbar\": {\"outlinewidth\": 0, \"ticks\": \"\"}}, \"type\": \"parcoords\"}], \"pie\": [{\"automargin\": true, \"type\": \"pie\"}], \"scatter\": [{\"marker\": {\"colorbar\": {\"outlinewidth\": 0, \"ticks\": \"\"}}, \"type\": \"scatter\"}], \"scatter3d\": [{\"line\": {\"colorbar\": {\"outlinewidth\": 0, \"ticks\": \"\"}}, \"marker\": {\"colorbar\": {\"outlinewidth\": 0, \"ticks\": \"\"}}, \"type\": \"scatter3d\"}], \"scattercarpet\": [{\"marker\": {\"colorbar\": {\"outlinewidth\": 0, \"ticks\": \"\"}}, \"type\": \"scattercarpet\"}], \"scattergeo\": [{\"marker\": {\"colorbar\": {\"outlinewidth\": 0, \"ticks\": \"\"}}, \"type\": \"scattergeo\"}], \"scattergl\": [{\"marker\": {\"colorbar\": {\"outlinewidth\": 0, \"ticks\": \"\"}}, \"type\": \"scattergl\"}], \"scattermapbox\": [{\"marker\": {\"colorbar\": {\"outlinewidth\": 0, \"ticks\": \"\"}}, \"type\": \"scattermapbox\"}], \"scatterpolar\": [{\"marker\": {\"colorbar\": {\"outlinewidth\": 0, \"ticks\": \"\"}}, \"type\": \"scatterpolar\"}], \"scatterpolargl\": [{\"marker\": {\"colorbar\": {\"outlinewidth\": 0, \"ticks\": \"\"}}, \"type\": \"scatterpolargl\"}], \"scatterternary\": [{\"marker\": {\"colorbar\": {\"outlinewidth\": 0, \"ticks\": \"\"}}, \"type\": \"scatterternary\"}], \"surface\": [{\"colorbar\": {\"outlinewidth\": 0, \"ticks\": \"\"}, \"colorscale\": [[0.0, \"#0d0887\"], [0.1111111111111111, \"#46039f\"], [0.2222222222222222, \"#7201a8\"], [0.3333333333333333, \"#9c179e\"], [0.4444444444444444, \"#bd3786\"], [0.5555555555555556, \"#d8576b\"], [0.6666666666666666, \"#ed7953\"], [0.7777777777777778, \"#fb9f3a\"], [0.8888888888888888, \"#fdca26\"], [1.0, \"#f0f921\"]], \"type\": \"surface\"}], \"table\": [{\"cells\": {\"fill\": {\"color\": \"#EBF0F8\"}, \"line\": {\"color\": \"white\"}}, \"header\": {\"fill\": {\"color\": \"#C8D4E3\"}, \"line\": {\"color\": \"white\"}}, \"type\": \"table\"}]}, \"layout\": {\"annotationdefaults\": {\"arrowcolor\": \"#2a3f5f\", \"arrowhead\": 0, \"arrowwidth\": 1}, \"coloraxis\": {\"colorbar\": {\"outlinewidth\": 0, \"ticks\": \"\"}}, \"colorscale\": {\"diverging\": [[0, \"#8e0152\"], [0.1, \"#c51b7d\"], [0.2, \"#de77ae\"], [0.3, \"#f1b6da\"], [0.4, \"#fde0ef\"], [0.5, \"#f7f7f7\"], [0.6, \"#e6f5d0\"], [0.7, \"#b8e186\"], [0.8, \"#7fbc41\"], [0.9, \"#4d9221\"], [1, \"#276419\"]], \"sequential\": [[0.0, \"#0d0887\"], [0.1111111111111111, \"#46039f\"], [0.2222222222222222, \"#7201a8\"], [0.3333333333333333, \"#9c179e\"], [0.4444444444444444, \"#bd3786\"], [0.5555555555555556, \"#d8576b\"], [0.6666666666666666, \"#ed7953\"], [0.7777777777777778, \"#fb9f3a\"], [0.8888888888888888, \"#fdca26\"], [1.0, \"#f0f921\"]], \"sequentialminus\": [[0.0, \"#0d0887\"], [0.1111111111111111, \"#46039f\"], [0.2222222222222222, \"#7201a8\"], [0.3333333333333333, \"#9c179e\"], [0.4444444444444444, \"#bd3786\"], [0.5555555555555556, \"#d8576b\"], [0.6666666666666666, \"#ed7953\"], [0.7777777777777778, \"#fb9f3a\"], [0.8888888888888888, \"#fdca26\"], [1.0, \"#f0f921\"]]}, \"colorway\": [\"#636efa\", \"#EF553B\", \"#00cc96\", \"#ab63fa\", \"#FFA15A\", \"#19d3f3\", \"#FF6692\", \"#B6E880\", \"#FF97FF\", \"#FECB52\"], \"font\": {\"color\": \"#2a3f5f\"}, \"geo\": {\"bgcolor\": \"white\", \"lakecolor\": \"white\", \"landcolor\": \"#E5ECF6\", \"showlakes\": true, \"showland\": true, \"subunitcolor\": \"white\"}, \"hoverlabel\": {\"align\": \"left\"}, \"hovermode\": \"closest\", \"mapbox\": {\"style\": \"light\"}, \"paper_bgcolor\": \"white\", \"plot_bgcolor\": \"#E5ECF6\", \"polar\": {\"angularaxis\": {\"gridcolor\": \"white\", \"linecolor\": \"white\", \"ticks\": \"\"}, \"bgcolor\": \"#E5ECF6\", \"radialaxis\": {\"gridcolor\": \"white\", \"linecolor\": \"white\", \"ticks\": \"\"}}, \"scene\": {\"xaxis\": {\"backgroundcolor\": \"#E5ECF6\", \"gridcolor\": \"white\", \"gridwidth\": 2, \"linecolor\": \"white\", \"showbackground\": true, \"ticks\": \"\", \"zerolinecolor\": \"white\"}, \"yaxis\": {\"backgroundcolor\": \"#E5ECF6\", \"gridcolor\": \"white\", \"gridwidth\": 2, \"linecolor\": \"white\", \"showbackground\": true, \"ticks\": \"\", \"zerolinecolor\": \"white\"}, \"zaxis\": {\"backgroundcolor\": \"#E5ECF6\", \"gridcolor\": \"white\", \"gridwidth\": 2, \"linecolor\": \"white\", \"showbackground\": true, \"ticks\": \"\", \"zerolinecolor\": \"white\"}}, \"shapedefaults\": {\"line\": {\"color\": \"#2a3f5f\"}}, \"ternary\": {\"aaxis\": {\"gridcolor\": \"white\", \"linecolor\": \"white\", \"ticks\": \"\"}, \"baxis\": {\"gridcolor\": \"white\", \"linecolor\": \"white\", \"ticks\": \"\"}, \"bgcolor\": \"#E5ECF6\", \"caxis\": {\"gridcolor\": \"white\", \"linecolor\": \"white\", \"ticks\": \"\"}}, \"title\": {\"x\": 0.05}, \"xaxis\": {\"automargin\": true, \"gridcolor\": \"white\", \"linecolor\": \"white\", \"ticks\": \"\", \"title\": {\"standoff\": 15}, \"zerolinecolor\": \"white\", \"zerolinewidth\": 2}, \"yaxis\": {\"automargin\": true, \"gridcolor\": \"white\", \"linecolor\": \"white\", \"ticks\": \"\", \"title\": {\"standoff\": 15}, \"zerolinecolor\": \"white\", \"zerolinewidth\": 2}}}, \"title\": {\"font\": {\"color\": \"#4D5663\"}, \"text\": \"Trend in popular songs\"}, \"xaxis\": {\"gridcolor\": \"#E1E5ED\", \"showgrid\": true, \"tickfont\": {\"color\": \"#4D5663\"}, \"title\": {\"font\": {\"color\": \"#4D5663\"}, \"text\": \"Year\"}, \"zerolinecolor\": \"#E1E5ED\"}, \"yaxis\": {\"gridcolor\": \"#E1E5ED\", \"showgrid\": true, \"tickfont\": {\"color\": \"#4D5663\"}, \"title\": {\"font\": {\"color\": \"#4D5663\"}, \"text\": \"Value\"}, \"zerolinecolor\": \"#E1E5ED\"}},\n",
       "                        {\"responsive\": true}\n",
       "                    ).then(function(){\n",
       "                            \n",
       "var gd = document.getElementById('5b9eaf47-e837-4985-ae63-103ef2c1cf57');\n",
       "var x = new MutationObserver(function (mutations, observer) {{\n",
       "        var display = window.getComputedStyle(gd).display;\n",
       "        if (!display || display === 'none') {{\n",
       "            console.log([gd, 'removed!']);\n",
       "            Plotly.purge(gd);\n",
       "            observer.disconnect();\n",
       "        }}\n",
       "}});\n",
       "\n",
       "// Listen for the removal of the full notebook cells\n",
       "var notebookContainer = gd.closest('#notebook-container');\n",
       "if (notebookContainer) {{\n",
       "    x.observe(notebookContainer, {childList: true});\n",
       "}}\n",
       "\n",
       "// Listen for the clearing of the current output cell\n",
       "var outputEl = gd.closest('.output');\n",
       "if (outputEl) {{\n",
       "    x.observe(outputEl, {childList: true});\n",
       "}}\n",
       "\n",
       "                        })\n",
       "                };\n",
       "                });\n",
       "            </script>\n",
       "        </div>"
      ]
     },
     "metadata": {},
     "output_type": "display_data"
    }
   ],
   "source": [
    "trend.iplot(kind=\"scatter\", title=\"Trend in popular songs\", xTitle=\"Year\", yTitle=\"Value\", colorscale=\"plotly\", mode=\"lines+markers\")"
   ]
  },
  {
   "cell_type": "markdown",
   "metadata": {},
   "source": [
    "## Acknowledgements"
   ]
  },
  {
   "cell_type": "markdown",
   "metadata": {},
   "source": [
    "The \"popular_songs.csv\" is a dataset derived from the dataset published in Kaggle by Yamaç Eren Ay called Spotify Dataset 1921-2020, 160k + Tracks.\n",
    "\n",
    "The \"data.csv\" file contains more than 160.000 songs collected from Spotify Web API, and also you can find data grouped by artist, year, or genre in the data section.\n",
    "\n",
    "More on Spotify audio features, [Click here](https://developer.spotify.com/documentation/web-api/reference/tracks/get-audio-features/)\n",
    "\n",
    "More on other Spotify track features, [Click here](https://developer.spotify.com/documentation/web-api/reference/tracks/get-track/) \n",
    "\n",
    "See the original Dataset at:\n",
    "[Spotify Dataset 1921-2020, 160k+ Tracks](https://www.kaggle.com/yamaerenay/spotify-dataset-19212020-160k-tracks)\n",
    "\n",
    "Dataset Version : 5\n",
    "Date "
   ]
  },
  {
   "cell_type": "code",
   "execution_count": null,
   "metadata": {},
   "outputs": [],
   "source": []
  }
 ],
 "metadata": {
  "gist": {
   "data": {
    "description": "Documents/GitHub/100-Days-of-ML-Code/Project/Spotify 35 most popular songs analysis.ipynb",
    "public": false
   },
   "id": ""
  },
  "hide_input": false,
  "kernelspec": {
   "display_name": "Python 3",
   "language": "python",
   "name": "python3"
  },
  "language_info": {
   "codemirror_mode": {
    "name": "ipython",
    "version": 3
   },
   "file_extension": ".py",
   "mimetype": "text/x-python",
   "name": "python",
   "nbconvert_exporter": "python",
   "pygments_lexer": "ipython3",
   "version": "3.8.2"
  },
  "toc": {
   "base_numbering": 1,
   "nav_menu": {},
   "number_sections": true,
   "sideBar": true,
   "skip_h1_title": false,
   "title_cell": "Table of Contents",
   "title_sidebar": "Contents",
   "toc_cell": false,
   "toc_position": {},
   "toc_section_display": true,
   "toc_window_display": false
  },
  "varInspector": {
   "cols": {
    "lenName": 16,
    "lenType": 16,
    "lenVar": 40
   },
   "kernels_config": {
    "python": {
     "delete_cmd_postfix": "",
     "delete_cmd_prefix": "del ",
     "library": "var_list.py",
     "varRefreshCmd": "print(var_dic_list())"
    },
    "r": {
     "delete_cmd_postfix": ") ",
     "delete_cmd_prefix": "rm(",
     "library": "var_list.r",
     "varRefreshCmd": "cat(var_dic_list()) "
    }
   },
   "position": {
    "height": "307px",
    "left": "1544px",
    "right": "20px",
    "top": "120px",
    "width": "356px"
   },
   "types_to_exclude": [
    "module",
    "function",
    "builtin_function_or_method",
    "instance",
    "_Feature"
   ],
   "window_display": true
  }
 },
 "nbformat": 4,
 "nbformat_minor": 4
}
