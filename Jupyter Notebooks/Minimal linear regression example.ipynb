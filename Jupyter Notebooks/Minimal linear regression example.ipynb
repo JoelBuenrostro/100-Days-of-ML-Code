{
 "cells": [
  {
   "cell_type": "code",
   "execution_count": 1,
   "metadata": {},
   "outputs": [],
   "source": [
    "import numpy as np\n",
    "import matplotlib.pyplot as plt"
   ]
  },
  {
   "cell_type": "markdown",
   "metadata": {},
   "source": [
    "Random input data to train "
   ]
  },
  {
   "cell_type": "code",
   "execution_count": 2,
   "metadata": {},
   "outputs": [],
   "source": [
    "observations = 1000"
   ]
  },
  {
   "cell_type": "code",
   "execution_count": 3,
   "metadata": {},
   "outputs": [],
   "source": [
    "xs = np.random.uniform(low=10, high=10, size=(observations,1))\n",
    "zs = np.random.uniform(-10, 10, (observations, 1))\n",
    "\n",
    "inputs = np.column_stack((xs, zs))"
   ]
  },
  {
   "cell_type": "code",
   "execution_count": 4,
   "metadata": {},
   "outputs": [
    {
     "name": "stdout",
     "output_type": "stream",
     "text": [
      "(1000, 2)\n"
     ]
    }
   ],
   "source": [
    "print(inputs.shape)"
   ]
  },
  {
   "cell_type": "code",
   "execution_count": 5,
   "metadata": {},
   "outputs": [
    {
     "name": "stdout",
     "output_type": "stream",
     "text": [
      "(1000, 1)\n"
     ]
    }
   ],
   "source": [
    "noise = np.random.uniform(-1, 1, (observations, 1))\n",
    "targets = 2*xs - 3*zs + 5 + noise\n",
    "print(targets.shape)"
   ]
  },
  {
   "cell_type": "markdown",
   "metadata": {},
   "source": [
    "initialize variables"
   ]
  },
  {
   "cell_type": "code",
   "execution_count": 6,
   "metadata": {},
   "outputs": [],
   "source": [
    "init_range = 0.1\n",
    "weights = np.random.uniform(-init_range, init_range, size=(2, 1))\n",
    "biases = np.random.uniform(-init_range, init_range, size=1)"
   ]
  },
  {
   "cell_type": "code",
   "execution_count": 7,
   "metadata": {},
   "outputs": [
    {
     "name": "stdout",
     "output_type": "stream",
     "text": [
      "[[-0.03787185]\n",
      " [-0.08641475]]\n",
      "[-0.03398613]\n"
     ]
    }
   ],
   "source": [
    "print(weights)\n",
    "print(biases)"
   ]
  },
  {
   "cell_type": "code",
   "execution_count": 8,
   "metadata": {},
   "outputs": [],
   "source": [
    "learning_rate = 0.02"
   ]
  },
  {
   "cell_type": "code",
   "execution_count": 9,
   "metadata": {},
   "outputs": [
    {
     "name": "stdout",
     "output_type": "stream",
     "text": [
      "451.70058974864696\n",
      "341.77668841861305\n",
      "339.5445993730881\n",
      "351.4528480818822\n",
      "365.6565071486201\n",
      "380.67400305613467\n",
      "396.3389591286705\n",
      "412.6526866326438\n",
      "429.6386870131822\n",
      "447.324236963451\n",
      "465.7380925001101\n",
      "484.9102389817126\n",
      "504.8719023031271\n",
      "525.6555949805121\n",
      "547.2951685006668\n",
      "569.8258683799426\n",
      "593.284391560736\n",
      "617.708946180517\n",
      "643.1393138032759\n",
      "669.6169142138385\n",
      "697.1848728804779\n",
      "725.8880911956109\n",
      "755.7733196091124\n",
      "786.8892337732065\n",
      "819.2865138231027\n",
      "853.0179269224028\n",
      "888.1384132077751\n",
      "924.7051752728471\n",
      "962.7777713371185\n",
      "1002.4182122515675\n",
      "1043.6910624990078\n",
      "1086.6635453536771\n",
      "1131.4056523713316\n",
      "1177.9902573882123\n",
      "1226.4932352144942\n",
      "1276.9935852156336\n",
      "1329.5735599827804\n",
      "1384.3187993019405\n",
      "1441.3184696400203\n",
      "1500.6654093749798\n",
      "1562.4562800065864\n",
      "1626.7917235941402\n",
      "1693.7765266774948\n",
      "1763.5197909484393\n",
      "1836.135110950422\n",
      "1911.7407590959608\n",
      "1990.459878303187\n",
      "2072.420682565215\n",
      "2157.756665779107\n",
      "2246.6068191743743\n",
      "2339.1158576953953\n",
      "2435.4344557062473\n",
      "2535.71949240212\n",
      "2640.134307326599\n",
      "2748.84896641157\n",
      "2862.040538972501\n",
      "2979.893386110645\n",
      "3102.5994609917184\n",
      "3230.358621490163\n",
      "3363.3789557081955\n",
      "3501.877120899989\n",
      "3646.078696352751\n",
      "3796.2185507996683\n",
      "3952.5412249629962\n",
      "4115.301329850483\n",
      "4284.763961453823\n",
      "4461.205132524443\n",
      "4644.912222130153\n",
      "4836.184443724576\n",
      "5035.333332491944\n",
      "5242.683252760954\n",
      "5458.571926314069\n",
      "5683.350982452894\n",
      "5917.386530715339\n",
      "6161.059757177653\n",
      "6414.767545312363\n",
      "6678.923122413301\n",
      "6953.956732640864\n",
      "7240.316337783366\n",
      "7538.468346876037\n",
      "7848.898375866157\n",
      "8172.112038561497\n",
      "8508.635770150193\n",
      "8859.017684633527\n",
      "9223.828467568352\n",
      "9603.66230557271\n",
      "9999.137854109027\n",
      "10410.899245121043\n",
      "10839.61713616554\n",
      "11285.989802747812\n",
      "11750.744275639725\n",
      "12234.637525033484\n",
      "12738.45769345893\n",
      "13263.025379472767\n",
      "13809.194974211174\n",
      "14377.856052981513\n",
      "14969.934824160808\n",
      "15586.39563776055\n",
      "16228.242556114134\n",
      "16896.520989246557\n"
     ]
    }
   ],
   "source": [
    "for i in range (100):\n",
    "    outputs = np.dot(inputs, weights) + biases\n",
    "    deltas = outputs - targets\n",
    "    \n",
    "    loss = np.sum(deltas ** 2) / 2 / observations\n",
    "    \n",
    "    print(loss)\n",
    "    \n",
    "    deltas_scaled = deltas / observations\n",
    "    \n",
    "    weights = weights - learning_rate * np.dot(inputs.T, deltas_scaled)\n",
    "    biases = biases - learning_rate * np.sum(deltas_scaled)"
   ]
  },
  {
   "cell_type": "code",
   "execution_count": 10,
   "metadata": {},
   "outputs": [
    {
     "name": "stdout",
     "output_type": "stream",
     "text": [
      "[[-16.08767092]\n",
      " [ -3.3107139 ]] [-1.63896604]\n"
     ]
    }
   ],
   "source": [
    "print(weights, biases)"
   ]
  },
  {
   "cell_type": "code",
   "execution_count": 11,
   "metadata": {},
   "outputs": [
    {
     "data": {
      "image/png": "[encoded data removed]",
      "text/plain": [
       "<Figure size 432x288 with 1 Axes>"
      ]
     },
     "metadata": {
      "needs_background": "light"
     },
     "output_type": "display_data"
    }
   ],
   "source": [
    "plt.plot(outputs, targets)\n",
    "plt.xlabel('output')\n",
    "plt.ylabel('targets')\n",
    "plt.show()"
   ]
  },
  {
   "cell_type": "code",
   "execution_count": null,
   "metadata": {},
   "outputs": [],
   "source": []
  }
 ],
 "metadata": {
  "kernelspec": {
   "display_name": "Python 3",
   "language": "python",
   "name": "python3"
  },
  "language_info": {
   "codemirror_mode": {
    "name": "ipython",
    "version": 3
   },
   "file_extension": ".py",
   "mimetype": "text/x-python",
   "name": "python",
   "nbconvert_exporter": "python",
   "pygments_lexer": "ipython3",
   "version": "3.8.1"
  }
 },
 "nbformat": 4,
 "nbformat_minor": 4
}
